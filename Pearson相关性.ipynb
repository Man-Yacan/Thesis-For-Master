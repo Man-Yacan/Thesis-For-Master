{
 "cells": [
  {
   "cell_type": "code",
   "execution_count": 14,
   "outputs": [],
   "source": [
    "from ResearchMain import *"
   ],
   "metadata": {
    "collapsed": false,
    "pycharm": {
     "name": "#%%\n"
    }
   }
  },
  {
   "cell_type": "code",
   "execution_count": 15,
   "outputs": [],
   "source": [
    "# 选择季节、显著性最小值\n",
    "SIGN, COOR = 0.9, 0.5\n",
    "EXPORT_PATH += 'Gephi/Beta_02/'"
   ],
   "metadata": {
    "collapsed": false,
    "pycharm": {
     "name": "#%%\n"
    }
   }
  },
  {
   "cell_type": "code",
   "execution_count": 16,
   "outputs": [],
   "source": [
    "# 定义函数\n",
    "def analyse_pearson_to_gephi(input_df):\n",
    "    \"\"\"\n",
    "    传入一个df数据，计算各列之间的Pearson相关性。\n",
    "    :param input_df: 传入一个df数据\n",
    "    :return: 返回一个df数据，Source与Target之间的r值为r（r值的分布范围是-1~1），Weight为1-p（为何要使用1-p？p值越小，说明显著性越强，在gephi里线条应该越粗）\n",
    "    \"\"\"\n",
    "    variable = input_df.columns.to_list()\n",
    "    col_name = ['Source', 'Target', 'r', 'Weight']\n",
    "    pearson_df = pd.DataFrame(columns=col_name)\n",
    "    for i in range(len(variable)):\n",
    "        for j in range(i + 1, len(variable)):\n",
    "            r, p = pearsonr(input_df[variable[i]], input_df[variable[j]])\n",
    "            _ = pd.DataFrame([[variable[i], variable[j], r, 1 - p]], columns=col_name)\n",
    "            pearson_df = pd.concat([pearson_df, _])\n",
    "\n",
    "    pearson_df.reset_index(drop=True, inplace=True)\n",
    "    return pearson_df\n",
    "\n",
    "\n",
    "def read_table_to_pearson(path):\n",
    "    \"\"\"\n",
    "    输入文件地址然后直接进行pearson相关性分析\n",
    "    :param path: 文件地址，支持csv、Excel文件\n",
    "    :return: 返回计算的相关性df，r值为相关性，Weight值为1-p。\n",
    "    \"\"\"\n",
    "    if path:  # 读取文件\n",
    "        if path.endswith('.xlsx'):  #Excel文件\n",
    "            read_df = pd.read_excel(path, index_col=0)\n",
    "        elif path.endswith('.csv'):  #csv文件\n",
    "            read_df = pd.read_csv(path, header=True)\n",
    "        else:\n",
    "            raise ValueError(f\"该函数不支持此种文件类型{path.split('.')[1]}\")\n",
    "        return analyse_pearson_to_gephi(read_df)\n",
    "    else:\n",
    "        return None"
   ],
   "metadata": {
    "collapsed": false,
    "pycharm": {
     "name": "#%%\n"
    }
   }
  },
  {
   "cell_type": "code",
   "execution_count": 17,
   "outputs": [
    {
     "data": {
      "text/plain": "       Bacterial 16S rRNA  Archaeal 16S rRNA      AOA_amoA       AOB_amoA  \\\nD-N1         3.131311e+12       1.646282e+07  9.372749e+06  238737.749855   \nD-N2         2.310274e+12       1.606909e+07  1.310459e+07  338309.302429   \nD-N3         9.328554e+11       1.322307e+07  1.571698e+07  412887.196731   \nD-N4         9.369330e+11       4.875424e+07  1.643166e+07  489411.878787   \nD-N5         2.465170e+12       4.627955e+07  2.990348e+07  528491.109190   \n...                   ...                ...           ...            ...   \nW-H8         3.018167e+12       2.008959e+08  7.468539e+07  292694.160549   \nW-H9         3.239835e+12       1.181798e+08  4.200252e+07  465551.966622   \nW-H10        3.313568e+12       1.974228e+08  7.328582e+07  615337.809914   \nW-H11        3.901704e+12       1.908625e+08  7.064787e+07  487954.228922   \nW-H12        3.339490e+12       2.480042e+08  9.385959e+07  746056.658582   \n\n               nxrA          narG          napA          nirK          nirS  \\\nD-N1   4.809669e+06  1.693294e+05  1.147444e+06  6.111955e+05  2.580789e+08   \nD-N2   6.175807e+06  5.203335e+05  3.427096e+06  7.079003e+05  4.167981e+08   \nD-N3   4.135236e+06  7.257937e+04  3.493181e+05  5.374574e+05  2.427963e+08   \nD-N4   1.537017e+07  5.395949e+04  2.081086e+05  5.704071e+05  2.891821e+08   \nD-N5   1.631022e+07  4.789525e+04  4.383332e+05  1.478592e+06  1.420427e+08   \n...             ...           ...           ...           ...           ...   \nW-H8   4.418316e+09  1.857077e+06  4.228224e+06  3.455924e+07  9.231036e+07   \nW-H9   2.781485e+09  1.705901e+06  2.498973e+06  3.240429e+07  6.205803e+07   \nW-H10  4.666949e+09  9.620983e+05  4.403474e+06  2.686501e+07  9.518481e+07   \nW-H11  5.364548e+09  7.454658e+05  3.090290e+06  2.896472e+07  7.285221e+07   \nW-H12  4.734639e+09  1.045151e+06  3.113340e+06  1.233494e+08  7.326213e+07   \n\n               nosZ          norB          hzsA          hzsB  \nD-N1   3.427432e+05  1.034718e+05  3.019290e+05  5.024014e+05  \nD-N2   9.668389e+05  3.084835e+05  8.599297e+05  4.908595e+05  \nD-N3   3.473164e+05  1.151906e+05  3.346185e+05  4.070752e+05  \nD-N4   1.213764e+06  1.467825e+05  4.220878e+05  1.392828e+05  \nD-N5   5.683137e+05  3.087835e+05  8.607312e+05  1.324880e+05  \n...             ...           ...           ...           ...  \nW-H8   8.684252e+08  1.027672e+06  1.819500e+07  8.110777e+07  \nW-H9   2.022403e+08  2.581152e+05  1.196430e+07  4.873319e+07  \nW-H10  8.536139e+08  4.550655e+05  1.879367e+07  7.976105e+07  \nW-H11  3.245037e+08  1.317855e+06  1.417144e+07  7.721460e+07  \nW-H12  1.069002e+09  7.851958e+05  1.425564e+07  9.928910e+07  \n\n[90 rows x 13 columns]",
      "text/html": "<div>\n<style scoped>\n    .dataframe tbody tr th:only-of-type {\n        vertical-align: middle;\n    }\n\n    .dataframe tbody tr th {\n        vertical-align: top;\n    }\n\n    .dataframe thead th {\n        text-align: right;\n    }\n</style>\n<table border=\"1\" class=\"dataframe\">\n  <thead>\n    <tr style=\"text-align: right;\">\n      <th></th>\n      <th>Bacterial 16S rRNA</th>\n      <th>Archaeal 16S rRNA</th>\n      <th>AOA_amoA</th>\n      <th>AOB_amoA</th>\n      <th>nxrA</th>\n      <th>narG</th>\n      <th>napA</th>\n      <th>nirK</th>\n      <th>nirS</th>\n      <th>nosZ</th>\n      <th>norB</th>\n      <th>hzsA</th>\n      <th>hzsB</th>\n    </tr>\n  </thead>\n  <tbody>\n    <tr>\n      <th>D-N1</th>\n      <td>3.131311e+12</td>\n      <td>1.646282e+07</td>\n      <td>9.372749e+06</td>\n      <td>238737.749855</td>\n      <td>4.809669e+06</td>\n      <td>1.693294e+05</td>\n      <td>1.147444e+06</td>\n      <td>6.111955e+05</td>\n      <td>2.580789e+08</td>\n      <td>3.427432e+05</td>\n      <td>1.034718e+05</td>\n      <td>3.019290e+05</td>\n      <td>5.024014e+05</td>\n    </tr>\n    <tr>\n      <th>D-N2</th>\n      <td>2.310274e+12</td>\n      <td>1.606909e+07</td>\n      <td>1.310459e+07</td>\n      <td>338309.302429</td>\n      <td>6.175807e+06</td>\n      <td>5.203335e+05</td>\n      <td>3.427096e+06</td>\n      <td>7.079003e+05</td>\n      <td>4.167981e+08</td>\n      <td>9.668389e+05</td>\n      <td>3.084835e+05</td>\n      <td>8.599297e+05</td>\n      <td>4.908595e+05</td>\n    </tr>\n    <tr>\n      <th>D-N3</th>\n      <td>9.328554e+11</td>\n      <td>1.322307e+07</td>\n      <td>1.571698e+07</td>\n      <td>412887.196731</td>\n      <td>4.135236e+06</td>\n      <td>7.257937e+04</td>\n      <td>3.493181e+05</td>\n      <td>5.374574e+05</td>\n      <td>2.427963e+08</td>\n      <td>3.473164e+05</td>\n      <td>1.151906e+05</td>\n      <td>3.346185e+05</td>\n      <td>4.070752e+05</td>\n    </tr>\n    <tr>\n      <th>D-N4</th>\n      <td>9.369330e+11</td>\n      <td>4.875424e+07</td>\n      <td>1.643166e+07</td>\n      <td>489411.878787</td>\n      <td>1.537017e+07</td>\n      <td>5.395949e+04</td>\n      <td>2.081086e+05</td>\n      <td>5.704071e+05</td>\n      <td>2.891821e+08</td>\n      <td>1.213764e+06</td>\n      <td>1.467825e+05</td>\n      <td>4.220878e+05</td>\n      <td>1.392828e+05</td>\n    </tr>\n    <tr>\n      <th>D-N5</th>\n      <td>2.465170e+12</td>\n      <td>4.627955e+07</td>\n      <td>2.990348e+07</td>\n      <td>528491.109190</td>\n      <td>1.631022e+07</td>\n      <td>4.789525e+04</td>\n      <td>4.383332e+05</td>\n      <td>1.478592e+06</td>\n      <td>1.420427e+08</td>\n      <td>5.683137e+05</td>\n      <td>3.087835e+05</td>\n      <td>8.607312e+05</td>\n      <td>1.324880e+05</td>\n    </tr>\n    <tr>\n      <th>...</th>\n      <td>...</td>\n      <td>...</td>\n      <td>...</td>\n      <td>...</td>\n      <td>...</td>\n      <td>...</td>\n      <td>...</td>\n      <td>...</td>\n      <td>...</td>\n      <td>...</td>\n      <td>...</td>\n      <td>...</td>\n      <td>...</td>\n    </tr>\n    <tr>\n      <th>W-H8</th>\n      <td>3.018167e+12</td>\n      <td>2.008959e+08</td>\n      <td>7.468539e+07</td>\n      <td>292694.160549</td>\n      <td>4.418316e+09</td>\n      <td>1.857077e+06</td>\n      <td>4.228224e+06</td>\n      <td>3.455924e+07</td>\n      <td>9.231036e+07</td>\n      <td>8.684252e+08</td>\n      <td>1.027672e+06</td>\n      <td>1.819500e+07</td>\n      <td>8.110777e+07</td>\n    </tr>\n    <tr>\n      <th>W-H9</th>\n      <td>3.239835e+12</td>\n      <td>1.181798e+08</td>\n      <td>4.200252e+07</td>\n      <td>465551.966622</td>\n      <td>2.781485e+09</td>\n      <td>1.705901e+06</td>\n      <td>2.498973e+06</td>\n      <td>3.240429e+07</td>\n      <td>6.205803e+07</td>\n      <td>2.022403e+08</td>\n      <td>2.581152e+05</td>\n      <td>1.196430e+07</td>\n      <td>4.873319e+07</td>\n    </tr>\n    <tr>\n      <th>W-H10</th>\n      <td>3.313568e+12</td>\n      <td>1.974228e+08</td>\n      <td>7.328582e+07</td>\n      <td>615337.809914</td>\n      <td>4.666949e+09</td>\n      <td>9.620983e+05</td>\n      <td>4.403474e+06</td>\n      <td>2.686501e+07</td>\n      <td>9.518481e+07</td>\n      <td>8.536139e+08</td>\n      <td>4.550655e+05</td>\n      <td>1.879367e+07</td>\n      <td>7.976105e+07</td>\n    </tr>\n    <tr>\n      <th>W-H11</th>\n      <td>3.901704e+12</td>\n      <td>1.908625e+08</td>\n      <td>7.064787e+07</td>\n      <td>487954.228922</td>\n      <td>5.364548e+09</td>\n      <td>7.454658e+05</td>\n      <td>3.090290e+06</td>\n      <td>2.896472e+07</td>\n      <td>7.285221e+07</td>\n      <td>3.245037e+08</td>\n      <td>1.317855e+06</td>\n      <td>1.417144e+07</td>\n      <td>7.721460e+07</td>\n    </tr>\n    <tr>\n      <th>W-H12</th>\n      <td>3.339490e+12</td>\n      <td>2.480042e+08</td>\n      <td>9.385959e+07</td>\n      <td>746056.658582</td>\n      <td>4.734639e+09</td>\n      <td>1.045151e+06</td>\n      <td>3.113340e+06</td>\n      <td>1.233494e+08</td>\n      <td>7.326213e+07</td>\n      <td>1.069002e+09</td>\n      <td>7.851958e+05</td>\n      <td>1.425564e+07</td>\n      <td>9.928910e+07</td>\n    </tr>\n  </tbody>\n</table>\n<p>90 rows × 13 columns</p>\n</div>"
     },
     "execution_count": 17,
     "metadata": {},
     "output_type": "execute_result"
    }
   ],
   "source": [
    "all_df.iloc[:,:13]"
   ],
   "metadata": {
    "collapsed": false,
    "pycharm": {
     "name": "#%%\n"
    }
   }
  },
  {
   "cell_type": "code",
   "execution_count": 18,
   "outputs": [
    {
     "data": {
      "text/plain": "                Source             Target         r    Weight\n0   Bacterial 16S rRNA  Archaeal 16S rRNA  0.244583  0.979837\n1   Bacterial 16S rRNA           AOA_amoA  0.080195   0.54757\n2   Bacterial 16S rRNA           AOB_amoA  0.095019  0.626987\n3   Bacterial 16S rRNA               nxrA    0.1466  0.832041\n4   Bacterial 16S rRNA               narG  0.120484  0.742014\n..                 ...                ...       ...       ...\n73                nosZ               hzsA  0.490807  0.999999\n74                nosZ               hzsB  0.705947       1.0\n75                norB               hzsA  0.382483  0.999801\n76                norB               hzsB  0.344754  0.999124\n77                hzsA               hzsB  0.451404  0.999992\n\n[78 rows x 4 columns]",
      "text/html": "<div>\n<style scoped>\n    .dataframe tbody tr th:only-of-type {\n        vertical-align: middle;\n    }\n\n    .dataframe tbody tr th {\n        vertical-align: top;\n    }\n\n    .dataframe thead th {\n        text-align: right;\n    }\n</style>\n<table border=\"1\" class=\"dataframe\">\n  <thead>\n    <tr style=\"text-align: right;\">\n      <th></th>\n      <th>Source</th>\n      <th>Target</th>\n      <th>r</th>\n      <th>Weight</th>\n    </tr>\n  </thead>\n  <tbody>\n    <tr>\n      <th>0</th>\n      <td>Bacterial 16S rRNA</td>\n      <td>Archaeal 16S rRNA</td>\n      <td>0.244583</td>\n      <td>0.979837</td>\n    </tr>\n    <tr>\n      <th>1</th>\n      <td>Bacterial 16S rRNA</td>\n      <td>AOA_amoA</td>\n      <td>0.080195</td>\n      <td>0.54757</td>\n    </tr>\n    <tr>\n      <th>2</th>\n      <td>Bacterial 16S rRNA</td>\n      <td>AOB_amoA</td>\n      <td>0.095019</td>\n      <td>0.626987</td>\n    </tr>\n    <tr>\n      <th>3</th>\n      <td>Bacterial 16S rRNA</td>\n      <td>nxrA</td>\n      <td>0.1466</td>\n      <td>0.832041</td>\n    </tr>\n    <tr>\n      <th>4</th>\n      <td>Bacterial 16S rRNA</td>\n      <td>narG</td>\n      <td>0.120484</td>\n      <td>0.742014</td>\n    </tr>\n    <tr>\n      <th>...</th>\n      <td>...</td>\n      <td>...</td>\n      <td>...</td>\n      <td>...</td>\n    </tr>\n    <tr>\n      <th>73</th>\n      <td>nosZ</td>\n      <td>hzsA</td>\n      <td>0.490807</td>\n      <td>0.999999</td>\n    </tr>\n    <tr>\n      <th>74</th>\n      <td>nosZ</td>\n      <td>hzsB</td>\n      <td>0.705947</td>\n      <td>1.0</td>\n    </tr>\n    <tr>\n      <th>75</th>\n      <td>norB</td>\n      <td>hzsA</td>\n      <td>0.382483</td>\n      <td>0.999801</td>\n    </tr>\n    <tr>\n      <th>76</th>\n      <td>norB</td>\n      <td>hzsB</td>\n      <td>0.344754</td>\n      <td>0.999124</td>\n    </tr>\n    <tr>\n      <th>77</th>\n      <td>hzsA</td>\n      <td>hzsB</td>\n      <td>0.451404</td>\n      <td>0.999992</td>\n    </tr>\n  </tbody>\n</table>\n<p>78 rows × 4 columns</p>\n</div>"
     },
     "execution_count": 18,
     "metadata": {},
     "output_type": "execute_result"
    }
   ],
   "source": [
    "analyse_pearson_to_gephi(all_df.iloc[:,:13])"
   ],
   "metadata": {
    "collapsed": false,
    "pycharm": {
     "name": "#%%\n"
    }
   }
  },
  {
   "cell_type": "code",
   "execution_count": 19,
   "outputs": [],
   "source": [
    "for period in period_list:\n",
    "    for river in river_list:\n",
    "        # 组装不同时期不同河流前缀\n",
    "        select_prefix = period[0] + '-'+river[0]\n",
    "        # 获取数据\n",
    "        _ = all_df.loc[\n",
    "        [row_name for row_name in all_df.index if row_name.startswith(select_prefix) and int(row_name[-1]) <= 5], [col_name\n",
    "                                                                                                                  for\n",
    "                                                                                                                  col_name\n",
    "                                                                                                                  in\n",
    "                                                                                                                  all_df.columns\n",
    "                                                                                                                  if\n",
    "                                                                                                                  isinstance(\n",
    "                                                                                                                      col_name,\n",
    "                                                                                                                      str)]]\n",
    "        # 剔除不需要的列\n",
    "        df_handle = _.drop([col_name for col_name in all_df.columns if\n",
    "                     isinstance(col_name, str) and (col_name.endswith('-Ф') or col_name.endswith('-P'))] + ['Period', 'River', 'S-pH','W-PO_{4}^{3-}', 'W-TP'],\n",
    "                    axis=1)\n",
    "\n",
    "        # 删除空行\n",
    "        df_handle = df_handle.replace(np.nan, 0)\n",
    "        # df_handle.dropna(inplace=True)\n",
    "\n",
    "        # 预处理后的df进行pearson相关性分析\n",
    "        df_pearson = analyse_pearson_to_gephi(df_handle)\n",
    "        # 对显著性与相关性进行过滤\n",
    "        # df_pearson = df_pearson[(df_pearson['Weight'] >= SIGN) & (np.abs(df_pearson['r']) >= COOR)]\n",
    "        df_pearson = df_pearson[df_pearson['Weight'] >= SIGN]\n",
    "\n",
    "        # 不同时期不同入湖口功能基因之间相关性\n",
    "        df_pearson.loc[df_pearson.apply(lambda s: True if s['Source'] and s['Target'] in gene_list else False, axis=1), :].to_csv(\n",
    "            EXPORT_PATH + f'{select_prefix} - 功能基因相关性.csv', index=None, header=True)\n",
    "\n",
    "        # 不同时期不同入湖口功能基因与环境因子之间相关性\n",
    "        df_pearson.loc[df_pearson.apply(lambda s: True if s['Source'] in gene_list and s['Target'] not in gene_list else False, axis=1), :].to_csv(\n",
    "            EXPORT_PATH + f'{select_prefix} - 功能基因与环境因子相关性.csv', index=None, header=True)"
   ],
   "metadata": {
    "collapsed": false,
    "pycharm": {
     "name": "#%%\n"
    }
   }
  },
  {
   "cell_type": "code",
   "execution_count": 20,
   "outputs": [
    {
     "data": {
      "text/plain": "'./export/Gephi/Beta_02/'"
     },
     "execution_count": 20,
     "metadata": {},
     "output_type": "execute_result"
    }
   ],
   "source": [
    "EXPORT_PATH"
   ],
   "metadata": {
    "collapsed": false,
    "pycharm": {
     "name": "#%%\n"
    }
   }
  }
 ],
 "metadata": {
  "kernelspec": {
   "display_name": "Python 3",
   "language": "python",
   "name": "python3"
  },
  "language_info": {
   "codemirror_mode": {
    "name": "ipython",
    "version": 2
   },
   "file_extension": ".py",
   "mimetype": "text/x-python",
   "name": "python",
   "nbconvert_exporter": "python",
   "pygments_lexer": "ipython2",
   "version": "2.7.6"
  }
 },
 "nbformat": 4,
 "nbformat_minor": 0
}