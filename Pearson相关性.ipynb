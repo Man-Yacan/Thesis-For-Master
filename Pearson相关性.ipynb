{
 "cells": [
  {
   "cell_type": "code",
   "execution_count": 124,
   "outputs": [],
   "source": [
    "from ResearchMain import *"
   ],
   "metadata": {
    "collapsed": false,
    "pycharm": {
     "name": "#%%\n"
    }
   }
  },
  {
   "cell_type": "code",
   "execution_count": 125,
   "outputs": [],
   "source": [
    "# 选择季节、显著性最小值\n",
    "SEASON, SIGN, COOR = 'L', 0.9, 0.5\n",
    "EXPORT_PATH += 'Gephi/'"
   ],
   "metadata": {
    "collapsed": false,
    "pycharm": {
     "name": "#%%\n"
    }
   }
  },
  {
   "cell_type": "code",
   "execution_count": 126,
   "outputs": [],
   "source": [
    "season_name = None\n",
    "if SEASON == 'D':\n",
    "    season_name = '枯水期'\n",
    "elif SEASON == 'L':\n",
    "    season_name = '平水期'\n",
    "elif SEASON == 'W':\n",
    "    season_name = '丰水期'\n",
    "elif SEASON is None:\n",
    "    hues.warn('请在上一个单元格内选择季节')\n",
    "else:\n",
    "    hues.error('输入季节不合法！D：枯水期；L：平水期；W：丰水期。')"
   ],
   "metadata": {
    "collapsed": false,
    "pycharm": {
     "name": "#%%\n"
    }
   }
  },
  {
   "cell_type": "code",
   "execution_count": 127,
   "outputs": [],
   "source": [
    "# 定义函数\n",
    "\n",
    "def analyse_pearson_to_gephi(input_df):\n",
    "    \"\"\"\n",
    "    传入一个df数据，计算各列之间的Pearson相关性。\n",
    "    :param input_df: 传入一个df数据\n",
    "    :return: 返回一个df数据，Source与Target之间的r值为r（r值的分布范围是-1~1），Weight为1-p（为何要使用1-p？p值越小，说明显著性越强，在gephi里线条应该越粗）\n",
    "    \"\"\"\n",
    "    variable = input_df.columns.to_list()\n",
    "    col_name = ['Source', 'Target', 'r', 'Weight']\n",
    "    pearson_df = pd.DataFrame(columns=col_name)\n",
    "    for i in range(len(variable)):\n",
    "        for j in range(i + 1, len(variable)):\n",
    "            r, p = pearsonr(input_df[variable[i]], input_df[variable[j]])\n",
    "            _ = pd.DataFrame([[variable[i], variable[j], r, 1 - p]], columns=col_name)\n",
    "            pearson_df = pd.concat([pearson_df, _])\n",
    "\n",
    "    pearson_df.reset_index(drop=True, inplace=True)\n",
    "    return pearson_df\n",
    "\n",
    "\n",
    "def read_table_to_pearson(path):\n",
    "    \"\"\"\n",
    "    输入文件地址然后直接进行pearson相关性分析\n",
    "    :param path: 文件地址，支持csv、Excel文件\n",
    "    :return: 返回计算的相关性df，r值为相关性，Weight值为1-p。\n",
    "    \"\"\"\n",
    "    if path:  # 读取文件\n",
    "        if path.endswith('.xlsx'):  #Excel文件\n",
    "            read_df = pd.read_excel(path, index_col=0)\n",
    "        elif path.endswith('.csv'):  #csv文件\n",
    "            read_df = pd.read_csv(path, header=True)\n",
    "        else:\n",
    "            raise ValueError(f\"该函数不支持此种文件类型{path.split('.')[1]}\")\n",
    "        return analyse_pearson_to_gephi(read_df)\n",
    "    else:\n",
    "        return None"
   ],
   "metadata": {
    "collapsed": false,
    "pycharm": {
     "name": "#%%\n"
    }
   }
  },
  {
   "cell_type": "code",
   "execution_count": 128,
   "outputs": [
    {
     "data": {
      "text/plain": "       Bacterial 16S rRNA  Archaeal 16S rRNA      AOA_amoA      AOB_amoA  \\\nL-N1         1.608239e+12       1.702959e+07  9.018908e+06  2.668299e+05   \nL-N2         1.396252e+12       1.453783e+07  2.072030e+07  2.319129e+05   \nL-N3         2.754854e+12       1.659860e+07  6.927293e+06  5.042244e+05   \nL-N4         7.604506e+12       2.342024e+07  1.422925e+07  6.947621e+05   \nL-N5         2.807246e+12       7.725244e+07  1.058629e+07  6.500303e+05   \nL-N10        1.224842e+12       6.178429e+07  1.742819e+07  4.306420e+05   \nL-N11        1.415240e+12       6.965244e+07  1.450927e+07  3.957088e+05   \nL-N12        1.279255e+12       7.377259e+07  2.141173e+07  3.702987e+05   \nL-P1         2.619772e+12       1.931564e+07  2.287051e+07  5.475686e+05   \nL-P2         3.123701e+12       1.717329e+07  2.582641e+07  5.116452e+05   \nL-P3         3.252420e+12       1.811778e+07  1.776218e+07  4.757850e+05   \nL-P4         1.253649e+12       1.810483e+07  3.309679e+07  4.541663e+05   \nL-P5         2.170840e+12       1.952344e+07  2.331210e+07  4.387672e+05   \nL-P10        3.162882e+12       9.258192e+07  2.138155e+07  3.345218e+05   \nL-P11        3.263981e+12       7.759053e+07  1.603750e+07  3.475165e+05   \nL-P12        1.140504e+13       1.281502e+08  2.602756e+07  3.587572e+05   \nL-H1         3.210136e+12       1.102119e+08  1.084383e+07  3.522842e+05   \nL-H2         3.288268e+12       1.146614e+08  1.102013e+07  3.628260e+05   \nL-H3         3.091786e+12       1.532839e+08  1.490786e+07  3.838154e+05   \nL-H4         2.040440e+12       1.351372e+08  7.006936e+06  4.177860e+05   \nL-H5         1.695632e+12       1.437493e+08  1.284313e+07  4.418905e+05   \nL-H10        2.510767e+12       3.730577e+07  2.442233e+07  5.996862e+05   \nL-H11        2.875570e+12       4.695935e+07  2.133631e+07  7.296324e+05   \nL-H12        2.546225e+12       3.253583e+07  4.306540e+06  1.056369e+06   \n\n               nxrA          narG          napA          nirK          nirS  \\\nL-N1   7.262824e+08  1.016559e+06  1.081099e+06  1.614868e+06  3.800941e+07   \nL-N2   2.099769e+09  6.113273e+05  1.821309e+06  2.167426e+06  2.473087e+07   \nL-N3   1.998810e+09  3.038077e+05  1.913924e+06  3.823572e+06  5.295362e+07   \nL-N4   9.519380e+08  6.640473e+05  5.934189e+05  9.027957e+06  8.651685e+06   \nL-N5   1.494376e+09  8.196205e+05  1.164816e+06  3.960042e+06  1.016103e+07   \nL-N10  8.606031e+08  2.047164e+04  5.908663e+05  2.009986e+06  3.211235e+07   \nL-N11  3.151919e+09  4.798710e+04  6.141490e+05  3.470218e+06  2.613364e+07   \nL-N12  3.613316e+09  1.086074e+05  2.855502e+06  2.985537e+06  3.433301e+07   \nL-P1   6.399140e+08  6.382173e+04  7.587062e+05  6.857004e+06  5.490142e+07   \nL-P2   6.389149e+08  1.056223e+05  6.377795e+05  8.396844e+06  3.812061e+07   \nL-P3   7.975586e+08  7.090599e+04  1.469574e+06  4.085362e+06  2.308508e+07   \nL-P4   1.259771e+09  8.604682e+04  5.115032e+06  7.968969e+06  4.045100e+07   \nL-P5   1.130228e+09  9.035168e+04  1.503978e+06  5.803644e+06  4.704366e+07   \nL-P10  1.597243e+09  9.003406e+05  5.429993e+05  3.870489e+06  7.177056e+06   \nL-P11  1.333151e+09  1.221563e+06  6.484497e+05  9.508903e+06  1.409524e+07   \nL-P12  1.721274e+09  1.148033e+06  5.727778e+05  3.838476e+06  1.551065e+07   \nL-H1   1.222017e+09  2.760088e+05  5.043060e+06  2.223901e+06  5.768177e+07   \nL-H2   8.628586e+08  2.271554e+05  5.194246e+06  1.217652e+06  1.290511e+08   \nL-H3   1.462005e+09  5.795088e+05  4.815655e+06  2.171918e+06  3.141430e+07   \nL-H4   1.290961e+09  2.348452e+06  2.890417e+06  2.877267e+06  7.161095e+07   \nL-H5   1.085210e+09  5.947519e+05  2.302570e+06  1.029133e+06  6.574165e+07   \nL-H10  2.403179e+09  1.896399e+05  1.191427e+06  1.628926e+06  4.821556e+07   \nL-H11  3.499164e+09  2.314236e+05  1.407463e+06  1.557657e+06  6.168758e+07   \nL-H12  2.323879e+09  2.013468e+05  1.212127e+06  7.943298e+06  5.867111e+07   \n\n               nosZ  ...  W-pH  W-DO  W-TN  W-NO_{2}^{-}  W-NO_{3}^{-}  \\\nL-N1   3.631077e+05  ...  8.13  7.64  5.78        0.0228         0.109   \nL-N2   7.903646e+05  ...  8.20  7.43  5.71        0.0206         0.105   \nL-N3   3.540412e+05  ...  8.43  7.35  5.54        0.0234         0.130   \nL-N4   1.265053e+06  ...  8.44  7.16  5.72        0.0236         0.141   \nL-N5   4.431260e+05  ...  8.30  7.59  5.78        0.0228         0.107   \nL-N10  9.044285e+05  ...  8.25  7.52  5.49        0.0222         0.123   \nL-N11  4.000937e+05  ...  8.19  7.22  5.44        0.0234         0.445   \nL-N12  1.077323e+06  ...  8.17  7.32  5.09        0.0232         0.345   \nL-P1   6.291425e+05  ...  9.11  8.02  4.71        0.0257         0.134   \nL-P2   1.664443e+06  ...  9.10  8.37  4.95        0.0288         0.117   \nL-P3   8.711097e+05  ...  8.55  8.28  4.96        0.0236         0.114   \nL-P4   1.957304e+06  ...  8.37  8.66  4.86        0.0218         0.113   \nL-P5   8.176368e+05  ...  8.34  8.16  4.79        0.0247         0.117   \nL-P10  2.002394e+06  ...  7.73  8.18  4.57        0.0233         0.123   \nL-P11  9.875856e+05  ...  7.49  8.35  4.57        0.0256         0.122   \nL-P12  1.749612e+06  ...  7.37  8.35  4.50        0.0234         0.131   \nL-H1   4.111478e+05  ...  7.06  8.02  1.63        0.0195         0.090   \nL-H2   9.315361e+05  ...  7.98  8.37  2.18        0.0195         0.070   \nL-H3   3.859857e+05  ...  7.84  8.28  2.35        0.0203         0.074   \nL-H4   9.813619e+05  ...  7.62  8.66  1.73        0.0201         0.138   \nL-H5   4.155106e+05  ...  7.86  8.60  2.03        0.0190         0.174   \nL-H10  1.347841e+06  ...  7.35  8.27  2.25        0.0195         0.109   \nL-H11  4.450389e+05  ...  7.95  8.48  1.90        0.0236         0.114   \nL-H12  1.857443e+06  ...  7.98  8.77  2.22        0.0195         0.084   \n\n       W-NH_{4}^{+}  W-COD  W-PO_{4}^{3-}  W-TP   W-T  \nL-N1          0.928   8.41          0.013  0.21  19.4  \nL-N2          0.888   8.20          0.016  0.15  19.7  \nL-N3          0.809   8.59          0.015  0.24  18.7  \nL-N4          1.061   8.01          0.015  0.09  19.7  \nL-N5          0.689   8.19          0.018  0.26  19.3  \nL-N10         0.875   8.46          0.010  0.15  19.3  \nL-N11         0.954   8.58          0.018  0.15  20.0  \nL-N12         0.981   8.44          0.018  0.17  20.1  \nL-P1          1.000   7.92          0.011  0.06  19.0  \nL-P2          0.880   7.88          0.013  0.11  19.3  \nL-P3          1.070   7.98          0.014  0.09  19.8  \nL-P4          0.510   7.92          0.012  0.08  19.5  \nL-P5          0.800   7.90          0.015  0.02  20.0  \nL-P10         0.950   7.94          0.011  0.04  19.9  \nL-P11         0.880   7.84          0.012  0.08  20.5  \nL-P12         1.020   8.06          0.016  0.11  19.9  \nL-H1          0.390   6.72          0.014  0.04  19.1  \nL-H2          0.190   6.90          0.009  0.06  19.7  \nL-H3          0.350   7.12          0.010  0.08  19.3  \nL-H4          0.200   7.04          0.009  0.09  19.6  \nL-H5          0.310   6.88          0.009  0.07  19.7  \nL-H10         0.220   7.18          0.010  0.03  19.5  \nL-H11         0.270   7.06          0.011  0.02  19.5  \nL-H12         0.300   3.52          0.011  0.04  20.3  \n\n[24 rows x 40 columns]",
      "text/html": "<div>\n<style scoped>\n    .dataframe tbody tr th:only-of-type {\n        vertical-align: middle;\n    }\n\n    .dataframe tbody tr th {\n        vertical-align: top;\n    }\n\n    .dataframe thead th {\n        text-align: right;\n    }\n</style>\n<table border=\"1\" class=\"dataframe\">\n  <thead>\n    <tr style=\"text-align: right;\">\n      <th></th>\n      <th>Bacterial 16S rRNA</th>\n      <th>Archaeal 16S rRNA</th>\n      <th>AOA_amoA</th>\n      <th>AOB_amoA</th>\n      <th>nxrA</th>\n      <th>narG</th>\n      <th>napA</th>\n      <th>nirK</th>\n      <th>nirS</th>\n      <th>nosZ</th>\n      <th>...</th>\n      <th>W-pH</th>\n      <th>W-DO</th>\n      <th>W-TN</th>\n      <th>W-NO_{2}^{-}</th>\n      <th>W-NO_{3}^{-}</th>\n      <th>W-NH_{4}^{+}</th>\n      <th>W-COD</th>\n      <th>W-PO_{4}^{3-}</th>\n      <th>W-TP</th>\n      <th>W-T</th>\n    </tr>\n  </thead>\n  <tbody>\n    <tr>\n      <th>L-N1</th>\n      <td>1.608239e+12</td>\n      <td>1.702959e+07</td>\n      <td>9.018908e+06</td>\n      <td>2.668299e+05</td>\n      <td>7.262824e+08</td>\n      <td>1.016559e+06</td>\n      <td>1.081099e+06</td>\n      <td>1.614868e+06</td>\n      <td>3.800941e+07</td>\n      <td>3.631077e+05</td>\n      <td>...</td>\n      <td>8.13</td>\n      <td>7.64</td>\n      <td>5.78</td>\n      <td>0.0228</td>\n      <td>0.109</td>\n      <td>0.928</td>\n      <td>8.41</td>\n      <td>0.013</td>\n      <td>0.21</td>\n      <td>19.4</td>\n    </tr>\n    <tr>\n      <th>L-N2</th>\n      <td>1.396252e+12</td>\n      <td>1.453783e+07</td>\n      <td>2.072030e+07</td>\n      <td>2.319129e+05</td>\n      <td>2.099769e+09</td>\n      <td>6.113273e+05</td>\n      <td>1.821309e+06</td>\n      <td>2.167426e+06</td>\n      <td>2.473087e+07</td>\n      <td>7.903646e+05</td>\n      <td>...</td>\n      <td>8.20</td>\n      <td>7.43</td>\n      <td>5.71</td>\n      <td>0.0206</td>\n      <td>0.105</td>\n      <td>0.888</td>\n      <td>8.20</td>\n      <td>0.016</td>\n      <td>0.15</td>\n      <td>19.7</td>\n    </tr>\n    <tr>\n      <th>L-N3</th>\n      <td>2.754854e+12</td>\n      <td>1.659860e+07</td>\n      <td>6.927293e+06</td>\n      <td>5.042244e+05</td>\n      <td>1.998810e+09</td>\n      <td>3.038077e+05</td>\n      <td>1.913924e+06</td>\n      <td>3.823572e+06</td>\n      <td>5.295362e+07</td>\n      <td>3.540412e+05</td>\n      <td>...</td>\n      <td>8.43</td>\n      <td>7.35</td>\n      <td>5.54</td>\n      <td>0.0234</td>\n      <td>0.130</td>\n      <td>0.809</td>\n      <td>8.59</td>\n      <td>0.015</td>\n      <td>0.24</td>\n      <td>18.7</td>\n    </tr>\n    <tr>\n      <th>L-N4</th>\n      <td>7.604506e+12</td>\n      <td>2.342024e+07</td>\n      <td>1.422925e+07</td>\n      <td>6.947621e+05</td>\n      <td>9.519380e+08</td>\n      <td>6.640473e+05</td>\n      <td>5.934189e+05</td>\n      <td>9.027957e+06</td>\n      <td>8.651685e+06</td>\n      <td>1.265053e+06</td>\n      <td>...</td>\n      <td>8.44</td>\n      <td>7.16</td>\n      <td>5.72</td>\n      <td>0.0236</td>\n      <td>0.141</td>\n      <td>1.061</td>\n      <td>8.01</td>\n      <td>0.015</td>\n      <td>0.09</td>\n      <td>19.7</td>\n    </tr>\n    <tr>\n      <th>L-N5</th>\n      <td>2.807246e+12</td>\n      <td>7.725244e+07</td>\n      <td>1.058629e+07</td>\n      <td>6.500303e+05</td>\n      <td>1.494376e+09</td>\n      <td>8.196205e+05</td>\n      <td>1.164816e+06</td>\n      <td>3.960042e+06</td>\n      <td>1.016103e+07</td>\n      <td>4.431260e+05</td>\n      <td>...</td>\n      <td>8.30</td>\n      <td>7.59</td>\n      <td>5.78</td>\n      <td>0.0228</td>\n      <td>0.107</td>\n      <td>0.689</td>\n      <td>8.19</td>\n      <td>0.018</td>\n      <td>0.26</td>\n      <td>19.3</td>\n    </tr>\n    <tr>\n      <th>L-N10</th>\n      <td>1.224842e+12</td>\n      <td>6.178429e+07</td>\n      <td>1.742819e+07</td>\n      <td>4.306420e+05</td>\n      <td>8.606031e+08</td>\n      <td>2.047164e+04</td>\n      <td>5.908663e+05</td>\n      <td>2.009986e+06</td>\n      <td>3.211235e+07</td>\n      <td>9.044285e+05</td>\n      <td>...</td>\n      <td>8.25</td>\n      <td>7.52</td>\n      <td>5.49</td>\n      <td>0.0222</td>\n      <td>0.123</td>\n      <td>0.875</td>\n      <td>8.46</td>\n      <td>0.010</td>\n      <td>0.15</td>\n      <td>19.3</td>\n    </tr>\n    <tr>\n      <th>L-N11</th>\n      <td>1.415240e+12</td>\n      <td>6.965244e+07</td>\n      <td>1.450927e+07</td>\n      <td>3.957088e+05</td>\n      <td>3.151919e+09</td>\n      <td>4.798710e+04</td>\n      <td>6.141490e+05</td>\n      <td>3.470218e+06</td>\n      <td>2.613364e+07</td>\n      <td>4.000937e+05</td>\n      <td>...</td>\n      <td>8.19</td>\n      <td>7.22</td>\n      <td>5.44</td>\n      <td>0.0234</td>\n      <td>0.445</td>\n      <td>0.954</td>\n      <td>8.58</td>\n      <td>0.018</td>\n      <td>0.15</td>\n      <td>20.0</td>\n    </tr>\n    <tr>\n      <th>L-N12</th>\n      <td>1.279255e+12</td>\n      <td>7.377259e+07</td>\n      <td>2.141173e+07</td>\n      <td>3.702987e+05</td>\n      <td>3.613316e+09</td>\n      <td>1.086074e+05</td>\n      <td>2.855502e+06</td>\n      <td>2.985537e+06</td>\n      <td>3.433301e+07</td>\n      <td>1.077323e+06</td>\n      <td>...</td>\n      <td>8.17</td>\n      <td>7.32</td>\n      <td>5.09</td>\n      <td>0.0232</td>\n      <td>0.345</td>\n      <td>0.981</td>\n      <td>8.44</td>\n      <td>0.018</td>\n      <td>0.17</td>\n      <td>20.1</td>\n    </tr>\n    <tr>\n      <th>L-P1</th>\n      <td>2.619772e+12</td>\n      <td>1.931564e+07</td>\n      <td>2.287051e+07</td>\n      <td>5.475686e+05</td>\n      <td>6.399140e+08</td>\n      <td>6.382173e+04</td>\n      <td>7.587062e+05</td>\n      <td>6.857004e+06</td>\n      <td>5.490142e+07</td>\n      <td>6.291425e+05</td>\n      <td>...</td>\n      <td>9.11</td>\n      <td>8.02</td>\n      <td>4.71</td>\n      <td>0.0257</td>\n      <td>0.134</td>\n      <td>1.000</td>\n      <td>7.92</td>\n      <td>0.011</td>\n      <td>0.06</td>\n      <td>19.0</td>\n    </tr>\n    <tr>\n      <th>L-P2</th>\n      <td>3.123701e+12</td>\n      <td>1.717329e+07</td>\n      <td>2.582641e+07</td>\n      <td>5.116452e+05</td>\n      <td>6.389149e+08</td>\n      <td>1.056223e+05</td>\n      <td>6.377795e+05</td>\n      <td>8.396844e+06</td>\n      <td>3.812061e+07</td>\n      <td>1.664443e+06</td>\n      <td>...</td>\n      <td>9.10</td>\n      <td>8.37</td>\n      <td>4.95</td>\n      <td>0.0288</td>\n      <td>0.117</td>\n      <td>0.880</td>\n      <td>7.88</td>\n      <td>0.013</td>\n      <td>0.11</td>\n      <td>19.3</td>\n    </tr>\n    <tr>\n      <th>L-P3</th>\n      <td>3.252420e+12</td>\n      <td>1.811778e+07</td>\n      <td>1.776218e+07</td>\n      <td>4.757850e+05</td>\n      <td>7.975586e+08</td>\n      <td>7.090599e+04</td>\n      <td>1.469574e+06</td>\n      <td>4.085362e+06</td>\n      <td>2.308508e+07</td>\n      <td>8.711097e+05</td>\n      <td>...</td>\n      <td>8.55</td>\n      <td>8.28</td>\n      <td>4.96</td>\n      <td>0.0236</td>\n      <td>0.114</td>\n      <td>1.070</td>\n      <td>7.98</td>\n      <td>0.014</td>\n      <td>0.09</td>\n      <td>19.8</td>\n    </tr>\n    <tr>\n      <th>L-P4</th>\n      <td>1.253649e+12</td>\n      <td>1.810483e+07</td>\n      <td>3.309679e+07</td>\n      <td>4.541663e+05</td>\n      <td>1.259771e+09</td>\n      <td>8.604682e+04</td>\n      <td>5.115032e+06</td>\n      <td>7.968969e+06</td>\n      <td>4.045100e+07</td>\n      <td>1.957304e+06</td>\n      <td>...</td>\n      <td>8.37</td>\n      <td>8.66</td>\n      <td>4.86</td>\n      <td>0.0218</td>\n      <td>0.113</td>\n      <td>0.510</td>\n      <td>7.92</td>\n      <td>0.012</td>\n      <td>0.08</td>\n      <td>19.5</td>\n    </tr>\n    <tr>\n      <th>L-P5</th>\n      <td>2.170840e+12</td>\n      <td>1.952344e+07</td>\n      <td>2.331210e+07</td>\n      <td>4.387672e+05</td>\n      <td>1.130228e+09</td>\n      <td>9.035168e+04</td>\n      <td>1.503978e+06</td>\n      <td>5.803644e+06</td>\n      <td>4.704366e+07</td>\n      <td>8.176368e+05</td>\n      <td>...</td>\n      <td>8.34</td>\n      <td>8.16</td>\n      <td>4.79</td>\n      <td>0.0247</td>\n      <td>0.117</td>\n      <td>0.800</td>\n      <td>7.90</td>\n      <td>0.015</td>\n      <td>0.02</td>\n      <td>20.0</td>\n    </tr>\n    <tr>\n      <th>L-P10</th>\n      <td>3.162882e+12</td>\n      <td>9.258192e+07</td>\n      <td>2.138155e+07</td>\n      <td>3.345218e+05</td>\n      <td>1.597243e+09</td>\n      <td>9.003406e+05</td>\n      <td>5.429993e+05</td>\n      <td>3.870489e+06</td>\n      <td>7.177056e+06</td>\n      <td>2.002394e+06</td>\n      <td>...</td>\n      <td>7.73</td>\n      <td>8.18</td>\n      <td>4.57</td>\n      <td>0.0233</td>\n      <td>0.123</td>\n      <td>0.950</td>\n      <td>7.94</td>\n      <td>0.011</td>\n      <td>0.04</td>\n      <td>19.9</td>\n    </tr>\n    <tr>\n      <th>L-P11</th>\n      <td>3.263981e+12</td>\n      <td>7.759053e+07</td>\n      <td>1.603750e+07</td>\n      <td>3.475165e+05</td>\n      <td>1.333151e+09</td>\n      <td>1.221563e+06</td>\n      <td>6.484497e+05</td>\n      <td>9.508903e+06</td>\n      <td>1.409524e+07</td>\n      <td>9.875856e+05</td>\n      <td>...</td>\n      <td>7.49</td>\n      <td>8.35</td>\n      <td>4.57</td>\n      <td>0.0256</td>\n      <td>0.122</td>\n      <td>0.880</td>\n      <td>7.84</td>\n      <td>0.012</td>\n      <td>0.08</td>\n      <td>20.5</td>\n    </tr>\n    <tr>\n      <th>L-P12</th>\n      <td>1.140504e+13</td>\n      <td>1.281502e+08</td>\n      <td>2.602756e+07</td>\n      <td>3.587572e+05</td>\n      <td>1.721274e+09</td>\n      <td>1.148033e+06</td>\n      <td>5.727778e+05</td>\n      <td>3.838476e+06</td>\n      <td>1.551065e+07</td>\n      <td>1.749612e+06</td>\n      <td>...</td>\n      <td>7.37</td>\n      <td>8.35</td>\n      <td>4.50</td>\n      <td>0.0234</td>\n      <td>0.131</td>\n      <td>1.020</td>\n      <td>8.06</td>\n      <td>0.016</td>\n      <td>0.11</td>\n      <td>19.9</td>\n    </tr>\n    <tr>\n      <th>L-H1</th>\n      <td>3.210136e+12</td>\n      <td>1.102119e+08</td>\n      <td>1.084383e+07</td>\n      <td>3.522842e+05</td>\n      <td>1.222017e+09</td>\n      <td>2.760088e+05</td>\n      <td>5.043060e+06</td>\n      <td>2.223901e+06</td>\n      <td>5.768177e+07</td>\n      <td>4.111478e+05</td>\n      <td>...</td>\n      <td>7.06</td>\n      <td>8.02</td>\n      <td>1.63</td>\n      <td>0.0195</td>\n      <td>0.090</td>\n      <td>0.390</td>\n      <td>6.72</td>\n      <td>0.014</td>\n      <td>0.04</td>\n      <td>19.1</td>\n    </tr>\n    <tr>\n      <th>L-H2</th>\n      <td>3.288268e+12</td>\n      <td>1.146614e+08</td>\n      <td>1.102013e+07</td>\n      <td>3.628260e+05</td>\n      <td>8.628586e+08</td>\n      <td>2.271554e+05</td>\n      <td>5.194246e+06</td>\n      <td>1.217652e+06</td>\n      <td>1.290511e+08</td>\n      <td>9.315361e+05</td>\n      <td>...</td>\n      <td>7.98</td>\n      <td>8.37</td>\n      <td>2.18</td>\n      <td>0.0195</td>\n      <td>0.070</td>\n      <td>0.190</td>\n      <td>6.90</td>\n      <td>0.009</td>\n      <td>0.06</td>\n      <td>19.7</td>\n    </tr>\n    <tr>\n      <th>L-H3</th>\n      <td>3.091786e+12</td>\n      <td>1.532839e+08</td>\n      <td>1.490786e+07</td>\n      <td>3.838154e+05</td>\n      <td>1.462005e+09</td>\n      <td>5.795088e+05</td>\n      <td>4.815655e+06</td>\n      <td>2.171918e+06</td>\n      <td>3.141430e+07</td>\n      <td>3.859857e+05</td>\n      <td>...</td>\n      <td>7.84</td>\n      <td>8.28</td>\n      <td>2.35</td>\n      <td>0.0203</td>\n      <td>0.074</td>\n      <td>0.350</td>\n      <td>7.12</td>\n      <td>0.010</td>\n      <td>0.08</td>\n      <td>19.3</td>\n    </tr>\n    <tr>\n      <th>L-H4</th>\n      <td>2.040440e+12</td>\n      <td>1.351372e+08</td>\n      <td>7.006936e+06</td>\n      <td>4.177860e+05</td>\n      <td>1.290961e+09</td>\n      <td>2.348452e+06</td>\n      <td>2.890417e+06</td>\n      <td>2.877267e+06</td>\n      <td>7.161095e+07</td>\n      <td>9.813619e+05</td>\n      <td>...</td>\n      <td>7.62</td>\n      <td>8.66</td>\n      <td>1.73</td>\n      <td>0.0201</td>\n      <td>0.138</td>\n      <td>0.200</td>\n      <td>7.04</td>\n      <td>0.009</td>\n      <td>0.09</td>\n      <td>19.6</td>\n    </tr>\n    <tr>\n      <th>L-H5</th>\n      <td>1.695632e+12</td>\n      <td>1.437493e+08</td>\n      <td>1.284313e+07</td>\n      <td>4.418905e+05</td>\n      <td>1.085210e+09</td>\n      <td>5.947519e+05</td>\n      <td>2.302570e+06</td>\n      <td>1.029133e+06</td>\n      <td>6.574165e+07</td>\n      <td>4.155106e+05</td>\n      <td>...</td>\n      <td>7.86</td>\n      <td>8.60</td>\n      <td>2.03</td>\n      <td>0.0190</td>\n      <td>0.174</td>\n      <td>0.310</td>\n      <td>6.88</td>\n      <td>0.009</td>\n      <td>0.07</td>\n      <td>19.7</td>\n    </tr>\n    <tr>\n      <th>L-H10</th>\n      <td>2.510767e+12</td>\n      <td>3.730577e+07</td>\n      <td>2.442233e+07</td>\n      <td>5.996862e+05</td>\n      <td>2.403179e+09</td>\n      <td>1.896399e+05</td>\n      <td>1.191427e+06</td>\n      <td>1.628926e+06</td>\n      <td>4.821556e+07</td>\n      <td>1.347841e+06</td>\n      <td>...</td>\n      <td>7.35</td>\n      <td>8.27</td>\n      <td>2.25</td>\n      <td>0.0195</td>\n      <td>0.109</td>\n      <td>0.220</td>\n      <td>7.18</td>\n      <td>0.010</td>\n      <td>0.03</td>\n      <td>19.5</td>\n    </tr>\n    <tr>\n      <th>L-H11</th>\n      <td>2.875570e+12</td>\n      <td>4.695935e+07</td>\n      <td>2.133631e+07</td>\n      <td>7.296324e+05</td>\n      <td>3.499164e+09</td>\n      <td>2.314236e+05</td>\n      <td>1.407463e+06</td>\n      <td>1.557657e+06</td>\n      <td>6.168758e+07</td>\n      <td>4.450389e+05</td>\n      <td>...</td>\n      <td>7.95</td>\n      <td>8.48</td>\n      <td>1.90</td>\n      <td>0.0236</td>\n      <td>0.114</td>\n      <td>0.270</td>\n      <td>7.06</td>\n      <td>0.011</td>\n      <td>0.02</td>\n      <td>19.5</td>\n    </tr>\n    <tr>\n      <th>L-H12</th>\n      <td>2.546225e+12</td>\n      <td>3.253583e+07</td>\n      <td>4.306540e+06</td>\n      <td>1.056369e+06</td>\n      <td>2.323879e+09</td>\n      <td>2.013468e+05</td>\n      <td>1.212127e+06</td>\n      <td>7.943298e+06</td>\n      <td>5.867111e+07</td>\n      <td>1.857443e+06</td>\n      <td>...</td>\n      <td>7.98</td>\n      <td>8.77</td>\n      <td>2.22</td>\n      <td>0.0195</td>\n      <td>0.084</td>\n      <td>0.300</td>\n      <td>3.52</td>\n      <td>0.011</td>\n      <td>0.04</td>\n      <td>20.3</td>\n    </tr>\n  </tbody>\n</table>\n<p>24 rows × 40 columns</p>\n</div>"
     },
     "execution_count": 128,
     "metadata": {},
     "output_type": "execute_result"
    }
   ],
   "source": [
    "_ = all_df.loc[\n",
    "    [row_name for row_name in all_df.index if row_name.startswith(f'{SEASON}-') and int(row_name[-1]) <= 5], [col_name\n",
    "                                                                                                              for\n",
    "                                                                                                              col_name\n",
    "                                                                                                              in\n",
    "                                                                                                              all_df.columns\n",
    "                                                                                                              if\n",
    "                                                                                                              isinstance(\n",
    "                                                                                                                  col_name,\n",
    "                                                                                                                  str)]]\n",
    "# 剔除不需要的列\n",
    "df = _.drop([col_name for col_name in all_df.columns if\n",
    "             isinstance(col_name, str) and (col_name.endswith('-Ф') or col_name.endswith('-P'))] + ['Period', 'River', 'S-pH'],\n",
    "            axis=1)\n",
    "df"
   ],
   "metadata": {
    "collapsed": false,
    "pycharm": {
     "name": "#%%\n"
    }
   }
  },
  {
   "cell_type": "code",
   "execution_count": 129,
   "outputs": [],
   "source": [
    "_ = analyse_pearson_to_gephi(df)\n",
    "_ = _[(_['Weight'] >= SIGN) & (np.abs(_['r']) >= COOR)]\n",
    "\n",
    "_.loc[_.apply(lambda s: True if s['Source'] and s['Target'] in gene_list else False, axis=1), :].to_csv(\n",
    "    EXPORT_PATH + f'{season_name} - 功能基因相关性.csv', index=None, header=True)\n",
    "_.loc[~_.apply(lambda s: True if s['Source'] and s['Target'] in gene_list else False, axis=1), :].to_csv(\n",
    "    EXPORT_PATH + f'{season_name} - 功能基因与环境因子相关性.csv', index=None, header=True)\n",
    "# _"
   ],
   "metadata": {
    "collapsed": false,
    "pycharm": {
     "name": "#%%\n"
    }
   }
  }
 ],
 "metadata": {
  "kernelspec": {
   "display_name": "Python 3",
   "language": "python",
   "name": "python3"
  },
  "language_info": {
   "codemirror_mode": {
    "name": "ipython",
    "version": 2
   },
   "file_extension": ".py",
   "mimetype": "text/x-python",
   "name": "python",
   "nbconvert_exporter": "python",
   "pygments_lexer": "ipython2",
   "version": "2.7.6"
  }
 },
 "nbformat": 4,
 "nbformat_minor": 0
}