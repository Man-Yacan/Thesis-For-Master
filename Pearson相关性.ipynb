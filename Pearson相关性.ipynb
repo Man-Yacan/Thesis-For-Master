{
 "cells": [
  {
   "cell_type": "code",
   "execution_count": 113,
   "outputs": [],
   "source": [
    "from ResearchMain import *"
   ],
   "metadata": {
    "collapsed": false,
    "pycharm": {
     "name": "#%%\n"
    }
   }
  },
  {
   "cell_type": "code",
   "execution_count": 114,
   "outputs": [],
   "source": [
    "# 选择季节、显著性最小值\n",
    "SEASON, SIGN, COOR = 'W', 0.9, 0.5\n",
    "EXPORT_PATH += 'Gephi/'"
   ],
   "metadata": {
    "collapsed": false,
    "pycharm": {
     "name": "#%%\n"
    }
   }
  },
  {
   "cell_type": "code",
   "execution_count": 115,
   "outputs": [],
   "source": [
    "season_name = None\n",
    "if SEASON == 'D':\n",
    "    season_name = '枯水期'\n",
    "elif SEASON == 'L':\n",
    "    season_name = '平水期'\n",
    "elif SEASON == 'W':\n",
    "    season_name = '丰水期'\n",
    "elif SEASON is None:\n",
    "    hues.warn('请在上一个单元格内选择季节')\n",
    "else:\n",
    "    hues.error('输入季节不合法！D：枯水期；L：平水期；W：丰水期。')"
   ],
   "metadata": {
    "collapsed": false,
    "pycharm": {
     "name": "#%%\n"
    }
   }
  },
  {
   "cell_type": "code",
   "execution_count": 116,
   "outputs": [],
   "source": [
    "# 定义函数\n",
    "def analyse_pearson_to_gephi(input_df):\n",
    "    \"\"\"\n",
    "    传入一个df数据，计算各列之间的Pearson相关性。\n",
    "    :param input_df: 传入一个df数据\n",
    "    :return: 返回一个df数据，Source与Target之间的r值为r（r值的分布范围是-1~1），Weight为1-p（为何要使用1-p？p值越小，说明显著性越强，在gephi里线条应该越粗）\n",
    "    \"\"\"\n",
    "    variable = input_df.columns.to_list()\n",
    "    col_name = ['Source', 'Target', 'r', 'Weight']\n",
    "    pearson_df = pd.DataFrame(columns=col_name)\n",
    "    for i in range(len(variable)):\n",
    "        for j in range(i + 1, len(variable)):\n",
    "            r, p = pearsonr(input_df[variable[i]], input_df[variable[j]])\n",
    "            _ = pd.DataFrame([[variable[i], variable[j], r, 1 - p]], columns=col_name)\n",
    "            pearson_df = pd.concat([pearson_df, _])\n",
    "\n",
    "    pearson_df.reset_index(drop=True, inplace=True)\n",
    "    return pearson_df\n",
    "\n",
    "\n",
    "def read_table_to_pearson(path):\n",
    "    \"\"\"\n",
    "    输入文件地址然后直接进行pearson相关性分析\n",
    "    :param path: 文件地址，支持csv、Excel文件\n",
    "    :return: 返回计算的相关性df，r值为相关性，Weight值为1-p。\n",
    "    \"\"\"\n",
    "    if path:  # 读取文件\n",
    "        if path.endswith('.xlsx'):  #Excel文件\n",
    "            read_df = pd.read_excel(path, index_col=0)\n",
    "        elif path.endswith('.csv'):  #csv文件\n",
    "            read_df = pd.read_csv(path, header=True)\n",
    "        else:\n",
    "            raise ValueError(f\"该函数不支持此种文件类型{path.split('.')[1]}\")\n",
    "        return analyse_pearson_to_gephi(read_df)\n",
    "    else:\n",
    "        return None"
   ],
   "metadata": {
    "collapsed": false,
    "pycharm": {
     "name": "#%%\n"
    }
   }
  },
  {
   "cell_type": "code",
   "execution_count": 117,
   "outputs": [
    {
     "data": {
      "text/plain": "       Bacterial 16S rRNA  Archaeal 16S rRNA      AOA_amoA       AOB_amoA  \\\nW-N1         2.158495e+12       5.846363e+07  1.957528e+07  653561.357376   \nW-N2         3.320460e+12       1.579853e+08  5.754869e+07  616844.287014   \nW-N3         2.043295e+12       9.754347e+07  3.410870e+07  561942.319697   \nW-N4         2.390863e+12       7.714362e+07  2.644414e+07  545181.131191   \nW-N5         1.262222e+12       1.115632e+08  3.945772e+07  503490.851666   \nW-N10        1.335841e+12       9.602844e+07  3.353440e+07  330945.877537   \nW-N11        3.179300e+12       6.374366e+07  2.150019e+07  306597.571342   \nW-N12        2.084212e+12       9.407461e+07  3.279491e+07  284176.257820   \nW-P1         3.596260e+12       5.009705e+07  1.655575e+07  505712.679612   \nW-P2         2.699581e+12       1.243880e+08  4.440123e+07  660347.075105   \nW-P3         2.332340e+12       1.148264e+08  4.071118e+07  728635.093313   \nW-P4         2.550115e+12       8.097252e+07  2.787086e+07  590486.980741   \nW-P5         3.778551e+12       1.250934e+08  4.467447e+07  533952.013512   \nW-P10        4.141770e+12       7.491567e+07  2.561670e+07  492828.928282   \nW-P11        3.257210e+12       1.204490e+08  4.287808e+07  400437.333905   \nW-P12        3.273672e+12       8.408794e+07  2.903597e+07  343237.624571   \n\n               nxrA          narG          napA          nirK          nirS  \\\nW-N1   2.142571e+09  1.794488e+06  9.513339e+06  7.817231e+06  5.717128e+07   \nW-N2   3.460091e+09  7.147990e+06  3.127910e+07  4.879065e+07  6.953662e+07   \nW-N3   2.015707e+09  2.055391e+06  1.901043e+07  3.157725e+07  7.273298e+07   \nW-N4   2.400762e+09  2.792997e+06  1.807258e+07  3.660320e+07  2.517318e+07   \nW-N5   1.179310e+09  7.156789e+06  1.984666e+07  2.984169e+07  4.637905e+07   \nW-N10  1.256103e+09  7.049180e+06  3.169426e+06  2.516036e+07  7.050802e+07   \nW-N11  3.296796e+09  1.501891e+06  4.032482e+06  2.056636e+07  7.302077e+07   \nW-N12  2.060677e+09  3.550521e+06  3.206041e+06  2.382149e+07  2.938763e+08   \nW-P1   1.487514e+09  3.264990e+06  6.266568e+06  1.056900e+07  4.861724e+07   \nW-P2   1.286545e+09  1.793372e+06  1.182320e+07  4.129149e+07  1.194250e+08   \nW-P3   2.585164e+09  5.183688e+06  5.779885e+06  1.815495e+07  8.199833e+07   \nW-P4   7.333413e+09  4.147311e+05  7.285851e+06  2.054275e+07  7.892508e+07   \nW-P5   2.635662e+09  5.189513e+05  2.841631e+06  3.023162e+07  8.470736e+07   \nW-P10  1.124640e+09  5.578361e+06  1.235538e+06  8.816272e+06  7.425647e+07   \nW-P11  1.304515e+09  1.286706e+07  4.435326e+06  3.187784e+07  8.906502e+07   \nW-P12  1.175974e+09  1.448569e+07  2.380189e+06  1.358362e+07  7.490328e+07   \n\n               nosZ  ...    Ⅳ-Area       Ⅴ-Area  W-pH   W-DO  W-TN  \\\nW-N1   1.010086e+08  ...  18839.68   831438.019  8.40   8.21  1.86   \nW-N2   6.851636e+08  ...  18862.65  1021062.859  8.29   8.11  1.83   \nW-N3   1.673608e+08  ...  16188.60   787915.619  8.50   8.01  2.54   \nW-N4   3.378335e+08  ...  18327.64   755204.529  8.33   7.87  1.92   \nW-N5   1.910667e+08  ...  12330.47   764032.039  8.15   7.58  2.48   \nW-N10  4.192875e+08  ...   7082.29   503739.469  8.23   7.88  2.06   \nW-N11  1.100018e+08  ...   9706.80   188339.739  8.26   7.96  2.39   \nW-N12  4.108711e+08  ...  20780.52  1016141.949  8.37   8.24  1.71   \nW-P1   8.673513e+07  ...  17445.29   423735.989  8.97  11.55  1.63   \nW-P2   5.412092e+08  ...  22557.17   573778.489  9.14  10.36  1.81   \nW-P3   1.965783e+08  ...   9323.01   373370.159  9.15  12.16  1.73   \nW-P4   3.543682e+08  ...  19807.10   370740.569  9.35  10.31  1.56   \nW-P5   2.139064e+08  ...  31680.44   817219.539  9.17  11.12  1.66   \nW-P10  3.282072e+08  ...  29682.24   549146.919  9.42  11.36  1.84   \nW-P11  2.060703e+08  ...  41993.22   847144.679  9.38  12.15  1.65   \nW-P12  3.678141e+08  ...  17755.29   478871.029  9.26  13.42  1.74   \n\n       W-NO_{2}^{-}  W-NO_{3}^{-}  W-NH_{4}^{+}  W-COD   W-T  \nW-N1         0.0248      0.102461      1.017700  12.97  21.2  \nW-N2         0.0206      0.179035      1.344966  11.63  21.2  \nW-N3         0.0334      0.268371      1.975929  12.51  21.4  \nW-N4         0.0236      0.162018      1.202982  12.09  21.5  \nW-N5         0.0228      0.081190      1.926700  10.80  20.6  \nW-N10        0.0222      0.162018      1.238600  12.31  22.4  \nW-N11        0.0234      0.081190      1.357700  12.39  22.3  \nW-N12        0.0232      0.204559      1.225300  11.80  22.3  \nW-P1         0.0557      0.132239      1.159200  11.90  28.9  \nW-P2         0.0288      0.170526      0.656300  11.84  28.3  \nW-P3         0.0236      0.170526      1.433074  11.91  28.4  \nW-P4         0.0518      0.106715      1.066500  12.80  28.4  \nW-P5         0.0247      0.098207      0.801800  12.30  29.1  \nW-P10        0.0233      0.179035      1.013600  11.85  28.4  \nW-P11        0.0256      0.093952      0.881200  12.56  28.7  \nW-P12        0.0234      0.106715      1.551085  11.39  28.6  \n\n[16 rows x 38 columns]",
      "text/html": "<div>\n<style scoped>\n    .dataframe tbody tr th:only-of-type {\n        vertical-align: middle;\n    }\n\n    .dataframe tbody tr th {\n        vertical-align: top;\n    }\n\n    .dataframe thead th {\n        text-align: right;\n    }\n</style>\n<table border=\"1\" class=\"dataframe\">\n  <thead>\n    <tr style=\"text-align: right;\">\n      <th></th>\n      <th>Bacterial 16S rRNA</th>\n      <th>Archaeal 16S rRNA</th>\n      <th>AOA_amoA</th>\n      <th>AOB_amoA</th>\n      <th>nxrA</th>\n      <th>narG</th>\n      <th>napA</th>\n      <th>nirK</th>\n      <th>nirS</th>\n      <th>nosZ</th>\n      <th>...</th>\n      <th>Ⅳ-Area</th>\n      <th>Ⅴ-Area</th>\n      <th>W-pH</th>\n      <th>W-DO</th>\n      <th>W-TN</th>\n      <th>W-NO_{2}^{-}</th>\n      <th>W-NO_{3}^{-}</th>\n      <th>W-NH_{4}^{+}</th>\n      <th>W-COD</th>\n      <th>W-T</th>\n    </tr>\n  </thead>\n  <tbody>\n    <tr>\n      <th>W-N1</th>\n      <td>2.158495e+12</td>\n      <td>5.846363e+07</td>\n      <td>1.957528e+07</td>\n      <td>653561.357376</td>\n      <td>2.142571e+09</td>\n      <td>1.794488e+06</td>\n      <td>9.513339e+06</td>\n      <td>7.817231e+06</td>\n      <td>5.717128e+07</td>\n      <td>1.010086e+08</td>\n      <td>...</td>\n      <td>18839.68</td>\n      <td>831438.019</td>\n      <td>8.40</td>\n      <td>8.21</td>\n      <td>1.86</td>\n      <td>0.0248</td>\n      <td>0.102461</td>\n      <td>1.017700</td>\n      <td>12.97</td>\n      <td>21.2</td>\n    </tr>\n    <tr>\n      <th>W-N2</th>\n      <td>3.320460e+12</td>\n      <td>1.579853e+08</td>\n      <td>5.754869e+07</td>\n      <td>616844.287014</td>\n      <td>3.460091e+09</td>\n      <td>7.147990e+06</td>\n      <td>3.127910e+07</td>\n      <td>4.879065e+07</td>\n      <td>6.953662e+07</td>\n      <td>6.851636e+08</td>\n      <td>...</td>\n      <td>18862.65</td>\n      <td>1021062.859</td>\n      <td>8.29</td>\n      <td>8.11</td>\n      <td>1.83</td>\n      <td>0.0206</td>\n      <td>0.179035</td>\n      <td>1.344966</td>\n      <td>11.63</td>\n      <td>21.2</td>\n    </tr>\n    <tr>\n      <th>W-N3</th>\n      <td>2.043295e+12</td>\n      <td>9.754347e+07</td>\n      <td>3.410870e+07</td>\n      <td>561942.319697</td>\n      <td>2.015707e+09</td>\n      <td>2.055391e+06</td>\n      <td>1.901043e+07</td>\n      <td>3.157725e+07</td>\n      <td>7.273298e+07</td>\n      <td>1.673608e+08</td>\n      <td>...</td>\n      <td>16188.60</td>\n      <td>787915.619</td>\n      <td>8.50</td>\n      <td>8.01</td>\n      <td>2.54</td>\n      <td>0.0334</td>\n      <td>0.268371</td>\n      <td>1.975929</td>\n      <td>12.51</td>\n      <td>21.4</td>\n    </tr>\n    <tr>\n      <th>W-N4</th>\n      <td>2.390863e+12</td>\n      <td>7.714362e+07</td>\n      <td>2.644414e+07</td>\n      <td>545181.131191</td>\n      <td>2.400762e+09</td>\n      <td>2.792997e+06</td>\n      <td>1.807258e+07</td>\n      <td>3.660320e+07</td>\n      <td>2.517318e+07</td>\n      <td>3.378335e+08</td>\n      <td>...</td>\n      <td>18327.64</td>\n      <td>755204.529</td>\n      <td>8.33</td>\n      <td>7.87</td>\n      <td>1.92</td>\n      <td>0.0236</td>\n      <td>0.162018</td>\n      <td>1.202982</td>\n      <td>12.09</td>\n      <td>21.5</td>\n    </tr>\n    <tr>\n      <th>W-N5</th>\n      <td>1.262222e+12</td>\n      <td>1.115632e+08</td>\n      <td>3.945772e+07</td>\n      <td>503490.851666</td>\n      <td>1.179310e+09</td>\n      <td>7.156789e+06</td>\n      <td>1.984666e+07</td>\n      <td>2.984169e+07</td>\n      <td>4.637905e+07</td>\n      <td>1.910667e+08</td>\n      <td>...</td>\n      <td>12330.47</td>\n      <td>764032.039</td>\n      <td>8.15</td>\n      <td>7.58</td>\n      <td>2.48</td>\n      <td>0.0228</td>\n      <td>0.081190</td>\n      <td>1.926700</td>\n      <td>10.80</td>\n      <td>20.6</td>\n    </tr>\n    <tr>\n      <th>W-N10</th>\n      <td>1.335841e+12</td>\n      <td>9.602844e+07</td>\n      <td>3.353440e+07</td>\n      <td>330945.877537</td>\n      <td>1.256103e+09</td>\n      <td>7.049180e+06</td>\n      <td>3.169426e+06</td>\n      <td>2.516036e+07</td>\n      <td>7.050802e+07</td>\n      <td>4.192875e+08</td>\n      <td>...</td>\n      <td>7082.29</td>\n      <td>503739.469</td>\n      <td>8.23</td>\n      <td>7.88</td>\n      <td>2.06</td>\n      <td>0.0222</td>\n      <td>0.162018</td>\n      <td>1.238600</td>\n      <td>12.31</td>\n      <td>22.4</td>\n    </tr>\n    <tr>\n      <th>W-N11</th>\n      <td>3.179300e+12</td>\n      <td>6.374366e+07</td>\n      <td>2.150019e+07</td>\n      <td>306597.571342</td>\n      <td>3.296796e+09</td>\n      <td>1.501891e+06</td>\n      <td>4.032482e+06</td>\n      <td>2.056636e+07</td>\n      <td>7.302077e+07</td>\n      <td>1.100018e+08</td>\n      <td>...</td>\n      <td>9706.80</td>\n      <td>188339.739</td>\n      <td>8.26</td>\n      <td>7.96</td>\n      <td>2.39</td>\n      <td>0.0234</td>\n      <td>0.081190</td>\n      <td>1.357700</td>\n      <td>12.39</td>\n      <td>22.3</td>\n    </tr>\n    <tr>\n      <th>W-N12</th>\n      <td>2.084212e+12</td>\n      <td>9.407461e+07</td>\n      <td>3.279491e+07</td>\n      <td>284176.257820</td>\n      <td>2.060677e+09</td>\n      <td>3.550521e+06</td>\n      <td>3.206041e+06</td>\n      <td>2.382149e+07</td>\n      <td>2.938763e+08</td>\n      <td>4.108711e+08</td>\n      <td>...</td>\n      <td>20780.52</td>\n      <td>1016141.949</td>\n      <td>8.37</td>\n      <td>8.24</td>\n      <td>1.71</td>\n      <td>0.0232</td>\n      <td>0.204559</td>\n      <td>1.225300</td>\n      <td>11.80</td>\n      <td>22.3</td>\n    </tr>\n    <tr>\n      <th>W-P1</th>\n      <td>3.596260e+12</td>\n      <td>5.009705e+07</td>\n      <td>1.655575e+07</td>\n      <td>505712.679612</td>\n      <td>1.487514e+09</td>\n      <td>3.264990e+06</td>\n      <td>6.266568e+06</td>\n      <td>1.056900e+07</td>\n      <td>4.861724e+07</td>\n      <td>8.673513e+07</td>\n      <td>...</td>\n      <td>17445.29</td>\n      <td>423735.989</td>\n      <td>8.97</td>\n      <td>11.55</td>\n      <td>1.63</td>\n      <td>0.0557</td>\n      <td>0.132239</td>\n      <td>1.159200</td>\n      <td>11.90</td>\n      <td>28.9</td>\n    </tr>\n    <tr>\n      <th>W-P2</th>\n      <td>2.699581e+12</td>\n      <td>1.243880e+08</td>\n      <td>4.440123e+07</td>\n      <td>660347.075105</td>\n      <td>1.286545e+09</td>\n      <td>1.793372e+06</td>\n      <td>1.182320e+07</td>\n      <td>4.129149e+07</td>\n      <td>1.194250e+08</td>\n      <td>5.412092e+08</td>\n      <td>...</td>\n      <td>22557.17</td>\n      <td>573778.489</td>\n      <td>9.14</td>\n      <td>10.36</td>\n      <td>1.81</td>\n      <td>0.0288</td>\n      <td>0.170526</td>\n      <td>0.656300</td>\n      <td>11.84</td>\n      <td>28.3</td>\n    </tr>\n    <tr>\n      <th>W-P3</th>\n      <td>2.332340e+12</td>\n      <td>1.148264e+08</td>\n      <td>4.071118e+07</td>\n      <td>728635.093313</td>\n      <td>2.585164e+09</td>\n      <td>5.183688e+06</td>\n      <td>5.779885e+06</td>\n      <td>1.815495e+07</td>\n      <td>8.199833e+07</td>\n      <td>1.965783e+08</td>\n      <td>...</td>\n      <td>9323.01</td>\n      <td>373370.159</td>\n      <td>9.15</td>\n      <td>12.16</td>\n      <td>1.73</td>\n      <td>0.0236</td>\n      <td>0.170526</td>\n      <td>1.433074</td>\n      <td>11.91</td>\n      <td>28.4</td>\n    </tr>\n    <tr>\n      <th>W-P4</th>\n      <td>2.550115e+12</td>\n      <td>8.097252e+07</td>\n      <td>2.787086e+07</td>\n      <td>590486.980741</td>\n      <td>7.333413e+09</td>\n      <td>4.147311e+05</td>\n      <td>7.285851e+06</td>\n      <td>2.054275e+07</td>\n      <td>7.892508e+07</td>\n      <td>3.543682e+08</td>\n      <td>...</td>\n      <td>19807.10</td>\n      <td>370740.569</td>\n      <td>9.35</td>\n      <td>10.31</td>\n      <td>1.56</td>\n      <td>0.0518</td>\n      <td>0.106715</td>\n      <td>1.066500</td>\n      <td>12.80</td>\n      <td>28.4</td>\n    </tr>\n    <tr>\n      <th>W-P5</th>\n      <td>3.778551e+12</td>\n      <td>1.250934e+08</td>\n      <td>4.467447e+07</td>\n      <td>533952.013512</td>\n      <td>2.635662e+09</td>\n      <td>5.189513e+05</td>\n      <td>2.841631e+06</td>\n      <td>3.023162e+07</td>\n      <td>8.470736e+07</td>\n      <td>2.139064e+08</td>\n      <td>...</td>\n      <td>31680.44</td>\n      <td>817219.539</td>\n      <td>9.17</td>\n      <td>11.12</td>\n      <td>1.66</td>\n      <td>0.0247</td>\n      <td>0.098207</td>\n      <td>0.801800</td>\n      <td>12.30</td>\n      <td>29.1</td>\n    </tr>\n    <tr>\n      <th>W-P10</th>\n      <td>4.141770e+12</td>\n      <td>7.491567e+07</td>\n      <td>2.561670e+07</td>\n      <td>492828.928282</td>\n      <td>1.124640e+09</td>\n      <td>5.578361e+06</td>\n      <td>1.235538e+06</td>\n      <td>8.816272e+06</td>\n      <td>7.425647e+07</td>\n      <td>3.282072e+08</td>\n      <td>...</td>\n      <td>29682.24</td>\n      <td>549146.919</td>\n      <td>9.42</td>\n      <td>11.36</td>\n      <td>1.84</td>\n      <td>0.0233</td>\n      <td>0.179035</td>\n      <td>1.013600</td>\n      <td>11.85</td>\n      <td>28.4</td>\n    </tr>\n    <tr>\n      <th>W-P11</th>\n      <td>3.257210e+12</td>\n      <td>1.204490e+08</td>\n      <td>4.287808e+07</td>\n      <td>400437.333905</td>\n      <td>1.304515e+09</td>\n      <td>1.286706e+07</td>\n      <td>4.435326e+06</td>\n      <td>3.187784e+07</td>\n      <td>8.906502e+07</td>\n      <td>2.060703e+08</td>\n      <td>...</td>\n      <td>41993.22</td>\n      <td>847144.679</td>\n      <td>9.38</td>\n      <td>12.15</td>\n      <td>1.65</td>\n      <td>0.0256</td>\n      <td>0.093952</td>\n      <td>0.881200</td>\n      <td>12.56</td>\n      <td>28.7</td>\n    </tr>\n    <tr>\n      <th>W-P12</th>\n      <td>3.273672e+12</td>\n      <td>8.408794e+07</td>\n      <td>2.903597e+07</td>\n      <td>343237.624571</td>\n      <td>1.175974e+09</td>\n      <td>1.448569e+07</td>\n      <td>2.380189e+06</td>\n      <td>1.358362e+07</td>\n      <td>7.490328e+07</td>\n      <td>3.678141e+08</td>\n      <td>...</td>\n      <td>17755.29</td>\n      <td>478871.029</td>\n      <td>9.26</td>\n      <td>13.42</td>\n      <td>1.74</td>\n      <td>0.0234</td>\n      <td>0.106715</td>\n      <td>1.551085</td>\n      <td>11.39</td>\n      <td>28.6</td>\n    </tr>\n  </tbody>\n</table>\n<p>16 rows × 38 columns</p>\n</div>"
     },
     "execution_count": 117,
     "metadata": {},
     "output_type": "execute_result"
    }
   ],
   "source": [
    "_ = all_df.loc[\n",
    "    [row_name for row_name in all_df.index if row_name.startswith(f'{SEASON}-') and int(row_name[-1]) <= 5], [col_name\n",
    "                                                                                                              for\n",
    "                                                                                                              col_name\n",
    "                                                                                                              in\n",
    "                                                                                                              all_df.columns\n",
    "                                                                                                              if\n",
    "                                                                                                              isinstance(\n",
    "                                                                                                                  col_name,\n",
    "                                                                                                                  str)]]\n",
    "# 剔除不需要的列\n",
    "df = _.drop([col_name for col_name in all_df.columns if\n",
    "             isinstance(col_name, str) and (col_name.endswith('-Ф') or col_name.endswith('-P'))] + ['Period', 'River', 'S-pH','W-PO_{4}^{3-}', 'W-TP'],\n",
    "            axis=1)\n",
    "\n",
    "# 删除空行\n",
    "df = df.replace(0, np.nan)\n",
    "df.dropna(inplace=True)\n",
    "\n",
    "df"
   ],
   "metadata": {
    "collapsed": false,
    "pycharm": {
     "name": "#%%\n"
    }
   }
  },
  {
   "cell_type": "code",
   "execution_count": 118,
   "outputs": [],
   "source": [
    "_ = analyse_pearson_to_gephi(df)\n",
    "# 对显著性与相关性进行过滤\n",
    "# _ = _[(_['Weight'] >= SIGN) & (np.abs(_['r']) >= COOR)]\n",
    "_ = _[_['Weight'] >= SIGN]\n",
    "\n",
    "_.loc[_.apply(lambda s: True if s['Source'] and s['Target'] in gene_list else False, axis=1), :].to_csv(\n",
    "    EXPORT_PATH + f'{season_name} - 功能基因相关性.csv', index=None, header=True)\n",
    "# _.loc[_.apply(lambda s: True if s['Source'] or s['Target'] in gene_list else False, axis=1), :].to_csv(\n",
    "#     EXPORT_PATH + f'{season_name} - 功能基因与环境因子相关性.csv', index=None, header=True)\n",
    "\n",
    "_.loc[_.apply(lambda s: True if s['Source'] in gene_list and s['Target'] not in gene_list else False, axis=1), :].to_csv(\n",
    "    EXPORT_PATH + f'{season_name} - 功能基因与环境因子相关性.csv', index=None, header=True)\n",
    "# _"
   ],
   "metadata": {
    "collapsed": false,
    "pycharm": {
     "name": "#%%\n"
    }
   }
  }
 ],
 "metadata": {
  "kernelspec": {
   "display_name": "Python 3",
   "language": "python",
   "name": "python3"
  },
  "language_info": {
   "codemirror_mode": {
    "name": "ipython",
    "version": 2
   },
   "file_extension": ".py",
   "mimetype": "text/x-python",
   "name": "python",
   "nbconvert_exporter": "python",
   "pygments_lexer": "ipython2",
   "version": "2.7.6"
  }
 },
 "nbformat": 4,
 "nbformat_minor": 0
}