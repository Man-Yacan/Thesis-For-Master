{
 "cells": [
  {
   "cell_type": "code",
   "execution_count": 1,
   "metadata": {
    "pycharm": {
     "name": "#%%\n"
    }
   },
   "outputs": [],
   "source": [
    "from ResearchMain import *"
   ]
  },
  {
   "attachments": {},
   "cell_type": "markdown",
   "metadata": {
    "pycharm": {
     "name": "#%% md\n"
    }
   },
   "source": [
    "## 数据准备"
   ]
  },
  {
   "attachments": {},
   "cell_type": "markdown",
   "metadata": {
    "pycharm": {
     "name": "#%% md\n"
    }
   },
   "source": [
    "### 演示数据集\n",
    "泰坦尼克号数据结构分析：\n",
    "- Pclass:乘客所持票类，有三种值(1：lower,2：middle,3：upper)\n",
    "- Survived:0代表死亡，1代表存活\n",
    "- Name:乘客姓名\n",
    "- Sex:乘客性别(男：1，女：0)\n",
    "- Age:乘客年龄(缺失值取平均值)\n",
    "- SibSp:乘客兄弟姐妹/配偶的个数(整数值)\n",
    "- Parch:乘客父母/孩子的个数(整数值)\n",
    "- Ticket:票号(字符串)\n",
    "- Fare:乘客所持票的价格(浮点数，0-500不等)\n",
    "- Cabin:乘客所在船舱\n",
    "- Embark:乘客登船港口:S、C、Q"
   ]
  },
  {
   "cell_type": "code",
   "execution_count": 2,
   "metadata": {
    "pycharm": {
     "name": "#%%\n"
    }
   },
   "outputs": [],
   "source": [
    "# 读取演示数据集\n",
    "# demo_data_name = 'pca_demo_titanic.csv'\n",
    "# demo_data = pd.read_csv(DATA_PATH+demo_data_name, index_col='PassengerId')\n",
    "# data.head(3)\n"
   ]
  },
  {
   "cell_type": "code",
   "execution_count": 3,
   "metadata": {
    "pycharm": {
     "name": "#%%\n"
    }
   },
   "outputs": [],
   "source": [
    "# df = demo_data"
   ]
  },
  {
   "attachments": {},
   "cell_type": "markdown",
   "metadata": {
    "pycharm": {
     "name": "#%% md\n"
    }
   },
   "source": [
    "### 读取分析数据"
   ]
  },
  {
   "cell_type": "code",
   "execution_count": 24,
   "metadata": {
    "pycharm": {
     "name": "#%%\n"
    }
   },
   "outputs": [
    {
     "data": {
      "text/plain": "       S-TN        S-TP  S-Size-d(0.1)  S-Size-d(0.5)  S-Size-d(0.9)\nD-N1    705  806.285714         11.777         38.340        257.008\nD-N2    320  794.285714         45.008        807.765       1239.506\nD-N3    420  791.000000        611.957        875.213       1252.883\nD-N4    650  768.000000         20.270         53.408        181.770\nD-N5   1475  797.714286          9.567         40.619        116.947\n...     ...         ...            ...            ...            ...\nW-H8   5325  956.571429         13.179         54.533        177.715\nW-H9   5655  924.000000         12.406         46.868        175.772\nW-H10  4060  901.142857         12.816         45.730        169.597\nW-H11  4060  998.285714         13.281         56.314        187.891\nW-H12  5710  931.428571         12.208         48.635        168.123\n\n[90 rows x 5 columns]",
      "text/html": "<div>\n<style scoped>\n    .dataframe tbody tr th:only-of-type {\n        vertical-align: middle;\n    }\n\n    .dataframe tbody tr th {\n        vertical-align: top;\n    }\n\n    .dataframe thead th {\n        text-align: right;\n    }\n</style>\n<table border=\"1\" class=\"dataframe\">\n  <thead>\n    <tr style=\"text-align: right;\">\n      <th></th>\n      <th>S-TN</th>\n      <th>S-TP</th>\n      <th>S-Size-d(0.1)</th>\n      <th>S-Size-d(0.5)</th>\n      <th>S-Size-d(0.9)</th>\n    </tr>\n  </thead>\n  <tbody>\n    <tr>\n      <th>D-N1</th>\n      <td>705</td>\n      <td>806.285714</td>\n      <td>11.777</td>\n      <td>38.340</td>\n      <td>257.008</td>\n    </tr>\n    <tr>\n      <th>D-N2</th>\n      <td>320</td>\n      <td>794.285714</td>\n      <td>45.008</td>\n      <td>807.765</td>\n      <td>1239.506</td>\n    </tr>\n    <tr>\n      <th>D-N3</th>\n      <td>420</td>\n      <td>791.000000</td>\n      <td>611.957</td>\n      <td>875.213</td>\n      <td>1252.883</td>\n    </tr>\n    <tr>\n      <th>D-N4</th>\n      <td>650</td>\n      <td>768.000000</td>\n      <td>20.270</td>\n      <td>53.408</td>\n      <td>181.770</td>\n    </tr>\n    <tr>\n      <th>D-N5</th>\n      <td>1475</td>\n      <td>797.714286</td>\n      <td>9.567</td>\n      <td>40.619</td>\n      <td>116.947</td>\n    </tr>\n    <tr>\n      <th>...</th>\n      <td>...</td>\n      <td>...</td>\n      <td>...</td>\n      <td>...</td>\n      <td>...</td>\n    </tr>\n    <tr>\n      <th>W-H8</th>\n      <td>5325</td>\n      <td>956.571429</td>\n      <td>13.179</td>\n      <td>54.533</td>\n      <td>177.715</td>\n    </tr>\n    <tr>\n      <th>W-H9</th>\n      <td>5655</td>\n      <td>924.000000</td>\n      <td>12.406</td>\n      <td>46.868</td>\n      <td>175.772</td>\n    </tr>\n    <tr>\n      <th>W-H10</th>\n      <td>4060</td>\n      <td>901.142857</td>\n      <td>12.816</td>\n      <td>45.730</td>\n      <td>169.597</td>\n    </tr>\n    <tr>\n      <th>W-H11</th>\n      <td>4060</td>\n      <td>998.285714</td>\n      <td>13.281</td>\n      <td>56.314</td>\n      <td>187.891</td>\n    </tr>\n    <tr>\n      <th>W-H12</th>\n      <td>5710</td>\n      <td>931.428571</td>\n      <td>12.208</td>\n      <td>48.635</td>\n      <td>168.123</td>\n    </tr>\n  </tbody>\n</table>\n<p>90 rows × 5 columns</p>\n</div>"
     },
     "execution_count": 24,
     "metadata": {},
     "output_type": "execute_result"
    }
   ],
   "source": [
    "_ = all_df[[i for i in all_df.columns if\n",
    "            isinstance(i, str) and i.startswith('S')]].replace(0, 0.00001)\n",
    "sediment_df = _.drop(['S-Size-d((0.9-0.1)/0.5)', 'S-pH'], axis=1)\n",
    "\n",
    "water_df = all_df[[i for i in all_df.columns if\n",
    "                   isinstance(i, str) and i.startswith('W')]].replace(0, 0.00001)\n",
    "water_df = water_df.drop(['W-PO_{4}^{3-}', 'W-TP'], axis=1)\n",
    "\n",
    "df = sediment_df\n",
    "df"
   ]
  },
  {
   "attachments": {},
   "cell_type": "markdown",
   "metadata": {
    "pycharm": {
     "name": "#%% md\n"
    }
   },
   "source": [
    "## PCA分析\n",
    "\n",
    "注意点：\n",
    "\n",
    "1. 上面经过数据准备后，最后进行PCA分析的数据矩阵应命名为df；\n",
    "2. 数据表不可以有空值；"
   ]
  },
  {
   "attachments": {},
   "cell_type": "markdown",
   "metadata": {
    "pycharm": {
     "name": "#%% md\n"
    }
   },
   "source": [
    "### 预检验\n",
    "\n",
    "首先进行KMO和Bartlett的检验，判断是否可以进行主成分分析。 对于KMO值：0.8上非常合适做主成分分析，0.7-0.8之间一般适合，0.6-0.7之间不太适合，0.5-0.6之间表示差，0.5下表示极不适合，对于 Bartlett的检验（p < 0.05,严格来说p < 0.01），若显著性小于0.05或0.01，拒绝原假设，则说明可以做主成分分析，若不拒绝原假设，则说明这些变量可能独立提供一些信息，不适合做主成分分析；"
   ]
  },
  {
   "cell_type": "code",
   "execution_count": 3,
   "metadata": {
    "pycharm": {
     "name": "#%%\n"
    }
   },
   "outputs": [
    {
     "data": {
      "text/plain": "1.919821378890126e-40"
     },
     "execution_count": 3,
     "metadata": {},
     "output_type": "execute_result"
    }
   ],
   "source": [
    "from factor_analyzer.factor_analyzer import calculate_bartlett_sphericity\n",
    "\n",
    "# 巴特利特P值小于0.01，KMO值大于0.6；说明此数据适合做因子分析。\n",
    "chi_square_value, p_value = calculate_bartlett_sphericity(df)  # 计算巴特利特P值\n",
    "p_value\n"
   ]
  },
  {
   "cell_type": "code",
   "execution_count": 4,
   "metadata": {
    "pycharm": {
     "name": "#%%\n"
    }
   },
   "outputs": [
    {
     "data": {
      "text/plain": "0.823607114773911"
     },
     "execution_count": 4,
     "metadata": {},
     "output_type": "execute_result"
    }
   ],
   "source": [
    "from factor_analyzer.factor_analyzer import calculate_kmo\n",
    "\n",
    "kmo_all, kmo_model = calculate_kmo(df)\n",
    "kmo_model\n"
   ]
  },
  {
   "cell_type": "code",
   "execution_count": 4,
   "metadata": {
    "pycharm": {
     "name": "#%%\n"
    }
   },
   "outputs": [
    {
     "data": {
      "text/plain": "<AxesSubplot:>"
     },
     "execution_count": 4,
     "metadata": {},
     "output_type": "execute_result"
    },
    {
     "data": {
      "text/plain": "<Figure size 960x600 with 2 Axes>",
      "image/png": "[encoded data removed]"
     },
     "metadata": {
      "needs_background": "light"
     },
     "output_type": "display_data"
    }
   ],
   "source": [
    "# 查看数据各列之间的相关性\n",
    "matrix = df.corr()  # 获取各列之间的相关性，这个matrix其实就是X的协方差矩阵\n",
    "mask = np.triu(np.ones_like(matrix, dtype=bool))  # mask掉上三角部分\n",
    "plt.figure(figsize=(8, 5), dpi=120)\n",
    "cmap = sns.diverging_palette(370, 120, n=80, as_cmap=True)\n",
    "sns.heatmap(matrix, mask=mask, center=0, cmap=cmap, annot=True,\n",
    "            square=True, fmt='.2f', vmax=1, vmin=-1)\n",
    "# plt.title('泰坦尼克号数据集各列之间的相关性')\n"
   ]
  },
  {
   "attachments": {},
   "cell_type": "markdown",
   "metadata": {
    "pycharm": {
     "name": "#%% md\n"
    }
   },
   "source": [
    "### 数据标准化"
   ]
  },
  {
   "cell_type": "code",
   "execution_count": 25,
   "metadata": {
    "pycharm": {
     "name": "#%%\n"
    }
   },
   "outputs": [],
   "source": [
    "# 数据矩阵标准化与中心化\n",
    "X = (df - df.mean()) / df.std(ddof=0)\n"
   ]
  },
  {
   "attachments": {},
   "cell_type": "markdown",
   "metadata": {
    "pycharm": {
     "name": "#%% md\n"
    }
   },
   "source": [
    "这一步是主成分分析（PCA）的数据预处理，首先计算出矩阵中每一列的平均值，然后让每一列中的每一个元素都减去该列的平均值。在进行完这一步之后可以观察每一列数据的分散情况，如果列与列之间的差距仍过大，可以再计算出每一列的方差，然后再将减去平均值后的结果除以每一列的方差（这一步是可选步骤，叫做方差归一化）。\n",
    "\n",
    "如果两步都做了，这个叫做数据的normalization——对一个非标准的正态分布随机变量转化为标准的正态分布随机变量。\n",
    "\n",
    "这里一个注意点：\n",
    "我们使用ddof=1样本标准偏差或ddof=0总体标准偏差作为参数来控制。"
   ]
  },
  {
   "attachments": {},
   "cell_type": "markdown",
   "metadata": {
    "pycharm": {
     "name": "#%% md\n"
    }
   },
   "source": [
    "### 算法降维处理\n",
    "在选取特征值的时候，要选取比较大的，特征值大的话数据方差就大，这也就意味着在经过降维后，可以最大程度上保留数据的差异性。\n",
    "\n",
    "降维的过程实际就是寻找投影方向的过程。\n",
    "\n",
    "从一个方面讲:\n",
    "\n",
    "- 好的投影方向，可以使得投影误差最小化。\n",
    "- 投影误差是各个数据点到投影点距离，这也就意味着经过降维处理后的损失达到最小。\n",
    "\n",
    "从另一个方面讲:\n",
    "\n",
    "- 好的投影方向，也就意味着在该方向投影的方差应该最大(分散度/区分度高)，可是使得信息在最大程度上得到保留。\n",
    "- 复原误差小、重建容易。\n",
    "\n",
    "降维的步骤：\n",
    "\n",
    "目标：将n维数据降低为k维(k<n)。\n",
    "（1）计算协方差矩阵：协方差矩阵（n×n）其实就是原数据矩阵中每两列之间的相关性系数；\n",
    "（2）计算投影方向：对E进行奇异值分解(Singular Value Decomposition) [U,S,V] = svd (SIGMA)\n",
    "\n",
    "其中U是一个nxn的矩阵，它每列是SIGMA的一个特征向量(线性代数概念)，U的前k列就是PCA的前k个投影向;我们将U的前k列记为投影矩阵P.\n",
    "U的每一列都是一个特征向量，因此它的模长都为1，且特征向量之间都是正交的，乘积都为0\n",
    "\n",
    "计算投影：\n",
    "\n",
    "- 上一步我们得到了投影矩阵$P \\in R^{n \\times k}$；\n",
    "- 对于第i个n维样本$x^{(i)}$，计算$z^{(i)} = x^{(i)} * P$，$z^{(i)}$就是降维后的第i个样本。\n",
    "\n",
    "$$\n",
    "X \\in R^{m \\times n} \\times P \\in R^{n \\times k} = Z \\in R^{m \\times k}\n",
    "$$\n"
   ]
  },
  {
   "cell_type": "code",
   "execution_count": 35,
   "outputs": [
    {
     "data": {
      "text/plain": "var        S-TN      S-TP  S-Size-d(0.1)  S-Size-d(0.5)  S-Size-d(0.9)\nD-N1  -0.837095 -0.573510      -0.140805      -0.239913       0.343644\nD-N2  -0.958229 -0.664953       0.386122       5.537766       4.722972\nD-N3  -0.926766 -0.689991       9.375935       6.044239       4.782598\nD-N4  -0.854400 -0.865255      -0.006136      -0.126766       0.008282\nD-N5  -0.594829 -0.638826      -0.175847      -0.222800      -0.280656\n...         ...       ...            ...            ...            ...\nW-H8   0.616504  0.571699      -0.118574      -0.118318      -0.009792\nW-H9   0.720332  0.323498      -0.130831      -0.175875      -0.018453\nW-H10  0.218494  0.149321      -0.124330      -0.184421      -0.045977\nW-H11  0.218494  0.889570      -0.116956      -0.104945       0.035566\nW-H12  0.737637  0.380105      -0.133970      -0.162607      -0.052547\n\n[90 rows x 5 columns]",
      "text/html": "<div>\n<style scoped>\n    .dataframe tbody tr th:only-of-type {\n        vertical-align: middle;\n    }\n\n    .dataframe tbody tr th {\n        vertical-align: top;\n    }\n\n    .dataframe thead th {\n        text-align: right;\n    }\n</style>\n<table border=\"1\" class=\"dataframe\">\n  <thead>\n    <tr style=\"text-align: right;\">\n      <th>var</th>\n      <th>S-TN</th>\n      <th>S-TP</th>\n      <th>S-Size-d(0.1)</th>\n      <th>S-Size-d(0.5)</th>\n      <th>S-Size-d(0.9)</th>\n    </tr>\n  </thead>\n  <tbody>\n    <tr>\n      <th>D-N1</th>\n      <td>-0.837095</td>\n      <td>-0.573510</td>\n      <td>-0.140805</td>\n      <td>-0.239913</td>\n      <td>0.343644</td>\n    </tr>\n    <tr>\n      <th>D-N2</th>\n      <td>-0.958229</td>\n      <td>-0.664953</td>\n      <td>0.386122</td>\n      <td>5.537766</td>\n      <td>4.722972</td>\n    </tr>\n    <tr>\n      <th>D-N3</th>\n      <td>-0.926766</td>\n      <td>-0.689991</td>\n      <td>9.375935</td>\n      <td>6.044239</td>\n      <td>4.782598</td>\n    </tr>\n    <tr>\n      <th>D-N4</th>\n      <td>-0.854400</td>\n      <td>-0.865255</td>\n      <td>-0.006136</td>\n      <td>-0.126766</td>\n      <td>0.008282</td>\n    </tr>\n    <tr>\n      <th>D-N5</th>\n      <td>-0.594829</td>\n      <td>-0.638826</td>\n      <td>-0.175847</td>\n      <td>-0.222800</td>\n      <td>-0.280656</td>\n    </tr>\n    <tr>\n      <th>...</th>\n      <td>...</td>\n      <td>...</td>\n      <td>...</td>\n      <td>...</td>\n      <td>...</td>\n    </tr>\n    <tr>\n      <th>W-H8</th>\n      <td>0.616504</td>\n      <td>0.571699</td>\n      <td>-0.118574</td>\n      <td>-0.118318</td>\n      <td>-0.009792</td>\n    </tr>\n    <tr>\n      <th>W-H9</th>\n      <td>0.720332</td>\n      <td>0.323498</td>\n      <td>-0.130831</td>\n      <td>-0.175875</td>\n      <td>-0.018453</td>\n    </tr>\n    <tr>\n      <th>W-H10</th>\n      <td>0.218494</td>\n      <td>0.149321</td>\n      <td>-0.124330</td>\n      <td>-0.184421</td>\n      <td>-0.045977</td>\n    </tr>\n    <tr>\n      <th>W-H11</th>\n      <td>0.218494</td>\n      <td>0.889570</td>\n      <td>-0.116956</td>\n      <td>-0.104945</td>\n      <td>0.035566</td>\n    </tr>\n    <tr>\n      <th>W-H12</th>\n      <td>0.737637</td>\n      <td>0.380105</td>\n      <td>-0.133970</td>\n      <td>-0.162607</td>\n      <td>-0.052547</td>\n    </tr>\n  </tbody>\n</table>\n<p>90 rows × 5 columns</p>\n</div>"
     },
     "execution_count": 35,
     "metadata": {},
     "output_type": "execute_result"
    }
   ],
   "source": [
    "X"
   ],
   "metadata": {
    "collapsed": false,
    "pycharm": {
     "name": "#%%\n"
    }
   }
  },
  {
   "cell_type": "code",
   "execution_count": 37,
   "outputs": [
    {
     "data": {
      "text/plain": "4.551797881000001"
     },
     "execution_count": 37,
     "metadata": {},
     "output_type": "execute_result"
    }
   ],
   "source": [
    "-0.926766*(-0.076)-0.031*(-0.689991)+0.203*(9.375935)+0.241*(6.044239)+0.23*(4.782598)"
   ],
   "metadata": {
    "collapsed": false,
    "pycharm": {
     "name": "#%%\n"
    }
   }
  },
  {
   "cell_type": "code",
   "execution_count": 26,
   "metadata": {
    "pycharm": {
     "name": "#%%\n"
    }
   },
   "outputs": [
    {
     "data": {
      "text/plain": "               0         1\nD-N1    0.186270 -0.972115\nD-N2    6.500814  0.103155\nD-N3   11.421042  1.012195\nD-N4    0.156531 -1.207756\nD-N5   -0.221916 -0.931803\n...          ...       ...\nW-H8   -0.300589  0.797144\nW-H9   -0.346982  0.677530\nW-H10  -0.254949  0.214850\nW-H11  -0.214396  0.770103\nW-H12  -0.367952  0.727317\n\n[90 rows x 2 columns]",
      "text/html": "<div>\n<style scoped>\n    .dataframe tbody tr th:only-of-type {\n        vertical-align: middle;\n    }\n\n    .dataframe tbody tr th {\n        vertical-align: top;\n    }\n\n    .dataframe thead th {\n        text-align: right;\n    }\n</style>\n<table border=\"1\" class=\"dataframe\">\n  <thead>\n    <tr style=\"text-align: right;\">\n      <th></th>\n      <th>0</th>\n      <th>1</th>\n    </tr>\n  </thead>\n  <tbody>\n    <tr>\n      <th>D-N1</th>\n      <td>0.186270</td>\n      <td>-0.972115</td>\n    </tr>\n    <tr>\n      <th>D-N2</th>\n      <td>6.500814</td>\n      <td>0.103155</td>\n    </tr>\n    <tr>\n      <th>D-N3</th>\n      <td>11.421042</td>\n      <td>1.012195</td>\n    </tr>\n    <tr>\n      <th>D-N4</th>\n      <td>0.156531</td>\n      <td>-1.207756</td>\n    </tr>\n    <tr>\n      <th>D-N5</th>\n      <td>-0.221916</td>\n      <td>-0.931803</td>\n    </tr>\n    <tr>\n      <th>...</th>\n      <td>...</td>\n      <td>...</td>\n    </tr>\n    <tr>\n      <th>W-H8</th>\n      <td>-0.300589</td>\n      <td>0.797144</td>\n    </tr>\n    <tr>\n      <th>W-H9</th>\n      <td>-0.346982</td>\n      <td>0.677530</td>\n    </tr>\n    <tr>\n      <th>W-H10</th>\n      <td>-0.254949</td>\n      <td>0.214850</td>\n    </tr>\n    <tr>\n      <th>W-H11</th>\n      <td>-0.214396</td>\n      <td>0.770103</td>\n    </tr>\n    <tr>\n      <th>W-H12</th>\n      <td>-0.367952</td>\n      <td>0.727317</td>\n    </tr>\n  </tbody>\n</table>\n<p>90 rows × 2 columns</p>\n</div>"
     },
     "execution_count": 26,
     "metadata": {},
     "output_type": "execute_result"
    }
   ],
   "source": [
    "# SIGMA  # 各列之间的相关性（可以查看上面使用X.corr()命令获取矩阵X中各列之间的相关性所绘制的热图中的数据其实就是计算了矩阵X的协方差）\n",
    "# 计算协方差矩阵（代表原矩阵中各列之间的相关性），@用来计算矩阵之间的乘法，.shape[0]获取矩阵中有多少行\n",
    "SIGMA = (X.T @ X) / X.shape[0]\n",
    "# 奇异值分解\n",
    "U, S, V = np.linalg.svd(SIGMA)  # S 是个对角矩阵，是特征值，U是特征值对应的标准正交特征向量\n",
    "# U\n",
    "P = U[:, :2]  # 这里取U的前两列就是前两个投影的方向\n",
    "# P\n",
    "Z = X @ P  # Z就是经过降维后的矩阵\n",
    "Z"
   ]
  },
  {
   "cell_type": "code",
   "execution_count": 27,
   "metadata": {
    "pycharm": {
     "name": "#%%\n"
    }
   },
   "outputs": [
    {
     "data": {
      "text/plain": "                   S-TN      S-TP  S-Size-d(0.1)  S-Size-d(0.5)  S-Size-d(0.9)\nS-TN           1.000000  0.353520      -0.109101      -0.160839      -0.177991\nS-TP           0.353520  1.000000      -0.056207      -0.032779      -0.000428\nS-Size-d(0.1) -0.109101 -0.056207       1.000000       0.684153       0.547891\nS-Size-d(0.5) -0.160839 -0.032779       0.684153       1.000000       0.890505\nS-Size-d(0.9) -0.177991 -0.000428       0.547891       0.890505       1.000000",
      "text/html": "<div>\n<style scoped>\n    .dataframe tbody tr th:only-of-type {\n        vertical-align: middle;\n    }\n\n    .dataframe tbody tr th {\n        vertical-align: top;\n    }\n\n    .dataframe thead th {\n        text-align: right;\n    }\n</style>\n<table border=\"1\" class=\"dataframe\">\n  <thead>\n    <tr style=\"text-align: right;\">\n      <th></th>\n      <th>S-TN</th>\n      <th>S-TP</th>\n      <th>S-Size-d(0.1)</th>\n      <th>S-Size-d(0.5)</th>\n      <th>S-Size-d(0.9)</th>\n    </tr>\n  </thead>\n  <tbody>\n    <tr>\n      <th>S-TN</th>\n      <td>1.000000</td>\n      <td>0.353520</td>\n      <td>-0.109101</td>\n      <td>-0.160839</td>\n      <td>-0.177991</td>\n    </tr>\n    <tr>\n      <th>S-TP</th>\n      <td>0.353520</td>\n      <td>1.000000</td>\n      <td>-0.056207</td>\n      <td>-0.032779</td>\n      <td>-0.000428</td>\n    </tr>\n    <tr>\n      <th>S-Size-d(0.1)</th>\n      <td>-0.109101</td>\n      <td>-0.056207</td>\n      <td>1.000000</td>\n      <td>0.684153</td>\n      <td>0.547891</td>\n    </tr>\n    <tr>\n      <th>S-Size-d(0.5)</th>\n      <td>-0.160839</td>\n      <td>-0.032779</td>\n      <td>0.684153</td>\n      <td>1.000000</td>\n      <td>0.890505</td>\n    </tr>\n    <tr>\n      <th>S-Size-d(0.9)</th>\n      <td>-0.177991</td>\n      <td>-0.000428</td>\n      <td>0.547891</td>\n      <td>0.890505</td>\n      <td>1.000000</td>\n    </tr>\n  </tbody>\n</table>\n</div>"
     },
     "execution_count": 27,
     "metadata": {},
     "output_type": "execute_result"
    }
   ],
   "source": [
    "X = (df - df.mean()) / df.std(ddof=0)  # 获取经过Normalization的矩阵X\n",
    "SIGMA = (X.T @ X) / X.shape[0]\n",
    "\n",
    "# X.corr()\n",
    "SIGMA  # SIGMA其实就是X.corr()\n"
   ]
  },
  {
   "cell_type": "code",
   "execution_count": 28,
   "metadata": {
    "pycharm": {
     "name": "#%%\n"
    }
   },
   "outputs": [],
   "source": [
    "# V\n",
    "# ew, ev = np.linalg.eig(X.T.dot(X))\n",
    "ew, ev = np.linalg.eig(np.cov(X.T))  # ew: 特征值，ev: 特征向量\n",
    "ew_order = np.argsort(ew)[::-1]  # 将ew按照从大到小的顺序排列\n",
    "# 特征根，主要是看主成分对于变量解释的贡献率（可以理解为究竟需要多少主成分才能把变量表达为100%），一般都要表达到90%以上才可以，否则就要调整因子数据。\n",
    "ew_sort = ew[ew_order]\n",
    "ev_sort = ev[:, ew_order]\n",
    "# print(ew_sort)\n"
   ]
  },
  {
   "attachments": {},
   "cell_type": "markdown",
   "metadata": {
    "pycharm": {
     "name": "#%% md\n"
    }
   },
   "source": [
    "### 方差解释表格\n",
    "**图表说明:**\n",
    "上表为总方差解释表格，主要是看主成分对于变量解释的贡献率（可以理解为究竟需要多少主成分才能把变量表达为100%），一般都要表达到90%以上才可以，否则就要调整因子数据。一般情况下,方差解释率越高，说明该主成分越重要，权重占比也应该越高。\n",
    "\n",
    "方差解释表中，在主成分4时，总方差解释的特征根低于1，变量解释的贡献率达到74.899%，以上仅为参考。\n",
    "若特征根小于1临界值过大，也可以集合具体情况具体分析。"
   ]
  },
  {
   "cell_type": "code",
   "execution_count": 29,
   "metadata": {
    "pycharm": {
     "name": "#%%\n"
    }
   },
   "outputs": [
    {
     "data": {
      "text/plain": "        特征值    百分比   累计百分比\n0  2.507636  49.6%   49.6%\n1  1.326169  26.2%   75.8%\n2  0.658040  13.0%   88.8%\n3  0.473403   9.4%   98.2%\n4  0.090932   1.8%  100.0%",
      "text/html": "<div>\n<style scoped>\n    .dataframe tbody tr th:only-of-type {\n        vertical-align: middle;\n    }\n\n    .dataframe tbody tr th {\n        vertical-align: top;\n    }\n\n    .dataframe thead th {\n        text-align: right;\n    }\n</style>\n<table border=\"1\" class=\"dataframe\">\n  <thead>\n    <tr style=\"text-align: right;\">\n      <th></th>\n      <th>特征值</th>\n      <th>百分比</th>\n      <th>累计百分比</th>\n    </tr>\n  </thead>\n  <tbody>\n    <tr>\n      <th>0</th>\n      <td>2.507636</td>\n      <td>49.6%</td>\n      <td>49.6%</td>\n    </tr>\n    <tr>\n      <th>1</th>\n      <td>1.326169</td>\n      <td>26.2%</td>\n      <td>75.8%</td>\n    </tr>\n    <tr>\n      <th>2</th>\n      <td>0.658040</td>\n      <td>13.0%</td>\n      <td>88.8%</td>\n    </tr>\n    <tr>\n      <th>3</th>\n      <td>0.473403</td>\n      <td>9.4%</td>\n      <td>98.2%</td>\n    </tr>\n    <tr>\n      <th>4</th>\n      <td>0.090932</td>\n      <td>1.8%</td>\n      <td>100.0%</td>\n    </tr>\n  </tbody>\n</table>\n</div>"
     },
     "execution_count": 29,
     "metadata": {},
     "output_type": "execute_result"
    }
   ],
   "source": [
    "# 输出一个方差解释表格\n",
    "var_inter_0 = pd.DataFrame({'特征值': ew_sort})  # 添加特征值列\n",
    "var_inter_0['百分比'] = (var_inter_0 / var_inter_0.sum())  # 添加百分比列\n",
    "var_inter_0['累计百分比'] = var_inter_0['百分比'].cumsum()  # 计算累计百分比\n",
    "var_inter = var_inter_0.copy()\n",
    "var_inter[['百分比', '累计百分比']] = var_inter[['百分比', '累计百分比']\n",
    "                                        ].applymap(lambda x: format(x, '.1%'))  # 保留一位小数\n",
    "# var_inter_0['1'] = 1  # 前两列特征值大于1，且51%以上可以用来解释原来7个变量，因此取前两列\n",
    "var_inter"
   ]
  },
  {
   "cell_type": "code",
   "execution_count": 17,
   "outputs": [],
   "source": [
    "var_inter.to_clipboard()"
   ],
   "metadata": {
    "collapsed": false,
    "pycharm": {
     "name": "#%%\n"
    }
   }
  },
  {
   "cell_type": "code",
   "execution_count": 30,
   "metadata": {
    "pycharm": {
     "name": "#%%\n"
    }
   },
   "outputs": [
    {
     "data": {
      "text/plain": "(array([0, 1, 2, 3, 4]),\n [Text(0, 0, '0'),\n  Text(1, 0, '1'),\n  Text(2, 0, '2'),\n  Text(3, 0, '3'),\n  Text(4, 0, '4')])"
     },
     "execution_count": 30,
     "metadata": {},
     "output_type": "execute_result"
    },
    {
     "data": {
      "text/plain": "<Figure size 432x288 with 1 Axes>",
      "image/png": "[encoded data removed]"
     },
     "metadata": {
      "needs_background": "light"
     },
     "output_type": "display_data"
    }
   ],
   "source": [
    "pd.DataFrame(ew_sort).plot(kind='bar').legend(\n",
    "    ('特征值',))  # 添加图例必须多一个逗号，否则只显示第一个字符\n",
    "plt.xticks(rotation=0)\n",
    "# print(ev_sort)\n"
   ]
  },
  {
   "cell_type": "code",
   "execution_count": 31,
   "metadata": {
    "pycharm": {
     "name": "#%%\n"
    }
   },
   "outputs": [],
   "source": [
    "# ev_sort[:, :2]  # 前两列就很大程度上可以用来解释原来7个变量，因此取前两列# V\n",
    "V = ev_sort[:, :2]  # 前两列就很大程度上可以用来解释原来7个变量，因此取前两列"
   ]
  },
  {
   "attachments": {},
   "cell_type": "markdown",
   "metadata": {
    "pycharm": {
     "name": "#%% md\n"
    }
   },
   "source": [
    "### 因子数据表"
   ]
  },
  {
   "cell_type": "code",
   "execution_count": 34,
   "outputs": [
    {
     "data": {
      "text/plain": "array([[-0.19136624, -0.66359524,  0.69032599, -0.21450888,  0.02136081],\n       [-0.07864697, -0.72405553, -0.65159358,  0.21079757, -0.02341878],\n       [ 0.5098725 , -0.09353127,  0.28859543,  0.7821749 ,  0.19025518],\n       [ 0.60475556, -0.11569722,  0.00895032, -0.22789764, -0.75423301],\n       [ 0.57575548, -0.115113  , -0.12453273, -0.49579776,  0.62763908]])"
     },
     "execution_count": 34,
     "metadata": {},
     "output_type": "execute_result"
    }
   ],
   "source": [
    "ev_sort"
   ],
   "metadata": {
    "collapsed": false,
    "pycharm": {
     "name": "#%%\n"
    }
   }
  },
  {
   "cell_type": "code",
   "execution_count": 32,
   "metadata": {
    "pycharm": {
     "name": "#%%\n"
    }
   },
   "outputs": [
    {
     "data": {
      "text/plain": "                  PCA 0     PCA 1       公共度\nvar                                        \nS-TN          -0.191366 -0.663595  0.476980\nS-TP          -0.078647 -0.724056  0.530442\nS-Size-d(0.1)  0.509872 -0.093531  0.268718\nS-Size-d(0.5)  0.604756 -0.115697  0.379115\nS-Size-d(0.9)  0.575755 -0.115113  0.344745",
      "text/html": "<div>\n<style scoped>\n    .dataframe tbody tr th:only-of-type {\n        vertical-align: middle;\n    }\n\n    .dataframe tbody tr th {\n        vertical-align: top;\n    }\n\n    .dataframe thead th {\n        text-align: right;\n    }\n</style>\n<table border=\"1\" class=\"dataframe\">\n  <thead>\n    <tr style=\"text-align: right;\">\n      <th></th>\n      <th>PCA 0</th>\n      <th>PCA 1</th>\n      <th>公共度</th>\n    </tr>\n    <tr>\n      <th>var</th>\n      <th></th>\n      <th></th>\n      <th></th>\n    </tr>\n  </thead>\n  <tbody>\n    <tr>\n      <th>S-TN</th>\n      <td>-0.191366</td>\n      <td>-0.663595</td>\n      <td>0.476980</td>\n    </tr>\n    <tr>\n      <th>S-TP</th>\n      <td>-0.078647</td>\n      <td>-0.724056</td>\n      <td>0.530442</td>\n    </tr>\n    <tr>\n      <th>S-Size-d(0.1)</th>\n      <td>0.509872</td>\n      <td>-0.093531</td>\n      <td>0.268718</td>\n    </tr>\n    <tr>\n      <th>S-Size-d(0.5)</th>\n      <td>0.604756</td>\n      <td>-0.115697</td>\n      <td>0.379115</td>\n    </tr>\n    <tr>\n      <th>S-Size-d(0.9)</th>\n      <td>0.575755</td>\n      <td>-0.115113</td>\n      <td>0.344745</td>\n    </tr>\n  </tbody>\n</table>\n</div>"
     },
     "execution_count": 32,
     "metadata": {},
     "output_type": "execute_result"
    }
   ],
   "source": [
    "# 构建一个因子数据表\n",
    "factor_load_table = pd.DataFrame(V)  # 因子载荷数据表，可以分析到每个主成分中隐变量的重要性。\n",
    "factor_load_table.index = df.columns\n",
    "factor_load_table.columns = ['PCA 0', 'PCA 1']\n",
    "factor_load_table.index.name = 'var'\n",
    "factor_load_table['公共度'] = factor_load_table['PCA 0'] ** 2 + factor_load_table[\n",
    "    'PCA 1'] ** 2  # 公因子方差：每个变量对应的PCA0与PCA1的平方和\n",
    "factor_load_table = factor_load_table\n",
    "factor_load_table"
   ]
  },
  {
   "cell_type": "code",
   "execution_count": null,
   "metadata": {
    "pycharm": {
     "name": "#%%\n"
    }
   },
   "outputs": [],
   "source": [
    "# U的每一列都是一个特征向量，因此它的模长都为1，且特征向量之间都是正交的，乘积都为0\n",
    "# (factor_load_table['PCA 0'] * factor_load_table['PCA 1']).sum()  # 两个特征向量的乘积应为0\n",
    "# (factor_load_table['PCA 0']**2).sum()  # 每一个特征向量的模长都为0\n",
    "# (factor_load_table['PCA 1']**2).sum()\n"
   ]
  },
  {
   "cell_type": "code",
   "execution_count": null,
   "metadata": {
    "pycharm": {
     "name": "#%%\n"
    }
   },
   "outputs": [],
   "source": [
    "plt.figure(figsize=(8, 5), dpi=120)\n",
    "sns.heatmap(factor_load_table)\n"
   ]
  },
  {
   "attachments": {},
   "cell_type": "markdown",
   "metadata": {
    "pycharm": {
     "name": "#%% md\n"
    }
   },
   "source": [
    "### 绘图可视化"
   ]
  },
  {
   "cell_type": "code",
   "execution_count": 18,
   "metadata": {
    "pycharm": {
     "name": "#%%\n"
    }
   },
   "outputs": [],
   "source": [
    "# X_new\n",
    "X_new = X.dot(V)\n",
    "# 将生存数据添加到DATaFrame中，用于绘制散点图的时候可以区分死亡与生存的区别\n",
    "# X_new['Survived'] = train_data_0['Survived']\n",
    "# X_new\n"
   ]
  },
  {
   "cell_type": "code",
   "execution_count": 13,
   "metadata": {
    "pycharm": {
     "name": "#%%\n"
    }
   },
   "outputs": [
    {
     "data": {
      "text/plain": "<AxesSubplot:xlabel='PCA 0', ylabel='PCA 1'>"
     },
     "execution_count": 13,
     "metadata": {},
     "output_type": "execute_result"
    },
    {
     "data": {
      "text/plain": "<Figure size 960x600 with 1 Axes>",
      "image/png": "[encoded data removed]"
     },
     "metadata": {
      "needs_background": "light"
     },
     "output_type": "display_data"
    }
   ],
   "source": [
    "plt.figure(figsize=(8, 5), dpi=120)  # 设置绘图尺寸\n",
    "sns.scatterplot(x=factor_load_table['PCA 0'],\n",
    "                y=factor_load_table['PCA 1'], hue=factor_load_table.index)\n"
   ]
  },
  {
   "cell_type": "code",
   "execution_count": 14,
   "metadata": {
    "pycharm": {
     "name": "#%%\n"
    }
   },
   "outputs": [
    {
     "ename": "NameError",
     "evalue": "name 'X_new' is not defined",
     "output_type": "error",
     "traceback": [
      "\u001B[1;31m---------------------------------------------------------------------------\u001B[0m",
      "\u001B[1;31mNameError\u001B[0m                                 Traceback (most recent call last)",
      "Input \u001B[1;32mIn [14]\u001B[0m, in \u001B[0;36m<cell line: 3>\u001B[1;34m()\u001B[0m\n\u001B[0;32m      1\u001B[0m \u001B[38;5;66;03m# scatter\u001B[39;00m\n\u001B[0;32m      2\u001B[0m plt\u001B[38;5;241m.\u001B[39mfigure(figsize\u001B[38;5;241m=\u001B[39m(\u001B[38;5;241m8\u001B[39m, \u001B[38;5;241m5\u001B[39m), dpi\u001B[38;5;241m=\u001B[39m\u001B[38;5;241m120\u001B[39m)  \u001B[38;5;66;03m# 设置绘图尺寸\u001B[39;00m\n\u001B[1;32m----> 3\u001B[0m sc_survived \u001B[38;5;241m=\u001B[39m plt\u001B[38;5;241m.\u001B[39mscatter(\u001B[43mX_new\u001B[49m[X_new[\u001B[38;5;124m'\u001B[39m\u001B[38;5;124mSurvived\u001B[39m\u001B[38;5;124m'\u001B[39m] \u001B[38;5;241m==\u001B[39m \u001B[38;5;241m1\u001B[39m]\u001B[38;5;241m.\u001B[39miloc[:, \u001B[38;5;241m0\u001B[39m], X_new[X_new[\u001B[38;5;124m'\u001B[39m\u001B[38;5;124mSurvived\u001B[39m\u001B[38;5;124m'\u001B[39m] \u001B[38;5;241m==\u001B[39m \u001B[38;5;241m1\u001B[39m]\u001B[38;5;241m.\u001B[39miloc[:, \u001B[38;5;241m1\u001B[39m], s\u001B[38;5;241m=\u001B[39m\u001B[38;5;241m5\u001B[39m,\n\u001B[0;32m      4\u001B[0m                           c\u001B[38;5;241m=\u001B[39m\u001B[38;5;124m'\u001B[39m\u001B[38;5;124mblue\u001B[39m\u001B[38;5;124m'\u001B[39m,\n\u001B[0;32m      5\u001B[0m                           cmap\u001B[38;5;241m=\u001B[39mplt\u001B[38;5;241m.\u001B[39mcm\u001B[38;5;241m.\u001B[39mcoolwarm)  \u001B[38;5;66;03m# 提取生存的\u001B[39;00m\n\u001B[0;32m      6\u001B[0m sc_un_survived \u001B[38;5;241m=\u001B[39m plt\u001B[38;5;241m.\u001B[39mscatter(X_new[X_new[\u001B[38;5;124m'\u001B[39m\u001B[38;5;124mSurvived\u001B[39m\u001B[38;5;124m'\u001B[39m] \u001B[38;5;241m==\u001B[39m \u001B[38;5;241m0\u001B[39m]\u001B[38;5;241m.\u001B[39miloc[:, \u001B[38;5;241m0\u001B[39m], X_new[X_new[\u001B[38;5;124m'\u001B[39m\u001B[38;5;124mSurvived\u001B[39m\u001B[38;5;124m'\u001B[39m] \u001B[38;5;241m==\u001B[39m \u001B[38;5;241m0\u001B[39m]\u001B[38;5;241m.\u001B[39miloc[:, \u001B[38;5;241m1\u001B[39m], s\u001B[38;5;241m=\u001B[39m\u001B[38;5;241m5\u001B[39m,\n\u001B[0;32m      7\u001B[0m                              c\u001B[38;5;241m=\u001B[39m\u001B[38;5;124m'\u001B[39m\u001B[38;5;124mred\u001B[39m\u001B[38;5;124m'\u001B[39m,\n\u001B[0;32m      8\u001B[0m                              cmap\u001B[38;5;241m=\u001B[39mplt\u001B[38;5;241m.\u001B[39mcm\u001B[38;5;241m.\u001B[39mcoolwarm)  \u001B[38;5;66;03m# c=train_X0.Survived设置颜色反应生还状态，是死是活\u001B[39;00m\n\u001B[0;32m      9\u001B[0m \u001B[38;5;66;03m# plt.grid(False)  # 是否显示网格线\u001B[39;00m\n",
      "\u001B[1;31mNameError\u001B[0m: name 'X_new' is not defined"
     ]
    },
    {
     "data": {
      "text/plain": "<Figure size 960x600 with 0 Axes>"
     },
     "metadata": {},
     "output_type": "display_data"
    }
   ],
   "source": [
    "# scatter\n",
    "plt.figure(figsize=(8, 5), dpi=120)  # 设置绘图尺寸\n",
    "sc_survived = plt.scatter(X_new[X_new['Survived'] == 1].iloc[:, 0], X_new[X_new['Survived'] == 1].iloc[:, 1], s=5,\n",
    "                          c='blue',\n",
    "                          cmap=plt.cm.coolwarm)  # 提取生存的\n",
    "sc_un_survived = plt.scatter(X_new[X_new['Survived'] == 0].iloc[:, 0], X_new[X_new['Survived'] == 0].iloc[:, 1], s=5,\n",
    "                             c='red',\n",
    "                             cmap=plt.cm.coolwarm)  # c=train_X0.Survived设置颜色反应生还状态，是死是活\n",
    "# plt.grid(False)  # 是否显示网格线\n",
    "plt.xlabel('PCA 0')  # 设置X、Y轴坐标名称\n",
    "plt.ylabel('PCA 1')\n",
    "plt.legend(handles=[sc_survived, sc_un_survived],\n",
    "           labels=['生存', '死亡'], loc='upper left')\n"
   ]
  },
  {
   "attachments": {},
   "cell_type": "markdown",
   "metadata": {
    "pycharm": {
     "name": "#%% md\n"
    }
   },
   "source": [
    "### 成分矩阵表"
   ]
  },
  {
   "cell_type": "code",
   "execution_count": 15,
   "metadata": {
    "pycharm": {
     "name": "#%%\n"
    }
   },
   "outputs": [
    {
     "data": {
      "text/plain": "               PCA 0  PCA 1\nvar                        \nS-TN          -0.076 -0.500\nS-TP          -0.031 -0.546\nS-Size-d(0.1)  0.203 -0.071\nS-Size-d(0.5)  0.241 -0.087\nS-Size-d(0.9)  0.230 -0.087",
      "text/html": "<div>\n<style scoped>\n    .dataframe tbody tr th:only-of-type {\n        vertical-align: middle;\n    }\n\n    .dataframe tbody tr th {\n        vertical-align: top;\n    }\n\n    .dataframe thead th {\n        text-align: right;\n    }\n</style>\n<table border=\"1\" class=\"dataframe\">\n  <thead>\n    <tr style=\"text-align: right;\">\n      <th></th>\n      <th>PCA 0</th>\n      <th>PCA 1</th>\n    </tr>\n    <tr>\n      <th>var</th>\n      <th></th>\n      <th></th>\n    </tr>\n  </thead>\n  <tbody>\n    <tr>\n      <th>S-TN</th>\n      <td>-0.076</td>\n      <td>-0.500</td>\n    </tr>\n    <tr>\n      <th>S-TP</th>\n      <td>-0.031</td>\n      <td>-0.546</td>\n    </tr>\n    <tr>\n      <th>S-Size-d(0.1)</th>\n      <td>0.203</td>\n      <td>-0.071</td>\n    </tr>\n    <tr>\n      <th>S-Size-d(0.5)</th>\n      <td>0.241</td>\n      <td>-0.087</td>\n    </tr>\n    <tr>\n      <th>S-Size-d(0.9)</th>\n      <td>0.230</td>\n      <td>-0.087</td>\n    </tr>\n  </tbody>\n</table>\n</div>"
     },
     "execution_count": 15,
     "metadata": {},
     "output_type": "execute_result"
    }
   ],
   "source": [
    "# 成分矩阵表\n",
    "composition_matrix = factor_load_table.loc[:, [\n",
    "    'PCA 0', 'PCA 1']]  # 成分矩阵表 = 因子载荷数据表/对应每一个特征值\n",
    "composition_matrix['PCA 0'] = composition_matrix['PCA 0'] / \\\n",
    "    ew_sort[0]  # 这里有个问题，有的软件里除的是根号下特征值，有的没有\n",
    "composition_matrix['PCA 1'] = composition_matrix['PCA 1'] / ew_sort[1]\n",
    "composition_matrix.round(3)\n"
   ]
  },
  {
   "attachments": {},
   "cell_type": "markdown",
   "metadata": {
    "pycharm": {
     "name": "#%% md\n"
    }
   },
   "source": [
    "图表说明：\n",
    "上表为成分矩阵表，意在说明各个成分的所包含的因子得分系数（主成分载荷），用于计算出成分得分，得出因子公式，其计算公式为：线性组合系数*（方差解释率/累积方差解释率），最后将其归一化即为因子权重分。\n",
    "线性组合系数，公式为：因子载荷系数除以对应特征根，即成分矩阵的系数。\n",
    "智能分析：\n",
    "模型的公式：\n",
    "F1=-0.389×Pclass-0.254×Sex+0.099×Age+0.14×SibSp+0.214×Parch+0.45×Fare-0.212×Embarked\n",
    "F2=0.262×Pclass-0.166×Sex-0.382×Age+0.411×SibSp+0.392×Parch-0.038×Fare+0.127×Embarked\n",
    "由上可以得到：\n",
    "F=(0.265/0.511)×F1+(0.245/0.511)×F2"
   ]
  },
  {
   "attachments": {},
   "cell_type": "markdown",
   "metadata": {
    "pycharm": {
     "name": "#%% md\n"
    }
   },
   "source": [
    "### 因子权重分析表"
   ]
  },
  {
   "cell_type": "code",
   "execution_count": 16,
   "metadata": {
    "pycharm": {
     "name": "#%%\n"
    }
   },
   "outputs": [
    {
     "data": {
      "text/plain": "         百分比  累计百分比     权重\n主成分                       \nPCA 0  49.6%  49.6%  65.4%\nPCA 1  26.2%  75.8%  34.6%",
      "text/html": "<div>\n<style scoped>\n    .dataframe tbody tr th:only-of-type {\n        vertical-align: middle;\n    }\n\n    .dataframe tbody tr th {\n        vertical-align: top;\n    }\n\n    .dataframe thead th {\n        text-align: right;\n    }\n</style>\n<table border=\"1\" class=\"dataframe\">\n  <thead>\n    <tr style=\"text-align: right;\">\n      <th></th>\n      <th>百分比</th>\n      <th>累计百分比</th>\n      <th>权重</th>\n    </tr>\n    <tr>\n      <th>主成分</th>\n      <th></th>\n      <th></th>\n      <th></th>\n    </tr>\n  </thead>\n  <tbody>\n    <tr>\n      <th>PCA 0</th>\n      <td>49.6%</td>\n      <td>49.6%</td>\n      <td>65.4%</td>\n    </tr>\n    <tr>\n      <th>PCA 1</th>\n      <td>26.2%</td>\n      <td>75.8%</td>\n      <td>34.6%</td>\n    </tr>\n  </tbody>\n</table>\n</div>"
     },
     "execution_count": 16,
     "metadata": {},
     "output_type": "execute_result"
    }
   ],
   "source": [
    "factor_weight_analysis = pd.DataFrame(var_inter_0.loc[:1, ['百分比', '累计百分比']])\n",
    "factor_weight_analysis['权重'] = factor_weight_analysis['百分比'] / \\\n",
    "    factor_weight_analysis['百分比'].sum()\n",
    "factor_weight_analysis.index = ['PCA 0', 'PCA 1']\n",
    "factor_weight_analysis.index.name = '主成分'\n",
    "(factor_weight_analysis * 100).round(1).astype(str) + '%'  # 以保留一位小数、百分比的形式显示\n"
   ]
  },
  {
   "attachments": {},
   "cell_type": "markdown",
   "metadata": {
    "pycharm": {
     "name": "#%% md\n"
    }
   },
   "source": [
    "### 综合得分表（其实就是X_new中的数据）"
   ]
  },
  {
   "cell_type": "code",
   "execution_count": 19,
   "metadata": {
    "pycharm": {
     "name": "#%%\n"
    }
   },
   "outputs": [
    {
     "data": {
      "text/plain": "           PCA 0     PCA 1      综合得分\nD-N3   11.421042 -1.012195  5.398833\nD-N2    6.500814 -0.103155  3.197052\nD-H5    5.314552 -0.507412  2.502689\nL-N3    1.890343  0.495689  1.067537\nD-H2    1.783185  0.202298  0.937439\n...          ...       ...       ...\nW-N12  -0.553426 -3.120861 -1.093035\nW-N4   -0.650238 -3.002715 -1.110061\nW-N2   -0.616577 -3.190272 -1.142560\nW-N9   -0.804700 -3.072232 -1.204901\nL-N4   -1.432518 -2.415564 -1.344035\n\n[90 rows x 3 columns]",
      "text/html": "<div>\n<style scoped>\n    .dataframe tbody tr th:only-of-type {\n        vertical-align: middle;\n    }\n\n    .dataframe tbody tr th {\n        vertical-align: top;\n    }\n\n    .dataframe thead th {\n        text-align: right;\n    }\n</style>\n<table border=\"1\" class=\"dataframe\">\n  <thead>\n    <tr style=\"text-align: right;\">\n      <th></th>\n      <th>PCA 0</th>\n      <th>PCA 1</th>\n      <th>综合得分</th>\n    </tr>\n  </thead>\n  <tbody>\n    <tr>\n      <th>D-N3</th>\n      <td>11.421042</td>\n      <td>-1.012195</td>\n      <td>5.398833</td>\n    </tr>\n    <tr>\n      <th>D-N2</th>\n      <td>6.500814</td>\n      <td>-0.103155</td>\n      <td>3.197052</td>\n    </tr>\n    <tr>\n      <th>D-H5</th>\n      <td>5.314552</td>\n      <td>-0.507412</td>\n      <td>2.502689</td>\n    </tr>\n    <tr>\n      <th>L-N3</th>\n      <td>1.890343</td>\n      <td>0.495689</td>\n      <td>1.067537</td>\n    </tr>\n    <tr>\n      <th>D-H2</th>\n      <td>1.783185</td>\n      <td>0.202298</td>\n      <td>0.937439</td>\n    </tr>\n    <tr>\n      <th>...</th>\n      <td>...</td>\n      <td>...</td>\n      <td>...</td>\n    </tr>\n    <tr>\n      <th>W-N12</th>\n      <td>-0.553426</td>\n      <td>-3.120861</td>\n      <td>-1.093035</td>\n    </tr>\n    <tr>\n      <th>W-N4</th>\n      <td>-0.650238</td>\n      <td>-3.002715</td>\n      <td>-1.110061</td>\n    </tr>\n    <tr>\n      <th>W-N2</th>\n      <td>-0.616577</td>\n      <td>-3.190272</td>\n      <td>-1.142560</td>\n    </tr>\n    <tr>\n      <th>W-N9</th>\n      <td>-0.804700</td>\n      <td>-3.072232</td>\n      <td>-1.204901</td>\n    </tr>\n    <tr>\n      <th>L-N4</th>\n      <td>-1.432518</td>\n      <td>-2.415564</td>\n      <td>-1.344035</td>\n    </tr>\n  </tbody>\n</table>\n<p>90 rows × 3 columns</p>\n</div>"
     },
     "execution_count": 19,
     "metadata": {},
     "output_type": "execute_result"
    }
   ],
   "source": [
    "comprehensive_score = pd.DataFrame(X_new.iloc[:, [0, 1]])\n",
    "comprehensive_score.columns = ['PCA 0', 'PCA 1']\n",
    "comprehensive_score['综合得分'] = comprehensive_score.iloc[:, 0] * factor_weight_analysis.loc[\n",
    "    'PCA 0', '百分比'] + comprehensive_score.iloc[:, 1] * factor_weight_analysis.loc['PCA 1', '百分比']\n",
    "comprehensive_score.sort_values(by='综合得分', ascending=False)  # 按照综合得分列倒序排列"
   ]
  },
  {
   "cell_type": "code",
   "execution_count": 38,
   "metadata": {
    "pycharm": {
     "name": "#%%\n"
    }
   },
   "outputs": [
    {
     "data": {
      "text/plain": "var   S-TN        S-TP  S-Size-d(0.1)  S-Size-d(0.5)  S-Size-d(0.9)\nD-N3   420  791.000000        611.957        875.213       1252.883\nD-N2   320  794.285714         45.008        807.765       1239.506\nD-H5  1035  878.285714         20.381        636.009       1195.165\nL-N3  1640  793.710000          8.303         46.483        936.552\nD-H2   640  890.000000         31.449        150.842        636.240",
      "text/html": "<div>\n<style scoped>\n    .dataframe tbody tr th:only-of-type {\n        vertical-align: middle;\n    }\n\n    .dataframe tbody tr th {\n        vertical-align: top;\n    }\n\n    .dataframe thead th {\n        text-align: right;\n    }\n</style>\n<table border=\"1\" class=\"dataframe\">\n  <thead>\n    <tr style=\"text-align: right;\">\n      <th>var</th>\n      <th>S-TN</th>\n      <th>S-TP</th>\n      <th>S-Size-d(0.1)</th>\n      <th>S-Size-d(0.5)</th>\n      <th>S-Size-d(0.9)</th>\n    </tr>\n  </thead>\n  <tbody>\n    <tr>\n      <th>D-N3</th>\n      <td>420</td>\n      <td>791.000000</td>\n      <td>611.957</td>\n      <td>875.213</td>\n      <td>1252.883</td>\n    </tr>\n    <tr>\n      <th>D-N2</th>\n      <td>320</td>\n      <td>794.285714</td>\n      <td>45.008</td>\n      <td>807.765</td>\n      <td>1239.506</td>\n    </tr>\n    <tr>\n      <th>D-H5</th>\n      <td>1035</td>\n      <td>878.285714</td>\n      <td>20.381</td>\n      <td>636.009</td>\n      <td>1195.165</td>\n    </tr>\n    <tr>\n      <th>L-N3</th>\n      <td>1640</td>\n      <td>793.710000</td>\n      <td>8.303</td>\n      <td>46.483</td>\n      <td>936.552</td>\n    </tr>\n    <tr>\n      <th>D-H2</th>\n      <td>640</td>\n      <td>890.000000</td>\n      <td>31.449</td>\n      <td>150.842</td>\n      <td>636.240</td>\n    </tr>\n  </tbody>\n</table>\n</div>"
     },
     "execution_count": 38,
     "metadata": {},
     "output_type": "execute_result"
    }
   ],
   "source": [
    "df.loc[comprehensive_score.sort_values(\n",
    "    by='综合得分', ascending=False).head(5).index]  # 获取综合得分前五的人员"
   ]
  }
 ],
 "metadata": {
  "kernelspec": {
   "display_name": "Python 3",
   "language": "python",
   "name": "python3"
  },
  "language_info": {
   "codemirror_mode": {
    "name": "ipython",
    "version": 3
   },
   "file_extension": ".py",
   "mimetype": "text/x-python",
   "name": "python",
   "nbconvert_exporter": "python",
   "pygments_lexer": "ipython3",
   "version": "3.10.4 (tags/v3.10.4:9d38120, Mar 23 2022, 23:13:41) [MSC v.1929 64 bit (AMD64)]"
  },
  "orig_nbformat": 4,
  "vscode": {
   "interpreter": {
    "hash": "94080b48160be75dd0f70ce80ac2a91b12db0680af2013e6f49edfa38b3c2a01"
   }
  }
 },
 "nbformat": 4,
 "nbformat_minor": 2
}