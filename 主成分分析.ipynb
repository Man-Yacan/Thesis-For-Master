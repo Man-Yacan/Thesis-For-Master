{
 "cells": [
  {
   "cell_type": "code",
   "execution_count": 142,
   "metadata": {
    "pycharm": {
     "name": "#%%\n"
    }
   },
   "outputs": [],
   "source": [
    "from ResearchMain import *"
   ]
  },
  {
   "attachments": {},
   "cell_type": "markdown",
   "metadata": {
    "pycharm": {
     "name": "#%% md\n"
    }
   },
   "source": [
    "## 数据准备"
   ]
  },
  {
   "attachments": {},
   "cell_type": "markdown",
   "metadata": {
    "pycharm": {
     "name": "#%% md\n"
    }
   },
   "source": [
    "### 演示数据集\n",
    "泰坦尼克号数据结构分析：\n",
    "- Pclass:乘客所持票类，有三种值(1：lower,2：middle,3：upper)\n",
    "- Survived:0代表死亡，1代表存活\n",
    "- Name:乘客姓名\n",
    "- Sex:乘客性别(男：1，女：0)\n",
    "- Age:乘客年龄(缺失值取平均值)\n",
    "- SibSp:乘客兄弟姐妹/配偶的个数(整数值)\n",
    "- Parch:乘客父母/孩子的个数(整数值)\n",
    "- Ticket:票号(字符串)\n",
    "- Fare:乘客所持票的价格(浮点数，0-500不等)\n",
    "- Cabin:乘客所在船舱\n",
    "- Embark:乘客登船港口:S、C、Q"
   ]
  },
  {
   "cell_type": "code",
   "execution_count": 143,
   "metadata": {
    "pycharm": {
     "name": "#%%\n"
    }
   },
   "outputs": [],
   "source": [
    "# 读取演示数据集\n",
    "# demo_data_name = 'pca_demo_titanic.csv'\n",
    "# demo_data = pd.read_csv(DATA_PATH+demo_data_name, index_col='PassengerId')\n",
    "# data.head(3)\n"
   ]
  },
  {
   "cell_type": "code",
   "execution_count": 144,
   "metadata": {
    "pycharm": {
     "name": "#%%\n"
    }
   },
   "outputs": [],
   "source": [
    "# df = demo_data"
   ]
  },
  {
   "attachments": {},
   "cell_type": "markdown",
   "metadata": {
    "pycharm": {
     "name": "#%% md\n"
    }
   },
   "source": [
    "### 读取分析数据"
   ]
  },
  {
   "cell_type": "code",
   "execution_count": 145,
   "metadata": {
    "pycharm": {
     "name": "#%%\n"
    }
   },
   "outputs": [
    {
     "data": {
      "text/plain": "       S-TN        S-TP  S-Size-d(0.1)  S-Size-d(0.5)  S-Size-d(0.9)  \\\nD-N1    705  806.285714         11.777         38.340        257.008   \nD-N2    320  794.285714         45.008        807.765       1239.506   \nD-N3    420  791.000000        611.957        875.213       1252.883   \nD-N4    650  768.000000         20.270         53.408        181.770   \nD-N5   1475  797.714286          9.567         40.619        116.947   \n...     ...         ...            ...            ...            ...   \nW-H8   5325  956.571429         13.179         54.533        177.715   \nW-H9   5655  924.000000         12.406         46.868        175.772   \nW-H10  4060  901.142857         12.816         45.730        169.597   \nW-H11  4060  998.285714         13.281         56.314        187.891   \nW-H12  5710  931.428571         12.208         48.635        168.123   \n\n               Ⅰ-Ф         Ⅱ-Ф           Ⅲ-Ф          Ⅳ-Ф           Ⅴ-Ф  \nD-N1   1201850.109  1570607.01  1.074539e+06  288732.5325  7.035140e+05  \nD-N2   2129004.270  2617675.11  9.851356e+05  360476.3250  6.234932e+05  \nD-N3   1463080.401  1806106.41  1.347911e+06  324498.2175  1.078437e+06  \nD-N4   1556880.075  2017529.91  1.388097e+06  374268.4650  1.161176e+06  \nD-N5   1301272.695  2147362.11  1.412961e+06  219413.6775  1.005040e+06  \n...            ...         ...           ...          ...           ...  \nW-H8    451096.641   887695.47  6.038852e+05   95290.0200  4.385763e+05  \nW-H9    988848.351  1400201.37  1.420681e+06  133869.1050  1.112571e+06  \nW-H10   485126.361  1032493.77  7.964262e+05   74844.0000  5.822210e+05  \nW-H11   424755.441   845680.77  8.486516e+05  113477.2200  6.512220e+05  \nW-H12   674687.421  1149241.77  9.102209e+05  118475.3250  6.954825e+05  \n\n[90 rows x 10 columns]",
      "text/html": "<div>\n<style scoped>\n    .dataframe tbody tr th:only-of-type {\n        vertical-align: middle;\n    }\n\n    .dataframe tbody tr th {\n        vertical-align: top;\n    }\n\n    .dataframe thead th {\n        text-align: right;\n    }\n</style>\n<table border=\"1\" class=\"dataframe\">\n  <thead>\n    <tr style=\"text-align: right;\">\n      <th></th>\n      <th>S-TN</th>\n      <th>S-TP</th>\n      <th>S-Size-d(0.1)</th>\n      <th>S-Size-d(0.5)</th>\n      <th>S-Size-d(0.9)</th>\n      <th>Ⅰ-Ф</th>\n      <th>Ⅱ-Ф</th>\n      <th>Ⅲ-Ф</th>\n      <th>Ⅳ-Ф</th>\n      <th>Ⅴ-Ф</th>\n    </tr>\n  </thead>\n  <tbody>\n    <tr>\n      <th>D-N1</th>\n      <td>705</td>\n      <td>806.285714</td>\n      <td>11.777</td>\n      <td>38.340</td>\n      <td>257.008</td>\n      <td>1201850.109</td>\n      <td>1570607.01</td>\n      <td>1.074539e+06</td>\n      <td>288732.5325</td>\n      <td>7.035140e+05</td>\n    </tr>\n    <tr>\n      <th>D-N2</th>\n      <td>320</td>\n      <td>794.285714</td>\n      <td>45.008</td>\n      <td>807.765</td>\n      <td>1239.506</td>\n      <td>2129004.270</td>\n      <td>2617675.11</td>\n      <td>9.851356e+05</td>\n      <td>360476.3250</td>\n      <td>6.234932e+05</td>\n    </tr>\n    <tr>\n      <th>D-N3</th>\n      <td>420</td>\n      <td>791.000000</td>\n      <td>611.957</td>\n      <td>875.213</td>\n      <td>1252.883</td>\n      <td>1463080.401</td>\n      <td>1806106.41</td>\n      <td>1.347911e+06</td>\n      <td>324498.2175</td>\n      <td>1.078437e+06</td>\n    </tr>\n    <tr>\n      <th>D-N4</th>\n      <td>650</td>\n      <td>768.000000</td>\n      <td>20.270</td>\n      <td>53.408</td>\n      <td>181.770</td>\n      <td>1556880.075</td>\n      <td>2017529.91</td>\n      <td>1.388097e+06</td>\n      <td>374268.4650</td>\n      <td>1.161176e+06</td>\n    </tr>\n    <tr>\n      <th>D-N5</th>\n      <td>1475</td>\n      <td>797.714286</td>\n      <td>9.567</td>\n      <td>40.619</td>\n      <td>116.947</td>\n      <td>1301272.695</td>\n      <td>2147362.11</td>\n      <td>1.412961e+06</td>\n      <td>219413.6775</td>\n      <td>1.005040e+06</td>\n    </tr>\n    <tr>\n      <th>...</th>\n      <td>...</td>\n      <td>...</td>\n      <td>...</td>\n      <td>...</td>\n      <td>...</td>\n      <td>...</td>\n      <td>...</td>\n      <td>...</td>\n      <td>...</td>\n      <td>...</td>\n    </tr>\n    <tr>\n      <th>W-H8</th>\n      <td>5325</td>\n      <td>956.571429</td>\n      <td>13.179</td>\n      <td>54.533</td>\n      <td>177.715</td>\n      <td>451096.641</td>\n      <td>887695.47</td>\n      <td>6.038852e+05</td>\n      <td>95290.0200</td>\n      <td>4.385763e+05</td>\n    </tr>\n    <tr>\n      <th>W-H9</th>\n      <td>5655</td>\n      <td>924.000000</td>\n      <td>12.406</td>\n      <td>46.868</td>\n      <td>175.772</td>\n      <td>988848.351</td>\n      <td>1400201.37</td>\n      <td>1.420681e+06</td>\n      <td>133869.1050</td>\n      <td>1.112571e+06</td>\n    </tr>\n    <tr>\n      <th>W-H10</th>\n      <td>4060</td>\n      <td>901.142857</td>\n      <td>12.816</td>\n      <td>45.730</td>\n      <td>169.597</td>\n      <td>485126.361</td>\n      <td>1032493.77</td>\n      <td>7.964262e+05</td>\n      <td>74844.0000</td>\n      <td>5.822210e+05</td>\n    </tr>\n    <tr>\n      <th>W-H11</th>\n      <td>4060</td>\n      <td>998.285714</td>\n      <td>13.281</td>\n      <td>56.314</td>\n      <td>187.891</td>\n      <td>424755.441</td>\n      <td>845680.77</td>\n      <td>8.486516e+05</td>\n      <td>113477.2200</td>\n      <td>6.512220e+05</td>\n    </tr>\n    <tr>\n      <th>W-H12</th>\n      <td>5710</td>\n      <td>931.428571</td>\n      <td>12.208</td>\n      <td>48.635</td>\n      <td>168.123</td>\n      <td>674687.421</td>\n      <td>1149241.77</td>\n      <td>9.102209e+05</td>\n      <td>118475.3250</td>\n      <td>6.954825e+05</td>\n    </tr>\n  </tbody>\n</table>\n<p>90 rows × 10 columns</p>\n</div>"
     },
     "execution_count": 145,
     "metadata": {},
     "output_type": "execute_result"
    }
   ],
   "source": [
    "_ = all_df[[i for i in all_df.columns if\n",
    "            isinstance(i, str) and (i.startswith('S') or i.endswith('-Ф'))]].replace(0, 0.00001)\n",
    "sediment_df = _.drop(['S-Size-d((0.9-0.1)/0.5)', 'S-pH'], axis=1)\n",
    "\n",
    "water_df = all_df[[i for i in all_df.columns if\n",
    "                   isinstance(i, str) and i.startswith('W')]].replace(0, 0.00001)\n",
    "water_df = water_df.drop(['W-PO_{4}^{3-}', 'W-TP'], axis=1)\n",
    "\n",
    "df = sediment_df\n",
    "df"
   ]
  },
  {
   "attachments": {},
   "cell_type": "markdown",
   "metadata": {
    "pycharm": {
     "name": "#%% md\n"
    }
   },
   "source": [
    "## PCA分析\n",
    "\n",
    "注意点：\n",
    "\n",
    "1. 上面经过数据准备后，最后进行PCA分析的数据矩阵应命名为df；\n",
    "2. 数据表不可以有空值；"
   ]
  },
  {
   "attachments": {},
   "cell_type": "markdown",
   "metadata": {
    "pycharm": {
     "name": "#%% md\n"
    }
   },
   "source": [
    "### 预检验\n",
    "\n",
    "首先进行KMO和Bartlett的检验，判断是否可以进行主成分分析。 对于KMO值：0.8上非常合适做主成分分析，0.7-0.8之间一般适合，0.6-0.7之间不太适合，0.5-0.6之间表示差，0.5下表示极不适合，对于 Bartlett的检验（p < 0.05,严格来说p < 0.01），若显著性小于0.05或0.01，拒绝原假设，则说明可以做主成分分析，若不拒绝原假设，则说明这些变量可能独立提供一些信息，不适合做主成分分析；"
   ]
  },
  {
   "cell_type": "code",
   "execution_count": 146,
   "metadata": {
    "pycharm": {
     "name": "#%%\n"
    }
   },
   "outputs": [
    {
     "data": {
      "text/plain": "5.625544556547699e-131"
     },
     "execution_count": 146,
     "metadata": {},
     "output_type": "execute_result"
    }
   ],
   "source": [
    "from factor_analyzer.factor_analyzer import calculate_bartlett_sphericity\n",
    "\n",
    "# 巴特利特P值小于0.01，KMO值大于0.6；说明此数据适合做因子分析。\n",
    "chi_square_value, p_value = calculate_bartlett_sphericity(df)  # 计算巴特利特P值\n",
    "p_value"
   ]
  },
  {
   "cell_type": "code",
   "execution_count": 147,
   "metadata": {
    "pycharm": {
     "name": "#%%\n"
    }
   },
   "outputs": [
    {
     "data": {
      "text/plain": "0.502587111306986"
     },
     "execution_count": 147,
     "metadata": {},
     "output_type": "execute_result"
    }
   ],
   "source": [
    "from factor_analyzer.factor_analyzer import calculate_kmo\n",
    "\n",
    "kmo_all, kmo_model = calculate_kmo(df)\n",
    "kmo_model"
   ]
  },
  {
   "cell_type": "code",
   "execution_count": 148,
   "metadata": {
    "pycharm": {
     "name": "#%%\n"
    }
   },
   "outputs": [
    {
     "data": {
      "text/plain": "<AxesSubplot:>"
     },
     "execution_count": 148,
     "metadata": {},
     "output_type": "execute_result"
    },
    {
     "data": {
      "text/plain": "<Figure size 960x600 with 2 Axes>",
      "image/png": "[encoded data removed]"
     },
     "metadata": {
      "needs_background": "light"
     },
     "output_type": "display_data"
    }
   ],
   "source": [
    "# 查看数据各列之间的相关性\n",
    "matrix = df.corr()  # 获取各列之间的相关性，这个matrix其实就是X的协方差矩阵\n",
    "mask = np.triu(np.ones_like(matrix, dtype=bool))  # mask掉上三角部分\n",
    "plt.figure(figsize=(8, 5), dpi=120)\n",
    "cmap = sns.diverging_palette(370, 120, n=80, as_cmap=True)\n",
    "sns.heatmap(matrix, mask=mask, center=0, cmap=cmap, annot=True,\n",
    "            square=True, fmt='.2f', vmax=1, vmin=-1)\n",
    "# plt.title('泰坦尼克号数据集各列之间的相关性')"
   ]
  },
  {
   "attachments": {},
   "cell_type": "markdown",
   "metadata": {
    "pycharm": {
     "name": "#%% md\n"
    }
   },
   "source": [
    "### 数据标准化"
   ]
  },
  {
   "cell_type": "code",
   "execution_count": 149,
   "metadata": {
    "pycharm": {
     "name": "#%%\n"
    }
   },
   "outputs": [],
   "source": [
    "# 数据矩阵标准化与中心化\n",
    "X = (df - df.mean()) / df.std(ddof=0)"
   ]
  },
  {
   "attachments": {},
   "cell_type": "markdown",
   "metadata": {
    "pycharm": {
     "name": "#%% md\n"
    }
   },
   "source": [
    "这一步是主成分分析（PCA）的数据预处理，首先计算出矩阵中每一列的平均值，然后让每一列中的每一个元素都减去该列的平均值。在进行完这一步之后可以观察每一列数据的分散情况，如果列与列之间的差距仍过大，可以再计算出每一列的方差，然后再将减去平均值后的结果除以每一列的方差（这一步是可选步骤，叫做方差归一化）。\n",
    "\n",
    "如果两步都做了，这个叫做数据的normalization——对一个非标准的正态分布随机变量转化为标准的正态分布随机变量。\n",
    "\n",
    "这里一个注意点：\n",
    "我们使用ddof=1样本标准偏差或ddof=0总体标准偏差作为参数来控制。"
   ]
  },
  {
   "attachments": {},
   "cell_type": "markdown",
   "metadata": {
    "pycharm": {
     "name": "#%% md\n"
    }
   },
   "source": [
    "### 算法降维处理\n",
    "在选取特征值的时候，要选取比较大的，特征值大的话数据方差就大，这也就意味着在经过降维后，可以最大程度上保留数据的差异性。\n",
    "\n",
    "降维的过程实际就是寻找投影方向的过程。\n",
    "\n",
    "从一个方面讲:\n",
    "\n",
    "- 好的投影方向，可以使得投影误差最小化。\n",
    "- 投影误差是各个数据点到投影点距离，这也就意味着经过降维处理后的损失达到最小。\n",
    "\n",
    "从另一个方面讲:\n",
    "\n",
    "- 好的投影方向，也就意味着在该方向投影的方差应该最大(分散度/区分度高)，可是使得信息在最大程度上得到保留。\n",
    "- 复原误差小、重建容易。\n",
    "\n",
    "降维的步骤：\n",
    "\n",
    "目标：将n维数据降低为k维(k<n)。\n",
    "（1）计算协方差矩阵：协方差矩阵（n×n）其实就是原数据矩阵中每两列之间的相关性系数；\n",
    "（2）计算投影方向：对E进行奇异值分解(Singular Value Decomposition) [U,S,V] = svd (SIGMA)\n",
    "\n",
    "其中U是一个nxn的矩阵，它每列是SIGMA的一个特征向量(线性代数概念)，U的前k列就是PCA的前k个投影向;我们将U的前k列记为投影矩阵P.\n",
    "U的每一列都是一个特征向量，因此它的模长都为1，且特征向量之间都是正交的，乘积都为0\n",
    "\n",
    "计算投影：\n",
    "\n",
    "- 上一步我们得到了投影矩阵$P \\in R^{n \\times k}$；\n",
    "- 对于第i个n维样本$x^{(i)}$，计算$z^{(i)} = x^{(i)} * P$，$z^{(i)}$就是降维后的第i个样本。\n",
    "\n",
    "$$\n",
    "X \\in R^{m \\times n} \\times P \\in R^{n \\times k} = Z \\in R^{m \\times k}\n",
    "$$\n"
   ]
  },
  {
   "cell_type": "code",
   "execution_count": 150,
   "outputs": [],
   "source": [
    "# X.to_csv('C:\\\\Users\\\\myxc\\\\Desktop\\\\demo.csv')"
   ],
   "metadata": {
    "collapsed": false,
    "pycharm": {
     "name": "#%%\n"
    }
   }
  },
  {
   "cell_type": "code",
   "execution_count": 151,
   "metadata": {
    "pycharm": {
     "name": "#%%\n"
    }
   },
   "outputs": [
    {
     "data": {
      "text/plain": "              0          1\nD-N1   0.120929  -0.535794\nD-N2   3.642645  -6.118355\nD-N3   4.150736 -10.567288\nD-N4   1.376956  -0.135060\nD-N5   0.338196   0.148125\n...         ...        ...\nW-H8  -2.550954  -0.620652\nW-H9  -1.016957   0.036882\nW-H10 -2.243792  -0.486490\nW-H11 -2.326812  -0.578777\nW-H12 -1.886797  -0.303713\n\n[90 rows x 2 columns]",
      "text/html": "<div>\n<style scoped>\n    .dataframe tbody tr th:only-of-type {\n        vertical-align: middle;\n    }\n\n    .dataframe tbody tr th {\n        vertical-align: top;\n    }\n\n    .dataframe thead th {\n        text-align: right;\n    }\n</style>\n<table border=\"1\" class=\"dataframe\">\n  <thead>\n    <tr style=\"text-align: right;\">\n      <th></th>\n      <th>0</th>\n      <th>1</th>\n    </tr>\n  </thead>\n  <tbody>\n    <tr>\n      <th>D-N1</th>\n      <td>0.120929</td>\n      <td>-0.535794</td>\n    </tr>\n    <tr>\n      <th>D-N2</th>\n      <td>3.642645</td>\n      <td>-6.118355</td>\n    </tr>\n    <tr>\n      <th>D-N3</th>\n      <td>4.150736</td>\n      <td>-10.567288</td>\n    </tr>\n    <tr>\n      <th>D-N4</th>\n      <td>1.376956</td>\n      <td>-0.135060</td>\n    </tr>\n    <tr>\n      <th>D-N5</th>\n      <td>0.338196</td>\n      <td>0.148125</td>\n    </tr>\n    <tr>\n      <th>...</th>\n      <td>...</td>\n      <td>...</td>\n    </tr>\n    <tr>\n      <th>W-H8</th>\n      <td>-2.550954</td>\n      <td>-0.620652</td>\n    </tr>\n    <tr>\n      <th>W-H9</th>\n      <td>-1.016957</td>\n      <td>0.036882</td>\n    </tr>\n    <tr>\n      <th>W-H10</th>\n      <td>-2.243792</td>\n      <td>-0.486490</td>\n    </tr>\n    <tr>\n      <th>W-H11</th>\n      <td>-2.326812</td>\n      <td>-0.578777</td>\n    </tr>\n    <tr>\n      <th>W-H12</th>\n      <td>-1.886797</td>\n      <td>-0.303713</td>\n    </tr>\n  </tbody>\n</table>\n<p>90 rows × 2 columns</p>\n</div>"
     },
     "execution_count": 151,
     "metadata": {},
     "output_type": "execute_result"
    }
   ],
   "source": [
    "# SIGMA  # 各列之间的相关性（可以查看上面使用X.corr()命令获取矩阵X中各列之间的相关性所绘制的热图中的数据其实就是计算了矩阵X的协方差）\n",
    "# 计算协方差矩阵（代表原矩阵中各列之间的相关性），@用来计算矩阵之间的乘法，.shape[0]获取矩阵中有多少行\n",
    "SIGMA = (X.T @ X) / X.shape[0]\n",
    "# 奇异值分解\n",
    "U, S, V = np.linalg.svd(SIGMA)  # S 是个对角矩阵，是特征值，U是特征值对应的标准正交特征向量\n",
    "# U\n",
    "P = U[:, :2]  # 这里取U的前两列就是前两个投影的方向\n",
    "# P\n",
    "Z = X @ P  # Z就是经过降维后的矩阵\n",
    "Z"
   ]
  },
  {
   "cell_type": "code",
   "execution_count": 152,
   "metadata": {
    "pycharm": {
     "name": "#%%\n"
    }
   },
   "outputs": [
    {
     "data": {
      "text/plain": "                   S-TN      S-TP  S-Size-d(0.1)  S-Size-d(0.5)  \\\nS-TN           1.000000  0.458499      -0.110264      -0.164171   \nS-TP           0.458499  1.000000      -0.056207      -0.032779   \nS-Size-d(0.1) -0.110264 -0.056207       1.000000       0.684153   \nS-Size-d(0.5) -0.164171 -0.032779       0.684153       1.000000   \nS-Size-d(0.9) -0.172994 -0.000428       0.547891       0.890505   \nⅠ-Ф           -0.240642 -0.420002       0.093714       0.212443   \nⅡ-Ф           -0.032963 -0.231533      -0.027701       0.040253   \nⅢ-Ф           -0.029697 -0.197463      -0.042172      -0.065966   \nⅣ-Ф           -0.105907 -0.208968       0.147872       0.215413   \nⅤ-Ф            0.012774 -0.127907      -0.023627      -0.053673   \n\n               S-Size-d(0.9)       Ⅰ-Ф       Ⅱ-Ф       Ⅲ-Ф       Ⅳ-Ф       Ⅴ-Ф  \nS-TN               -0.172994 -0.240642 -0.032963 -0.029697 -0.105907  0.012774  \nS-TP               -0.000428 -0.420002 -0.231533 -0.197463 -0.208968 -0.127907  \nS-Size-d(0.1)       0.547891  0.093714 -0.027701 -0.042172  0.147872 -0.023627  \nS-Size-d(0.5)       0.890505  0.212443  0.040253 -0.065966  0.215413 -0.053673  \nS-Size-d(0.9)       1.000000  0.153628  0.009264  0.007063  0.180121  0.025197  \nⅠ-Ф                 0.153628  1.000000  0.751651  0.259756  0.802143  0.121607  \nⅡ-Ф                 0.009264  0.751651  1.000000  0.576475  0.791100  0.467455  \nⅢ-Ф                 0.007063  0.259756  0.576475  1.000000  0.338386  0.941502  \nⅣ-Ф                 0.180121  0.802143  0.791100  0.338386  1.000000  0.345010  \nⅤ-Ф                 0.025197  0.121607  0.467455  0.941502  0.345010  1.000000  ",
      "text/html": "<div>\n<style scoped>\n    .dataframe tbody tr th:only-of-type {\n        vertical-align: middle;\n    }\n\n    .dataframe tbody tr th {\n        vertical-align: top;\n    }\n\n    .dataframe thead th {\n        text-align: right;\n    }\n</style>\n<table border=\"1\" class=\"dataframe\">\n  <thead>\n    <tr style=\"text-align: right;\">\n      <th></th>\n      <th>S-TN</th>\n      <th>S-TP</th>\n      <th>S-Size-d(0.1)</th>\n      <th>S-Size-d(0.5)</th>\n      <th>S-Size-d(0.9)</th>\n      <th>Ⅰ-Ф</th>\n      <th>Ⅱ-Ф</th>\n      <th>Ⅲ-Ф</th>\n      <th>Ⅳ-Ф</th>\n      <th>Ⅴ-Ф</th>\n    </tr>\n  </thead>\n  <tbody>\n    <tr>\n      <th>S-TN</th>\n      <td>1.000000</td>\n      <td>0.458499</td>\n      <td>-0.110264</td>\n      <td>-0.164171</td>\n      <td>-0.172994</td>\n      <td>-0.240642</td>\n      <td>-0.032963</td>\n      <td>-0.029697</td>\n      <td>-0.105907</td>\n      <td>0.012774</td>\n    </tr>\n    <tr>\n      <th>S-TP</th>\n      <td>0.458499</td>\n      <td>1.000000</td>\n      <td>-0.056207</td>\n      <td>-0.032779</td>\n      <td>-0.000428</td>\n      <td>-0.420002</td>\n      <td>-0.231533</td>\n      <td>-0.197463</td>\n      <td>-0.208968</td>\n      <td>-0.127907</td>\n    </tr>\n    <tr>\n      <th>S-Size-d(0.1)</th>\n      <td>-0.110264</td>\n      <td>-0.056207</td>\n      <td>1.000000</td>\n      <td>0.684153</td>\n      <td>0.547891</td>\n      <td>0.093714</td>\n      <td>-0.027701</td>\n      <td>-0.042172</td>\n      <td>0.147872</td>\n      <td>-0.023627</td>\n    </tr>\n    <tr>\n      <th>S-Size-d(0.5)</th>\n      <td>-0.164171</td>\n      <td>-0.032779</td>\n      <td>0.684153</td>\n      <td>1.000000</td>\n      <td>0.890505</td>\n      <td>0.212443</td>\n      <td>0.040253</td>\n      <td>-0.065966</td>\n      <td>0.215413</td>\n      <td>-0.053673</td>\n    </tr>\n    <tr>\n      <th>S-Size-d(0.9)</th>\n      <td>-0.172994</td>\n      <td>-0.000428</td>\n      <td>0.547891</td>\n      <td>0.890505</td>\n      <td>1.000000</td>\n      <td>0.153628</td>\n      <td>0.009264</td>\n      <td>0.007063</td>\n      <td>0.180121</td>\n      <td>0.025197</td>\n    </tr>\n    <tr>\n      <th>Ⅰ-Ф</th>\n      <td>-0.240642</td>\n      <td>-0.420002</td>\n      <td>0.093714</td>\n      <td>0.212443</td>\n      <td>0.153628</td>\n      <td>1.000000</td>\n      <td>0.751651</td>\n      <td>0.259756</td>\n      <td>0.802143</td>\n      <td>0.121607</td>\n    </tr>\n    <tr>\n      <th>Ⅱ-Ф</th>\n      <td>-0.032963</td>\n      <td>-0.231533</td>\n      <td>-0.027701</td>\n      <td>0.040253</td>\n      <td>0.009264</td>\n      <td>0.751651</td>\n      <td>1.000000</td>\n      <td>0.576475</td>\n      <td>0.791100</td>\n      <td>0.467455</td>\n    </tr>\n    <tr>\n      <th>Ⅲ-Ф</th>\n      <td>-0.029697</td>\n      <td>-0.197463</td>\n      <td>-0.042172</td>\n      <td>-0.065966</td>\n      <td>0.007063</td>\n      <td>0.259756</td>\n      <td>0.576475</td>\n      <td>1.000000</td>\n      <td>0.338386</td>\n      <td>0.941502</td>\n    </tr>\n    <tr>\n      <th>Ⅳ-Ф</th>\n      <td>-0.105907</td>\n      <td>-0.208968</td>\n      <td>0.147872</td>\n      <td>0.215413</td>\n      <td>0.180121</td>\n      <td>0.802143</td>\n      <td>0.791100</td>\n      <td>0.338386</td>\n      <td>1.000000</td>\n      <td>0.345010</td>\n    </tr>\n    <tr>\n      <th>Ⅴ-Ф</th>\n      <td>0.012774</td>\n      <td>-0.127907</td>\n      <td>-0.023627</td>\n      <td>-0.053673</td>\n      <td>0.025197</td>\n      <td>0.121607</td>\n      <td>0.467455</td>\n      <td>0.941502</td>\n      <td>0.345010</td>\n      <td>1.000000</td>\n    </tr>\n  </tbody>\n</table>\n</div>"
     },
     "execution_count": 152,
     "metadata": {},
     "output_type": "execute_result"
    }
   ],
   "source": [
    "X = (df - df.mean()) / df.std(ddof=0)  # 获取经过Normalization的矩阵X\n",
    "SIGMA = (X.T @ X) / X.shape[0]\n",
    "\n",
    "# X.corr()\n",
    "SIGMA  # SIGMA其实就是X.corr()\n"
   ]
  },
  {
   "cell_type": "code",
   "execution_count": 153,
   "metadata": {
    "pycharm": {
     "name": "#%%\n"
    }
   },
   "outputs": [
    {
     "name": "stdout",
     "output_type": "stream",
     "text": [
      "[[ 0.14833435  0.14427649 -0.45949484  0.51927169  0.53948106 -0.42358146\n",
      "  -0.04759135 -0.0576114  -0.01595221  0.01015241]\n",
      " [ 0.2382428  -0.01483688 -0.47168222  0.43234807 -0.54827731  0.42744997\n",
      "   0.14058386 -0.17010472  0.02384758 -0.03196315]\n",
      " [-0.13444466 -0.47139694 -0.16777732 -0.06058277  0.55580714  0.60985115\n",
      "   0.08821144 -0.04114237 -0.18971704 -0.03979393]\n",
      " [-0.18534213 -0.5571721  -0.15994564  0.00803701 -0.07424702 -0.21938911\n",
      "   0.10189923  0.11622081  0.73990645  0.06755628]\n",
      " [-0.17660618 -0.51632331 -0.21477722 -0.06001695 -0.29357471 -0.42099845\n",
      "  -0.07091217 -0.00770249 -0.61799889 -0.04530895]\n",
      " [-0.43544843 -0.00606963  0.32955395  0.30464542  0.00476289 -0.07252683\n",
      "   0.24338207 -0.6944297   0.03140174 -0.24738   ]\n",
      " [-0.45764736  0.18725599  0.01695862  0.27820247 -0.03853084  0.03716618\n",
      "   0.48252377  0.6336309  -0.11681348 -0.16425966]\n",
      " [-0.35842421  0.27645539 -0.3782661  -0.32997811 -0.00706127 -0.01743332\n",
      "   0.27566814 -0.23328296 -0.02557377  0.64164792]\n",
      " [-0.45419069  0.02136112  0.08889142  0.3689822  -0.07498635  0.18016929\n",
      "  -0.70262719  0.10793787  0.01355885  0.32496407]\n",
      " [-0.32219084  0.26025572 -0.45457558 -0.34764393 -0.02348938  0.03419384\n",
      "  -0.30501817 -0.05190156  0.13539112 -0.62063128]]\n"
     ]
    }
   ],
   "source": [
    "# V\n",
    "# ew, ev = np.linalg.eig(X.T.dot(X))\n",
    "ew, ev = np.linalg.eig(np.cov(X.T))  # ew: 特征值，ev: 特征向量\n",
    "ew_order = np.argsort(ew)[::-1]  # 将ew按照从大到小的顺序排列\n",
    "# 特征根，主要是看主成分对于变量解释的贡献率（可以理解为究竟需要多少主成分才能把变量表达为100%），一般都要表达到90%以上才可以，否则就要调整因子数据。\n",
    "ew_sort = ew[ew_order]\n",
    "ev_sort = ev[:, ew_order]\n",
    "print(ev_sort)"
   ]
  },
  {
   "attachments": {},
   "cell_type": "markdown",
   "metadata": {
    "pycharm": {
     "name": "#%% md\n"
    }
   },
   "source": [
    "### 方差解释表格\n",
    "**图表说明:**\n",
    "上表为总方差解释表格，主要是看主成分对于变量解释的贡献率（可以理解为究竟需要多少主成分才能把变量表达为100%），一般都要表达到90%以上才可以，否则就要调整因子数据。一般情况下,方差解释率越高，说明该主成分越重要，权重占比也应该越高。\n",
    "\n",
    "方差解释表中，在主成分4时，总方差解释的特征根低于1，变量解释的贡献率达到74.899%，以上仅为参考。\n",
    "若特征根小于1临界值过大，也可以集合具体情况具体分析。"
   ]
  },
  {
   "cell_type": "code",
   "execution_count": 154,
   "metadata": {
    "pycharm": {
     "name": "#%%\n"
    }
   },
   "outputs": [
    {
     "data": {
      "text/plain": "        特征值       百分比   累计百分比\n0  3.462325  0.342385   34.2%\n1  2.511925  0.248401   59.1%\n2  1.491449  0.147488   73.8%\n3  1.201642  0.118829   85.7%\n4  0.558144  0.055194   91.2%\n5  0.448563  0.044358   95.7%\n6  0.201121  0.019889   97.7%\n7  0.136196  0.013468   99.0%\n8  0.083269  0.008234   99.8%\n9  0.017726  0.001753  100.0%",
      "text/html": "<div>\n<style scoped>\n    .dataframe tbody tr th:only-of-type {\n        vertical-align: middle;\n    }\n\n    .dataframe tbody tr th {\n        vertical-align: top;\n    }\n\n    .dataframe thead th {\n        text-align: right;\n    }\n</style>\n<table border=\"1\" class=\"dataframe\">\n  <thead>\n    <tr style=\"text-align: right;\">\n      <th></th>\n      <th>特征值</th>\n      <th>百分比</th>\n      <th>累计百分比</th>\n    </tr>\n  </thead>\n  <tbody>\n    <tr>\n      <th>0</th>\n      <td>3.462325</td>\n      <td>0.342385</td>\n      <td>34.2%</td>\n    </tr>\n    <tr>\n      <th>1</th>\n      <td>2.511925</td>\n      <td>0.248401</td>\n      <td>59.1%</td>\n    </tr>\n    <tr>\n      <th>2</th>\n      <td>1.491449</td>\n      <td>0.147488</td>\n      <td>73.8%</td>\n    </tr>\n    <tr>\n      <th>3</th>\n      <td>1.201642</td>\n      <td>0.118829</td>\n      <td>85.7%</td>\n    </tr>\n    <tr>\n      <th>4</th>\n      <td>0.558144</td>\n      <td>0.055194</td>\n      <td>91.2%</td>\n    </tr>\n    <tr>\n      <th>5</th>\n      <td>0.448563</td>\n      <td>0.044358</td>\n      <td>95.7%</td>\n    </tr>\n    <tr>\n      <th>6</th>\n      <td>0.201121</td>\n      <td>0.019889</td>\n      <td>97.7%</td>\n    </tr>\n    <tr>\n      <th>7</th>\n      <td>0.136196</td>\n      <td>0.013468</td>\n      <td>99.0%</td>\n    </tr>\n    <tr>\n      <th>8</th>\n      <td>0.083269</td>\n      <td>0.008234</td>\n      <td>99.8%</td>\n    </tr>\n    <tr>\n      <th>9</th>\n      <td>0.017726</td>\n      <td>0.001753</td>\n      <td>100.0%</td>\n    </tr>\n  </tbody>\n</table>\n</div>"
     },
     "execution_count": 154,
     "metadata": {},
     "output_type": "execute_result"
    }
   ],
   "source": [
    "# 输出一个方差解释表格\n",
    "var_inter_0 = pd.DataFrame({'特征值': ew_sort})  # 添加特征值列\n",
    "var_inter_0['百分比'] = (var_inter_0 / var_inter_0.sum())  # 添加百分比列\n",
    "var_inter_0['累计百分比'] = var_inter_0['百分比'].cumsum()  # 计算累计百分比\n",
    "var_inter = var_inter_0.copy()\n",
    "var_inter['累计百分比'] = var_inter['累计百分比'].apply(lambda x: format(x, '.1%'))  # 保留一位小数\n",
    "# var_inter_0['1'] = 1  # 前两列特征值大于1，且51%以上可以用来解释原来7个变量，因此取前两列\n",
    "var_inter"
   ]
  },
  {
   "cell_type": "code",
   "execution_count": 155,
   "outputs": [],
   "source": [
    "var_inter.to_clipboard()"
   ],
   "metadata": {
    "collapsed": false,
    "pycharm": {
     "name": "#%%\n"
    }
   }
  },
  {
   "cell_type": "code",
   "execution_count": 156,
   "metadata": {
    "pycharm": {
     "name": "#%%\n"
    }
   },
   "outputs": [
    {
     "data": {
      "text/plain": "(array([0, 1, 2, 3, 4, 5, 6, 7, 8, 9]),\n [Text(0, 0, '0'),\n  Text(1, 0, '1'),\n  Text(2, 0, '2'),\n  Text(3, 0, '3'),\n  Text(4, 0, '4'),\n  Text(5, 0, '5'),\n  Text(6, 0, '6'),\n  Text(7, 0, '7'),\n  Text(8, 0, '8'),\n  Text(9, 0, '9')])"
     },
     "execution_count": 156,
     "metadata": {},
     "output_type": "execute_result"
    },
    {
     "data": {
      "text/plain": "<Figure size 432x288 with 1 Axes>",
      "image/png": "[encoded data removed]"
     },
     "metadata": {
      "needs_background": "light"
     },
     "output_type": "display_data"
    }
   ],
   "source": [
    "pd.DataFrame(ew_sort).plot(kind='bar').legend(\n",
    "    ('特征值',))  # 添加图例必须多一个逗号，否则只显示第一个字符\n",
    "plt.xticks(rotation=0)\n",
    "# print(ev_sort)"
   ]
  },
  {
   "cell_type": "code",
   "execution_count": 157,
   "metadata": {
    "pycharm": {
     "name": "#%%\n"
    }
   },
   "outputs": [
    {
     "data": {
      "text/plain": "array([[ 0.14833435,  0.14427649],\n       [ 0.2382428 , -0.01483688],\n       [-0.13444466, -0.47139694],\n       [-0.18534213, -0.5571721 ],\n       [-0.17660618, -0.51632331],\n       [-0.43544843, -0.00606963],\n       [-0.45764736,  0.18725599],\n       [-0.35842421,  0.27645539],\n       [-0.45419069,  0.02136112],\n       [-0.32219084,  0.26025572]])"
     },
     "execution_count": 157,
     "metadata": {},
     "output_type": "execute_result"
    }
   ],
   "source": [
    "# ev_sort[:, :2]  # 前两列就很大程度上可以用来解释原来7个变量，因此取前两列# V\n",
    "V = ev_sort[:, :2]  # 前两列就很大程度上可以用来解释原来7个变量，因此取前两列\n",
    "V"
   ]
  },
  {
   "attachments": {},
   "cell_type": "markdown",
   "metadata": {
    "pycharm": {
     "name": "#%% md\n"
    }
   },
   "source": [
    "### 因子数据表"
   ]
  },
  {
   "cell_type": "code",
   "execution_count": 158,
   "metadata": {
    "pycharm": {
     "name": "#%%\n"
    }
   },
   "outputs": [
    {
     "data": {
      "text/plain": "                  PCA 0     PCA 1       公共度\nvar                                        \nS-TN           0.148334  0.144276  0.042819\nS-TP           0.238243 -0.014837  0.056980\nS-Size-d(0.1) -0.134445 -0.471397  0.240290\nS-Size-d(0.5) -0.185342 -0.557172  0.344792\nS-Size-d(0.9) -0.176606 -0.516323  0.297780\nⅠ-Ф           -0.435448 -0.006070  0.189652\nⅡ-Ф           -0.457647  0.187256  0.244506\nⅢ-Ф           -0.358424  0.276455  0.204895\nⅣ-Ф           -0.454191  0.021361  0.206745\nⅤ-Ф           -0.322191  0.260256  0.171540",
      "text/html": "<div>\n<style scoped>\n    .dataframe tbody tr th:only-of-type {\n        vertical-align: middle;\n    }\n\n    .dataframe tbody tr th {\n        vertical-align: top;\n    }\n\n    .dataframe thead th {\n        text-align: right;\n    }\n</style>\n<table border=\"1\" class=\"dataframe\">\n  <thead>\n    <tr style=\"text-align: right;\">\n      <th></th>\n      <th>PCA 0</th>\n      <th>PCA 1</th>\n      <th>公共度</th>\n    </tr>\n    <tr>\n      <th>var</th>\n      <th></th>\n      <th></th>\n      <th></th>\n    </tr>\n  </thead>\n  <tbody>\n    <tr>\n      <th>S-TN</th>\n      <td>0.148334</td>\n      <td>0.144276</td>\n      <td>0.042819</td>\n    </tr>\n    <tr>\n      <th>S-TP</th>\n      <td>0.238243</td>\n      <td>-0.014837</td>\n      <td>0.056980</td>\n    </tr>\n    <tr>\n      <th>S-Size-d(0.1)</th>\n      <td>-0.134445</td>\n      <td>-0.471397</td>\n      <td>0.240290</td>\n    </tr>\n    <tr>\n      <th>S-Size-d(0.5)</th>\n      <td>-0.185342</td>\n      <td>-0.557172</td>\n      <td>0.344792</td>\n    </tr>\n    <tr>\n      <th>S-Size-d(0.9)</th>\n      <td>-0.176606</td>\n      <td>-0.516323</td>\n      <td>0.297780</td>\n    </tr>\n    <tr>\n      <th>Ⅰ-Ф</th>\n      <td>-0.435448</td>\n      <td>-0.006070</td>\n      <td>0.189652</td>\n    </tr>\n    <tr>\n      <th>Ⅱ-Ф</th>\n      <td>-0.457647</td>\n      <td>0.187256</td>\n      <td>0.244506</td>\n    </tr>\n    <tr>\n      <th>Ⅲ-Ф</th>\n      <td>-0.358424</td>\n      <td>0.276455</td>\n      <td>0.204895</td>\n    </tr>\n    <tr>\n      <th>Ⅳ-Ф</th>\n      <td>-0.454191</td>\n      <td>0.021361</td>\n      <td>0.206745</td>\n    </tr>\n    <tr>\n      <th>Ⅴ-Ф</th>\n      <td>-0.322191</td>\n      <td>0.260256</td>\n      <td>0.171540</td>\n    </tr>\n  </tbody>\n</table>\n</div>"
     },
     "execution_count": 158,
     "metadata": {},
     "output_type": "execute_result"
    }
   ],
   "source": [
    "# 构建一个因子数据表\n",
    "factor_load_table = pd.DataFrame(V)  # 因子载荷数据表，可以分析到每个主成分中隐变量的重要性。\n",
    "factor_load_table.index = df.columns\n",
    "factor_load_table.columns = ['PCA 0', 'PCA 1']\n",
    "factor_load_table.index.name = 'var'\n",
    "factor_load_table['公共度'] = factor_load_table['PCA 0'] ** 2 + factor_load_table[\n",
    "    'PCA 1'] ** 2  # 公因子方差：每个变量对应的PCA0与PCA1的平方和\n",
    "factor_load_table"
   ]
  },
  {
   "cell_type": "code",
   "execution_count": 159,
   "outputs": [
    {
     "data": {
      "text/plain": "PCA 0    1.0\nPCA 1    1.0\ndtype: float64"
     },
     "execution_count": 159,
     "metadata": {},
     "output_type": "execute_result"
    }
   ],
   "source": [
    "# 因子数据表的每一列的平方和相加等于1\n",
    "factor_load_table.iloc[:,:2].applymap(lambda x: x**2).sum()"
   ],
   "metadata": {
    "collapsed": false,
    "pycharm": {
     "name": "#%%\n"
    }
   }
  },
  {
   "cell_type": "code",
   "execution_count": 160,
   "metadata": {
    "pycharm": {
     "name": "#%%\n"
    }
   },
   "outputs": [],
   "source": [
    "# U的每一列都是一个特征向量，因此它的模长都为1，且特征向量之间都是正交的，乘积都为0\n",
    "# (factor_load_table['PCA 0'] * factor_load_table['PCA 1']).sum()  # 两个特征向量的乘积应为0\n",
    "# (factor_load_table['PCA 0']**2).sum()  # 每一个特征向量的模长都为1\n",
    "# (factor_load_table['PCA 1']**2).sum()"
   ]
  },
  {
   "cell_type": "code",
   "execution_count": 161,
   "metadata": {
    "pycharm": {
     "name": "#%%\n"
    }
   },
   "outputs": [
    {
     "data": {
      "text/plain": "<AxesSubplot:ylabel='var'>"
     },
     "execution_count": 161,
     "metadata": {},
     "output_type": "execute_result"
    },
    {
     "data": {
      "text/plain": "<Figure size 960x600 with 2 Axes>",
      "image/png": "[encoded data removed]"
     },
     "metadata": {
      "needs_background": "light"
     },
     "output_type": "display_data"
    }
   ],
   "source": [
    "plt.figure(figsize=(8, 5), dpi=120)\n",
    "sns.heatmap(factor_load_table)"
   ]
  },
  {
   "attachments": {},
   "cell_type": "markdown",
   "metadata": {
    "pycharm": {
     "name": "#%% md\n"
    }
   },
   "source": [
    "### 绘图可视化"
   ]
  },
  {
   "cell_type": "code",
   "execution_count": 162,
   "metadata": {
    "pycharm": {
     "name": "#%%\n"
    }
   },
   "outputs": [
    {
     "data": {
      "text/plain": "              0          1\nD-N1  -0.120929  -0.535794\nD-N2  -3.642645  -6.118355\nD-N3  -4.150736 -10.567288\nD-N4  -1.376956  -0.135060\nD-N5  -0.338196   0.148125\n...         ...        ...\nW-H8   2.550954  -0.620652\nW-H9   1.016957   0.036882\nW-H10  2.243792  -0.486490\nW-H11  2.326812  -0.578777\nW-H12  1.886797  -0.303713\n\n[90 rows x 2 columns]",
      "text/html": "<div>\n<style scoped>\n    .dataframe tbody tr th:only-of-type {\n        vertical-align: middle;\n    }\n\n    .dataframe tbody tr th {\n        vertical-align: top;\n    }\n\n    .dataframe thead th {\n        text-align: right;\n    }\n</style>\n<table border=\"1\" class=\"dataframe\">\n  <thead>\n    <tr style=\"text-align: right;\">\n      <th></th>\n      <th>0</th>\n      <th>1</th>\n    </tr>\n  </thead>\n  <tbody>\n    <tr>\n      <th>D-N1</th>\n      <td>-0.120929</td>\n      <td>-0.535794</td>\n    </tr>\n    <tr>\n      <th>D-N2</th>\n      <td>-3.642645</td>\n      <td>-6.118355</td>\n    </tr>\n    <tr>\n      <th>D-N3</th>\n      <td>-4.150736</td>\n      <td>-10.567288</td>\n    </tr>\n    <tr>\n      <th>D-N4</th>\n      <td>-1.376956</td>\n      <td>-0.135060</td>\n    </tr>\n    <tr>\n      <th>D-N5</th>\n      <td>-0.338196</td>\n      <td>0.148125</td>\n    </tr>\n    <tr>\n      <th>...</th>\n      <td>...</td>\n      <td>...</td>\n    </tr>\n    <tr>\n      <th>W-H8</th>\n      <td>2.550954</td>\n      <td>-0.620652</td>\n    </tr>\n    <tr>\n      <th>W-H9</th>\n      <td>1.016957</td>\n      <td>0.036882</td>\n    </tr>\n    <tr>\n      <th>W-H10</th>\n      <td>2.243792</td>\n      <td>-0.486490</td>\n    </tr>\n    <tr>\n      <th>W-H11</th>\n      <td>2.326812</td>\n      <td>-0.578777</td>\n    </tr>\n    <tr>\n      <th>W-H12</th>\n      <td>1.886797</td>\n      <td>-0.303713</td>\n    </tr>\n  </tbody>\n</table>\n<p>90 rows × 2 columns</p>\n</div>"
     },
     "execution_count": 162,
     "metadata": {},
     "output_type": "execute_result"
    }
   ],
   "source": [
    "# X_new\n",
    "X_new = X.dot(V)\n",
    "# 将生存数据添加到DATaFrame中，用于绘制散点图的时候可以区分死亡与生存的区别\n",
    "# X_new['Survived'] = train_data_0['Survived']\n",
    "X_new"
   ]
  },
  {
   "cell_type": "code",
   "execution_count": 163,
   "metadata": {
    "pycharm": {
     "name": "#%%\n"
    }
   },
   "outputs": [
    {
     "data": {
      "text/plain": "<AxesSubplot:xlabel='PCA 0', ylabel='PCA 1'>"
     },
     "execution_count": 163,
     "metadata": {},
     "output_type": "execute_result"
    },
    {
     "data": {
      "text/plain": "<Figure size 960x600 with 1 Axes>",
      "image/png": "[encoded data removed]"
     },
     "metadata": {
      "needs_background": "light"
     },
     "output_type": "display_data"
    }
   ],
   "source": [
    "plt.figure(figsize=(8, 5), dpi=120)  # 设置绘图尺寸\n",
    "sns.scatterplot(x=factor_load_table['PCA 0'],\n",
    "                y=factor_load_table['PCA 1'], hue=factor_load_table.index)"
   ]
  },
  {
   "attachments": {},
   "cell_type": "markdown",
   "metadata": {
    "pycharm": {
     "name": "#%% md\n"
    }
   },
   "source": [
    "### 成分矩阵表"
   ]
  },
  {
   "cell_type": "code",
   "execution_count": 164,
   "metadata": {
    "pycharm": {
     "name": "#%%\n"
    }
   },
   "outputs": [
    {
     "data": {
      "text/plain": "               PCA 0  PCA 1\nvar                        \nS-TN           0.043  0.057\nS-TP           0.069 -0.006\nS-Size-d(0.1) -0.039 -0.188\nS-Size-d(0.5) -0.054 -0.222\nS-Size-d(0.9) -0.051 -0.206\nⅠ-Ф           -0.126 -0.002\nⅡ-Ф           -0.132  0.075\nⅢ-Ф           -0.104  0.110\nⅣ-Ф           -0.131  0.009\nⅤ-Ф           -0.093  0.104",
      "text/html": "<div>\n<style scoped>\n    .dataframe tbody tr th:only-of-type {\n        vertical-align: middle;\n    }\n\n    .dataframe tbody tr th {\n        vertical-align: top;\n    }\n\n    .dataframe thead th {\n        text-align: right;\n    }\n</style>\n<table border=\"1\" class=\"dataframe\">\n  <thead>\n    <tr style=\"text-align: right;\">\n      <th></th>\n      <th>PCA 0</th>\n      <th>PCA 1</th>\n    </tr>\n    <tr>\n      <th>var</th>\n      <th></th>\n      <th></th>\n    </tr>\n  </thead>\n  <tbody>\n    <tr>\n      <th>S-TN</th>\n      <td>0.043</td>\n      <td>0.057</td>\n    </tr>\n    <tr>\n      <th>S-TP</th>\n      <td>0.069</td>\n      <td>-0.006</td>\n    </tr>\n    <tr>\n      <th>S-Size-d(0.1)</th>\n      <td>-0.039</td>\n      <td>-0.188</td>\n    </tr>\n    <tr>\n      <th>S-Size-d(0.5)</th>\n      <td>-0.054</td>\n      <td>-0.222</td>\n    </tr>\n    <tr>\n      <th>S-Size-d(0.9)</th>\n      <td>-0.051</td>\n      <td>-0.206</td>\n    </tr>\n    <tr>\n      <th>Ⅰ-Ф</th>\n      <td>-0.126</td>\n      <td>-0.002</td>\n    </tr>\n    <tr>\n      <th>Ⅱ-Ф</th>\n      <td>-0.132</td>\n      <td>0.075</td>\n    </tr>\n    <tr>\n      <th>Ⅲ-Ф</th>\n      <td>-0.104</td>\n      <td>0.110</td>\n    </tr>\n    <tr>\n      <th>Ⅳ-Ф</th>\n      <td>-0.131</td>\n      <td>0.009</td>\n    </tr>\n    <tr>\n      <th>Ⅴ-Ф</th>\n      <td>-0.093</td>\n      <td>0.104</td>\n    </tr>\n  </tbody>\n</table>\n</div>"
     },
     "execution_count": 164,
     "metadata": {},
     "output_type": "execute_result"
    }
   ],
   "source": [
    "# 成分矩阵表\n",
    "composition_matrix = factor_load_table.loc[:, [\n",
    "    'PCA 0', 'PCA 1']]  # 成分矩阵表 = 因子载荷数据表/对应每一个特征值\n",
    "composition_matrix['PCA 0'] = composition_matrix['PCA 0'] / \\\n",
    "    ew_sort[0]  # 这里有个问题，有的软件里除的是根号下特征值，有的没有\n",
    "composition_matrix['PCA 1'] = composition_matrix['PCA 1'] / ew_sort[1]\n",
    "composition_matrix.round(3)"
   ]
  },
  {
   "cell_type": "code",
   "execution_count": 165,
   "outputs": [],
   "source": [
    "# composition_matrix.applymap(lambda x: x**2).sum()"
   ],
   "metadata": {
    "collapsed": false,
    "pycharm": {
     "name": "#%%\n"
    }
   }
  },
  {
   "attachments": {},
   "cell_type": "markdown",
   "metadata": {
    "pycharm": {
     "name": "#%% md\n"
    }
   },
   "source": [
    "图表说明：\n",
    "上表为成分矩阵表，意在说明各个成分的所包含的因子得分系数（主成分载荷），用于计算出成分得分，得出因子公式，其计算公式为：线性组合系数*（方差解释率/累积方差解释率），最后将其归一化即为因子权重分。\n",
    "线性组合系数，公式为：因子载荷系数除以对应特征根，即成分矩阵的系数。\n",
    "智能分析：\n",
    "模型的公式：\n",
    "F1=-0.389×Pclass-0.254×Sex+0.099×Age+0.14×SibSp+0.214×Parch+0.45×Fare-0.212×Embarked\n",
    "F2=0.262×Pclass-0.166×Sex-0.382×Age+0.411×SibSp+0.392×Parch-0.038×Fare+0.127×Embarked\n",
    "由上可以得到：\n",
    "F=(0.265/0.511)×F1+(0.245/0.511)×F2"
   ]
  },
  {
   "attachments": {},
   "cell_type": "markdown",
   "metadata": {
    "pycharm": {
     "name": "#%% md\n"
    }
   },
   "source": [
    "### 因子权重分析表"
   ]
  },
  {
   "cell_type": "code",
   "execution_count": 166,
   "metadata": {
    "pycharm": {
     "name": "#%%\n"
    }
   },
   "outputs": [
    {
     "data": {
      "text/plain": "         百分比  累计百分比     权重\n主成分                       \nPCA 0  34.2%  34.2%  58.0%\nPCA 1  24.8%  59.1%  42.0%",
      "text/html": "<div>\n<style scoped>\n    .dataframe tbody tr th:only-of-type {\n        vertical-align: middle;\n    }\n\n    .dataframe tbody tr th {\n        vertical-align: top;\n    }\n\n    .dataframe thead th {\n        text-align: right;\n    }\n</style>\n<table border=\"1\" class=\"dataframe\">\n  <thead>\n    <tr style=\"text-align: right;\">\n      <th></th>\n      <th>百分比</th>\n      <th>累计百分比</th>\n      <th>权重</th>\n    </tr>\n    <tr>\n      <th>主成分</th>\n      <th></th>\n      <th></th>\n      <th></th>\n    </tr>\n  </thead>\n  <tbody>\n    <tr>\n      <th>PCA 0</th>\n      <td>34.2%</td>\n      <td>34.2%</td>\n      <td>58.0%</td>\n    </tr>\n    <tr>\n      <th>PCA 1</th>\n      <td>24.8%</td>\n      <td>59.1%</td>\n      <td>42.0%</td>\n    </tr>\n  </tbody>\n</table>\n</div>"
     },
     "execution_count": 166,
     "metadata": {},
     "output_type": "execute_result"
    }
   ],
   "source": [
    "factor_weight_analysis = pd.DataFrame(var_inter_0.loc[:1, ['百分比', '累计百分比']])\n",
    "factor_weight_analysis['权重'] = factor_weight_analysis['百分比'] / \\\n",
    "    factor_weight_analysis['百分比'].sum()\n",
    "factor_weight_analysis.index = ['PCA 0', 'PCA 1']\n",
    "factor_weight_analysis.index.name = '主成分'\n",
    "(factor_weight_analysis * 100).round(1).astype(str) + '%'  # 以保留一位小数、百分比的形式显示"
   ]
  },
  {
   "attachments": {},
   "cell_type": "markdown",
   "metadata": {
    "pycharm": {
     "name": "#%% md\n"
    }
   },
   "source": [
    "### 综合得分表（其实就是X_new中的数据）"
   ]
  },
  {
   "cell_type": "code",
   "execution_count": 167,
   "metadata": {
    "pycharm": {
     "name": "#%%\n"
    }
   },
   "outputs": [
    {
     "data": {
      "text/plain": "          PCA 0      PCA 1      综合得分\nW-N3   2.402839  -0.041986  0.812268\nW-N10  2.632309  -0.471524  0.784137\nW-N4   2.210367   0.082868  0.777382\nW-H3   2.416737  -0.335957  0.744003\nW-H8   2.550954  -0.620652  0.719239\n...         ...        ...       ...\nD-H2  -3.399052  -0.080105 -1.183684\nL-N8  -4.742928   0.995026 -1.376744\nD-H5  -2.379477  -4.674540 -1.975861\nD-N2  -3.642645  -6.118355 -2.766997\nD-N3  -4.150736 -10.567288 -4.046081\n\n[90 rows x 3 columns]",
      "text/html": "<div>\n<style scoped>\n    .dataframe tbody tr th:only-of-type {\n        vertical-align: middle;\n    }\n\n    .dataframe tbody tr th {\n        vertical-align: top;\n    }\n\n    .dataframe thead th {\n        text-align: right;\n    }\n</style>\n<table border=\"1\" class=\"dataframe\">\n  <thead>\n    <tr style=\"text-align: right;\">\n      <th></th>\n      <th>PCA 0</th>\n      <th>PCA 1</th>\n      <th>综合得分</th>\n    </tr>\n  </thead>\n  <tbody>\n    <tr>\n      <th>W-N3</th>\n      <td>2.402839</td>\n      <td>-0.041986</td>\n      <td>0.812268</td>\n    </tr>\n    <tr>\n      <th>W-N10</th>\n      <td>2.632309</td>\n      <td>-0.471524</td>\n      <td>0.784137</td>\n    </tr>\n    <tr>\n      <th>W-N4</th>\n      <td>2.210367</td>\n      <td>0.082868</td>\n      <td>0.777382</td>\n    </tr>\n    <tr>\n      <th>W-H3</th>\n      <td>2.416737</td>\n      <td>-0.335957</td>\n      <td>0.744003</td>\n    </tr>\n    <tr>\n      <th>W-H8</th>\n      <td>2.550954</td>\n      <td>-0.620652</td>\n      <td>0.719239</td>\n    </tr>\n    <tr>\n      <th>...</th>\n      <td>...</td>\n      <td>...</td>\n      <td>...</td>\n    </tr>\n    <tr>\n      <th>D-H2</th>\n      <td>-3.399052</td>\n      <td>-0.080105</td>\n      <td>-1.183684</td>\n    </tr>\n    <tr>\n      <th>L-N8</th>\n      <td>-4.742928</td>\n      <td>0.995026</td>\n      <td>-1.376744</td>\n    </tr>\n    <tr>\n      <th>D-H5</th>\n      <td>-2.379477</td>\n      <td>-4.674540</td>\n      <td>-1.975861</td>\n    </tr>\n    <tr>\n      <th>D-N2</th>\n      <td>-3.642645</td>\n      <td>-6.118355</td>\n      <td>-2.766997</td>\n    </tr>\n    <tr>\n      <th>D-N3</th>\n      <td>-4.150736</td>\n      <td>-10.567288</td>\n      <td>-4.046081</td>\n    </tr>\n  </tbody>\n</table>\n<p>90 rows × 3 columns</p>\n</div>"
     },
     "execution_count": 167,
     "metadata": {},
     "output_type": "execute_result"
    }
   ],
   "source": [
    "comprehensive_score = pd.DataFrame(X_new.iloc[:, [0, 1]])\n",
    "comprehensive_score.columns = ['PCA 0', 'PCA 1']\n",
    "comprehensive_score['综合得分'] = comprehensive_score.iloc[:, 0] * factor_weight_analysis.loc[\n",
    "    'PCA 0', '百分比'] + comprehensive_score.iloc[:, 1] * factor_weight_analysis.loc['PCA 1', '百分比']\n",
    "comprehensive_score.sort_values(by='综合得分', ascending=False)  # 按照综合得分列倒序排列"
   ]
  },
  {
   "cell_type": "code",
   "execution_count": 168,
   "metadata": {
    "pycharm": {
     "name": "#%%\n"
    }
   },
   "outputs": [
    {
     "data": {
      "text/plain": "var    S-TN         S-TP  S-Size-d(0.1)  S-Size-d(0.5)  S-Size-d(0.9)  \\\nW-N3   5545  1342.285714         13.475         55.644        183.295   \nW-N10  1475  1012.000000         11.234         42.248        159.245   \nW-N4   5490  1353.714286         13.610         47.021        150.020   \nW-H3   6700   974.857143         11.228         47.731        159.858   \nW-H8   5325   956.571429         13.179         54.533        177.715   \n\nvar           Ⅰ-Ф         Ⅱ-Ф           Ⅲ-Ф          Ⅳ-Ф           Ⅴ-Ф  \nW-N3   268745.121  1544057.37  1.342968e+06  109273.0500  1.208734e+06  \nW-N10  115029.855   951302.07  1.005195e+06   47805.4575  7.727821e+05  \nW-N4   433219.131  1640612.07  1.377087e+06  123711.5700  1.158552e+06  \nW-H3   492365.871  1202520.87  7.436378e+05   92495.7225  4.986894e+05  \nW-H8   451096.641   887695.47  6.038852e+05   95290.0200  4.385763e+05  ",
      "text/html": "<div>\n<style scoped>\n    .dataframe tbody tr th:only-of-type {\n        vertical-align: middle;\n    }\n\n    .dataframe tbody tr th {\n        vertical-align: top;\n    }\n\n    .dataframe thead th {\n        text-align: right;\n    }\n</style>\n<table border=\"1\" class=\"dataframe\">\n  <thead>\n    <tr style=\"text-align: right;\">\n      <th>var</th>\n      <th>S-TN</th>\n      <th>S-TP</th>\n      <th>S-Size-d(0.1)</th>\n      <th>S-Size-d(0.5)</th>\n      <th>S-Size-d(0.9)</th>\n      <th>Ⅰ-Ф</th>\n      <th>Ⅱ-Ф</th>\n      <th>Ⅲ-Ф</th>\n      <th>Ⅳ-Ф</th>\n      <th>Ⅴ-Ф</th>\n    </tr>\n  </thead>\n  <tbody>\n    <tr>\n      <th>W-N3</th>\n      <td>5545</td>\n      <td>1342.285714</td>\n      <td>13.475</td>\n      <td>55.644</td>\n      <td>183.295</td>\n      <td>268745.121</td>\n      <td>1544057.37</td>\n      <td>1.342968e+06</td>\n      <td>109273.0500</td>\n      <td>1.208734e+06</td>\n    </tr>\n    <tr>\n      <th>W-N10</th>\n      <td>1475</td>\n      <td>1012.000000</td>\n      <td>11.234</td>\n      <td>42.248</td>\n      <td>159.245</td>\n      <td>115029.855</td>\n      <td>951302.07</td>\n      <td>1.005195e+06</td>\n      <td>47805.4575</td>\n      <td>7.727821e+05</td>\n    </tr>\n    <tr>\n      <th>W-N4</th>\n      <td>5490</td>\n      <td>1353.714286</td>\n      <td>13.610</td>\n      <td>47.021</td>\n      <td>150.020</td>\n      <td>433219.131</td>\n      <td>1640612.07</td>\n      <td>1.377087e+06</td>\n      <td>123711.5700</td>\n      <td>1.158552e+06</td>\n    </tr>\n    <tr>\n      <th>W-H3</th>\n      <td>6700</td>\n      <td>974.857143</td>\n      <td>11.228</td>\n      <td>47.731</td>\n      <td>159.858</td>\n      <td>492365.871</td>\n      <td>1202520.87</td>\n      <td>7.436378e+05</td>\n      <td>92495.7225</td>\n      <td>4.986894e+05</td>\n    </tr>\n    <tr>\n      <th>W-H8</th>\n      <td>5325</td>\n      <td>956.571429</td>\n      <td>13.179</td>\n      <td>54.533</td>\n      <td>177.715</td>\n      <td>451096.641</td>\n      <td>887695.47</td>\n      <td>6.038852e+05</td>\n      <td>95290.0200</td>\n      <td>4.385763e+05</td>\n    </tr>\n  </tbody>\n</table>\n</div>"
     },
     "execution_count": 168,
     "metadata": {},
     "output_type": "execute_result"
    }
   ],
   "source": [
    "df.loc[comprehensive_score.sort_values(\n",
    "    by='综合得分', ascending=False).head(5).index]  # 获取综合得分前五的人员"
   ]
  }
 ],
 "metadata": {
  "kernelspec": {
   "display_name": "Python 3",
   "language": "python",
   "name": "python3"
  },
  "language_info": {
   "codemirror_mode": {
    "name": "ipython",
    "version": 3
   },
   "file_extension": ".py",
   "mimetype": "text/x-python",
   "name": "python",
   "nbconvert_exporter": "python",
   "pygments_lexer": "ipython3",
   "version": "3.10.4 (tags/v3.10.4:9d38120, Mar 23 2022, 23:13:41) [MSC v.1929 64 bit (AMD64)]"
  },
  "orig_nbformat": 4,
  "vscode": {
   "interpreter": {
    "hash": "94080b48160be75dd0f70ce80ac2a91b12db0680af2013e6f49edfa38b3c2a01"
   }
  }
 },
 "nbformat": 4,
 "nbformat_minor": 2
}