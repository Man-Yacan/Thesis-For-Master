{
 "cells": [
  {
   "cell_type": "code",
   "execution_count": 33,
   "metadata": {
    "pycharm": {
     "name": "#%%\n"
    }
   },
   "outputs": [],
   "source": [
    "import numpy as np\n",
    "import pandas as pd\n",
    "\n",
    "from ResearchMain import *\n",
    "from sklearn.decomposition import PCA\n",
    "from scipy.stats import zscore"
   ]
  },
  {
   "attachments": {},
   "cell_type": "markdown",
   "metadata": {
    "pycharm": {
     "name": "#%% md\n"
    }
   },
   "source": [
    "## 数据准备"
   ]
  },
  {
   "attachments": {},
   "cell_type": "markdown",
   "metadata": {
    "pycharm": {
     "name": "#%% md\n"
    }
   },
   "source": [
    "### 演示数据集\n",
    "泰坦尼克号数据结构分析：\n",
    "- Pclass:乘客所持票类，有三种值(1：lower,2：middle,3：upper)\n",
    "- Survived:0代表死亡，1代表存活\n",
    "- Name:乘客姓名\n",
    "- Sex:乘客性别(男：1，女：0)\n",
    "- Age:乘客年龄(缺失值取平均值)\n",
    "- SibSp:乘客兄弟姐妹/配偶的个数(整数值)\n",
    "- Parch:乘客父母/孩子的个数(整数值)\n",
    "- Ticket:票号(字符串)\n",
    "- Fare:乘客所持票的价格(浮点数，0-500不等)\n",
    "- Cabin:乘客所在船舱\n",
    "- Embark:乘客登船港口:S、C、Q"
   ]
  },
  {
   "cell_type": "code",
   "execution_count": 4,
   "metadata": {
    "pycharm": {
     "name": "#%%\n"
    }
   },
   "outputs": [],
   "source": [
    "# 读取演示数据集\n",
    "# demo_data_name = 'pca_demo_titanic.csv'\n",
    "# demo_data = pd.read_csv(DATA_PATH+demo_data_name, index_col='PassengerId')\n",
    "# data.head(3)\n"
   ]
  },
  {
   "cell_type": "code",
   "execution_count": 5,
   "metadata": {
    "pycharm": {
     "name": "#%%\n"
    }
   },
   "outputs": [],
   "source": [
    "# df = demo_data"
   ]
  },
  {
   "attachments": {},
   "cell_type": "markdown",
   "metadata": {
    "pycharm": {
     "name": "#%% md\n"
    }
   },
   "source": [
    "### 读取分析数据"
   ]
  },
  {
   "cell_type": "code",
   "execution_count": 6,
   "metadata": {
    "pycharm": {
     "name": "#%%\n"
    }
   },
   "outputs": [
    {
     "data": {
      "text/plain": "       W-pH   W-DO    W-TN  W-NO_{2}^{-}  W-NO_{3}^{-}  W-NH_{4}^{+}  W-COD  \\\nD-N1   8.10  10.66  3.9899       0.27990      0.330000      2.980000  14.27   \nD-N2   8.00  10.02  3.7400       0.09160      0.300000      2.740000  14.13   \nD-N3   8.10  10.58  3.6200       0.10250      0.290000      2.827500  15.44   \nD-N4   7.84  10.62  3.8600       0.20900      0.250000      2.810000  15.01   \nD-N5   7.90  11.06  3.7500       0.18070      0.260000      2.790000  16.52   \n...     ...    ...     ...           ...           ...           ...    ...   \nW-H8   9.11   9.14  1.9000       0.00001      0.051411      0.667800  10.94   \nW-H9   8.79   8.82  1.3800       0.00001      0.008870      1.085500  11.92   \nW-H10  9.17   9.74  1.3300       0.00001      0.030141      1.299859  11.11   \nW-H11  9.14   9.78  1.6300       0.00001      0.004616      1.422200  11.13   \nW-H12  8.78  10.73  1.1000       0.00001      0.017379      1.082621  10.60   \n\n        W-T  \nD-N1   11.3  \nD-N2   12.5  \nD-N3   14.7  \nD-N4   13.8  \nD-N5   13.6  \n...     ...  \nW-H8   20.4  \nW-H9   22.6  \nW-H10  21.4  \nW-H11  22.0  \nW-H12  22.3  \n\n[90 rows x 8 columns]",
      "text/html": "<div>\n<style scoped>\n    .dataframe tbody tr th:only-of-type {\n        vertical-align: middle;\n    }\n\n    .dataframe tbody tr th {\n        vertical-align: top;\n    }\n\n    .dataframe thead th {\n        text-align: right;\n    }\n</style>\n<table border=\"1\" class=\"dataframe\">\n  <thead>\n    <tr style=\"text-align: right;\">\n      <th></th>\n      <th>W-pH</th>\n      <th>W-DO</th>\n      <th>W-TN</th>\n      <th>W-NO_{2}^{-}</th>\n      <th>W-NO_{3}^{-}</th>\n      <th>W-NH_{4}^{+}</th>\n      <th>W-COD</th>\n      <th>W-T</th>\n    </tr>\n  </thead>\n  <tbody>\n    <tr>\n      <th>D-N1</th>\n      <td>8.10</td>\n      <td>10.66</td>\n      <td>3.9899</td>\n      <td>0.27990</td>\n      <td>0.330000</td>\n      <td>2.980000</td>\n      <td>14.27</td>\n      <td>11.3</td>\n    </tr>\n    <tr>\n      <th>D-N2</th>\n      <td>8.00</td>\n      <td>10.02</td>\n      <td>3.7400</td>\n      <td>0.09160</td>\n      <td>0.300000</td>\n      <td>2.740000</td>\n      <td>14.13</td>\n      <td>12.5</td>\n    </tr>\n    <tr>\n      <th>D-N3</th>\n      <td>8.10</td>\n      <td>10.58</td>\n      <td>3.6200</td>\n      <td>0.10250</td>\n      <td>0.290000</td>\n      <td>2.827500</td>\n      <td>15.44</td>\n      <td>14.7</td>\n    </tr>\n    <tr>\n      <th>D-N4</th>\n      <td>7.84</td>\n      <td>10.62</td>\n      <td>3.8600</td>\n      <td>0.20900</td>\n      <td>0.250000</td>\n      <td>2.810000</td>\n      <td>15.01</td>\n      <td>13.8</td>\n    </tr>\n    <tr>\n      <th>D-N5</th>\n      <td>7.90</td>\n      <td>11.06</td>\n      <td>3.7500</td>\n      <td>0.18070</td>\n      <td>0.260000</td>\n      <td>2.790000</td>\n      <td>16.52</td>\n      <td>13.6</td>\n    </tr>\n    <tr>\n      <th>...</th>\n      <td>...</td>\n      <td>...</td>\n      <td>...</td>\n      <td>...</td>\n      <td>...</td>\n      <td>...</td>\n      <td>...</td>\n      <td>...</td>\n    </tr>\n    <tr>\n      <th>W-H8</th>\n      <td>9.11</td>\n      <td>9.14</td>\n      <td>1.9000</td>\n      <td>0.00001</td>\n      <td>0.051411</td>\n      <td>0.667800</td>\n      <td>10.94</td>\n      <td>20.4</td>\n    </tr>\n    <tr>\n      <th>W-H9</th>\n      <td>8.79</td>\n      <td>8.82</td>\n      <td>1.3800</td>\n      <td>0.00001</td>\n      <td>0.008870</td>\n      <td>1.085500</td>\n      <td>11.92</td>\n      <td>22.6</td>\n    </tr>\n    <tr>\n      <th>W-H10</th>\n      <td>9.17</td>\n      <td>9.74</td>\n      <td>1.3300</td>\n      <td>0.00001</td>\n      <td>0.030141</td>\n      <td>1.299859</td>\n      <td>11.11</td>\n      <td>21.4</td>\n    </tr>\n    <tr>\n      <th>W-H11</th>\n      <td>9.14</td>\n      <td>9.78</td>\n      <td>1.6300</td>\n      <td>0.00001</td>\n      <td>0.004616</td>\n      <td>1.422200</td>\n      <td>11.13</td>\n      <td>22.0</td>\n    </tr>\n    <tr>\n      <th>W-H12</th>\n      <td>8.78</td>\n      <td>10.73</td>\n      <td>1.1000</td>\n      <td>0.00001</td>\n      <td>0.017379</td>\n      <td>1.082621</td>\n      <td>10.60</td>\n      <td>22.3</td>\n    </tr>\n  </tbody>\n</table>\n<p>90 rows × 8 columns</p>\n</div>"
     },
     "execution_count": 6,
     "metadata": {},
     "output_type": "execute_result"
    }
   ],
   "source": [
    "_ = all_df[[i for i in all_df.columns if\n",
    "            isinstance(i, str) and (i.startswith('S') or i.endswith('-Ф'))]].replace(0, 0.00001)\n",
    "sediment_df = _.drop(['S-Size-d((0.9-0.1)/0.5)', 'S-pH'], axis=1)\n",
    "\n",
    "water_df = all_df[[i for i in all_df.columns if\n",
    "                   isinstance(i, str) and i.startswith('W')]].replace(0, 0.00001)\n",
    "water_df = water_df.drop(['W-PO_{4}^{3-}', 'W-TP'], axis=1)\n",
    "\n",
    "df = water_df\n",
    "df"
   ]
  },
  {
   "attachments": {},
   "cell_type": "markdown",
   "metadata": {
    "pycharm": {
     "name": "#%% md\n"
    }
   },
   "source": [
    "## PCA分析\n",
    "\n",
    "注意点：\n",
    "\n",
    "1. 上面经过数据准备后，最后进行PCA分析的数据矩阵应命名为df；\n",
    "2. 数据表不可以有空值；"
   ]
  },
  {
   "attachments": {},
   "cell_type": "markdown",
   "metadata": {
    "pycharm": {
     "name": "#%% md\n"
    }
   },
   "source": [
    "### 预检验\n",
    "\n",
    "首先进行KMO和Bartlett的检验，判断是否可以进行主成分分析。 对于KMO值：0.8上非常合适做主成分分析，0.7-0.8之间一般适合，0.6-0.7之间不太适合，0.5-0.6之间表示差，0.5下表示极不适合，对于 Bartlett的检验（p < 0.05,严格来说p < 0.01），若显著性小于0.05或0.01，拒绝原假设，则说明可以做主成分分析，若不拒绝原假设，则说明这些变量可能独立提供一些信息，不适合做主成分分析；"
   ]
  },
  {
   "cell_type": "code",
   "execution_count": 7,
   "metadata": {
    "pycharm": {
     "name": "#%%\n"
    }
   },
   "outputs": [
    {
     "data": {
      "text/plain": "9.894740568791015e-71"
     },
     "execution_count": 7,
     "metadata": {},
     "output_type": "execute_result"
    }
   ],
   "source": [
    "from factor_analyzer.factor_analyzer import calculate_bartlett_sphericity\n",
    "\n",
    "# 巴特利特P值小于0.01，KMO值大于0.6；说明此数据适合做因子分析。\n",
    "chi_square_value, p_value = calculate_bartlett_sphericity(df)  # 计算巴特利特P值\n",
    "p_value"
   ]
  },
  {
   "cell_type": "code",
   "execution_count": 8,
   "metadata": {
    "pycharm": {
     "name": "#%%\n"
    }
   },
   "outputs": [
    {
     "data": {
      "text/plain": "0.7980135965340764"
     },
     "execution_count": 8,
     "metadata": {},
     "output_type": "execute_result"
    }
   ],
   "source": [
    "from factor_analyzer.factor_analyzer import calculate_kmo\n",
    "\n",
    "kmo_all, kmo_model = calculate_kmo(df)\n",
    "kmo_model"
   ]
  },
  {
   "cell_type": "code",
   "execution_count": 9,
   "metadata": {
    "pycharm": {
     "name": "#%%\n"
    }
   },
   "outputs": [
    {
     "data": {
      "text/plain": "<AxesSubplot:>"
     },
     "execution_count": 9,
     "metadata": {},
     "output_type": "execute_result"
    },
    {
     "data": {
      "text/plain": "<Figure size 960x600 with 2 Axes>",
      "image/png": "[encoded data removed]"
     },
     "metadata": {
      "needs_background": "light"
     },
     "output_type": "display_data"
    }
   ],
   "source": [
    "# 查看数据各列之间的相关性\n",
    "matrix = df.corr()  # 获取各列之间的相关性，这个matrix其实就是X的协方差矩阵\n",
    "mask = np.triu(np.ones_like(matrix, dtype=bool))  # mask掉上三角部分\n",
    "plt.figure(figsize=(8, 5), dpi=120)\n",
    "cmap = sns.diverging_palette(370, 120, n=80, as_cmap=True)\n",
    "sns.heatmap(matrix, mask=mask, center=0, cmap=cmap, annot=True,\n",
    "            square=True, fmt='.2f', vmax=1, vmin=-1)\n",
    "# plt.title('泰坦尼克号数据集各列之间的相关性')"
   ]
  },
  {
   "attachments": {},
   "cell_type": "markdown",
   "metadata": {
    "pycharm": {
     "name": "#%% md\n"
    }
   },
   "source": [
    "### 数据标准化"
   ]
  },
  {
   "cell_type": "code",
   "execution_count": 10,
   "metadata": {
    "pycharm": {
     "name": "#%%\n"
    }
   },
   "outputs": [],
   "source": [
    "# 数据矩阵标准化与中心化\n",
    "X = (df - df.mean()) / df.std(ddof=0)"
   ]
  },
  {
   "attachments": {},
   "cell_type": "markdown",
   "metadata": {
    "pycharm": {
     "name": "#%% md\n"
    }
   },
   "source": [
    "这一步是主成分分析（PCA）的数据预处理，首先计算出矩阵中每一列的平均值，然后让每一列中的每一个元素都减去该列的平均值。在进行完这一步之后可以观察每一列数据的分散情况，如果列与列之间的差距仍过大，可以再计算出每一列的方差，然后再将减去平均值后的结果除以每一列的方差（这一步是可选步骤，叫做方差归一化）。\n",
    "\n",
    "如果两步都做了，这个叫做数据的normalization——对一个非标准的正态分布随机变量转化为标准的正态分布随机变量。\n",
    "\n",
    "这里一个注意点：\n",
    "我们使用ddof=1样本标准偏差或ddof=0总体标准偏差作为参数来控制。"
   ]
  },
  {
   "attachments": {},
   "cell_type": "markdown",
   "metadata": {
    "pycharm": {
     "name": "#%% md\n"
    }
   },
   "source": [
    "### 算法降维处理\n",
    "在选取特征值的时候，要选取比较大的，特征值大的话数据方差就大，这也就意味着在经过降维后，可以最大程度上保留数据的差异性。\n",
    "\n",
    "降维的过程实际就是寻找投影方向的过程。\n",
    "\n",
    "从一个方面讲:\n",
    "\n",
    "- 好的投影方向，可以使得投影误差最小化。\n",
    "- 投影误差是各个数据点到投影点距离，这也就意味着经过降维处理后的损失达到最小。\n",
    "\n",
    "从另一个方面讲:\n",
    "\n",
    "- 好的投影方向，也就意味着在该方向投影的方差应该最大(分散度/区分度高)，可是使得信息在最大程度上得到保留。\n",
    "- 复原误差小、重建容易。\n",
    "\n",
    "降维的步骤：\n",
    "\n",
    "目标：将n维数据降低为k维(k<n)。\n",
    "（1）计算协方差矩阵：协方差矩阵（n×n）其实就是原数据矩阵中每两列之间的相关性系数；\n",
    "（2）计算投影方向：对E进行奇异值分解(Singular Value Decomposition) [U,S,V] = svd (SIGMA)\n",
    "\n",
    "其中U是一个nxn的矩阵，它每列是SIGMA的一个特征向量(线性代数概念)，U的前k列就是PCA的前k个投影向;我们将U的前k列记为投影矩阵P.\n",
    "U的每一列都是一个特征向量，因此它的模长都为1，且特征向量之间都是正交的，乘积都为0\n",
    "\n",
    "计算投影：\n",
    "\n",
    "- 上一步我们得到了投影矩阵$P \\in R^{n \\times k}$；\n",
    "- 对于第i个n维样本$x^{(i)}$，计算$z^{(i)} = x^{(i)} * P$，$z^{(i)}$就是降维后的第i个样本。\n",
    "\n",
    "$$\n",
    "X \\in R^{m \\times n} \\times P \\in R^{n \\times k} = Z \\in R^{m \\times k}\n",
    "$$\n"
   ]
  },
  {
   "cell_type": "code",
   "execution_count": 32,
   "outputs": [
    {
     "data": {
      "text/plain": "var        W-pH      W-DO      W-TN  W-NO_{2}^{-}  W-NO_{3}^{-}  W-NH_{4}^{+}  \\\nD-N1  -0.431864  1.017856  2.484114      4.191561      2.584494      2.514196   \nD-N2  -0.591550  0.571570  2.116544      0.768953      2.193395      2.091432   \nD-N3  -0.431864  0.962070  1.940040      0.967075      2.063029      2.245565   \nD-N4  -0.847049  0.989963  2.293048      2.902857      1.541564      2.214738   \nD-N5  -0.751237  1.296784  2.131252      2.388466      1.671930      2.179508   \n...         ...       ...       ...           ...           ...           ...   \nW-H8   1.180971 -0.042072 -0.589854     -0.895820     -1.047360     -1.558783   \nW-H9   0.669974 -0.265214 -1.354705     -0.895820     -1.601951     -0.822998   \nW-H10  1.276783  0.376321 -1.428248     -0.895820     -1.324655     -0.445401   \nW-H11  1.228877  0.404214 -0.986988     -0.895820     -1.657410     -0.229895   \nW-H12  0.654005  1.066668 -1.766548     -0.895820     -1.491033     -0.828068   \n\nvar       W-COD       W-T  \nD-N1   1.619199 -1.772812  \nD-N2   1.487378 -1.521581  \nD-N3   2.720844 -1.060989  \nD-N4   2.315966 -1.249413  \nD-N5   3.737748 -1.291285  \n...         ...       ...  \nW-H8  -1.516253  0.132362  \nW-H9  -0.593508  0.592953  \nW-H10 -1.356185  0.341722  \nW-H11 -1.337354  0.467338  \nW-H12 -1.836389  0.530146  \n\n[90 rows x 8 columns]",
      "text/html": "<div>\n<style scoped>\n    .dataframe tbody tr th:only-of-type {\n        vertical-align: middle;\n    }\n\n    .dataframe tbody tr th {\n        vertical-align: top;\n    }\n\n    .dataframe thead th {\n        text-align: right;\n    }\n</style>\n<table border=\"1\" class=\"dataframe\">\n  <thead>\n    <tr style=\"text-align: right;\">\n      <th>var</th>\n      <th>W-pH</th>\n      <th>W-DO</th>\n      <th>W-TN</th>\n      <th>W-NO_{2}^{-}</th>\n      <th>W-NO_{3}^{-}</th>\n      <th>W-NH_{4}^{+}</th>\n      <th>W-COD</th>\n      <th>W-T</th>\n    </tr>\n  </thead>\n  <tbody>\n    <tr>\n      <th>D-N1</th>\n      <td>-0.431864</td>\n      <td>1.017856</td>\n      <td>2.484114</td>\n      <td>4.191561</td>\n      <td>2.584494</td>\n      <td>2.514196</td>\n      <td>1.619199</td>\n      <td>-1.772812</td>\n    </tr>\n    <tr>\n      <th>D-N2</th>\n      <td>-0.591550</td>\n      <td>0.571570</td>\n      <td>2.116544</td>\n      <td>0.768953</td>\n      <td>2.193395</td>\n      <td>2.091432</td>\n      <td>1.487378</td>\n      <td>-1.521581</td>\n    </tr>\n    <tr>\n      <th>D-N3</th>\n      <td>-0.431864</td>\n      <td>0.962070</td>\n      <td>1.940040</td>\n      <td>0.967075</td>\n      <td>2.063029</td>\n      <td>2.245565</td>\n      <td>2.720844</td>\n      <td>-1.060989</td>\n    </tr>\n    <tr>\n      <th>D-N4</th>\n      <td>-0.847049</td>\n      <td>0.989963</td>\n      <td>2.293048</td>\n      <td>2.902857</td>\n      <td>1.541564</td>\n      <td>2.214738</td>\n      <td>2.315966</td>\n      <td>-1.249413</td>\n    </tr>\n    <tr>\n      <th>D-N5</th>\n      <td>-0.751237</td>\n      <td>1.296784</td>\n      <td>2.131252</td>\n      <td>2.388466</td>\n      <td>1.671930</td>\n      <td>2.179508</td>\n      <td>3.737748</td>\n      <td>-1.291285</td>\n    </tr>\n    <tr>\n      <th>...</th>\n      <td>...</td>\n      <td>...</td>\n      <td>...</td>\n      <td>...</td>\n      <td>...</td>\n      <td>...</td>\n      <td>...</td>\n      <td>...</td>\n    </tr>\n    <tr>\n      <th>W-H8</th>\n      <td>1.180971</td>\n      <td>-0.042072</td>\n      <td>-0.589854</td>\n      <td>-0.895820</td>\n      <td>-1.047360</td>\n      <td>-1.558783</td>\n      <td>-1.516253</td>\n      <td>0.132362</td>\n    </tr>\n    <tr>\n      <th>W-H9</th>\n      <td>0.669974</td>\n      <td>-0.265214</td>\n      <td>-1.354705</td>\n      <td>-0.895820</td>\n      <td>-1.601951</td>\n      <td>-0.822998</td>\n      <td>-0.593508</td>\n      <td>0.592953</td>\n    </tr>\n    <tr>\n      <th>W-H10</th>\n      <td>1.276783</td>\n      <td>0.376321</td>\n      <td>-1.428248</td>\n      <td>-0.895820</td>\n      <td>-1.324655</td>\n      <td>-0.445401</td>\n      <td>-1.356185</td>\n      <td>0.341722</td>\n    </tr>\n    <tr>\n      <th>W-H11</th>\n      <td>1.228877</td>\n      <td>0.404214</td>\n      <td>-0.986988</td>\n      <td>-0.895820</td>\n      <td>-1.657410</td>\n      <td>-0.229895</td>\n      <td>-1.337354</td>\n      <td>0.467338</td>\n    </tr>\n    <tr>\n      <th>W-H12</th>\n      <td>0.654005</td>\n      <td>1.066668</td>\n      <td>-1.766548</td>\n      <td>-0.895820</td>\n      <td>-1.491033</td>\n      <td>-0.828068</td>\n      <td>-1.836389</td>\n      <td>0.530146</td>\n    </tr>\n  </tbody>\n</table>\n<p>90 rows × 8 columns</p>\n</div>"
     },
     "execution_count": 32,
     "metadata": {},
     "output_type": "execute_result"
    }
   ],
   "source": [
    "# X.to_csv('C:\\\\Users\\\\myxc\\\\Desktop\\\\demo_std.csv')\n",
    "X"
   ],
   "metadata": {
    "collapsed": false,
    "pycharm": {
     "name": "#%%\n"
    }
   }
  },
  {
   "cell_type": "code",
   "execution_count": 12,
   "metadata": {
    "pycharm": {
     "name": "#%%\n"
    }
   },
   "outputs": [
    {
     "data": {
      "text/plain": "              0         1\nD-N1   5.839584 -2.321331\nD-N2   4.112343 -0.917081\nD-N3   4.368839 -1.680056\nD-N4   5.063841 -1.803784\nD-N5   5.374656 -2.231411\n...         ...       ...\nW-H8  -2.576255  0.309734\nW-H9  -2.428168  0.514359\nW-H10 -2.642376 -0.103593\nW-H11 -2.485412 -0.109026\nW-H12 -3.099563 -0.195059\n\n[90 rows x 2 columns]",
      "text/html": "<div>\n<style scoped>\n    .dataframe tbody tr th:only-of-type {\n        vertical-align: middle;\n    }\n\n    .dataframe tbody tr th {\n        vertical-align: top;\n    }\n\n    .dataframe thead th {\n        text-align: right;\n    }\n</style>\n<table border=\"1\" class=\"dataframe\">\n  <thead>\n    <tr style=\"text-align: right;\">\n      <th></th>\n      <th>0</th>\n      <th>1</th>\n    </tr>\n  </thead>\n  <tbody>\n    <tr>\n      <th>D-N1</th>\n      <td>5.839584</td>\n      <td>-2.321331</td>\n    </tr>\n    <tr>\n      <th>D-N2</th>\n      <td>4.112343</td>\n      <td>-0.917081</td>\n    </tr>\n    <tr>\n      <th>D-N3</th>\n      <td>4.368839</td>\n      <td>-1.680056</td>\n    </tr>\n    <tr>\n      <th>D-N4</th>\n      <td>5.063841</td>\n      <td>-1.803784</td>\n    </tr>\n    <tr>\n      <th>D-N5</th>\n      <td>5.374656</td>\n      <td>-2.231411</td>\n    </tr>\n    <tr>\n      <th>...</th>\n      <td>...</td>\n      <td>...</td>\n    </tr>\n    <tr>\n      <th>W-H8</th>\n      <td>-2.576255</td>\n      <td>0.309734</td>\n    </tr>\n    <tr>\n      <th>W-H9</th>\n      <td>-2.428168</td>\n      <td>0.514359</td>\n    </tr>\n    <tr>\n      <th>W-H10</th>\n      <td>-2.642376</td>\n      <td>-0.103593</td>\n    </tr>\n    <tr>\n      <th>W-H11</th>\n      <td>-2.485412</td>\n      <td>-0.109026</td>\n    </tr>\n    <tr>\n      <th>W-H12</th>\n      <td>-3.099563</td>\n      <td>-0.195059</td>\n    </tr>\n  </tbody>\n</table>\n<p>90 rows × 2 columns</p>\n</div>"
     },
     "execution_count": 12,
     "metadata": {},
     "output_type": "execute_result"
    }
   ],
   "source": [
    "# SIGMA  # 各列之间的相关性（可以查看上面使用X.corr()命令获取矩阵X中各列之间的相关性所绘制的热图中的数据其实就是计算了矩阵X的协方差）\n",
    "# 计算协方差矩阵（代表原矩阵中各列之间的相关性），@用来计算矩阵之间的乘法，.shape[0]获取矩阵中有多少行\n",
    "SIGMA = (X.T @ X) / X.shape[0]\n",
    "# 奇异值分解\n",
    "U, S, V = np.linalg.svd(SIGMA)  # S 是个对角矩阵，是特征值，U是特征值对应的标准正交特征向量\n",
    "# U\n",
    "P = U[:, :2]  # 这里取U的前两列就是前两个投影的方向\n",
    "# P\n",
    "Z = X @ P  # Z就是经过降维后的矩阵\n",
    "Z"
   ]
  },
  {
   "cell_type": "code",
   "execution_count": 13,
   "metadata": {
    "pycharm": {
     "name": "#%%\n"
    }
   },
   "outputs": [
    {
     "data": {
      "text/plain": "                  W-pH      W-DO      W-TN  W-NO_{2}^{-}  W-NO_{3}^{-}  \\\nW-pH          1.000000  0.356634 -0.560777     -0.257999     -0.302546   \nW-DO          0.356634  1.000000  0.024845      0.080646     -0.019796   \nW-TN         -0.560777  0.024845  1.000000      0.610175      0.545254   \nW-NO_{2}^{-} -0.257999  0.080646  0.610175      1.000000      0.449292   \nW-NO_{3}^{-} -0.302546 -0.019796  0.545254      0.449292      1.000000   \nW-NH_{4}^{+} -0.456350 -0.078357  0.769003      0.638340      0.550762   \nW-COD        -0.373631  0.126312  0.734937      0.525036      0.518713   \nW-T           0.634866  0.193316 -0.762336     -0.411917     -0.229810   \n\n              W-NH_{4}^{+}     W-COD       W-T  \nW-pH             -0.456350 -0.373631  0.634866  \nW-DO             -0.078357  0.126312  0.193316  \nW-TN              0.769003  0.734937 -0.762336  \nW-NO_{2}^{-}      0.638340  0.525036 -0.411917  \nW-NO_{3}^{-}      0.550762  0.518713 -0.229810  \nW-NH_{4}^{+}      1.000000  0.625538 -0.565611  \nW-COD             0.625538  1.000000 -0.621128  \nW-T              -0.565611 -0.621128  1.000000  ",
      "text/html": "<div>\n<style scoped>\n    .dataframe tbody tr th:only-of-type {\n        vertical-align: middle;\n    }\n\n    .dataframe tbody tr th {\n        vertical-align: top;\n    }\n\n    .dataframe thead th {\n        text-align: right;\n    }\n</style>\n<table border=\"1\" class=\"dataframe\">\n  <thead>\n    <tr style=\"text-align: right;\">\n      <th></th>\n      <th>W-pH</th>\n      <th>W-DO</th>\n      <th>W-TN</th>\n      <th>W-NO_{2}^{-}</th>\n      <th>W-NO_{3}^{-}</th>\n      <th>W-NH_{4}^{+}</th>\n      <th>W-COD</th>\n      <th>W-T</th>\n    </tr>\n  </thead>\n  <tbody>\n    <tr>\n      <th>W-pH</th>\n      <td>1.000000</td>\n      <td>0.356634</td>\n      <td>-0.560777</td>\n      <td>-0.257999</td>\n      <td>-0.302546</td>\n      <td>-0.456350</td>\n      <td>-0.373631</td>\n      <td>0.634866</td>\n    </tr>\n    <tr>\n      <th>W-DO</th>\n      <td>0.356634</td>\n      <td>1.000000</td>\n      <td>0.024845</td>\n      <td>0.080646</td>\n      <td>-0.019796</td>\n      <td>-0.078357</td>\n      <td>0.126312</td>\n      <td>0.193316</td>\n    </tr>\n    <tr>\n      <th>W-TN</th>\n      <td>-0.560777</td>\n      <td>0.024845</td>\n      <td>1.000000</td>\n      <td>0.610175</td>\n      <td>0.545254</td>\n      <td>0.769003</td>\n      <td>0.734937</td>\n      <td>-0.762336</td>\n    </tr>\n    <tr>\n      <th>W-NO_{2}^{-}</th>\n      <td>-0.257999</td>\n      <td>0.080646</td>\n      <td>0.610175</td>\n      <td>1.000000</td>\n      <td>0.449292</td>\n      <td>0.638340</td>\n      <td>0.525036</td>\n      <td>-0.411917</td>\n    </tr>\n    <tr>\n      <th>W-NO_{3}^{-}</th>\n      <td>-0.302546</td>\n      <td>-0.019796</td>\n      <td>0.545254</td>\n      <td>0.449292</td>\n      <td>1.000000</td>\n      <td>0.550762</td>\n      <td>0.518713</td>\n      <td>-0.229810</td>\n    </tr>\n    <tr>\n      <th>W-NH_{4}^{+}</th>\n      <td>-0.456350</td>\n      <td>-0.078357</td>\n      <td>0.769003</td>\n      <td>0.638340</td>\n      <td>0.550762</td>\n      <td>1.000000</td>\n      <td>0.625538</td>\n      <td>-0.565611</td>\n    </tr>\n    <tr>\n      <th>W-COD</th>\n      <td>-0.373631</td>\n      <td>0.126312</td>\n      <td>0.734937</td>\n      <td>0.525036</td>\n      <td>0.518713</td>\n      <td>0.625538</td>\n      <td>1.000000</td>\n      <td>-0.621128</td>\n    </tr>\n    <tr>\n      <th>W-T</th>\n      <td>0.634866</td>\n      <td>0.193316</td>\n      <td>-0.762336</td>\n      <td>-0.411917</td>\n      <td>-0.229810</td>\n      <td>-0.565611</td>\n      <td>-0.621128</td>\n      <td>1.000000</td>\n    </tr>\n  </tbody>\n</table>\n</div>"
     },
     "execution_count": 13,
     "metadata": {},
     "output_type": "execute_result"
    }
   ],
   "source": [
    "X = (df - df.mean()) / df.std(ddof=0)  # 获取经过Normalization的矩阵X\n",
    "SIGMA = (X.T @ X) / X.shape[0]\n",
    "\n",
    "# X.corr()\n",
    "SIGMA  # SIGMA其实就是X.corr()\n"
   ]
  },
  {
   "cell_type": "code",
   "execution_count": 14,
   "metadata": {
    "pycharm": {
     "name": "#%%\n"
    }
   },
   "outputs": [
    {
     "name": "stdout",
     "output_type": "stream",
     "text": [
      "[[-3.17597692e-01 -4.77689791e-01  1.13252582e-01 -2.69313899e-01\n",
      "  -6.69478393e-01  1.42586958e-01 -3.42126697e-01 -2.23843871e-03]\n",
      " [-4.21927260e-02 -7.39889332e-01 -4.32849359e-01  2.40100045e-01\n",
      "   4.08123162e-01  9.64193637e-02 -1.73677795e-02 -1.72087487e-01]\n",
      " [ 4.49748800e-01 -5.15898529e-02 -1.54930852e-01  5.46783288e-02\n",
      "   1.36181788e-02  1.97797701e-01 -3.88984226e-01  7.59903350e-01]\n",
      " [ 3.46037860e-01 -2.67404384e-01  1.64720672e-01 -7.15097345e-01\n",
      "   2.44807958e-01 -4.58024632e-01 -2.15830775e-04 -2.31955778e-02]\n",
      " [ 3.13712454e-01 -1.94608772e-01  6.81822325e-01  4.85802139e-01\n",
      "   4.13733148e-02 -1.29211815e-01 -3.09581080e-01 -2.20405607e-01]\n",
      " [ 4.15889252e-01 -6.14185761e-02  1.65224974e-01 -2.30492948e-01\n",
      "  -2.69769564e-02  7.66962467e-01  3.09822569e-01 -2.40600066e-01]\n",
      " [ 3.95726969e-01 -2.02849458e-01 -1.77110704e-01  2.56120402e-01\n",
      "  -5.30323637e-01 -3.33794439e-01  5.53755399e-01  7.73270433e-02]\n",
      " [-3.83869884e-01 -2.59647654e-01  4.74478282e-01  2.71970971e-02\n",
      "   2.03556154e-01  7.15256952e-02  4.82559216e-01  5.29096640e-01]]\n"
     ]
    }
   ],
   "source": [
    "# V\n",
    "# ew, ev = np.linalg.eig(X.T.dot(X))\n",
    "ew, ev = np.linalg.eig(np.cov(X.T))  # ew: 特征值，ev: 特征向量\n",
    "ew_order = np.argsort(ew)[::-1]  # 将ew按照从大到小的顺序排列\n",
    "# 特征根，主要是看主成分对于变量解释的贡献率（可以理解为究竟需要多少主成分才能把变量表达为100%），一般都要表达到90%以上才可以，否则就要调整因子数据。\n",
    "ew_sort = ew[ew_order]\n",
    "ev_sort = ev[:, ew_order]\n",
    "print(ev_sort)"
   ]
  },
  {
   "attachments": {},
   "cell_type": "markdown",
   "metadata": {
    "pycharm": {
     "name": "#%% md\n"
    }
   },
   "source": [
    "### 方差解释表格\n",
    "**图表说明:**\n",
    "上表为总方差解释表格，主要是看主成分对于变量解释的贡献率（可以理解为究竟需要多少主成分才能把变量表达为100%），一般都要表达到90%以上才可以，否则就要调整因子数据。一般情况下,方差解释率越高，说明该主成分越重要，权重占比也应该越高。\n",
    "\n",
    "方差解释表中，在主成分4时，总方差解释的特征根低于1，变量解释的贡献率达到74.899%，以上仅为参考。\n",
    "若特征根小于1临界值过大，也可以集合具体情况具体分析。"
   ]
  },
  {
   "cell_type": "code",
   "execution_count": 15,
   "metadata": {
    "pycharm": {
     "name": "#%%\n"
    }
   },
   "outputs": [
    {
     "data": {
      "text/plain": "        特征值       百分比   累计百分比\n0  4.299684  0.531489   53.1%\n1  1.367079  0.168986   70.0%\n2  0.794588  0.098220   79.9%\n3  0.563506  0.069656   86.8%\n4  0.404137  0.049956   91.8%\n5  0.308063  0.038080   95.6%\n6  0.231719  0.028643   98.5%\n7  0.121113  0.014971  100.0%",
      "text/html": "<div>\n<style scoped>\n    .dataframe tbody tr th:only-of-type {\n        vertical-align: middle;\n    }\n\n    .dataframe tbody tr th {\n        vertical-align: top;\n    }\n\n    .dataframe thead th {\n        text-align: right;\n    }\n</style>\n<table border=\"1\" class=\"dataframe\">\n  <thead>\n    <tr style=\"text-align: right;\">\n      <th></th>\n      <th>特征值</th>\n      <th>百分比</th>\n      <th>累计百分比</th>\n    </tr>\n  </thead>\n  <tbody>\n    <tr>\n      <th>0</th>\n      <td>4.299684</td>\n      <td>0.531489</td>\n      <td>53.1%</td>\n    </tr>\n    <tr>\n      <th>1</th>\n      <td>1.367079</td>\n      <td>0.168986</td>\n      <td>70.0%</td>\n    </tr>\n    <tr>\n      <th>2</th>\n      <td>0.794588</td>\n      <td>0.098220</td>\n      <td>79.9%</td>\n    </tr>\n    <tr>\n      <th>3</th>\n      <td>0.563506</td>\n      <td>0.069656</td>\n      <td>86.8%</td>\n    </tr>\n    <tr>\n      <th>4</th>\n      <td>0.404137</td>\n      <td>0.049956</td>\n      <td>91.8%</td>\n    </tr>\n    <tr>\n      <th>5</th>\n      <td>0.308063</td>\n      <td>0.038080</td>\n      <td>95.6%</td>\n    </tr>\n    <tr>\n      <th>6</th>\n      <td>0.231719</td>\n      <td>0.028643</td>\n      <td>98.5%</td>\n    </tr>\n    <tr>\n      <th>7</th>\n      <td>0.121113</td>\n      <td>0.014971</td>\n      <td>100.0%</td>\n    </tr>\n  </tbody>\n</table>\n</div>"
     },
     "execution_count": 15,
     "metadata": {},
     "output_type": "execute_result"
    }
   ],
   "source": [
    "# 输出一个方差解释表格\n",
    "var_inter_0 = pd.DataFrame({'特征值': ew_sort})  # 添加特征值列\n",
    "var_inter_0['百分比'] = (var_inter_0 / var_inter_0.sum())  # 添加百分比列\n",
    "var_inter_0['累计百分比'] = var_inter_0['百分比'].cumsum()  # 计算累计百分比\n",
    "var_inter = var_inter_0.copy()\n",
    "var_inter['累计百分比'] = var_inter['累计百分比'].apply(lambda x: format(x, '.1%'))  # 保留一位小数\n",
    "# var_inter_0['1'] = 1  # 前两列特征值大于1，且51%以上可以用来解释原来7个变量，因此取前两列\n",
    "var_inter"
   ]
  },
  {
   "cell_type": "code",
   "execution_count": 16,
   "outputs": [],
   "source": [
    "var_inter.to_clipboard()"
   ],
   "metadata": {
    "collapsed": false,
    "pycharm": {
     "name": "#%%\n"
    }
   }
  },
  {
   "cell_type": "code",
   "execution_count": 17,
   "metadata": {
    "pycharm": {
     "name": "#%%\n"
    }
   },
   "outputs": [
    {
     "data": {
      "text/plain": "(array([0, 1, 2, 3, 4, 5, 6, 7]),\n [Text(0, 0, '0'),\n  Text(1, 0, '1'),\n  Text(2, 0, '2'),\n  Text(3, 0, '3'),\n  Text(4, 0, '4'),\n  Text(5, 0, '5'),\n  Text(6, 0, '6'),\n  Text(7, 0, '7')])"
     },
     "execution_count": 17,
     "metadata": {},
     "output_type": "execute_result"
    },
    {
     "data": {
      "text/plain": "<Figure size 432x288 with 1 Axes>",
      "image/png": "[encoded data removed]"
     },
     "metadata": {
      "needs_background": "light"
     },
     "output_type": "display_data"
    }
   ],
   "source": [
    "pd.DataFrame(ew_sort).plot(kind='bar').legend(\n",
    "    ('特征值',))  # 添加图例必须多一个逗号，否则只显示第一个字符\n",
    "plt.xticks(rotation=0)\n",
    "# print(ev_sort)"
   ]
  },
  {
   "cell_type": "code",
   "execution_count": 18,
   "metadata": {
    "pycharm": {
     "name": "#%%\n"
    }
   },
   "outputs": [
    {
     "data": {
      "text/plain": "array([[-0.31759769, -0.47768979],\n       [-0.04219273, -0.73988933],\n       [ 0.4497488 , -0.05158985],\n       [ 0.34603786, -0.26740438],\n       [ 0.31371245, -0.19460877],\n       [ 0.41588925, -0.06141858],\n       [ 0.39572697, -0.20284946],\n       [-0.38386988, -0.25964765]])"
     },
     "execution_count": 18,
     "metadata": {},
     "output_type": "execute_result"
    }
   ],
   "source": [
    "# ev_sort[:, :2]  # 前两列就很大程度上可以用来解释原来7个变量，因此取前两列# V\n",
    "V = ev_sort[:, :2]  # 前两列就很大程度上可以用来解释原来7个变量，因此取前两列\n",
    "V"
   ]
  },
  {
   "attachments": {},
   "cell_type": "markdown",
   "metadata": {
    "pycharm": {
     "name": "#%% md\n"
    }
   },
   "source": [
    "### 因子数据表"
   ]
  },
  {
   "cell_type": "code",
   "execution_count": 19,
   "metadata": {
    "pycharm": {
     "name": "#%%\n"
    }
   },
   "outputs": [
    {
     "data": {
      "text/plain": "                 PCA 0     PCA 1       公共度\nvar                                       \nW-pH         -0.317598 -0.477690  0.329056\nW-DO         -0.042193 -0.739889  0.549216\nW-TN          0.449749 -0.051590  0.204935\nW-NO_{2}^{-}  0.346038 -0.267404  0.191247\nW-NO_{3}^{-}  0.313712 -0.194609  0.136288\nW-NH_{4}^{+}  0.415889 -0.061419  0.176736\nW-COD         0.395727 -0.202849  0.197748\nW-T          -0.383870 -0.259648  0.214773",
      "text/html": "<div>\n<style scoped>\n    .dataframe tbody tr th:only-of-type {\n        vertical-align: middle;\n    }\n\n    .dataframe tbody tr th {\n        vertical-align: top;\n    }\n\n    .dataframe thead th {\n        text-align: right;\n    }\n</style>\n<table border=\"1\" class=\"dataframe\">\n  <thead>\n    <tr style=\"text-align: right;\">\n      <th></th>\n      <th>PCA 0</th>\n      <th>PCA 1</th>\n      <th>公共度</th>\n    </tr>\n    <tr>\n      <th>var</th>\n      <th></th>\n      <th></th>\n      <th></th>\n    </tr>\n  </thead>\n  <tbody>\n    <tr>\n      <th>W-pH</th>\n      <td>-0.317598</td>\n      <td>-0.477690</td>\n      <td>0.329056</td>\n    </tr>\n    <tr>\n      <th>W-DO</th>\n      <td>-0.042193</td>\n      <td>-0.739889</td>\n      <td>0.549216</td>\n    </tr>\n    <tr>\n      <th>W-TN</th>\n      <td>0.449749</td>\n      <td>-0.051590</td>\n      <td>0.204935</td>\n    </tr>\n    <tr>\n      <th>W-NO_{2}^{-}</th>\n      <td>0.346038</td>\n      <td>-0.267404</td>\n      <td>0.191247</td>\n    </tr>\n    <tr>\n      <th>W-NO_{3}^{-}</th>\n      <td>0.313712</td>\n      <td>-0.194609</td>\n      <td>0.136288</td>\n    </tr>\n    <tr>\n      <th>W-NH_{4}^{+}</th>\n      <td>0.415889</td>\n      <td>-0.061419</td>\n      <td>0.176736</td>\n    </tr>\n    <tr>\n      <th>W-COD</th>\n      <td>0.395727</td>\n      <td>-0.202849</td>\n      <td>0.197748</td>\n    </tr>\n    <tr>\n      <th>W-T</th>\n      <td>-0.383870</td>\n      <td>-0.259648</td>\n      <td>0.214773</td>\n    </tr>\n  </tbody>\n</table>\n</div>"
     },
     "execution_count": 19,
     "metadata": {},
     "output_type": "execute_result"
    }
   ],
   "source": [
    "# 构建一个因子数据表\n",
    "factor_load_table = pd.DataFrame(V)  # 因子载荷数据表，可以分析到每个主成分中隐变量的重要性。\n",
    "factor_load_table.index = df.columns\n",
    "factor_load_table.columns = ['PCA 0', 'PCA 1']\n",
    "factor_load_table.index.name = 'var'\n",
    "factor_load_table['公共度'] = factor_load_table['PCA 0'] ** 2 + factor_load_table[\n",
    "    'PCA 1'] ** 2  # 公因子方差：每个变量对应的PCA0与PCA1的平方和\n",
    "factor_load_table"
   ]
  },
  {
   "cell_type": "code",
   "execution_count": 20,
   "outputs": [
    {
     "data": {
      "text/plain": "PCA 0    1.0\nPCA 1    1.0\ndtype: float64"
     },
     "execution_count": 20,
     "metadata": {},
     "output_type": "execute_result"
    }
   ],
   "source": [
    "# 因子数据表的每一列的平方和相加等于1\n",
    "factor_load_table.iloc[:,:2].applymap(lambda x: x**2).sum()"
   ],
   "metadata": {
    "collapsed": false,
    "pycharm": {
     "name": "#%%\n"
    }
   }
  },
  {
   "cell_type": "code",
   "execution_count": 21,
   "metadata": {
    "pycharm": {
     "name": "#%%\n"
    }
   },
   "outputs": [],
   "source": [
    "# U的每一列都是一个特征向量，因此它的模长都为1，且特征向量之间都是正交的，乘积都为0\n",
    "# (factor_load_table['PCA 0'] * factor_load_table['PCA 1']).sum()  # 两个特征向量的乘积应为0\n",
    "# (factor_load_table['PCA 0']**2).sum()  # 每一个特征向量的模长都为1\n",
    "# (factor_load_table['PCA 1']**2).sum()"
   ]
  },
  {
   "cell_type": "code",
   "execution_count": 22,
   "metadata": {
    "pycharm": {
     "name": "#%%\n"
    }
   },
   "outputs": [
    {
     "data": {
      "text/plain": "<AxesSubplot:ylabel='var'>"
     },
     "execution_count": 22,
     "metadata": {},
     "output_type": "execute_result"
    },
    {
     "data": {
      "text/plain": "<Figure size 960x600 with 2 Axes>",
      "image/png": "[encoded data removed]"
     },
     "metadata": {
      "needs_background": "light"
     },
     "output_type": "display_data"
    }
   ],
   "source": [
    "plt.figure(figsize=(8, 5), dpi=120)\n",
    "sns.heatmap(factor_load_table)"
   ]
  },
  {
   "attachments": {},
   "cell_type": "markdown",
   "metadata": {
    "pycharm": {
     "name": "#%% md\n"
    }
   },
   "source": [
    "### 绘图可视化"
   ]
  },
  {
   "cell_type": "code",
   "execution_count": 23,
   "metadata": {
    "pycharm": {
     "name": "#%%\n"
    }
   },
   "outputs": [
    {
     "data": {
      "text/plain": "              0         1\nD-N1   5.839584 -2.321331\nD-N2   4.112343 -0.917081\nD-N3   4.368839 -1.680056\nD-N4   5.063841 -1.803784\nD-N5   5.374656 -2.231411\n...         ...       ...\nW-H8  -2.576255  0.309734\nW-H9  -2.428168  0.514359\nW-H10 -2.642376 -0.103593\nW-H11 -2.485412 -0.109026\nW-H12 -3.099563 -0.195059\n\n[90 rows x 2 columns]",
      "text/html": "<div>\n<style scoped>\n    .dataframe tbody tr th:only-of-type {\n        vertical-align: middle;\n    }\n\n    .dataframe tbody tr th {\n        vertical-align: top;\n    }\n\n    .dataframe thead th {\n        text-align: right;\n    }\n</style>\n<table border=\"1\" class=\"dataframe\">\n  <thead>\n    <tr style=\"text-align: right;\">\n      <th></th>\n      <th>0</th>\n      <th>1</th>\n    </tr>\n  </thead>\n  <tbody>\n    <tr>\n      <th>D-N1</th>\n      <td>5.839584</td>\n      <td>-2.321331</td>\n    </tr>\n    <tr>\n      <th>D-N2</th>\n      <td>4.112343</td>\n      <td>-0.917081</td>\n    </tr>\n    <tr>\n      <th>D-N3</th>\n      <td>4.368839</td>\n      <td>-1.680056</td>\n    </tr>\n    <tr>\n      <th>D-N4</th>\n      <td>5.063841</td>\n      <td>-1.803784</td>\n    </tr>\n    <tr>\n      <th>D-N5</th>\n      <td>5.374656</td>\n      <td>-2.231411</td>\n    </tr>\n    <tr>\n      <th>...</th>\n      <td>...</td>\n      <td>...</td>\n    </tr>\n    <tr>\n      <th>W-H8</th>\n      <td>-2.576255</td>\n      <td>0.309734</td>\n    </tr>\n    <tr>\n      <th>W-H9</th>\n      <td>-2.428168</td>\n      <td>0.514359</td>\n    </tr>\n    <tr>\n      <th>W-H10</th>\n      <td>-2.642376</td>\n      <td>-0.103593</td>\n    </tr>\n    <tr>\n      <th>W-H11</th>\n      <td>-2.485412</td>\n      <td>-0.109026</td>\n    </tr>\n    <tr>\n      <th>W-H12</th>\n      <td>-3.099563</td>\n      <td>-0.195059</td>\n    </tr>\n  </tbody>\n</table>\n<p>90 rows × 2 columns</p>\n</div>"
     },
     "execution_count": 23,
     "metadata": {},
     "output_type": "execute_result"
    }
   ],
   "source": [
    "# X_new\n",
    "X_new = X.dot(V)\n",
    "# 将生存数据添加到DATaFrame中，用于绘制散点图的时候可以区分死亡与生存的区别\n",
    "# X_new['Survived'] = train_data_0['Survived']\n",
    "X_new"
   ]
  },
  {
   "cell_type": "code",
   "execution_count": 24,
   "metadata": {
    "pycharm": {
     "name": "#%%\n"
    }
   },
   "outputs": [
    {
     "data": {
      "text/plain": "<AxesSubplot:xlabel='PCA 0', ylabel='PCA 1'>"
     },
     "execution_count": 24,
     "metadata": {},
     "output_type": "execute_result"
    },
    {
     "data": {
      "text/plain": "<Figure size 960x600 with 1 Axes>",
      "image/png": "[encoded data removed]"
     },
     "metadata": {
      "needs_background": "light"
     },
     "output_type": "display_data"
    }
   ],
   "source": [
    "plt.figure(figsize=(8, 5), dpi=120)  # 设置绘图尺寸\n",
    "sns.scatterplot(x=factor_load_table['PCA 0'],\n",
    "                y=factor_load_table['PCA 1'], hue=factor_load_table.index)"
   ]
  },
  {
   "attachments": {},
   "cell_type": "markdown",
   "metadata": {
    "pycharm": {
     "name": "#%% md\n"
    }
   },
   "source": [
    "### 成分矩阵表"
   ]
  },
  {
   "cell_type": "code",
   "execution_count": 25,
   "metadata": {
    "pycharm": {
     "name": "#%%\n"
    }
   },
   "outputs": [
    {
     "data": {
      "text/plain": "              PCA 0  PCA 1\nvar                       \nW-pH         -0.074 -0.349\nW-DO         -0.010 -0.541\nW-TN          0.105 -0.038\nW-NO_{2}^{-}  0.080 -0.196\nW-NO_{3}^{-}  0.073 -0.142\nW-NH_{4}^{+}  0.097 -0.045\nW-COD         0.092 -0.148\nW-T          -0.089 -0.190",
      "text/html": "<div>\n<style scoped>\n    .dataframe tbody tr th:only-of-type {\n        vertical-align: middle;\n    }\n\n    .dataframe tbody tr th {\n        vertical-align: top;\n    }\n\n    .dataframe thead th {\n        text-align: right;\n    }\n</style>\n<table border=\"1\" class=\"dataframe\">\n  <thead>\n    <tr style=\"text-align: right;\">\n      <th></th>\n      <th>PCA 0</th>\n      <th>PCA 1</th>\n    </tr>\n    <tr>\n      <th>var</th>\n      <th></th>\n      <th></th>\n    </tr>\n  </thead>\n  <tbody>\n    <tr>\n      <th>W-pH</th>\n      <td>-0.074</td>\n      <td>-0.349</td>\n    </tr>\n    <tr>\n      <th>W-DO</th>\n      <td>-0.010</td>\n      <td>-0.541</td>\n    </tr>\n    <tr>\n      <th>W-TN</th>\n      <td>0.105</td>\n      <td>-0.038</td>\n    </tr>\n    <tr>\n      <th>W-NO_{2}^{-}</th>\n      <td>0.080</td>\n      <td>-0.196</td>\n    </tr>\n    <tr>\n      <th>W-NO_{3}^{-}</th>\n      <td>0.073</td>\n      <td>-0.142</td>\n    </tr>\n    <tr>\n      <th>W-NH_{4}^{+}</th>\n      <td>0.097</td>\n      <td>-0.045</td>\n    </tr>\n    <tr>\n      <th>W-COD</th>\n      <td>0.092</td>\n      <td>-0.148</td>\n    </tr>\n    <tr>\n      <th>W-T</th>\n      <td>-0.089</td>\n      <td>-0.190</td>\n    </tr>\n  </tbody>\n</table>\n</div>"
     },
     "execution_count": 25,
     "metadata": {},
     "output_type": "execute_result"
    }
   ],
   "source": [
    "# 成分矩阵表\n",
    "composition_matrix = factor_load_table.loc[:, [\n",
    "    'PCA 0', 'PCA 1']]  # 成分矩阵表 = 因子载荷数据表/对应每一个特征值\n",
    "composition_matrix['PCA 0'] = composition_matrix['PCA 0'] / \\\n",
    "    ew_sort[0]  # 这里有个问题，有的软件里除的是根号下特征值，有的没有\n",
    "composition_matrix['PCA 1'] = composition_matrix['PCA 1'] / ew_sort[1]\n",
    "composition_matrix.round(3)"
   ]
  },
  {
   "cell_type": "code",
   "execution_count": 26,
   "outputs": [],
   "source": [
    "# composition_matrix.applymap(lambda x: x**2).sum()"
   ],
   "metadata": {
    "collapsed": false,
    "pycharm": {
     "name": "#%%\n"
    }
   }
  },
  {
   "attachments": {},
   "cell_type": "markdown",
   "metadata": {
    "pycharm": {
     "name": "#%% md\n"
    }
   },
   "source": [
    "图表说明：\n",
    "上表为成分矩阵表，意在说明各个成分的所包含的因子得分系数（主成分载荷），用于计算出成分得分，得出因子公式，其计算公式为：线性组合系数*（方差解释率/累积方差解释率），最后将其归一化即为因子权重分。\n",
    "线性组合系数，公式为：因子载荷系数除以对应特征根，即成分矩阵的系数。\n",
    "智能分析：\n",
    "模型的公式：\n",
    "F1=-0.389×Pclass-0.254×Sex+0.099×Age+0.14×SibSp+0.214×Parch+0.45×Fare-0.212×Embarked\n",
    "F2=0.262×Pclass-0.166×Sex-0.382×Age+0.411×SibSp+0.392×Parch-0.038×Fare+0.127×Embarked\n",
    "由上可以得到：\n",
    "F=(0.265/0.511)×F1+(0.245/0.511)×F2"
   ]
  },
  {
   "attachments": {},
   "cell_type": "markdown",
   "metadata": {
    "pycharm": {
     "name": "#%% md\n"
    }
   },
   "source": [
    "### 因子权重分析表"
   ]
  },
  {
   "cell_type": "code",
   "execution_count": 27,
   "metadata": {
    "pycharm": {
     "name": "#%%\n"
    }
   },
   "outputs": [
    {
     "data": {
      "text/plain": "         百分比  累计百分比     权重\n主成分                       \nPCA 0  53.1%  53.1%  75.9%\nPCA 1  16.9%  70.0%  24.1%",
      "text/html": "<div>\n<style scoped>\n    .dataframe tbody tr th:only-of-type {\n        vertical-align: middle;\n    }\n\n    .dataframe tbody tr th {\n        vertical-align: top;\n    }\n\n    .dataframe thead th {\n        text-align: right;\n    }\n</style>\n<table border=\"1\" class=\"dataframe\">\n  <thead>\n    <tr style=\"text-align: right;\">\n      <th></th>\n      <th>百分比</th>\n      <th>累计百分比</th>\n      <th>权重</th>\n    </tr>\n    <tr>\n      <th>主成分</th>\n      <th></th>\n      <th></th>\n      <th></th>\n    </tr>\n  </thead>\n  <tbody>\n    <tr>\n      <th>PCA 0</th>\n      <td>53.1%</td>\n      <td>53.1%</td>\n      <td>75.9%</td>\n    </tr>\n    <tr>\n      <th>PCA 1</th>\n      <td>16.9%</td>\n      <td>70.0%</td>\n      <td>24.1%</td>\n    </tr>\n  </tbody>\n</table>\n</div>"
     },
     "execution_count": 27,
     "metadata": {},
     "output_type": "execute_result"
    }
   ],
   "source": [
    "factor_weight_analysis = pd.DataFrame(var_inter_0.loc[:1, ['百分比', '累计百分比']])\n",
    "factor_weight_analysis['权重'] = factor_weight_analysis['百分比'] / \\\n",
    "    factor_weight_analysis['百分比'].sum()\n",
    "factor_weight_analysis.index = ['PCA 0', 'PCA 1']\n",
    "factor_weight_analysis.index.name = '主成分'\n",
    "(factor_weight_analysis * 100).round(1).astype(str) + '%'  # 以保留一位小数、百分比的形式显示"
   ]
  },
  {
   "attachments": {},
   "cell_type": "markdown",
   "metadata": {
    "pycharm": {
     "name": "#%% md\n"
    }
   },
   "source": [
    "### 综合得分表（其实就是X_new中的数据）"
   ]
  },
  {
   "cell_type": "code",
   "execution_count": 28,
   "metadata": {
    "pycharm": {
     "name": "#%%\n"
    }
   },
   "outputs": [
    {
     "data": {
      "text/plain": "          PCA 0     PCA 1      综合得分\nD-N1   5.839584 -2.321331  2.711400\nD-N5   5.374656 -2.231411  2.479492\nD-N4   5.063841 -1.803784  2.386560\nD-P1   4.015711 -0.255646  2.091104\nD-N3   4.368839 -1.680056  2.038082\n...         ...       ...       ...\nW-H12 -3.099563 -0.195059 -1.680345\nW-P12 -2.355049 -2.882023 -1.738704\nW-P11 -2.539278 -2.446231 -1.762977\nW-P8  -2.407746 -3.074985 -1.799319\nW-P9  -2.670833 -2.378327 -1.821422\n\n[90 rows x 3 columns]",
      "text/html": "<div>\n<style scoped>\n    .dataframe tbody tr th:only-of-type {\n        vertical-align: middle;\n    }\n\n    .dataframe tbody tr th {\n        vertical-align: top;\n    }\n\n    .dataframe thead th {\n        text-align: right;\n    }\n</style>\n<table border=\"1\" class=\"dataframe\">\n  <thead>\n    <tr style=\"text-align: right;\">\n      <th></th>\n      <th>PCA 0</th>\n      <th>PCA 1</th>\n      <th>综合得分</th>\n    </tr>\n  </thead>\n  <tbody>\n    <tr>\n      <th>D-N1</th>\n      <td>5.839584</td>\n      <td>-2.321331</td>\n      <td>2.711400</td>\n    </tr>\n    <tr>\n      <th>D-N5</th>\n      <td>5.374656</td>\n      <td>-2.231411</td>\n      <td>2.479492</td>\n    </tr>\n    <tr>\n      <th>D-N4</th>\n      <td>5.063841</td>\n      <td>-1.803784</td>\n      <td>2.386560</td>\n    </tr>\n    <tr>\n      <th>D-P1</th>\n      <td>4.015711</td>\n      <td>-0.255646</td>\n      <td>2.091104</td>\n    </tr>\n    <tr>\n      <th>D-N3</th>\n      <td>4.368839</td>\n      <td>-1.680056</td>\n      <td>2.038082</td>\n    </tr>\n    <tr>\n      <th>...</th>\n      <td>...</td>\n      <td>...</td>\n      <td>...</td>\n    </tr>\n    <tr>\n      <th>W-H12</th>\n      <td>-3.099563</td>\n      <td>-0.195059</td>\n      <td>-1.680345</td>\n    </tr>\n    <tr>\n      <th>W-P12</th>\n      <td>-2.355049</td>\n      <td>-2.882023</td>\n      <td>-1.738704</td>\n    </tr>\n    <tr>\n      <th>W-P11</th>\n      <td>-2.539278</td>\n      <td>-2.446231</td>\n      <td>-1.762977</td>\n    </tr>\n    <tr>\n      <th>W-P8</th>\n      <td>-2.407746</td>\n      <td>-3.074985</td>\n      <td>-1.799319</td>\n    </tr>\n    <tr>\n      <th>W-P9</th>\n      <td>-2.670833</td>\n      <td>-2.378327</td>\n      <td>-1.821422</td>\n    </tr>\n  </tbody>\n</table>\n<p>90 rows × 3 columns</p>\n</div>"
     },
     "execution_count": 28,
     "metadata": {},
     "output_type": "execute_result"
    }
   ],
   "source": [
    "comprehensive_score = pd.DataFrame(X_new.iloc[:, [0, 1]])\n",
    "comprehensive_score.columns = ['PCA 0', 'PCA 1']\n",
    "comprehensive_score['综合得分'] = comprehensive_score.iloc[:, 0] * factor_weight_analysis.loc[\n",
    "    'PCA 0', '百分比'] + comprehensive_score.iloc[:, 1] * factor_weight_analysis.loc['PCA 1', '百分比']\n",
    "comprehensive_score.sort_values(by='综合得分', ascending=False)  # 按照综合得分列倒序排列"
   ]
  },
  {
   "cell_type": "code",
   "execution_count": 29,
   "metadata": {
    "pycharm": {
     "name": "#%%\n"
    }
   },
   "outputs": [
    {
     "data": {
      "text/plain": "var   W-pH   W-DO    W-TN  W-NO_{2}^{-}  W-NO_{3}^{-}  W-NH_{4}^{+}  W-COD  \\\nD-N1  8.10  10.66  3.9899        0.2799          0.33        2.9800  14.27   \nD-N5  7.90  11.06  3.7500        0.1807          0.26        2.7900  16.52   \nD-N4  7.84  10.62  3.8600        0.2090          0.25        2.8100  15.01   \nD-P1  7.47   9.95  3.9100        0.1199          0.20        2.3100  14.07   \nD-N3  8.10  10.58  3.6200        0.1025          0.29        2.8275  15.44   \n\nvar    W-T  \nD-N1  11.3  \nD-N5  13.6  \nD-N4  13.8  \nD-P1  11.4  \nD-N3  14.7  ",
      "text/html": "<div>\n<style scoped>\n    .dataframe tbody tr th:only-of-type {\n        vertical-align: middle;\n    }\n\n    .dataframe tbody tr th {\n        vertical-align: top;\n    }\n\n    .dataframe thead th {\n        text-align: right;\n    }\n</style>\n<table border=\"1\" class=\"dataframe\">\n  <thead>\n    <tr style=\"text-align: right;\">\n      <th>var</th>\n      <th>W-pH</th>\n      <th>W-DO</th>\n      <th>W-TN</th>\n      <th>W-NO_{2}^{-}</th>\n      <th>W-NO_{3}^{-}</th>\n      <th>W-NH_{4}^{+}</th>\n      <th>W-COD</th>\n      <th>W-T</th>\n    </tr>\n  </thead>\n  <tbody>\n    <tr>\n      <th>D-N1</th>\n      <td>8.10</td>\n      <td>10.66</td>\n      <td>3.9899</td>\n      <td>0.2799</td>\n      <td>0.33</td>\n      <td>2.9800</td>\n      <td>14.27</td>\n      <td>11.3</td>\n    </tr>\n    <tr>\n      <th>D-N5</th>\n      <td>7.90</td>\n      <td>11.06</td>\n      <td>3.7500</td>\n      <td>0.1807</td>\n      <td>0.26</td>\n      <td>2.7900</td>\n      <td>16.52</td>\n      <td>13.6</td>\n    </tr>\n    <tr>\n      <th>D-N4</th>\n      <td>7.84</td>\n      <td>10.62</td>\n      <td>3.8600</td>\n      <td>0.2090</td>\n      <td>0.25</td>\n      <td>2.8100</td>\n      <td>15.01</td>\n      <td>13.8</td>\n    </tr>\n    <tr>\n      <th>D-P1</th>\n      <td>7.47</td>\n      <td>9.95</td>\n      <td>3.9100</td>\n      <td>0.1199</td>\n      <td>0.20</td>\n      <td>2.3100</td>\n      <td>14.07</td>\n      <td>11.4</td>\n    </tr>\n    <tr>\n      <th>D-N3</th>\n      <td>8.10</td>\n      <td>10.58</td>\n      <td>3.6200</td>\n      <td>0.1025</td>\n      <td>0.29</td>\n      <td>2.8275</td>\n      <td>15.44</td>\n      <td>14.7</td>\n    </tr>\n  </tbody>\n</table>\n</div>"
     },
     "execution_count": 29,
     "metadata": {},
     "output_type": "execute_result"
    }
   ],
   "source": [
    "df.loc[comprehensive_score.sort_values(\n",
    "    by='综合得分', ascending=False).head(5).index]  # 获取综合得分前五的人员"
   ]
  },
  {
   "cell_type": "code",
   "execution_count": 76,
   "outputs": [
    {
     "data": {
      "text/plain": "Gene  AOA_amoA  AOB_amoA      nxrA      narG      napA      nirK      nirS  \\\nID                                                                           \nD-H1 -0.795439 -0.937835 -1.137722 -0.450554 -0.256669 -0.674825 -0.220976   \nD-H2 -0.873721 -0.882690 -1.138873 -0.467356 -0.532361 -0.665681  0.652727   \nD-H3 -1.169817  0.036094 -1.133688 -0.546952 -0.589798 -0.687748  4.103715   \nD-H4 -0.556729  0.306753 -1.135373 -0.619299 -0.636979 -0.689912  0.687616   \nD-H5 -0.853504  0.617796 -1.135192 -0.612103 -0.718548 -0.660290  2.122989   \n...        ...       ...       ...       ...       ...       ...       ...   \nW-P5  1.062522  0.395513  0.354735 -0.480421 -0.233360  1.084086 -0.127432   \nW-P6  0.221768 -0.962847  1.503089 -0.502824  0.925694  0.107821 -0.420557   \nW-P7 -0.898978 -0.740817  1.360321  0.485719 -0.357265 -0.275077 -0.219501   \nW-P8 -0.098595 -0.145754  0.541166  3.189789 -0.151368  0.216944 -0.309299   \nW-P9 -0.344482  0.733914  2.255894  0.629312 -0.639408 -0.051872 -0.253115   \n\nGene      nosZ      norB      hzsA      hzsB       hzo      nifH  \nID                                                                \nD-H1 -0.596444 -0.419935 -0.734460 -0.461042 -1.252559 -0.840610  \nD-H2 -0.599384 -0.810940 -0.609016 -0.468489 -1.260703 -0.840892  \nD-H3 -0.597372 -0.809251 -0.627655 -0.440326 -1.319799 -0.842860  \nD-H4 -0.599713 -0.710485 -0.727336 -0.497158 -1.403723 -0.835846  \nD-H5 -0.597583 -0.732810 -0.704976 -0.499605 -1.413619 -0.836763  \n...        ...       ...       ...       ...       ...       ...  \nW-P5  0.325595  0.369604 -0.546930 -0.247384  0.573940 -0.412118  \nW-P6  1.059534  0.894179 -0.308898 -0.355364 -0.308344 -0.063045  \nW-P7 -0.334992  2.262558 -0.122237  0.298247  0.088110  0.563432  \nW-P8  0.786497  1.141064  0.204150  0.769593  1.073894  2.492700  \nW-P9 -0.139594  0.178568 -0.063931 -0.014930 -0.565959  0.792399  \n\n[90 rows x 13 columns]",
      "text/html": "<div>\n<style scoped>\n    .dataframe tbody tr th:only-of-type {\n        vertical-align: middle;\n    }\n\n    .dataframe tbody tr th {\n        vertical-align: top;\n    }\n\n    .dataframe thead th {\n        text-align: right;\n    }\n</style>\n<table border=\"1\" class=\"dataframe\">\n  <thead>\n    <tr style=\"text-align: right;\">\n      <th>Gene</th>\n      <th>AOA_amoA</th>\n      <th>AOB_amoA</th>\n      <th>nxrA</th>\n      <th>narG</th>\n      <th>napA</th>\n      <th>nirK</th>\n      <th>nirS</th>\n      <th>nosZ</th>\n      <th>norB</th>\n      <th>hzsA</th>\n      <th>hzsB</th>\n      <th>hzo</th>\n      <th>nifH</th>\n    </tr>\n    <tr>\n      <th>ID</th>\n      <th></th>\n      <th></th>\n      <th></th>\n      <th></th>\n      <th></th>\n      <th></th>\n      <th></th>\n      <th></th>\n      <th></th>\n      <th></th>\n      <th></th>\n      <th></th>\n      <th></th>\n    </tr>\n  </thead>\n  <tbody>\n    <tr>\n      <th>D-H1</th>\n      <td>-0.795439</td>\n      <td>-0.937835</td>\n      <td>-1.137722</td>\n      <td>-0.450554</td>\n      <td>-0.256669</td>\n      <td>-0.674825</td>\n      <td>-0.220976</td>\n      <td>-0.596444</td>\n      <td>-0.419935</td>\n      <td>-0.734460</td>\n      <td>-0.461042</td>\n      <td>-1.252559</td>\n      <td>-0.840610</td>\n    </tr>\n    <tr>\n      <th>D-H2</th>\n      <td>-0.873721</td>\n      <td>-0.882690</td>\n      <td>-1.138873</td>\n      <td>-0.467356</td>\n      <td>-0.532361</td>\n      <td>-0.665681</td>\n      <td>0.652727</td>\n      <td>-0.599384</td>\n      <td>-0.810940</td>\n      <td>-0.609016</td>\n      <td>-0.468489</td>\n      <td>-1.260703</td>\n      <td>-0.840892</td>\n    </tr>\n    <tr>\n      <th>D-H3</th>\n      <td>-1.169817</td>\n      <td>0.036094</td>\n      <td>-1.133688</td>\n      <td>-0.546952</td>\n      <td>-0.589798</td>\n      <td>-0.687748</td>\n      <td>4.103715</td>\n      <td>-0.597372</td>\n      <td>-0.809251</td>\n      <td>-0.627655</td>\n      <td>-0.440326</td>\n      <td>-1.319799</td>\n      <td>-0.842860</td>\n    </tr>\n    <tr>\n      <th>D-H4</th>\n      <td>-0.556729</td>\n      <td>0.306753</td>\n      <td>-1.135373</td>\n      <td>-0.619299</td>\n      <td>-0.636979</td>\n      <td>-0.689912</td>\n      <td>0.687616</td>\n      <td>-0.599713</td>\n      <td>-0.710485</td>\n      <td>-0.727336</td>\n      <td>-0.497158</td>\n      <td>-1.403723</td>\n      <td>-0.835846</td>\n    </tr>\n    <tr>\n      <th>D-H5</th>\n      <td>-0.853504</td>\n      <td>0.617796</td>\n      <td>-1.135192</td>\n      <td>-0.612103</td>\n      <td>-0.718548</td>\n      <td>-0.660290</td>\n      <td>2.122989</td>\n      <td>-0.597583</td>\n      <td>-0.732810</td>\n      <td>-0.704976</td>\n      <td>-0.499605</td>\n      <td>-1.413619</td>\n      <td>-0.836763</td>\n    </tr>\n    <tr>\n      <th>...</th>\n      <td>...</td>\n      <td>...</td>\n      <td>...</td>\n      <td>...</td>\n      <td>...</td>\n      <td>...</td>\n      <td>...</td>\n      <td>...</td>\n      <td>...</td>\n      <td>...</td>\n      <td>...</td>\n      <td>...</td>\n      <td>...</td>\n    </tr>\n    <tr>\n      <th>W-P5</th>\n      <td>1.062522</td>\n      <td>0.395513</td>\n      <td>0.354735</td>\n      <td>-0.480421</td>\n      <td>-0.233360</td>\n      <td>1.084086</td>\n      <td>-0.127432</td>\n      <td>0.325595</td>\n      <td>0.369604</td>\n      <td>-0.546930</td>\n      <td>-0.247384</td>\n      <td>0.573940</td>\n      <td>-0.412118</td>\n    </tr>\n    <tr>\n      <th>W-P6</th>\n      <td>0.221768</td>\n      <td>-0.962847</td>\n      <td>1.503089</td>\n      <td>-0.502824</td>\n      <td>0.925694</td>\n      <td>0.107821</td>\n      <td>-0.420557</td>\n      <td>1.059534</td>\n      <td>0.894179</td>\n      <td>-0.308898</td>\n      <td>-0.355364</td>\n      <td>-0.308344</td>\n      <td>-0.063045</td>\n    </tr>\n    <tr>\n      <th>W-P7</th>\n      <td>-0.898978</td>\n      <td>-0.740817</td>\n      <td>1.360321</td>\n      <td>0.485719</td>\n      <td>-0.357265</td>\n      <td>-0.275077</td>\n      <td>-0.219501</td>\n      <td>-0.334992</td>\n      <td>2.262558</td>\n      <td>-0.122237</td>\n      <td>0.298247</td>\n      <td>0.088110</td>\n      <td>0.563432</td>\n    </tr>\n    <tr>\n      <th>W-P8</th>\n      <td>-0.098595</td>\n      <td>-0.145754</td>\n      <td>0.541166</td>\n      <td>3.189789</td>\n      <td>-0.151368</td>\n      <td>0.216944</td>\n      <td>-0.309299</td>\n      <td>0.786497</td>\n      <td>1.141064</td>\n      <td>0.204150</td>\n      <td>0.769593</td>\n      <td>1.073894</td>\n      <td>2.492700</td>\n    </tr>\n    <tr>\n      <th>W-P9</th>\n      <td>-0.344482</td>\n      <td>0.733914</td>\n      <td>2.255894</td>\n      <td>0.629312</td>\n      <td>-0.639408</td>\n      <td>-0.051872</td>\n      <td>-0.253115</td>\n      <td>-0.139594</td>\n      <td>0.178568</td>\n      <td>-0.063931</td>\n      <td>-0.014930</td>\n      <td>-0.565959</td>\n      <td>0.792399</td>\n    </tr>\n  </tbody>\n</table>\n<p>90 rows × 13 columns</p>\n</div>"
     },
     "execution_count": 76,
     "metadata": {},
     "output_type": "execute_result"
    }
   ],
   "source": [
    "# 标准化\n",
    "demo_df_std = zscore(gene_abundance.iloc[:,2:], ddof=1)\n",
    "demo_df_std"
   ],
   "metadata": {
    "collapsed": false,
    "pycharm": {
     "name": "#%%\n"
    }
   }
  },
  {
   "cell_type": "code",
   "execution_count": 77,
   "outputs": [],
   "source": [
    "md = PCA().fit(demo_df_std)"
   ],
   "metadata": {
    "collapsed": false,
    "pycharm": {
     "name": "#%%\n"
    }
   }
  },
  {
   "cell_type": "code",
   "execution_count": 78,
   "outputs": [
    {
     "data": {
      "text/plain": "array([5.462, 1.519, 1.296, 1.169, 0.904, 0.725, 0.516, 0.45 , 0.269,\n       0.234, 0.194, 0.143, 0.119])"
     },
     "execution_count": 78,
     "metadata": {},
     "output_type": "execute_result"
    }
   ],
   "source": [
    "# 特征值\n",
    "md.explained_variance_.round(3)"
   ],
   "metadata": {
    "collapsed": false,
    "pycharm": {
     "name": "#%%\n"
    }
   }
  },
  {
   "cell_type": "code",
   "execution_count": 79,
   "outputs": [
    {
     "data": {
      "text/plain": "array([0.42015038, 0.1168658 , 0.09969464, 0.0898866 , 0.06953277,\n       0.05573654, 0.039693  , 0.03458508, 0.02072494, 0.01800469,\n       0.01493742, 0.01099922, 0.0091889 ])"
     },
     "execution_count": 79,
     "metadata": {},
     "output_type": "execute_result"
    }
   ],
   "source": [
    "# 各主成分贡献率\n",
    "md.explained_variance_ratio_"
   ],
   "metadata": {
    "collapsed": false,
    "pycharm": {
     "name": "#%%\n"
    }
   }
  },
  {
   "cell_type": "code",
   "execution_count": 80,
   "outputs": [
    {
     "data": {
      "text/plain": "array([[ 0.345,  0.063,  0.306,  0.256,  0.226,  0.346, -0.134,  0.384,\n         0.289,  0.281,  0.308,  0.189,  0.299],\n       [ 0.317,  0.26 , -0.066, -0.379, -0.175,  0.244,  0.433,  0.175,\n        -0.095, -0.101,  0.383, -0.433, -0.144],\n       [-0.068,  0.58 ,  0.187,  0.101,  0.481, -0.055, -0.009, -0.059,\n         0.214,  0.112, -0.265, -0.239, -0.436],\n       [-0.001, -0.37 , -0.203,  0.441,  0.152, -0.159,  0.564,  0.051,\n         0.154,  0.273, -0.108, -0.371,  0.107],\n       [-0.01 ,  0.156, -0.406,  0.088,  0.252,  0.32 ,  0.288,  0.168,\n         0.108, -0.56 , -0.252,  0.345,  0.136],\n       [-0.198,  0.456, -0.069,  0.234, -0.572, -0.145,  0.024, -0.105,\n         0.492, -0.049,  0.072, -0.06 ,  0.282],\n       [ 0.033,  0.441, -0.16 ,  0.243, -0.081, -0.082,  0.196,  0.026,\n        -0.642,  0.392, -0.011,  0.297,  0.11 ],\n       [-0.234, -0.066,  0.563, -0.165, -0.074, -0.168,  0.565,  0.075,\n         0.111, -0.025,  0.041,  0.447, -0.153],\n       [-0.113, -0.061, -0.524, -0.294, -0.041,  0.073, -0.015,  0.095,\n         0.352,  0.493,  0.102,  0.317, -0.359],\n       [-0.462,  0.092,  0.011, -0.415,  0.337,  0.189,  0.088, -0.244,\n        -0.01 ,  0.212,  0.068, -0.138,  0.565],\n       [ 0.641,  0.069, -0.022, -0.358,  0.056, -0.384,  0.082, -0.199,\n         0.178,  0.093, -0.347,  0.127,  0.287],\n       [-0.014,  0.069, -0.192,  0.058,  0.376, -0.575, -0.039, -0.024,\n         0.022, -0.238,  0.643,  0.097,  0.023],\n       [ 0.208, -0.052,  0.022,  0.217,  0.029,  0.34 ,  0.134, -0.813,\n         0.058, -0.001,  0.24 ,  0.164, -0.153]])"
     },
     "execution_count": 80,
     "metadata": {},
     "output_type": "execute_result"
    }
   ],
   "source": [
    "xs1 = md.components_\n",
    "check = xs1.sum(axis=1, keepdims=True)\n",
    "xs2 = xs1*np.sign(check)\n",
    "xs2.round(3)"
   ],
   "metadata": {
    "collapsed": false,
    "pycharm": {
     "name": "#%%\n"
    }
   }
  },
  {
   "cell_type": "code",
   "execution_count": 71,
   "outputs": [
    {
     "data": {
      "text/plain": "0     1.0\n1     1.0\n2     1.0\n3     1.0\n4     1.0\n5     1.0\n6     1.0\n7     1.0\n8     1.0\n9     1.0\n10    1.0\n11    1.0\n12    1.0\n13    1.0\n14    1.0\ndtype: float64"
     },
     "execution_count": 71,
     "metadata": {},
     "output_type": "execute_result"
    }
   ],
   "source": [
    "# 验证PCA结果\n",
    "pd.DataFrame(xs2).applymap(lambda x: x**2).sum(axis=0)"
   ],
   "metadata": {
    "collapsed": false,
    "pycharm": {
     "name": "#%%\n"
    }
   }
  },
  {
   "cell_type": "code",
   "execution_count": 72,
   "outputs": [
    {
     "data": {
      "text/plain": "-6.938893903907228e-18"
     },
     "execution_count": 72,
     "metadata": {},
     "output_type": "execute_result"
    }
   ],
   "source": [
    "np.sum(pd.DataFrame(xs2).iloc[0,:] * pd.DataFrame(xs2).iloc[1,:])"
   ],
   "metadata": {
    "collapsed": false,
    "pycharm": {
     "name": "#%%\n"
    }
   }
  }
 ],
 "metadata": {
  "kernelspec": {
   "display_name": "Python 3",
   "language": "python",
   "name": "python3"
  },
  "language_info": {
   "codemirror_mode": {
    "name": "ipython",
    "version": 3
   },
   "file_extension": ".py",
   "mimetype": "text/x-python",
   "name": "python",
   "nbconvert_exporter": "python",
   "pygments_lexer": "ipython3",
   "version": "3.10.4 (tags/v3.10.4:9d38120, Mar 23 2022, 23:13:41) [MSC v.1929 64 bit (AMD64)]"
  },
  "orig_nbformat": 4,
  "vscode": {
   "interpreter": {
    "hash": "94080b48160be75dd0f70ce80ac2a91b12db0680af2013e6f49edfa38b3c2a01"
   }
  }
 },
 "nbformat": 4,
 "nbformat_minor": 2
}