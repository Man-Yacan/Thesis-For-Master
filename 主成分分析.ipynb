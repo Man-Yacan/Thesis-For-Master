{
 "cells": [
  {
   "cell_type": "code",
   "execution_count": 1,
   "metadata": {
    "pycharm": {
     "name": "#%%\n"
    }
   },
   "outputs": [],
   "source": [
    "from ResearchMain import *"
   ]
  },
  {
   "attachments": {},
   "cell_type": "markdown",
   "metadata": {
    "pycharm": {
     "name": "#%% md\n"
    }
   },
   "source": [
    "## 数据准备"
   ]
  },
  {
   "attachments": {},
   "cell_type": "markdown",
   "metadata": {
    "pycharm": {
     "name": "#%% md\n"
    }
   },
   "source": [
    "### 演示数据集\n",
    "泰坦尼克号数据结构分析：\n",
    "- Pclass:乘客所持票类，有三种值(1：lower,2：middle,3：upper)\n",
    "- Survived:0代表死亡，1代表存活\n",
    "- Name:乘客姓名\n",
    "- Sex:乘客性别(男：1，女：0)\n",
    "- Age:乘客年龄(缺失值取平均值)\n",
    "- SibSp:乘客兄弟姐妹/配偶的个数(整数值)\n",
    "- Parch:乘客父母/孩子的个数(整数值)\n",
    "- Ticket:票号(字符串)\n",
    "- Fare:乘客所持票的价格(浮点数，0-500不等)\n",
    "- Cabin:乘客所在船舱\n",
    "- Embark:乘客登船港口:S、C、Q"
   ]
  },
  {
   "cell_type": "code",
   "execution_count": 2,
   "metadata": {
    "pycharm": {
     "name": "#%%\n"
    }
   },
   "outputs": [],
   "source": [
    "# 读取演示数据集\n",
    "# demo_data_name = 'pca_demo_titanic.csv'\n",
    "# demo_data = pd.read_csv(DATA_PATH+demo_data_name, index_col='PassengerId')\n",
    "# data.head(3)\n"
   ]
  },
  {
   "cell_type": "code",
   "execution_count": 3,
   "metadata": {
    "pycharm": {
     "name": "#%%\n"
    }
   },
   "outputs": [],
   "source": [
    "# df = demo_data"
   ]
  },
  {
   "attachments": {},
   "cell_type": "markdown",
   "metadata": {
    "pycharm": {
     "name": "#%% md\n"
    }
   },
   "source": [
    "### 读取分析数据"
   ]
  },
  {
   "cell_type": "code",
   "execution_count": 2,
   "metadata": {
    "pycharm": {
     "name": "#%%\n"
    }
   },
   "outputs": [
    {
     "data": {
      "text/plain": "       W-pH   W-DO    W-TN  W-NO_{2}^{-}  W-NO_{3}^{-}  W-NH_{4}^{+}  W-COD  \\\nD-N1   8.10  10.66  3.9899       0.27990      0.330000      2.980000  11.77   \nD-N2   8.00  10.02  3.7400       0.09160      0.300000      2.740000  11.63   \nD-N3   8.10  10.58  3.6200       0.10250      0.290000      2.827500  12.94   \nD-N4   7.84  10.62  3.8600       0.20900      0.250000      2.810000  12.51   \nD-N5   7.90  11.06  3.7500       0.18070      0.260000      2.790000  14.02   \n...     ...    ...     ...           ...           ...           ...    ...   \nW-H8   9.11   9.14  1.9000       0.00001      0.051411      0.667800   5.94   \nW-H9   8.79   8.82  1.3800       0.00001      0.008870      1.085500   6.92   \nW-H10  9.17   9.74  1.3300       0.00001      0.030141      1.299859   6.11   \nW-H11  9.14   9.78  1.6300       0.00001      0.004616      1.422200   6.13   \nW-H12  8.78  10.73  1.1000       0.00001      0.017379      1.082621   5.60   \n\n        W-T  \nD-N1   11.3  \nD-N2   12.5  \nD-N3   14.7  \nD-N4   13.8  \nD-N5   13.6  \n...     ...  \nW-H8   20.4  \nW-H9   22.6  \nW-H10  21.4  \nW-H11  22.0  \nW-H12  22.3  \n\n[90 rows x 8 columns]",
      "text/html": "<div>\n<style scoped>\n    .dataframe tbody tr th:only-of-type {\n        vertical-align: middle;\n    }\n\n    .dataframe tbody tr th {\n        vertical-align: top;\n    }\n\n    .dataframe thead th {\n        text-align: right;\n    }\n</style>\n<table border=\"1\" class=\"dataframe\">\n  <thead>\n    <tr style=\"text-align: right;\">\n      <th></th>\n      <th>W-pH</th>\n      <th>W-DO</th>\n      <th>W-TN</th>\n      <th>W-NO_{2}^{-}</th>\n      <th>W-NO_{3}^{-}</th>\n      <th>W-NH_{4}^{+}</th>\n      <th>W-COD</th>\n      <th>W-T</th>\n    </tr>\n  </thead>\n  <tbody>\n    <tr>\n      <th>D-N1</th>\n      <td>8.10</td>\n      <td>10.66</td>\n      <td>3.9899</td>\n      <td>0.27990</td>\n      <td>0.330000</td>\n      <td>2.980000</td>\n      <td>11.77</td>\n      <td>11.3</td>\n    </tr>\n    <tr>\n      <th>D-N2</th>\n      <td>8.00</td>\n      <td>10.02</td>\n      <td>3.7400</td>\n      <td>0.09160</td>\n      <td>0.300000</td>\n      <td>2.740000</td>\n      <td>11.63</td>\n      <td>12.5</td>\n    </tr>\n    <tr>\n      <th>D-N3</th>\n      <td>8.10</td>\n      <td>10.58</td>\n      <td>3.6200</td>\n      <td>0.10250</td>\n      <td>0.290000</td>\n      <td>2.827500</td>\n      <td>12.94</td>\n      <td>14.7</td>\n    </tr>\n    <tr>\n      <th>D-N4</th>\n      <td>7.84</td>\n      <td>10.62</td>\n      <td>3.8600</td>\n      <td>0.20900</td>\n      <td>0.250000</td>\n      <td>2.810000</td>\n      <td>12.51</td>\n      <td>13.8</td>\n    </tr>\n    <tr>\n      <th>D-N5</th>\n      <td>7.90</td>\n      <td>11.06</td>\n      <td>3.7500</td>\n      <td>0.18070</td>\n      <td>0.260000</td>\n      <td>2.790000</td>\n      <td>14.02</td>\n      <td>13.6</td>\n    </tr>\n    <tr>\n      <th>...</th>\n      <td>...</td>\n      <td>...</td>\n      <td>...</td>\n      <td>...</td>\n      <td>...</td>\n      <td>...</td>\n      <td>...</td>\n      <td>...</td>\n    </tr>\n    <tr>\n      <th>W-H8</th>\n      <td>9.11</td>\n      <td>9.14</td>\n      <td>1.9000</td>\n      <td>0.00001</td>\n      <td>0.051411</td>\n      <td>0.667800</td>\n      <td>5.94</td>\n      <td>20.4</td>\n    </tr>\n    <tr>\n      <th>W-H9</th>\n      <td>8.79</td>\n      <td>8.82</td>\n      <td>1.3800</td>\n      <td>0.00001</td>\n      <td>0.008870</td>\n      <td>1.085500</td>\n      <td>6.92</td>\n      <td>22.6</td>\n    </tr>\n    <tr>\n      <th>W-H10</th>\n      <td>9.17</td>\n      <td>9.74</td>\n      <td>1.3300</td>\n      <td>0.00001</td>\n      <td>0.030141</td>\n      <td>1.299859</td>\n      <td>6.11</td>\n      <td>21.4</td>\n    </tr>\n    <tr>\n      <th>W-H11</th>\n      <td>9.14</td>\n      <td>9.78</td>\n      <td>1.6300</td>\n      <td>0.00001</td>\n      <td>0.004616</td>\n      <td>1.422200</td>\n      <td>6.13</td>\n      <td>22.0</td>\n    </tr>\n    <tr>\n      <th>W-H12</th>\n      <td>8.78</td>\n      <td>10.73</td>\n      <td>1.1000</td>\n      <td>0.00001</td>\n      <td>0.017379</td>\n      <td>1.082621</td>\n      <td>5.60</td>\n      <td>22.3</td>\n    </tr>\n  </tbody>\n</table>\n<p>90 rows × 8 columns</p>\n</div>"
     },
     "execution_count": 2,
     "metadata": {},
     "output_type": "execute_result"
    }
   ],
   "source": [
    "_ = all_df[[i for i in all_df.columns if\n",
    "            isinstance(i, str) and i.startswith('S')]].replace(0, 0.00001)\n",
    "sediment_df = _.drop(['S-Size-d((0.9-0.1)/0.5)', 'S-pH'], axis=1)\n",
    "\n",
    "water_df = all_df[[i for i in all_df.columns if\n",
    "                   isinstance(i, str) and i.startswith('W')]].replace(0, 0.00001)\n",
    "water_df = water_df.drop(['W-PO_{4}^{3-}', 'W-TP'], axis=1)\n",
    "\n",
    "df = water_df\n",
    "df"
   ]
  },
  {
   "attachments": {},
   "cell_type": "markdown",
   "metadata": {
    "pycharm": {
     "name": "#%% md\n"
    }
   },
   "source": [
    "## PCA分析\n",
    "\n",
    "注意点：\n",
    "\n",
    "1. 上面经过数据准备后，最后进行PCA分析的数据矩阵应命名为df；\n",
    "2. 数据表不可以有空值；"
   ]
  },
  {
   "attachments": {},
   "cell_type": "markdown",
   "metadata": {
    "pycharm": {
     "name": "#%% md\n"
    }
   },
   "source": [
    "### 预检验\n",
    "\n",
    "首先进行KMO和Bartlett的检验，判断是否可以进行主成分分析。 对于KMO值：0.8上非常合适做主成分分析，0.7-0.8之间一般适合，0.6-0.7之间不太适合，0.5-0.6之间表示差，0.5下表示极不适合，对于 Bartlett的检验（p < 0.05,严格来说p < 0.01），若显著性小于0.05或0.01，拒绝原假设，则说明可以做主成分分析，若不拒绝原假设，则说明这些变量可能独立提供一些信息，不适合做主成分分析；"
   ]
  },
  {
   "cell_type": "code",
   "execution_count": 3,
   "metadata": {
    "pycharm": {
     "name": "#%%\n"
    }
   },
   "outputs": [
    {
     "data": {
      "text/plain": "3.406028570317677e-82"
     },
     "execution_count": 3,
     "metadata": {},
     "output_type": "execute_result"
    }
   ],
   "source": [
    "from factor_analyzer.factor_analyzer import calculate_bartlett_sphericity\n",
    "\n",
    "# 巴特利特P值小于0.01，KMO值大于0.6；说明此数据适合做因子分析。\n",
    "chi_square_value, p_value = calculate_bartlett_sphericity(df)  # 计算巴特利特P值\n",
    "p_value\n"
   ]
  },
  {
   "cell_type": "code",
   "execution_count": 4,
   "metadata": {
    "pycharm": {
     "name": "#%%\n"
    }
   },
   "outputs": [
    {
     "data": {
      "text/plain": "0.823607114773911"
     },
     "execution_count": 4,
     "metadata": {},
     "output_type": "execute_result"
    }
   ],
   "source": [
    "from factor_analyzer.factor_analyzer import calculate_kmo\n",
    "\n",
    "kmo_all, kmo_model = calculate_kmo(df)\n",
    "kmo_model\n"
   ]
  },
  {
   "cell_type": "code",
   "execution_count": 5,
   "metadata": {
    "pycharm": {
     "name": "#%%\n"
    }
   },
   "outputs": [
    {
     "data": {
      "text/plain": "<AxesSubplot:>"
     },
     "execution_count": 5,
     "metadata": {},
     "output_type": "execute_result"
    },
    {
     "data": {
      "text/plain": "<Figure size 960x600 with 2 Axes>",
      "image/png": "[encoded data removed]"
     },
     "metadata": {
      "needs_background": "light"
     },
     "output_type": "display_data"
    }
   ],
   "source": [
    "# 查看数据各列之间的相关性\n",
    "matrix = df.corr()  # 获取各列之间的相关性，这个matrix其实就是X的协方差矩阵\n",
    "mask = np.triu(np.ones_like(matrix, dtype=bool))  # mask掉上三角部分\n",
    "plt.figure(figsize=(8, 5), dpi=120)\n",
    "cmap = sns.diverging_palette(370, 120, n=80, as_cmap=True)\n",
    "sns.heatmap(matrix, mask=mask, center=0, cmap=cmap, annot=True,\n",
    "            square=True, fmt='.2f', vmax=1, vmin=-1)\n",
    "# plt.title('泰坦尼克号数据集各列之间的相关性')\n"
   ]
  },
  {
   "attachments": {},
   "cell_type": "markdown",
   "metadata": {
    "pycharm": {
     "name": "#%% md\n"
    }
   },
   "source": [
    "### 数据标准化"
   ]
  },
  {
   "cell_type": "code",
   "execution_count": 6,
   "metadata": {
    "pycharm": {
     "name": "#%%\n"
    }
   },
   "outputs": [],
   "source": [
    "# 数据矩阵标准化与中心化\n",
    "X = (df - df.mean()) / df.std(ddof=0)\n"
   ]
  },
  {
   "attachments": {},
   "cell_type": "markdown",
   "metadata": {
    "pycharm": {
     "name": "#%% md\n"
    }
   },
   "source": [
    "这一步是主成分分析（PCA）的数据预处理，首先计算出矩阵中每一列的平均值，然后让每一列中的每一个元素都减去该列的平均值。在进行完这一步之后可以观察每一列数据的分散情况，如果列与列之间的差距仍过大，可以再计算出每一列的方差，然后再将减去平均值后的结果除以每一列的方差（这一步是可选步骤，叫做方差归一化）。\n",
    "\n",
    "如果两步都做了，这个叫做数据的normalization——对一个非标准的正态分布随机变量转化为标准的正态分布随机变量。\n",
    "\n",
    "这里一个注意点：\n",
    "我们使用ddof=1样本标准偏差或ddof=0总体标准偏差作为参数来控制。"
   ]
  },
  {
   "attachments": {},
   "cell_type": "markdown",
   "metadata": {
    "pycharm": {
     "name": "#%% md\n"
    }
   },
   "source": [
    "### 算法降维处理\n",
    "在选取特征值的时候，要选取比较大的，特征值大的话数据方差就大，这也就意味着在经过降维后，可以最大程度上保留数据的差异性。\n",
    "\n",
    "降维的过程实际就是寻找投影方向的过程。\n",
    "\n",
    "从一个方面讲:\n",
    "\n",
    "- 好的投影方向，可以使得投影误差最小化。\n",
    "- 投影误差是各个数据点到投影点距离，这也就意味着经过降维处理后的损失达到最小。\n",
    "\n",
    "从另一个方面讲:\n",
    "\n",
    "- 好的投影方向，也就意味着在该方向投影的方差应该最大(分散度/区分度高)，可是使得信息在最大程度上得到保留。\n",
    "- 复原误差小、重建容易。\n",
    "\n",
    "降维的步骤：\n",
    "\n",
    "目标：将n维数据降低为k维(k<n)。\n",
    "（1）计算协方差矩阵：协方差矩阵（n×n）其实就是原数据矩阵中每两列之间的相关性系数；\n",
    "（2）计算投影方向：对E进行奇异值分解(Singular Value Decomposition) [U,S,V] = svd (SIGMA)\n",
    "\n",
    "其中U是一个nxn的矩阵，它每列是SIGMA的一个特征向量(线性代数概念)，U的前k列就是PCA的前k个投影向;我们将U的前k列记为投影矩阵P.\n",
    "U的每一列都是一个特征向量，因此它的模长都为1，且特征向量之间都是正交的，乘积都为0\n",
    "\n",
    "计算投影：\n",
    "\n",
    "- 上一步我们得到了投影矩阵$P \\in R^{n \\times k}$；\n",
    "- 对于第i个n维样本$x^{(i)}$，计算$z^{(i)} = x^{(i)} * P$，$z^{(i)}$就是降维后的第i个样本。\n",
    "\n",
    "$$\n",
    "X \\in R^{m \\times n} \\times P \\in R^{n \\times k} = Z \\in R^{m \\times k}\n",
    "$$\n"
   ]
  },
  {
   "cell_type": "code",
   "execution_count": 7,
   "metadata": {
    "pycharm": {
     "name": "#%%\n"
    }
   },
   "outputs": [],
   "source": [
    "# SIGMA  # 各列之间的相关性（可以查看上面使用X.corr()命令获取矩阵X中各列之间的相关性所绘制的热图中的数据其实就是计算了矩阵X的协方差）\n",
    "# 计算协方差矩阵（代表原矩阵中各列之间的相关性），@用来计算矩阵之间的乘法，.shape[0]获取矩阵中有多少行\n",
    "SIGMA = (X.T @ X) / X.shape[0]\n",
    "# 奇异值分解\n",
    "U, S, V = np.linalg.svd(SIGMA)  # S 是个对角矩阵，是特征值，U是特征值对应的标准正交特征向量\n",
    "# U\n",
    "P = U[:, :2]  # 这里取U的前两列就是前两个投影的方向\n",
    "# P\n",
    "Z = X @ P  # Z就是经过降维后的矩阵\n",
    "# Z\n"
   ]
  },
  {
   "cell_type": "code",
   "execution_count": 8,
   "metadata": {
    "pycharm": {
     "name": "#%%\n"
    }
   },
   "outputs": [
    {
     "data": {
      "text/plain": "                  W-pH      W-DO      W-TN  W-NO_{2}^{-}  W-NO_{3}^{-}  \\\nW-pH          1.000000  0.356634 -0.560777     -0.257999     -0.302546   \nW-DO          0.356634  1.000000  0.024845      0.080646     -0.019796   \nW-TN         -0.560777  0.024845  1.000000      0.610175      0.545254   \nW-NO_{2}^{-} -0.257999  0.080646  0.610175      1.000000      0.449292   \nW-NO_{3}^{-} -0.302546 -0.019796  0.545254      0.449292      1.000000   \nW-NH_{4}^{+} -0.456350 -0.078357  0.769003      0.638340      0.550762   \nW-COD        -0.559609 -0.138327  0.831725      0.601666      0.578849   \nW-T           0.634866  0.193316 -0.762336     -0.411917     -0.229810   \n\n              W-NH_{4}^{+}     W-COD       W-T  \nW-pH             -0.456350 -0.559609  0.634866  \nW-DO             -0.078357 -0.138327  0.193316  \nW-TN              0.769003  0.831725 -0.762336  \nW-NO_{2}^{-}      0.638340  0.601666 -0.411917  \nW-NO_{3}^{-}      0.550762  0.578849 -0.229810  \nW-NH_{4}^{+}      1.000000  0.776414 -0.565611  \nW-COD             0.776414  1.000000 -0.744809  \nW-T              -0.565611 -0.744809  1.000000  ",
      "text/html": "<div>\n<style scoped>\n    .dataframe tbody tr th:only-of-type {\n        vertical-align: middle;\n    }\n\n    .dataframe tbody tr th {\n        vertical-align: top;\n    }\n\n    .dataframe thead th {\n        text-align: right;\n    }\n</style>\n<table border=\"1\" class=\"dataframe\">\n  <thead>\n    <tr style=\"text-align: right;\">\n      <th></th>\n      <th>W-pH</th>\n      <th>W-DO</th>\n      <th>W-TN</th>\n      <th>W-NO_{2}^{-}</th>\n      <th>W-NO_{3}^{-}</th>\n      <th>W-NH_{4}^{+}</th>\n      <th>W-COD</th>\n      <th>W-T</th>\n    </tr>\n  </thead>\n  <tbody>\n    <tr>\n      <th>W-pH</th>\n      <td>1.000000</td>\n      <td>0.356634</td>\n      <td>-0.560777</td>\n      <td>-0.257999</td>\n      <td>-0.302546</td>\n      <td>-0.456350</td>\n      <td>-0.559609</td>\n      <td>0.634866</td>\n    </tr>\n    <tr>\n      <th>W-DO</th>\n      <td>0.356634</td>\n      <td>1.000000</td>\n      <td>0.024845</td>\n      <td>0.080646</td>\n      <td>-0.019796</td>\n      <td>-0.078357</td>\n      <td>-0.138327</td>\n      <td>0.193316</td>\n    </tr>\n    <tr>\n      <th>W-TN</th>\n      <td>-0.560777</td>\n      <td>0.024845</td>\n      <td>1.000000</td>\n      <td>0.610175</td>\n      <td>0.545254</td>\n      <td>0.769003</td>\n      <td>0.831725</td>\n      <td>-0.762336</td>\n    </tr>\n    <tr>\n      <th>W-NO_{2}^{-}</th>\n      <td>-0.257999</td>\n      <td>0.080646</td>\n      <td>0.610175</td>\n      <td>1.000000</td>\n      <td>0.449292</td>\n      <td>0.638340</td>\n      <td>0.601666</td>\n      <td>-0.411917</td>\n    </tr>\n    <tr>\n      <th>W-NO_{3}^{-}</th>\n      <td>-0.302546</td>\n      <td>-0.019796</td>\n      <td>0.545254</td>\n      <td>0.449292</td>\n      <td>1.000000</td>\n      <td>0.550762</td>\n      <td>0.578849</td>\n      <td>-0.229810</td>\n    </tr>\n    <tr>\n      <th>W-NH_{4}^{+}</th>\n      <td>-0.456350</td>\n      <td>-0.078357</td>\n      <td>0.769003</td>\n      <td>0.638340</td>\n      <td>0.550762</td>\n      <td>1.000000</td>\n      <td>0.776414</td>\n      <td>-0.565611</td>\n    </tr>\n    <tr>\n      <th>W-COD</th>\n      <td>-0.559609</td>\n      <td>-0.138327</td>\n      <td>0.831725</td>\n      <td>0.601666</td>\n      <td>0.578849</td>\n      <td>0.776414</td>\n      <td>1.000000</td>\n      <td>-0.744809</td>\n    </tr>\n    <tr>\n      <th>W-T</th>\n      <td>0.634866</td>\n      <td>0.193316</td>\n      <td>-0.762336</td>\n      <td>-0.411917</td>\n      <td>-0.229810</td>\n      <td>-0.565611</td>\n      <td>-0.744809</td>\n      <td>1.000000</td>\n    </tr>\n  </tbody>\n</table>\n</div>"
     },
     "execution_count": 8,
     "metadata": {},
     "output_type": "execute_result"
    }
   ],
   "source": [
    "X = (df - df.mean()) / df.std(ddof=0)  # 获取经过Normalization的矩阵X\n",
    "SIGMA = (X.T @ X) / X.shape[0]\n",
    "\n",
    "# X.corr()\n",
    "SIGMA  # SIGMA其实就是X.corr()\n"
   ]
  },
  {
   "cell_type": "code",
   "execution_count": 9,
   "metadata": {
    "pycharm": {
     "name": "#%%\n"
    }
   },
   "outputs": [],
   "source": [
    "# V\n",
    "# ew, ev = np.linalg.eig(X.T.dot(X))\n",
    "ew, ev = np.linalg.eig(np.cov(X.T))  # ew: 特征值，ev: 特征向量\n",
    "ew_order = np.argsort(ew)[::-1]  # 将ew按照从大到小的顺序排列\n",
    "# 特征根，主要是看主成分对于变量解释的贡献率（可以理解为究竟需要多少主成分才能把变量表达为100%），一般都要表达到90%以上才可以，否则就要调整因子数据。\n",
    "ew_sort = ew[ew_order]\n",
    "ev_sort = ev[:, ew_order]\n",
    "# print(ew_sort)\n"
   ]
  },
  {
   "attachments": {},
   "cell_type": "markdown",
   "metadata": {
    "pycharm": {
     "name": "#%% md\n"
    }
   },
   "source": [
    "### 方差解释表格\n",
    "**图表说明:**\n",
    "上表为总方差解释表格，主要是看主成分对于变量解释的贡献率（可以理解为究竟需要多少主成分才能把变量表达为100%），一般都要表达到90%以上才可以，否则就要调整因子数据。一般情况下,方差解释率越高，说明该主成分越重要，权重占比也应该越高。\n",
    "\n",
    "方差解释表中，在主成分4时，总方差解释的特征根低于1，变量解释的贡献率达到74.899%，以上仅为参考。\n",
    "若特征根小于1临界值过大，也可以集合具体情况具体分析。"
   ]
  },
  {
   "cell_type": "code",
   "execution_count": 16,
   "metadata": {
    "pycharm": {
     "name": "#%%\n"
    }
   },
   "outputs": [
    {
     "data": {
      "text/plain": "        特征值    百分比   累计百分比\n0  4.528506  56.0%   56.0%\n1  1.315800  16.3%   72.2%\n2  0.776812   9.6%   81.8%\n3  0.543491   6.7%   88.6%\n4  0.371955   4.6%   93.2%\n5  0.282882   3.5%   96.7%\n6  0.151053   1.9%   98.5%\n7  0.119387   1.5%  100.0%",
      "text/html": "<div>\n<style scoped>\n    .dataframe tbody tr th:only-of-type {\n        vertical-align: middle;\n    }\n\n    .dataframe tbody tr th {\n        vertical-align: top;\n    }\n\n    .dataframe thead th {\n        text-align: right;\n    }\n</style>\n<table border=\"1\" class=\"dataframe\">\n  <thead>\n    <tr style=\"text-align: right;\">\n      <th></th>\n      <th>特征值</th>\n      <th>百分比</th>\n      <th>累计百分比</th>\n    </tr>\n  </thead>\n  <tbody>\n    <tr>\n      <th>0</th>\n      <td>4.528506</td>\n      <td>56.0%</td>\n      <td>56.0%</td>\n    </tr>\n    <tr>\n      <th>1</th>\n      <td>1.315800</td>\n      <td>16.3%</td>\n      <td>72.2%</td>\n    </tr>\n    <tr>\n      <th>2</th>\n      <td>0.776812</td>\n      <td>9.6%</td>\n      <td>81.8%</td>\n    </tr>\n    <tr>\n      <th>3</th>\n      <td>0.543491</td>\n      <td>6.7%</td>\n      <td>88.6%</td>\n    </tr>\n    <tr>\n      <th>4</th>\n      <td>0.371955</td>\n      <td>4.6%</td>\n      <td>93.2%</td>\n    </tr>\n    <tr>\n      <th>5</th>\n      <td>0.282882</td>\n      <td>3.5%</td>\n      <td>96.7%</td>\n    </tr>\n    <tr>\n      <th>6</th>\n      <td>0.151053</td>\n      <td>1.9%</td>\n      <td>98.5%</td>\n    </tr>\n    <tr>\n      <th>7</th>\n      <td>0.119387</td>\n      <td>1.5%</td>\n      <td>100.0%</td>\n    </tr>\n  </tbody>\n</table>\n</div>"
     },
     "execution_count": 16,
     "metadata": {},
     "output_type": "execute_result"
    }
   ],
   "source": [
    "# 输出一个方差解释表格\n",
    "var_inter_0 = pd.DataFrame({'特征值': ew_sort})  # 添加特征值列\n",
    "var_inter_0['百分比'] = (var_inter_0 / var_inter_0.sum())  # 添加百分比列\n",
    "var_inter_0['累计百分比'] = var_inter_0['百分比'].cumsum()  # 计算累计百分比\n",
    "var_inter = var_inter_0.copy()\n",
    "var_inter[['百分比', '累计百分比']] = var_inter[['百分比', '累计百分比']\n",
    "                                        ].applymap(lambda x: format(x, '.1%'))  # 保留一位小数\n",
    "# var_inter_0['1'] = 1  # 前两列特征值大于1，且51%以上可以用来解释原来7个变量，因此取前两列\n",
    "var_inter"
   ]
  },
  {
   "cell_type": "code",
   "execution_count": 17,
   "outputs": [],
   "source": [
    "var_inter.to_clipboard()"
   ],
   "metadata": {
    "collapsed": false,
    "pycharm": {
     "name": "#%%\n"
    }
   }
  },
  {
   "cell_type": "code",
   "execution_count": 14,
   "metadata": {
    "pycharm": {
     "name": "#%%\n"
    }
   },
   "outputs": [
    {
     "data": {
      "text/plain": "(array([0, 1, 2, 3, 4, 5, 6, 7]),\n [Text(0, 0, '0'),\n  Text(1, 0, '1'),\n  Text(2, 0, '2'),\n  Text(3, 0, '3'),\n  Text(4, 0, '4'),\n  Text(5, 0, '5'),\n  Text(6, 0, '6'),\n  Text(7, 0, '7')])"
     },
     "execution_count": 14,
     "metadata": {},
     "output_type": "execute_result"
    },
    {
     "data": {
      "text/plain": "<Figure size 432x288 with 1 Axes>",
      "image/png": "[encoded data removed]"
     },
     "metadata": {
      "needs_background": "light"
     },
     "output_type": "display_data"
    }
   ],
   "source": [
    "pd.DataFrame(ew_sort).plot(kind='bar').legend(\n",
    "    ('特征值',))  # 添加图例必须多一个逗号，否则只显示第一个字符\n",
    "plt.xticks(rotation=0)\n",
    "# print(ev_sort)\n"
   ]
  },
  {
   "cell_type": "code",
   "execution_count": 18,
   "metadata": {
    "pycharm": {
     "name": "#%%\n"
    }
   },
   "outputs": [],
   "source": [
    "# ev_sort[:, :2]  # 前两列就很大程度上可以用来解释原来7个变量，因此取前两列# V\n",
    "V = ev_sort[:, :2]  # 前两列就很大程度上可以用来解释原来7个变量，因此取前两列\n"
   ]
  },
  {
   "attachments": {},
   "cell_type": "markdown",
   "metadata": {
    "pycharm": {
     "name": "#%% md\n"
    }
   },
   "source": [
    "### 因子数据表"
   ]
  },
  {
   "cell_type": "code",
   "execution_count": 19,
   "metadata": {
    "pycharm": {
     "name": "#%%\n"
    }
   },
   "outputs": [
    {
     "data": {
      "text/plain": "                 PCA 0     PCA 1       公共度\nvar                                       \nW-pH         -0.321260 -0.445724  0.301878\nW-DO         -0.071429 -0.731830  0.540677\nW-TN          0.434683 -0.100339  0.199017\nW-NO_{2}^{-}  0.332788 -0.340917  0.226972\nW-NO_{3}^{-}  0.301932 -0.251944  0.154639\nW-NH_{4}^{+}  0.407931 -0.128131  0.182825\nW-COD         0.438164 -0.004917  0.192011\nW-T          -0.377405 -0.244020  0.201981",
      "text/html": "<div>\n<style scoped>\n    .dataframe tbody tr th:only-of-type {\n        vertical-align: middle;\n    }\n\n    .dataframe tbody tr th {\n        vertical-align: top;\n    }\n\n    .dataframe thead th {\n        text-align: right;\n    }\n</style>\n<table border=\"1\" class=\"dataframe\">\n  <thead>\n    <tr style=\"text-align: right;\">\n      <th></th>\n      <th>PCA 0</th>\n      <th>PCA 1</th>\n      <th>公共度</th>\n    </tr>\n    <tr>\n      <th>var</th>\n      <th></th>\n      <th></th>\n      <th></th>\n    </tr>\n  </thead>\n  <tbody>\n    <tr>\n      <th>W-pH</th>\n      <td>-0.321260</td>\n      <td>-0.445724</td>\n      <td>0.301878</td>\n    </tr>\n    <tr>\n      <th>W-DO</th>\n      <td>-0.071429</td>\n      <td>-0.731830</td>\n      <td>0.540677</td>\n    </tr>\n    <tr>\n      <th>W-TN</th>\n      <td>0.434683</td>\n      <td>-0.100339</td>\n      <td>0.199017</td>\n    </tr>\n    <tr>\n      <th>W-NO_{2}^{-}</th>\n      <td>0.332788</td>\n      <td>-0.340917</td>\n      <td>0.226972</td>\n    </tr>\n    <tr>\n      <th>W-NO_{3}^{-}</th>\n      <td>0.301932</td>\n      <td>-0.251944</td>\n      <td>0.154639</td>\n    </tr>\n    <tr>\n      <th>W-NH_{4}^{+}</th>\n      <td>0.407931</td>\n      <td>-0.128131</td>\n      <td>0.182825</td>\n    </tr>\n    <tr>\n      <th>W-COD</th>\n      <td>0.438164</td>\n      <td>-0.004917</td>\n      <td>0.192011</td>\n    </tr>\n    <tr>\n      <th>W-T</th>\n      <td>-0.377405</td>\n      <td>-0.244020</td>\n      <td>0.201981</td>\n    </tr>\n  </tbody>\n</table>\n</div>"
     },
     "execution_count": 19,
     "metadata": {},
     "output_type": "execute_result"
    }
   ],
   "source": [
    "# 构建一个因子数据表\n",
    "factor_load_table = pd.DataFrame(V)  # 因子载荷数据表，可以分析到每个主成分中隐变量的重要性。\n",
    "factor_load_table.index = df.columns\n",
    "factor_load_table.columns = ['PCA 0', 'PCA 1']\n",
    "factor_load_table.index.name = 'var'\n",
    "factor_load_table['公共度'] = factor_load_table['PCA 0'] ** 2 + factor_load_table[\n",
    "    'PCA 1'] ** 2  # 公因子方差：每个变量对应的PCA0与PCA1的平方和\n",
    "factor_load_table = factor_load_table\n",
    "factor_load_table"
   ]
  },
  {
   "cell_type": "code",
   "execution_count": null,
   "metadata": {
    "pycharm": {
     "name": "#%%\n"
    }
   },
   "outputs": [],
   "source": [
    "# U的每一列都是一个特征向量，因此它的模长都为1，且特征向量之间都是正交的，乘积都为0\n",
    "# (factor_load_table['PCA 0'] * factor_load_table['PCA 1']).sum()  # 两个特征向量的乘积应为0\n",
    "# (factor_load_table['PCA 0']**2).sum()  # 每一个特征向量的模长都为0\n",
    "# (factor_load_table['PCA 1']**2).sum()\n"
   ]
  },
  {
   "cell_type": "code",
   "execution_count": null,
   "metadata": {
    "pycharm": {
     "name": "#%%\n"
    }
   },
   "outputs": [],
   "source": [
    "plt.figure(figsize=(8, 5), dpi=120)\n",
    "sns.heatmap(factor_load_table)\n"
   ]
  },
  {
   "attachments": {},
   "cell_type": "markdown",
   "metadata": {
    "pycharm": {
     "name": "#%% md\n"
    }
   },
   "source": [
    "### 绘图可视化"
   ]
  },
  {
   "cell_type": "code",
   "execution_count": null,
   "metadata": {
    "pycharm": {
     "name": "#%%\n"
    }
   },
   "outputs": [],
   "source": [
    "# X_new\n",
    "X_new = X.dot(V)\n",
    "# 将生存数据添加到DATaFrame中，用于绘制散点图的时候可以区分死亡与生存的区别\n",
    "X_new['Survived'] = train_data_0['Survived']\n",
    "X_new\n"
   ]
  },
  {
   "cell_type": "code",
   "execution_count": null,
   "metadata": {
    "pycharm": {
     "name": "#%%\n"
    }
   },
   "outputs": [],
   "source": [
    "plt.figure(figsize=(8, 5), dpi=120)  # 设置绘图尺寸\n",
    "sns.scatterplot(x=factor_load_table['PCA 0'],\n",
    "                y=factor_load_table['PCA 1'], hue=factor_load_table.index)\n"
   ]
  },
  {
   "cell_type": "code",
   "execution_count": null,
   "metadata": {
    "pycharm": {
     "name": "#%%\n"
    }
   },
   "outputs": [],
   "source": [
    "# scatter\n",
    "plt.figure(figsize=(8, 5), dpi=120)  # 设置绘图尺寸\n",
    "sc_survived = plt.scatter(X_new[X_new['Survived'] == 1].iloc[:, 0], X_new[X_new['Survived'] == 1].iloc[:, 1], s=5,\n",
    "                          c='blue',\n",
    "                          cmap=plt.cm.coolwarm)  # 提取生存的\n",
    "sc_un_survived = plt.scatter(X_new[X_new['Survived'] == 0].iloc[:, 0], X_new[X_new['Survived'] == 0].iloc[:, 1], s=5,\n",
    "                             c='red',\n",
    "                             cmap=plt.cm.coolwarm)  # c=train_X0.Survived设置颜色反应生还状态，是死是活\n",
    "# plt.grid(False)  # 是否显示网格线\n",
    "plt.xlabel('PCA 0')  # 设置X、Y轴坐标名称\n",
    "plt.ylabel('PCA 1')\n",
    "plt.legend(handles=[sc_survived, sc_un_survived],\n",
    "           labels=['生存', '死亡'], loc='upper left')\n"
   ]
  },
  {
   "attachments": {},
   "cell_type": "markdown",
   "metadata": {
    "pycharm": {
     "name": "#%% md\n"
    }
   },
   "source": [
    "### 成分矩阵表"
   ]
  },
  {
   "cell_type": "code",
   "execution_count": null,
   "metadata": {
    "pycharm": {
     "name": "#%%\n"
    }
   },
   "outputs": [],
   "source": [
    "# 成分矩阵表\n",
    "composition_matrix = factor_load_table.loc[:, [\n",
    "    'PCA 0', 'PCA 1']]  # 成分矩阵表 = 因子载荷数据表/对应每一个特征值\n",
    "composition_matrix['PCA 0'] = composition_matrix['PCA 0'] / \\\n",
    "    ew_sort[0]  # 这里有个问题，有的软件里除的是根号下特征值，有的没有\n",
    "composition_matrix['PCA 1'] = composition_matrix['PCA 1'] / ew_sort[1]\n",
    "composition_matrix.round(3)\n"
   ]
  },
  {
   "attachments": {},
   "cell_type": "markdown",
   "metadata": {
    "pycharm": {
     "name": "#%% md\n"
    }
   },
   "source": [
    "图表说明：\n",
    "上表为成分矩阵表，意在说明各个成分的所包含的因子得分系数（主成分载荷），用于计算出成分得分，得出因子公式，其计算公式为：线性组合系数*（方差解释率/累积方差解释率），最后将其归一化即为因子权重分。\n",
    "线性组合系数，公式为：因子载荷系数除以对应特征根，即成分矩阵的系数。\n",
    "智能分析：\n",
    "模型的公式：\n",
    "F1=-0.389×Pclass-0.254×Sex+0.099×Age+0.14×SibSp+0.214×Parch+0.45×Fare-0.212×Embarked\n",
    "F2=0.262×Pclass-0.166×Sex-0.382×Age+0.411×SibSp+0.392×Parch-0.038×Fare+0.127×Embarked\n",
    "由上可以得到：\n",
    "F=(0.265/0.511)×F1+(0.245/0.511)×F2"
   ]
  },
  {
   "attachments": {},
   "cell_type": "markdown",
   "metadata": {
    "pycharm": {
     "name": "#%% md\n"
    }
   },
   "source": [
    "### 因子权重分析表"
   ]
  },
  {
   "cell_type": "code",
   "execution_count": null,
   "metadata": {
    "pycharm": {
     "name": "#%%\n"
    }
   },
   "outputs": [],
   "source": [
    "factor_weight_analysis = pd.DataFrame(var_inter_0.loc[:1, ['百分比', '累计百分比']])\n",
    "factor_weight_analysis['权重'] = factor_weight_analysis['百分比'] / \\\n",
    "    factor_weight_analysis['百分比'].sum()\n",
    "factor_weight_analysis.index = ['PCA 0', 'PCA 1']\n",
    "factor_weight_analysis.index.name = '主成分'\n",
    "(factor_weight_analysis * 100).round(1).astype(str) + '%'  # 以保留一位小数、百分比的形式显示\n"
   ]
  },
  {
   "attachments": {},
   "cell_type": "markdown",
   "metadata": {
    "pycharm": {
     "name": "#%% md\n"
    }
   },
   "source": [
    "### 综合得分表（其实就是X_new中的数据）"
   ]
  },
  {
   "cell_type": "code",
   "execution_count": null,
   "metadata": {
    "pycharm": {
     "name": "#%%\n"
    }
   },
   "outputs": [],
   "source": [
    "comprehensive_score = pd.DataFrame(X_new.iloc[:, [0, 1]])\n",
    "comprehensive_score.columns = ['PCA 0', 'PCA 1']\n",
    "comprehensive_score['综合得分'] = comprehensive_score.iloc[:, 0] * factor_weight_analysis.loc[\n",
    "    'PCA 0', '百分比'] + comprehensive_score.iloc[:, 1] * factor_weight_analysis.loc['PCA 1', '百分比']\n",
    "comprehensive_score.sort_values(by='综合得分', ascending=False)  # 按照综合得分列倒序排列\n"
   ]
  },
  {
   "cell_type": "code",
   "execution_count": null,
   "metadata": {
    "pycharm": {
     "name": "#%%\n"
    }
   },
   "outputs": [],
   "source": [
    "df.loc[comprehensive_score.sort_values(\n",
    "    by='综合得分', ascending=False).head(5).index]  # 获取综合得分前五的人员\n"
   ]
  }
 ],
 "metadata": {
  "kernelspec": {
   "display_name": "Python 3",
   "language": "python",
   "name": "python3"
  },
  "language_info": {
   "codemirror_mode": {
    "name": "ipython",
    "version": 3
   },
   "file_extension": ".py",
   "mimetype": "text/x-python",
   "name": "python",
   "nbconvert_exporter": "python",
   "pygments_lexer": "ipython3",
   "version": "3.10.4 (tags/v3.10.4:9d38120, Mar 23 2022, 23:13:41) [MSC v.1929 64 bit (AMD64)]"
  },
  "orig_nbformat": 4,
  "vscode": {
   "interpreter": {
    "hash": "94080b48160be75dd0f70ce80ac2a91b12db0680af2013e6f49edfa38b3c2a01"
   }
  }
 },
 "nbformat": 4,
 "nbformat_minor": 2
}