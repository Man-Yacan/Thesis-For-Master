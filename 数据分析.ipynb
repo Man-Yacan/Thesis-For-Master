{
 "cells": [
  {
   "cell_type": "code",
   "execution_count": 1,
   "outputs": [],
   "source": [
    "from ResearchMain import *"
   ],
   "metadata": {
    "collapsed": false,
    "pycharm": {
     "name": "#%%\n"
    }
   }
  },
  {
   "cell_type": "markdown",
   "source": [
    "## 枯水期"
   ],
   "metadata": {
    "collapsed": false,
    "pycharm": {
     "name": "#%% md\n"
    }
   }
  },
  {
   "cell_type": "code",
   "execution_count": 2,
   "outputs": [],
   "source": [
    "dry_df = all_df[all_df['Period'] == 'Dry Season'].copy()"
   ],
   "metadata": {
    "collapsed": false,
    "pycharm": {
     "name": "#%%\n"
    }
   }
  },
  {
   "cell_type": "markdown",
   "source": [
    "### 功能基因"
   ],
   "metadata": {
    "collapsed": false,
    "pycharm": {
     "name": "#%% md\n"
    }
   }
  },
  {
   "cell_type": "markdown",
   "source": [
    "### 环境因子"
   ],
   "metadata": {
    "collapsed": false,
    "pycharm": {
     "name": "#%% md\n"
    }
   }
  },
  {
   "cell_type": "markdown",
   "source": [],
   "metadata": {
    "collapsed": false,
    "pycharm": {
     "name": "#%% md\n"
    }
   }
  },
  {
   "cell_type": "code",
   "execution_count": null,
   "outputs": [],
   "source": [],
   "metadata": {
    "collapsed": false,
    "pycharm": {
     "name": "#%%\n"
    }
   }
  },
  {
   "cell_type": "markdown",
   "source": [
    "## 平水期"
   ],
   "metadata": {
    "collapsed": false,
    "pycharm": {
     "name": "#%% md\n"
    }
   }
  },
  {
   "cell_type": "code",
   "execution_count": 4,
   "outputs": [],
   "source": [
    "level_df = all_df[all_df['Period'] == 'Level Season'].copy()"
   ],
   "metadata": {
    "collapsed": false,
    "pycharm": {
     "name": "#%%\n"
    }
   }
  },
  {
   "cell_type": "markdown",
   "source": [
    "### 功能基因"
   ],
   "metadata": {
    "collapsed": false,
    "pycharm": {
     "name": "#%% md\n"
    }
   }
  },
  {
   "cell_type": "code",
   "execution_count": 5,
   "outputs": [
    {
     "data": {
      "text/plain": "River                    Nanfei River     Pai River  Hangbu River\nBacterial 16S rRNA max   7.604506e+12  1.140504e+13  3.303685e+12\n                   mean  3.249478e+12  3.578141e+12  2.552210e+12\n                   min   1.224842e+12  1.253649e+12  1.516805e+12\nArchaeal 16S rRNA  max   1.009469e+08  1.281502e+08  1.532839e+08\n                   mean  5.540494e+07  5.978891e+07  8.537894e+07\n                   min   1.453783e+07  1.717329e+07  3.253583e+07\nAOA_amoA           max   2.141173e+07  4.572601e+07  3.701095e+07\n                   mean  1.358199e+07  2.500400e+07  1.713264e+07\n                   min   6.927293e+06  1.541951e+07  4.306540e+06\nAOB_amoA           max   6.947621e+05  5.475686e+05  1.056369e+06\n                   mean  4.698944e+05  4.221324e+05  5.321063e+05\n                   min   2.319129e+05  3.345218e+05  3.522842e+05\nnxrA               max   3.613316e+09  2.861015e+09  3.499164e+09\n                   mean  1.701770e+09  1.326779e+09  2.046041e+09\n                   min   7.262824e+08  6.389149e+08  8.628586e+08\nnarG               max   1.016559e+06  2.216880e+06  2.348452e+06\n                   mean  3.757978e+05  7.605435e+05  7.995340e+05\n                   min   2.047164e+04  6.382173e+04  1.896399e+05\nnapA               max   2.855502e+06  5.115032e+06  5.194246e+06\n                   mean  1.084488e+06  1.895279e+06  2.549605e+06\n                   min   4.663985e+05  5.429993e+05  6.415286e+05\nnirK               max   9.027957e+06  9.508903e+06  7.943298e+06\n                   mean  3.395932e+06  6.067676e+06  2.506152e+06\n                   min   1.614868e+06  3.838476e+06  1.029133e+06\nnirS               max   5.461636e+07  5.490142e+07  1.290511e+08\n                   mean  3.291277e+07  2.554502e+07  6.821598e+07\n                   min   8.651685e+06  5.225527e+06  3.141430e+07\nnosZ               max   1.348606e+06  2.016111e+06  1.857443e+06\n                   mean  7.142678e+05  1.358061e+06  8.680857e+05\n                   min   3.540412e+05  6.291425e+05  3.352485e+05\ncnorB              max   3.506617e+05  2.731027e+05  9.457716e+05\n                   mean  2.165167e+05  2.078281e+05  2.395477e+05\n                   min   1.302663e+05  1.350502e+05  6.307644e+04\nhzsA               max   3.616539e+06  1.277152e+07  1.057527e+07\n                   mean  2.685675e+06  4.885144e+06  6.470143e+06\n                   min   1.449002e+06  1.494494e+06  2.107161e+06\nhzsB               max   4.283857e+06  4.037983e+06  7.506644e+06\n                   mean  2.152766e+06  2.560262e+06  4.597328e+06\n                   min   1.287973e+06  1.511386e+06  2.133058e+06\nhzo                max   6.384501e+05  3.817314e+05  3.033665e+05\n                   mean  4.276401e+05  2.439780e+05  2.175949e+05\n                   min   2.558175e+05  1.785698e+05  1.298462e+05\nnifH               max   1.381487e+06  1.756066e+06  8.944016e+05\n                   mean  6.134710e+05  1.115741e+06  4.848346e+05\n                   min   2.382502e+05  4.969771e+05  2.288840e+05",
      "text/html": "<div>\n<style scoped>\n    .dataframe tbody tr th:only-of-type {\n        vertical-align: middle;\n    }\n\n    .dataframe tbody tr th {\n        vertical-align: top;\n    }\n\n    .dataframe thead th {\n        text-align: right;\n    }\n</style>\n<table border=\"1\" class=\"dataframe\">\n  <thead>\n    <tr style=\"text-align: right;\">\n      <th></th>\n      <th>River</th>\n      <th>Nanfei River</th>\n      <th>Pai River</th>\n      <th>Hangbu River</th>\n    </tr>\n  </thead>\n  <tbody>\n    <tr>\n      <th rowspan=\"3\" valign=\"top\">Bacterial 16S rRNA</th>\n      <th>max</th>\n      <td>7.604506e+12</td>\n      <td>1.140504e+13</td>\n      <td>3.303685e+12</td>\n    </tr>\n    <tr>\n      <th>mean</th>\n      <td>3.249478e+12</td>\n      <td>3.578141e+12</td>\n      <td>2.552210e+12</td>\n    </tr>\n    <tr>\n      <th>min</th>\n      <td>1.224842e+12</td>\n      <td>1.253649e+12</td>\n      <td>1.516805e+12</td>\n    </tr>\n    <tr>\n      <th rowspan=\"3\" valign=\"top\">Archaeal 16S rRNA</th>\n      <th>max</th>\n      <td>1.009469e+08</td>\n      <td>1.281502e+08</td>\n      <td>1.532839e+08</td>\n    </tr>\n    <tr>\n      <th>mean</th>\n      <td>5.540494e+07</td>\n      <td>5.978891e+07</td>\n      <td>8.537894e+07</td>\n    </tr>\n    <tr>\n      <th>min</th>\n      <td>1.453783e+07</td>\n      <td>1.717329e+07</td>\n      <td>3.253583e+07</td>\n    </tr>\n    <tr>\n      <th rowspan=\"3\" valign=\"top\">AOA_amoA</th>\n      <th>max</th>\n      <td>2.141173e+07</td>\n      <td>4.572601e+07</td>\n      <td>3.701095e+07</td>\n    </tr>\n    <tr>\n      <th>mean</th>\n      <td>1.358199e+07</td>\n      <td>2.500400e+07</td>\n      <td>1.713264e+07</td>\n    </tr>\n    <tr>\n      <th>min</th>\n      <td>6.927293e+06</td>\n      <td>1.541951e+07</td>\n      <td>4.306540e+06</td>\n    </tr>\n    <tr>\n      <th rowspan=\"3\" valign=\"top\">AOB_amoA</th>\n      <th>max</th>\n      <td>6.947621e+05</td>\n      <td>5.475686e+05</td>\n      <td>1.056369e+06</td>\n    </tr>\n    <tr>\n      <th>mean</th>\n      <td>4.698944e+05</td>\n      <td>4.221324e+05</td>\n      <td>5.321063e+05</td>\n    </tr>\n    <tr>\n      <th>min</th>\n      <td>2.319129e+05</td>\n      <td>3.345218e+05</td>\n      <td>3.522842e+05</td>\n    </tr>\n    <tr>\n      <th rowspan=\"3\" valign=\"top\">nxrA</th>\n      <th>max</th>\n      <td>3.613316e+09</td>\n      <td>2.861015e+09</td>\n      <td>3.499164e+09</td>\n    </tr>\n    <tr>\n      <th>mean</th>\n      <td>1.701770e+09</td>\n      <td>1.326779e+09</td>\n      <td>2.046041e+09</td>\n    </tr>\n    <tr>\n      <th>min</th>\n      <td>7.262824e+08</td>\n      <td>6.389149e+08</td>\n      <td>8.628586e+08</td>\n    </tr>\n    <tr>\n      <th rowspan=\"3\" valign=\"top\">narG</th>\n      <th>max</th>\n      <td>1.016559e+06</td>\n      <td>2.216880e+06</td>\n      <td>2.348452e+06</td>\n    </tr>\n    <tr>\n      <th>mean</th>\n      <td>3.757978e+05</td>\n      <td>7.605435e+05</td>\n      <td>7.995340e+05</td>\n    </tr>\n    <tr>\n      <th>min</th>\n      <td>2.047164e+04</td>\n      <td>6.382173e+04</td>\n      <td>1.896399e+05</td>\n    </tr>\n    <tr>\n      <th rowspan=\"3\" valign=\"top\">napA</th>\n      <th>max</th>\n      <td>2.855502e+06</td>\n      <td>5.115032e+06</td>\n      <td>5.194246e+06</td>\n    </tr>\n    <tr>\n      <th>mean</th>\n      <td>1.084488e+06</td>\n      <td>1.895279e+06</td>\n      <td>2.549605e+06</td>\n    </tr>\n    <tr>\n      <th>min</th>\n      <td>4.663985e+05</td>\n      <td>5.429993e+05</td>\n      <td>6.415286e+05</td>\n    </tr>\n    <tr>\n      <th rowspan=\"3\" valign=\"top\">nirK</th>\n      <th>max</th>\n      <td>9.027957e+06</td>\n      <td>9.508903e+06</td>\n      <td>7.943298e+06</td>\n    </tr>\n    <tr>\n      <th>mean</th>\n      <td>3.395932e+06</td>\n      <td>6.067676e+06</td>\n      <td>2.506152e+06</td>\n    </tr>\n    <tr>\n      <th>min</th>\n      <td>1.614868e+06</td>\n      <td>3.838476e+06</td>\n      <td>1.029133e+06</td>\n    </tr>\n    <tr>\n      <th rowspan=\"3\" valign=\"top\">nirS</th>\n      <th>max</th>\n      <td>5.461636e+07</td>\n      <td>5.490142e+07</td>\n      <td>1.290511e+08</td>\n    </tr>\n    <tr>\n      <th>mean</th>\n      <td>3.291277e+07</td>\n      <td>2.554502e+07</td>\n      <td>6.821598e+07</td>\n    </tr>\n    <tr>\n      <th>min</th>\n      <td>8.651685e+06</td>\n      <td>5.225527e+06</td>\n      <td>3.141430e+07</td>\n    </tr>\n    <tr>\n      <th rowspan=\"3\" valign=\"top\">nosZ</th>\n      <th>max</th>\n      <td>1.348606e+06</td>\n      <td>2.016111e+06</td>\n      <td>1.857443e+06</td>\n    </tr>\n    <tr>\n      <th>mean</th>\n      <td>7.142678e+05</td>\n      <td>1.358061e+06</td>\n      <td>8.680857e+05</td>\n    </tr>\n    <tr>\n      <th>min</th>\n      <td>3.540412e+05</td>\n      <td>6.291425e+05</td>\n      <td>3.352485e+05</td>\n    </tr>\n    <tr>\n      <th rowspan=\"3\" valign=\"top\">cnorB</th>\n      <th>max</th>\n      <td>3.506617e+05</td>\n      <td>2.731027e+05</td>\n      <td>9.457716e+05</td>\n    </tr>\n    <tr>\n      <th>mean</th>\n      <td>2.165167e+05</td>\n      <td>2.078281e+05</td>\n      <td>2.395477e+05</td>\n    </tr>\n    <tr>\n      <th>min</th>\n      <td>1.302663e+05</td>\n      <td>1.350502e+05</td>\n      <td>6.307644e+04</td>\n    </tr>\n    <tr>\n      <th rowspan=\"3\" valign=\"top\">hzsA</th>\n      <th>max</th>\n      <td>3.616539e+06</td>\n      <td>1.277152e+07</td>\n      <td>1.057527e+07</td>\n    </tr>\n    <tr>\n      <th>mean</th>\n      <td>2.685675e+06</td>\n      <td>4.885144e+06</td>\n      <td>6.470143e+06</td>\n    </tr>\n    <tr>\n      <th>min</th>\n      <td>1.449002e+06</td>\n      <td>1.494494e+06</td>\n      <td>2.107161e+06</td>\n    </tr>\n    <tr>\n      <th rowspan=\"3\" valign=\"top\">hzsB</th>\n      <th>max</th>\n      <td>4.283857e+06</td>\n      <td>4.037983e+06</td>\n      <td>7.506644e+06</td>\n    </tr>\n    <tr>\n      <th>mean</th>\n      <td>2.152766e+06</td>\n      <td>2.560262e+06</td>\n      <td>4.597328e+06</td>\n    </tr>\n    <tr>\n      <th>min</th>\n      <td>1.287973e+06</td>\n      <td>1.511386e+06</td>\n      <td>2.133058e+06</td>\n    </tr>\n    <tr>\n      <th rowspan=\"3\" valign=\"top\">hzo</th>\n      <th>max</th>\n      <td>6.384501e+05</td>\n      <td>3.817314e+05</td>\n      <td>3.033665e+05</td>\n    </tr>\n    <tr>\n      <th>mean</th>\n      <td>4.276401e+05</td>\n      <td>2.439780e+05</td>\n      <td>2.175949e+05</td>\n    </tr>\n    <tr>\n      <th>min</th>\n      <td>2.558175e+05</td>\n      <td>1.785698e+05</td>\n      <td>1.298462e+05</td>\n    </tr>\n    <tr>\n      <th rowspan=\"3\" valign=\"top\">nifH</th>\n      <th>max</th>\n      <td>1.381487e+06</td>\n      <td>1.756066e+06</td>\n      <td>8.944016e+05</td>\n    </tr>\n    <tr>\n      <th>mean</th>\n      <td>6.134710e+05</td>\n      <td>1.115741e+06</td>\n      <td>4.848346e+05</td>\n    </tr>\n    <tr>\n      <th>min</th>\n      <td>2.382502e+05</td>\n      <td>4.969771e+05</td>\n      <td>2.288840e+05</td>\n    </tr>\n  </tbody>\n</table>\n</div>"
     },
     "execution_count": 5,
     "metadata": {},
     "output_type": "execute_result"
    }
   ],
   "source": [
    "level_gene = level_df.iloc[:,:15]\n",
    "level_gene['River'] = level_df['River']\n",
    "level_gene.groupby('River').agg(['max', 'mean', 'min']).T"
   ],
   "metadata": {
    "collapsed": false,
    "pycharm": {
     "name": "#%%\n"
    }
   }
  },
  {
   "cell_type": "markdown",
   "source": [
    "### 环境因子"
   ],
   "metadata": {
    "collapsed": false,
    "pycharm": {
     "name": "#%% md\n"
    }
   }
  },
  {
   "cell_type": "code",
   "execution_count": null,
   "outputs": [],
   "source": [],
   "metadata": {
    "collapsed": false,
    "pycharm": {
     "name": "#%%\n"
    }
   }
  },
  {
   "cell_type": "markdown",
   "source": [
    "## 丰水期"
   ],
   "metadata": {
    "collapsed": false,
    "pycharm": {
     "name": "#%% md\n"
    }
   }
  },
  {
   "cell_type": "markdown",
   "source": [],
   "metadata": {
    "collapsed": false,
    "pycharm": {
     "name": "#%% md\n"
    }
   }
  }
 ],
 "metadata": {
  "kernelspec": {
   "display_name": "Python 3",
   "language": "python",
   "name": "python3"
  },
  "language_info": {
   "codemirror_mode": {
    "name": "ipython",
    "version": 2
   },
   "file_extension": ".py",
   "mimetype": "text/x-python",
   "name": "python",
   "nbconvert_exporter": "python",
   "pygments_lexer": "ipython2",
   "version": "2.7.6"
  }
 },
 "nbformat": 4,
 "nbformat_minor": 0
}