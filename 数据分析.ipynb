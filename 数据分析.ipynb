{
 "cells": [
  {
   "cell_type": "code",
   "execution_count": 1,
   "outputs": [],
   "source": [
    "from ResearchMain import *"
   ],
   "metadata": {
    "collapsed": false,
    "pycharm": {
     "name": "#%%\n"
    }
   }
  },
  {
   "cell_type": "markdown",
   "source": [
    "## 枯水期"
   ],
   "metadata": {
    "collapsed": false,
    "pycharm": {
     "name": "#%% md\n"
    }
   }
  },
  {
   "cell_type": "code",
   "execution_count": 2,
   "outputs": [],
   "source": [
    "dry_df = all_df[all_df['Period'] == 'Dry Season'].copy()"
   ],
   "metadata": {
    "collapsed": false,
    "pycharm": {
     "name": "#%%\n"
    }
   }
  },
  {
   "cell_type": "markdown",
   "source": [
    "### 功能基因"
   ],
   "metadata": {
    "collapsed": false,
    "pycharm": {
     "name": "#%% md\n"
    }
   }
  },
  {
   "cell_type": "code",
   "execution_count": 3,
   "outputs": [
    {
     "data": {
      "text/plain": "River                    Nanfei River     Pai River  Hangbu River\nBacterial 16S rRNA max   3.131311e+12  3.174466e+12  4.303498e+12\n                   mean  2.022188e+12  1.983020e+12  2.983198e+12\n                   min   9.328554e+11  7.968973e+11  9.734149e+11\nArchaeal 16S rRNA  max   9.308005e+07  8.042868e+07  1.161468e+08\n                   mean  3.897814e+07  4.635741e+07  5.720662e+07\n                   min   1.322307e+07  1.299403e+07  2.818142e+07\nAOA_amoA           max   2.990348e+07  6.316762e+07  1.714973e+07\n                   mean  1.746286e+07  2.537847e+07  1.216727e+07\n                   min   9.372749e+06  8.452542e+06  6.728205e+06\nAOB_amoA           max   5.498405e+05  6.054650e+05  5.625903e+05\n                   mean  4.262796e+05  5.238033e+05  4.608383e+05\n                   min   2.387377e+05  4.160011e+05  3.621674e+05\nnxrA               max   1.689162e+07  1.322453e+07  1.466007e+07\n                   mean  1.061545e+07  1.005694e+07  1.029054e+07\n                   min   4.135236e+06  7.590219e+06  5.529952e+06\nnarG               max   5.203335e+05  5.966395e+05  6.193215e+05\n                   mean  1.520786e+05  2.253500e+05  3.212427e+05\n                   min   4.789525e+04  4.086967e+04  5.224020e+04\nnapA               max   3.427096e+06  4.244546e+06  2.714383e+06\n                   mean  1.009576e+06  1.599573e+06  1.130136e+06\n                   min   2.081086e+05  6.441686e+05  1.929301e+05\nnirK               max   1.478592e+06  1.875938e+06  8.655376e+05\n                   mean  8.235793e+05  1.236558e+06  6.062591e+05\n                   min   5.374574e+05  5.828420e+05  3.668576e+05\nnirS               max   4.167981e+08  3.971259e+08  4.983680e+08\n                   mean  2.821498e+08  2.176391e+08  2.408044e+08\n                   min   1.420427e+08  8.843484e+07  7.556193e+07\nnosZ               max   1.670079e+06  2.398712e+06  1.101283e+06\n                   mean  8.515093e+05  1.394638e+06  7.192476e+05\n                   min   3.427432e+05  6.582586e+05  3.468487e+05\ncnorB              max   3.431184e+05  3.819296e+05  2.877926e+05\n                   mean  2.209717e+05  2.015863e+05  1.749708e+05\n                   min   1.034718e+05  8.051057e+04  1.283924e+05\nhzsA               max   9.522288e+05  1.505929e+06  1.647053e+06\n                   mean  6.219208e+05  8.151820e+05  1.100295e+06\n                   min   3.019290e+05  5.298729e+05  6.900954e+05\nhzsB               max   5.024014e+05  7.288663e+05  1.353839e+06\n                   mean  3.218751e+05  3.517629e+05  7.538687e+05\n                   min   1.324880e+05  1.803475e+05  2.760314e+05\nhzo                max   9.078401e+04  6.392944e+04  5.976380e+04\n                   mean  6.220906e+04  4.788622e+04  4.665523e+04\n                   min   3.596170e+04  3.380733e+04  3.252920e+04\nnifH               max   2.316647e+04  1.102428e+05  2.046502e+04\n                   mean  1.332224e+04  4.668955e+04  1.512916e+04\n                   min   4.232020e+03  6.553047e+03  9.917281e+03",
      "text/html": "<div>\n<style scoped>\n    .dataframe tbody tr th:only-of-type {\n        vertical-align: middle;\n    }\n\n    .dataframe tbody tr th {\n        vertical-align: top;\n    }\n\n    .dataframe thead th {\n        text-align: right;\n    }\n</style>\n<table border=\"1\" class=\"dataframe\">\n  <thead>\n    <tr style=\"text-align: right;\">\n      <th></th>\n      <th>River</th>\n      <th>Nanfei River</th>\n      <th>Pai River</th>\n      <th>Hangbu River</th>\n    </tr>\n  </thead>\n  <tbody>\n    <tr>\n      <th rowspan=\"3\" valign=\"top\">Bacterial 16S rRNA</th>\n      <th>max</th>\n      <td>3.131311e+12</td>\n      <td>3.174466e+12</td>\n      <td>4.303498e+12</td>\n    </tr>\n    <tr>\n      <th>mean</th>\n      <td>2.022188e+12</td>\n      <td>1.983020e+12</td>\n      <td>2.983198e+12</td>\n    </tr>\n    <tr>\n      <th>min</th>\n      <td>9.328554e+11</td>\n      <td>7.968973e+11</td>\n      <td>9.734149e+11</td>\n    </tr>\n    <tr>\n      <th rowspan=\"3\" valign=\"top\">Archaeal 16S rRNA</th>\n      <th>max</th>\n      <td>9.308005e+07</td>\n      <td>8.042868e+07</td>\n      <td>1.161468e+08</td>\n    </tr>\n    <tr>\n      <th>mean</th>\n      <td>3.897814e+07</td>\n      <td>4.635741e+07</td>\n      <td>5.720662e+07</td>\n    </tr>\n    <tr>\n      <th>min</th>\n      <td>1.322307e+07</td>\n      <td>1.299403e+07</td>\n      <td>2.818142e+07</td>\n    </tr>\n    <tr>\n      <th rowspan=\"3\" valign=\"top\">AOA_amoA</th>\n      <th>max</th>\n      <td>2.990348e+07</td>\n      <td>6.316762e+07</td>\n      <td>1.714973e+07</td>\n    </tr>\n    <tr>\n      <th>mean</th>\n      <td>1.746286e+07</td>\n      <td>2.537847e+07</td>\n      <td>1.216727e+07</td>\n    </tr>\n    <tr>\n      <th>min</th>\n      <td>9.372749e+06</td>\n      <td>8.452542e+06</td>\n      <td>6.728205e+06</td>\n    </tr>\n    <tr>\n      <th rowspan=\"3\" valign=\"top\">AOB_amoA</th>\n      <th>max</th>\n      <td>5.498405e+05</td>\n      <td>6.054650e+05</td>\n      <td>5.625903e+05</td>\n    </tr>\n    <tr>\n      <th>mean</th>\n      <td>4.262796e+05</td>\n      <td>5.238033e+05</td>\n      <td>4.608383e+05</td>\n    </tr>\n    <tr>\n      <th>min</th>\n      <td>2.387377e+05</td>\n      <td>4.160011e+05</td>\n      <td>3.621674e+05</td>\n    </tr>\n    <tr>\n      <th rowspan=\"3\" valign=\"top\">nxrA</th>\n      <th>max</th>\n      <td>1.689162e+07</td>\n      <td>1.322453e+07</td>\n      <td>1.466007e+07</td>\n    </tr>\n    <tr>\n      <th>mean</th>\n      <td>1.061545e+07</td>\n      <td>1.005694e+07</td>\n      <td>1.029054e+07</td>\n    </tr>\n    <tr>\n      <th>min</th>\n      <td>4.135236e+06</td>\n      <td>7.590219e+06</td>\n      <td>5.529952e+06</td>\n    </tr>\n    <tr>\n      <th rowspan=\"3\" valign=\"top\">narG</th>\n      <th>max</th>\n      <td>5.203335e+05</td>\n      <td>5.966395e+05</td>\n      <td>6.193215e+05</td>\n    </tr>\n    <tr>\n      <th>mean</th>\n      <td>1.520786e+05</td>\n      <td>2.253500e+05</td>\n      <td>3.212427e+05</td>\n    </tr>\n    <tr>\n      <th>min</th>\n      <td>4.789525e+04</td>\n      <td>4.086967e+04</td>\n      <td>5.224020e+04</td>\n    </tr>\n    <tr>\n      <th rowspan=\"3\" valign=\"top\">napA</th>\n      <th>max</th>\n      <td>3.427096e+06</td>\n      <td>4.244546e+06</td>\n      <td>2.714383e+06</td>\n    </tr>\n    <tr>\n      <th>mean</th>\n      <td>1.009576e+06</td>\n      <td>1.599573e+06</td>\n      <td>1.130136e+06</td>\n    </tr>\n    <tr>\n      <th>min</th>\n      <td>2.081086e+05</td>\n      <td>6.441686e+05</td>\n      <td>1.929301e+05</td>\n    </tr>\n    <tr>\n      <th rowspan=\"3\" valign=\"top\">nirK</th>\n      <th>max</th>\n      <td>1.478592e+06</td>\n      <td>1.875938e+06</td>\n      <td>8.655376e+05</td>\n    </tr>\n    <tr>\n      <th>mean</th>\n      <td>8.235793e+05</td>\n      <td>1.236558e+06</td>\n      <td>6.062591e+05</td>\n    </tr>\n    <tr>\n      <th>min</th>\n      <td>5.374574e+05</td>\n      <td>5.828420e+05</td>\n      <td>3.668576e+05</td>\n    </tr>\n    <tr>\n      <th rowspan=\"3\" valign=\"top\">nirS</th>\n      <th>max</th>\n      <td>4.167981e+08</td>\n      <td>3.971259e+08</td>\n      <td>4.983680e+08</td>\n    </tr>\n    <tr>\n      <th>mean</th>\n      <td>2.821498e+08</td>\n      <td>2.176391e+08</td>\n      <td>2.408044e+08</td>\n    </tr>\n    <tr>\n      <th>min</th>\n      <td>1.420427e+08</td>\n      <td>8.843484e+07</td>\n      <td>7.556193e+07</td>\n    </tr>\n    <tr>\n      <th rowspan=\"3\" valign=\"top\">nosZ</th>\n      <th>max</th>\n      <td>1.670079e+06</td>\n      <td>2.398712e+06</td>\n      <td>1.101283e+06</td>\n    </tr>\n    <tr>\n      <th>mean</th>\n      <td>8.515093e+05</td>\n      <td>1.394638e+06</td>\n      <td>7.192476e+05</td>\n    </tr>\n    <tr>\n      <th>min</th>\n      <td>3.427432e+05</td>\n      <td>6.582586e+05</td>\n      <td>3.468487e+05</td>\n    </tr>\n    <tr>\n      <th rowspan=\"3\" valign=\"top\">cnorB</th>\n      <th>max</th>\n      <td>3.431184e+05</td>\n      <td>3.819296e+05</td>\n      <td>2.877926e+05</td>\n    </tr>\n    <tr>\n      <th>mean</th>\n      <td>2.209717e+05</td>\n      <td>2.015863e+05</td>\n      <td>1.749708e+05</td>\n    </tr>\n    <tr>\n      <th>min</th>\n      <td>1.034718e+05</td>\n      <td>8.051057e+04</td>\n      <td>1.283924e+05</td>\n    </tr>\n    <tr>\n      <th rowspan=\"3\" valign=\"top\">hzsA</th>\n      <th>max</th>\n      <td>9.522288e+05</td>\n      <td>1.505929e+06</td>\n      <td>1.647053e+06</td>\n    </tr>\n    <tr>\n      <th>mean</th>\n      <td>6.219208e+05</td>\n      <td>8.151820e+05</td>\n      <td>1.100295e+06</td>\n    </tr>\n    <tr>\n      <th>min</th>\n      <td>3.019290e+05</td>\n      <td>5.298729e+05</td>\n      <td>6.900954e+05</td>\n    </tr>\n    <tr>\n      <th rowspan=\"3\" valign=\"top\">hzsB</th>\n      <th>max</th>\n      <td>5.024014e+05</td>\n      <td>7.288663e+05</td>\n      <td>1.353839e+06</td>\n    </tr>\n    <tr>\n      <th>mean</th>\n      <td>3.218751e+05</td>\n      <td>3.517629e+05</td>\n      <td>7.538687e+05</td>\n    </tr>\n    <tr>\n      <th>min</th>\n      <td>1.324880e+05</td>\n      <td>1.803475e+05</td>\n      <td>2.760314e+05</td>\n    </tr>\n    <tr>\n      <th rowspan=\"3\" valign=\"top\">hzo</th>\n      <th>max</th>\n      <td>9.078401e+04</td>\n      <td>6.392944e+04</td>\n      <td>5.976380e+04</td>\n    </tr>\n    <tr>\n      <th>mean</th>\n      <td>6.220906e+04</td>\n      <td>4.788622e+04</td>\n      <td>4.665523e+04</td>\n    </tr>\n    <tr>\n      <th>min</th>\n      <td>3.596170e+04</td>\n      <td>3.380733e+04</td>\n      <td>3.252920e+04</td>\n    </tr>\n    <tr>\n      <th rowspan=\"3\" valign=\"top\">nifH</th>\n      <th>max</th>\n      <td>2.316647e+04</td>\n      <td>1.102428e+05</td>\n      <td>2.046502e+04</td>\n    </tr>\n    <tr>\n      <th>mean</th>\n      <td>1.332224e+04</td>\n      <td>4.668955e+04</td>\n      <td>1.512916e+04</td>\n    </tr>\n    <tr>\n      <th>min</th>\n      <td>4.232020e+03</td>\n      <td>6.553047e+03</td>\n      <td>9.917281e+03</td>\n    </tr>\n  </tbody>\n</table>\n</div>"
     },
     "execution_count": 3,
     "metadata": {},
     "output_type": "execute_result"
    }
   ],
   "source": [
    "dry_gene = dry_df.iloc[:,:15]\n",
    "dry_gene['River'] = dry_df['River']\n",
    "dry_gene.groupby('River').agg(['max', 'mean', 'min']).T"
   ],
   "metadata": {
    "collapsed": false,
    "pycharm": {
     "name": "#%%\n"
    }
   }
  },
  {
   "cell_type": "markdown",
   "source": [
    "### 环境因子"
   ],
   "metadata": {
    "collapsed": false,
    "pycharm": {
     "name": "#%% md\n"
    }
   }
  },
  {
   "cell_type": "code",
   "execution_count": 4,
   "outputs": [
    {
     "data": {
      "text/plain": "River               Nanfei River  Pai River  Hangbu River\nW-pH          max       8.100000   7.500000       8.80000\n              mean      7.998333   7.345714       8.54800\n              min       7.840000   6.730000       8.34000\nW-DO          max      11.640000  10.620000       9.85000\n              mean     10.763333  10.161429       9.67000\n              min      10.020000   9.890000       9.42000\nW-TN          max       3.989900   3.910000       3.00000\n              mean      3.761650   3.515714       2.81400\n              min       3.610000   3.250000       2.69000\nW-NO_{2}^{-}  max       0.279900   0.119900       0.15680\n              mean      0.176167   0.063243       0.07484\n              min       0.091600   0.025700       0.00800\nW-NO_{3}^{-}  max       0.330000   0.200000       0.12000\n              mean      0.273333   0.172857       0.10400\n              min       0.210000   0.150000       0.09000\nW-NH_{4}^{+}  max       2.980000   2.310000       1.53000\n              mean      2.824583   2.057143       1.49000\n              min       2.740000   1.950000       1.45000\nW-COD         max      14.020000  11.470000      10.96000\n              mean     12.358333  10.961429      10.52000\n              min      11.280000  10.160000       9.56000\nW-PO_{4}^{3-} max       0.211000   0.124500       0.18280\n              mean      0.080317   0.073871       0.11790\n              min       0.015000   0.016900       0.06300\nW-TP          max       0.390000   0.200000       0.13000\n              mean      0.318333   0.144286       0.10000\n              min       0.270000   0.090000       0.08000\nW-T           max      14.700000  12.800000      11.90000\n              mean     13.266667  12.000000      11.40000\n              min      11.300000  11.300000      10.50000",
      "text/html": "<div>\n<style scoped>\n    .dataframe tbody tr th:only-of-type {\n        vertical-align: middle;\n    }\n\n    .dataframe tbody tr th {\n        vertical-align: top;\n    }\n\n    .dataframe thead th {\n        text-align: right;\n    }\n</style>\n<table border=\"1\" class=\"dataframe\">\n  <thead>\n    <tr style=\"text-align: right;\">\n      <th></th>\n      <th>River</th>\n      <th>Nanfei River</th>\n      <th>Pai River</th>\n      <th>Hangbu River</th>\n    </tr>\n  </thead>\n  <tbody>\n    <tr>\n      <th rowspan=\"3\" valign=\"top\">W-pH</th>\n      <th>max</th>\n      <td>8.100000</td>\n      <td>7.500000</td>\n      <td>8.80000</td>\n    </tr>\n    <tr>\n      <th>mean</th>\n      <td>7.998333</td>\n      <td>7.345714</td>\n      <td>8.54800</td>\n    </tr>\n    <tr>\n      <th>min</th>\n      <td>7.840000</td>\n      <td>6.730000</td>\n      <td>8.34000</td>\n    </tr>\n    <tr>\n      <th rowspan=\"3\" valign=\"top\">W-DO</th>\n      <th>max</th>\n      <td>11.640000</td>\n      <td>10.620000</td>\n      <td>9.85000</td>\n    </tr>\n    <tr>\n      <th>mean</th>\n      <td>10.763333</td>\n      <td>10.161429</td>\n      <td>9.67000</td>\n    </tr>\n    <tr>\n      <th>min</th>\n      <td>10.020000</td>\n      <td>9.890000</td>\n      <td>9.42000</td>\n    </tr>\n    <tr>\n      <th rowspan=\"3\" valign=\"top\">W-TN</th>\n      <th>max</th>\n      <td>3.989900</td>\n      <td>3.910000</td>\n      <td>3.00000</td>\n    </tr>\n    <tr>\n      <th>mean</th>\n      <td>3.761650</td>\n      <td>3.515714</td>\n      <td>2.81400</td>\n    </tr>\n    <tr>\n      <th>min</th>\n      <td>3.610000</td>\n      <td>3.250000</td>\n      <td>2.69000</td>\n    </tr>\n    <tr>\n      <th rowspan=\"3\" valign=\"top\">W-NO_{2}^{-}</th>\n      <th>max</th>\n      <td>0.279900</td>\n      <td>0.119900</td>\n      <td>0.15680</td>\n    </tr>\n    <tr>\n      <th>mean</th>\n      <td>0.176167</td>\n      <td>0.063243</td>\n      <td>0.07484</td>\n    </tr>\n    <tr>\n      <th>min</th>\n      <td>0.091600</td>\n      <td>0.025700</td>\n      <td>0.00800</td>\n    </tr>\n    <tr>\n      <th rowspan=\"3\" valign=\"top\">W-NO_{3}^{-}</th>\n      <th>max</th>\n      <td>0.330000</td>\n      <td>0.200000</td>\n      <td>0.12000</td>\n    </tr>\n    <tr>\n      <th>mean</th>\n      <td>0.273333</td>\n      <td>0.172857</td>\n      <td>0.10400</td>\n    </tr>\n    <tr>\n      <th>min</th>\n      <td>0.210000</td>\n      <td>0.150000</td>\n      <td>0.09000</td>\n    </tr>\n    <tr>\n      <th rowspan=\"3\" valign=\"top\">W-NH_{4}^{+}</th>\n      <th>max</th>\n      <td>2.980000</td>\n      <td>2.310000</td>\n      <td>1.53000</td>\n    </tr>\n    <tr>\n      <th>mean</th>\n      <td>2.824583</td>\n      <td>2.057143</td>\n      <td>1.49000</td>\n    </tr>\n    <tr>\n      <th>min</th>\n      <td>2.740000</td>\n      <td>1.950000</td>\n      <td>1.45000</td>\n    </tr>\n    <tr>\n      <th rowspan=\"3\" valign=\"top\">W-COD</th>\n      <th>max</th>\n      <td>14.020000</td>\n      <td>11.470000</td>\n      <td>10.96000</td>\n    </tr>\n    <tr>\n      <th>mean</th>\n      <td>12.358333</td>\n      <td>10.961429</td>\n      <td>10.52000</td>\n    </tr>\n    <tr>\n      <th>min</th>\n      <td>11.280000</td>\n      <td>10.160000</td>\n      <td>9.56000</td>\n    </tr>\n    <tr>\n      <th rowspan=\"3\" valign=\"top\">W-PO_{4}^{3-}</th>\n      <th>max</th>\n      <td>0.211000</td>\n      <td>0.124500</td>\n      <td>0.18280</td>\n    </tr>\n    <tr>\n      <th>mean</th>\n      <td>0.080317</td>\n      <td>0.073871</td>\n      <td>0.11790</td>\n    </tr>\n    <tr>\n      <th>min</th>\n      <td>0.015000</td>\n      <td>0.016900</td>\n      <td>0.06300</td>\n    </tr>\n    <tr>\n      <th rowspan=\"3\" valign=\"top\">W-TP</th>\n      <th>max</th>\n      <td>0.390000</td>\n      <td>0.200000</td>\n      <td>0.13000</td>\n    </tr>\n    <tr>\n      <th>mean</th>\n      <td>0.318333</td>\n      <td>0.144286</td>\n      <td>0.10000</td>\n    </tr>\n    <tr>\n      <th>min</th>\n      <td>0.270000</td>\n      <td>0.090000</td>\n      <td>0.08000</td>\n    </tr>\n    <tr>\n      <th rowspan=\"3\" valign=\"top\">W-T</th>\n      <th>max</th>\n      <td>14.700000</td>\n      <td>12.800000</td>\n      <td>11.90000</td>\n    </tr>\n    <tr>\n      <th>mean</th>\n      <td>13.266667</td>\n      <td>12.000000</td>\n      <td>11.40000</td>\n    </tr>\n    <tr>\n      <th>min</th>\n      <td>11.300000</td>\n      <td>11.300000</td>\n      <td>10.50000</td>\n    </tr>\n  </tbody>\n</table>\n</div>"
     },
     "execution_count": 4,
     "metadata": {},
     "output_type": "execute_result"
    }
   ],
   "source": [
    "dry_overlying_water = dry_df[[i for i in all_df.columns if\n",
    "            isinstance(i, str) and i.startswith('W')]+['River']]\n",
    "dry_overlying_water.groupby('River').agg(['max', 'mean', 'min']).T"
   ],
   "metadata": {
    "collapsed": false,
    "pycharm": {
     "name": "#%%\n"
    }
   }
  },
  {
   "cell_type": "markdown",
   "source": [],
   "metadata": {
    "collapsed": false,
    "pycharm": {
     "name": "#%% md\n"
    }
   }
  },
  {
   "cell_type": "code",
   "execution_count": 4,
   "outputs": [],
   "source": [],
   "metadata": {
    "collapsed": false,
    "pycharm": {
     "name": "#%%\n"
    }
   }
  },
  {
   "cell_type": "markdown",
   "source": [
    "## 平水期"
   ],
   "metadata": {
    "collapsed": false,
    "pycharm": {
     "name": "#%% md\n"
    }
   }
  },
  {
   "cell_type": "code",
   "execution_count": 5,
   "outputs": [],
   "source": [
    "level_df = all_df[all_df['Period'] == 'Level Season'].copy()"
   ],
   "metadata": {
    "collapsed": false,
    "pycharm": {
     "name": "#%%\n"
    }
   }
  },
  {
   "cell_type": "markdown",
   "source": [
    "### 功能基因"
   ],
   "metadata": {
    "collapsed": false,
    "pycharm": {
     "name": "#%% md\n"
    }
   }
  },
  {
   "cell_type": "code",
   "execution_count": 6,
   "outputs": [
    {
     "data": {
      "text/plain": "River                    Nanfei River     Pai River  Hangbu River\nBacterial 16S rRNA max   7.604506e+12  1.140504e+13  3.303685e+12\n                   mean  3.249478e+12  3.578141e+12  2.552210e+12\n                   min   1.224842e+12  1.253649e+12  1.516805e+12\nArchaeal 16S rRNA  max   1.009469e+08  1.281502e+08  1.532839e+08\n                   mean  5.540494e+07  5.978891e+07  8.537894e+07\n                   min   1.453783e+07  1.717329e+07  3.253583e+07\nAOA_amoA           max   2.141173e+07  4.572601e+07  3.701095e+07\n                   mean  1.358199e+07  2.500400e+07  1.713264e+07\n                   min   6.927293e+06  1.541951e+07  4.306540e+06\nAOB_amoA           max   6.947621e+05  5.475686e+05  1.056369e+06\n                   mean  4.698944e+05  4.221324e+05  5.321063e+05\n                   min   2.319129e+05  3.345218e+05  3.522842e+05\nnxrA               max   3.613316e+09  2.861015e+09  3.499164e+09\n                   mean  1.701770e+09  1.326779e+09  2.046041e+09\n                   min   7.262824e+08  6.389149e+08  8.628586e+08\nnarG               max   1.016559e+06  2.216880e+06  2.348452e+06\n                   mean  3.757978e+05  7.605435e+05  7.995340e+05\n                   min   2.047164e+04  6.382173e+04  1.896399e+05\nnapA               max   2.855502e+06  5.115032e+06  5.194246e+06\n                   mean  1.084488e+06  1.895279e+06  2.549605e+06\n                   min   4.663985e+05  5.429993e+05  6.415286e+05\nnirK               max   9.027957e+06  9.508903e+06  7.943298e+06\n                   mean  3.395932e+06  6.067676e+06  2.506152e+06\n                   min   1.614868e+06  3.838476e+06  1.029133e+06\nnirS               max   5.461636e+07  5.490142e+07  1.290511e+08\n                   mean  3.291277e+07  2.554502e+07  6.821598e+07\n                   min   8.651685e+06  5.225527e+06  3.141430e+07\nnosZ               max   1.348606e+06  2.016111e+06  1.857443e+06\n                   mean  7.142678e+05  1.358061e+06  8.680857e+05\n                   min   3.540412e+05  6.291425e+05  3.352485e+05\ncnorB              max   3.506617e+05  2.731027e+05  9.457716e+05\n                   mean  2.165167e+05  2.078281e+05  2.395477e+05\n                   min   1.302663e+05  1.350502e+05  6.307644e+04\nhzsA               max   3.616539e+06  1.277152e+07  1.057527e+07\n                   mean  2.685675e+06  4.885144e+06  6.470143e+06\n                   min   1.449002e+06  1.494494e+06  2.107161e+06\nhzsB               max   4.283857e+06  4.037983e+06  7.506644e+06\n                   mean  2.152766e+06  2.560262e+06  4.597328e+06\n                   min   1.287973e+06  1.511386e+06  2.133058e+06\nhzo                max   6.384501e+05  3.817314e+05  3.033665e+05\n                   mean  4.276401e+05  2.439780e+05  2.175949e+05\n                   min   2.558175e+05  1.785698e+05  1.298462e+05\nnifH               max   1.381487e+06  1.756066e+06  8.944016e+05\n                   mean  6.134710e+05  1.115741e+06  4.848346e+05\n                   min   2.382502e+05  4.969771e+05  2.288840e+05",
      "text/html": "<div>\n<style scoped>\n    .dataframe tbody tr th:only-of-type {\n        vertical-align: middle;\n    }\n\n    .dataframe tbody tr th {\n        vertical-align: top;\n    }\n\n    .dataframe thead th {\n        text-align: right;\n    }\n</style>\n<table border=\"1\" class=\"dataframe\">\n  <thead>\n    <tr style=\"text-align: right;\">\n      <th></th>\n      <th>River</th>\n      <th>Nanfei River</th>\n      <th>Pai River</th>\n      <th>Hangbu River</th>\n    </tr>\n  </thead>\n  <tbody>\n    <tr>\n      <th rowspan=\"3\" valign=\"top\">Bacterial 16S rRNA</th>\n      <th>max</th>\n      <td>7.604506e+12</td>\n      <td>1.140504e+13</td>\n      <td>3.303685e+12</td>\n    </tr>\n    <tr>\n      <th>mean</th>\n      <td>3.249478e+12</td>\n      <td>3.578141e+12</td>\n      <td>2.552210e+12</td>\n    </tr>\n    <tr>\n      <th>min</th>\n      <td>1.224842e+12</td>\n      <td>1.253649e+12</td>\n      <td>1.516805e+12</td>\n    </tr>\n    <tr>\n      <th rowspan=\"3\" valign=\"top\">Archaeal 16S rRNA</th>\n      <th>max</th>\n      <td>1.009469e+08</td>\n      <td>1.281502e+08</td>\n      <td>1.532839e+08</td>\n    </tr>\n    <tr>\n      <th>mean</th>\n      <td>5.540494e+07</td>\n      <td>5.978891e+07</td>\n      <td>8.537894e+07</td>\n    </tr>\n    <tr>\n      <th>min</th>\n      <td>1.453783e+07</td>\n      <td>1.717329e+07</td>\n      <td>3.253583e+07</td>\n    </tr>\n    <tr>\n      <th rowspan=\"3\" valign=\"top\">AOA_amoA</th>\n      <th>max</th>\n      <td>2.141173e+07</td>\n      <td>4.572601e+07</td>\n      <td>3.701095e+07</td>\n    </tr>\n    <tr>\n      <th>mean</th>\n      <td>1.358199e+07</td>\n      <td>2.500400e+07</td>\n      <td>1.713264e+07</td>\n    </tr>\n    <tr>\n      <th>min</th>\n      <td>6.927293e+06</td>\n      <td>1.541951e+07</td>\n      <td>4.306540e+06</td>\n    </tr>\n    <tr>\n      <th rowspan=\"3\" valign=\"top\">AOB_amoA</th>\n      <th>max</th>\n      <td>6.947621e+05</td>\n      <td>5.475686e+05</td>\n      <td>1.056369e+06</td>\n    </tr>\n    <tr>\n      <th>mean</th>\n      <td>4.698944e+05</td>\n      <td>4.221324e+05</td>\n      <td>5.321063e+05</td>\n    </tr>\n    <tr>\n      <th>min</th>\n      <td>2.319129e+05</td>\n      <td>3.345218e+05</td>\n      <td>3.522842e+05</td>\n    </tr>\n    <tr>\n      <th rowspan=\"3\" valign=\"top\">nxrA</th>\n      <th>max</th>\n      <td>3.613316e+09</td>\n      <td>2.861015e+09</td>\n      <td>3.499164e+09</td>\n    </tr>\n    <tr>\n      <th>mean</th>\n      <td>1.701770e+09</td>\n      <td>1.326779e+09</td>\n      <td>2.046041e+09</td>\n    </tr>\n    <tr>\n      <th>min</th>\n      <td>7.262824e+08</td>\n      <td>6.389149e+08</td>\n      <td>8.628586e+08</td>\n    </tr>\n    <tr>\n      <th rowspan=\"3\" valign=\"top\">narG</th>\n      <th>max</th>\n      <td>1.016559e+06</td>\n      <td>2.216880e+06</td>\n      <td>2.348452e+06</td>\n    </tr>\n    <tr>\n      <th>mean</th>\n      <td>3.757978e+05</td>\n      <td>7.605435e+05</td>\n      <td>7.995340e+05</td>\n    </tr>\n    <tr>\n      <th>min</th>\n      <td>2.047164e+04</td>\n      <td>6.382173e+04</td>\n      <td>1.896399e+05</td>\n    </tr>\n    <tr>\n      <th rowspan=\"3\" valign=\"top\">napA</th>\n      <th>max</th>\n      <td>2.855502e+06</td>\n      <td>5.115032e+06</td>\n      <td>5.194246e+06</td>\n    </tr>\n    <tr>\n      <th>mean</th>\n      <td>1.084488e+06</td>\n      <td>1.895279e+06</td>\n      <td>2.549605e+06</td>\n    </tr>\n    <tr>\n      <th>min</th>\n      <td>4.663985e+05</td>\n      <td>5.429993e+05</td>\n      <td>6.415286e+05</td>\n    </tr>\n    <tr>\n      <th rowspan=\"3\" valign=\"top\">nirK</th>\n      <th>max</th>\n      <td>9.027957e+06</td>\n      <td>9.508903e+06</td>\n      <td>7.943298e+06</td>\n    </tr>\n    <tr>\n      <th>mean</th>\n      <td>3.395932e+06</td>\n      <td>6.067676e+06</td>\n      <td>2.506152e+06</td>\n    </tr>\n    <tr>\n      <th>min</th>\n      <td>1.614868e+06</td>\n      <td>3.838476e+06</td>\n      <td>1.029133e+06</td>\n    </tr>\n    <tr>\n      <th rowspan=\"3\" valign=\"top\">nirS</th>\n      <th>max</th>\n      <td>5.461636e+07</td>\n      <td>5.490142e+07</td>\n      <td>1.290511e+08</td>\n    </tr>\n    <tr>\n      <th>mean</th>\n      <td>3.291277e+07</td>\n      <td>2.554502e+07</td>\n      <td>6.821598e+07</td>\n    </tr>\n    <tr>\n      <th>min</th>\n      <td>8.651685e+06</td>\n      <td>5.225527e+06</td>\n      <td>3.141430e+07</td>\n    </tr>\n    <tr>\n      <th rowspan=\"3\" valign=\"top\">nosZ</th>\n      <th>max</th>\n      <td>1.348606e+06</td>\n      <td>2.016111e+06</td>\n      <td>1.857443e+06</td>\n    </tr>\n    <tr>\n      <th>mean</th>\n      <td>7.142678e+05</td>\n      <td>1.358061e+06</td>\n      <td>8.680857e+05</td>\n    </tr>\n    <tr>\n      <th>min</th>\n      <td>3.540412e+05</td>\n      <td>6.291425e+05</td>\n      <td>3.352485e+05</td>\n    </tr>\n    <tr>\n      <th rowspan=\"3\" valign=\"top\">cnorB</th>\n      <th>max</th>\n      <td>3.506617e+05</td>\n      <td>2.731027e+05</td>\n      <td>9.457716e+05</td>\n    </tr>\n    <tr>\n      <th>mean</th>\n      <td>2.165167e+05</td>\n      <td>2.078281e+05</td>\n      <td>2.395477e+05</td>\n    </tr>\n    <tr>\n      <th>min</th>\n      <td>1.302663e+05</td>\n      <td>1.350502e+05</td>\n      <td>6.307644e+04</td>\n    </tr>\n    <tr>\n      <th rowspan=\"3\" valign=\"top\">hzsA</th>\n      <th>max</th>\n      <td>3.616539e+06</td>\n      <td>1.277152e+07</td>\n      <td>1.057527e+07</td>\n    </tr>\n    <tr>\n      <th>mean</th>\n      <td>2.685675e+06</td>\n      <td>4.885144e+06</td>\n      <td>6.470143e+06</td>\n    </tr>\n    <tr>\n      <th>min</th>\n      <td>1.449002e+06</td>\n      <td>1.494494e+06</td>\n      <td>2.107161e+06</td>\n    </tr>\n    <tr>\n      <th rowspan=\"3\" valign=\"top\">hzsB</th>\n      <th>max</th>\n      <td>4.283857e+06</td>\n      <td>4.037983e+06</td>\n      <td>7.506644e+06</td>\n    </tr>\n    <tr>\n      <th>mean</th>\n      <td>2.152766e+06</td>\n      <td>2.560262e+06</td>\n      <td>4.597328e+06</td>\n    </tr>\n    <tr>\n      <th>min</th>\n      <td>1.287973e+06</td>\n      <td>1.511386e+06</td>\n      <td>2.133058e+06</td>\n    </tr>\n    <tr>\n      <th rowspan=\"3\" valign=\"top\">hzo</th>\n      <th>max</th>\n      <td>6.384501e+05</td>\n      <td>3.817314e+05</td>\n      <td>3.033665e+05</td>\n    </tr>\n    <tr>\n      <th>mean</th>\n      <td>4.276401e+05</td>\n      <td>2.439780e+05</td>\n      <td>2.175949e+05</td>\n    </tr>\n    <tr>\n      <th>min</th>\n      <td>2.558175e+05</td>\n      <td>1.785698e+05</td>\n      <td>1.298462e+05</td>\n    </tr>\n    <tr>\n      <th rowspan=\"3\" valign=\"top\">nifH</th>\n      <th>max</th>\n      <td>1.381487e+06</td>\n      <td>1.756066e+06</td>\n      <td>8.944016e+05</td>\n    </tr>\n    <tr>\n      <th>mean</th>\n      <td>6.134710e+05</td>\n      <td>1.115741e+06</td>\n      <td>4.848346e+05</td>\n    </tr>\n    <tr>\n      <th>min</th>\n      <td>2.382502e+05</td>\n      <td>4.969771e+05</td>\n      <td>2.288840e+05</td>\n    </tr>\n  </tbody>\n</table>\n</div>"
     },
     "execution_count": 6,
     "metadata": {},
     "output_type": "execute_result"
    }
   ],
   "source": [
    "level_gene = level_df.iloc[:,:15]\n",
    "level_gene['River'] = level_df['River']\n",
    "level_gene.groupby('River').agg(['max', 'mean', 'min']).T"
   ],
   "metadata": {
    "collapsed": false,
    "pycharm": {
     "name": "#%%\n"
    }
   }
  },
  {
   "cell_type": "markdown",
   "source": [
    "### 环境因子"
   ],
   "metadata": {
    "collapsed": false,
    "pycharm": {
     "name": "#%% md\n"
    }
   }
  },
  {
   "cell_type": "code",
   "execution_count": 7,
   "outputs": [
    {
     "data": {
      "text/plain": "River               Nanfei River  Pai River  Hangbu River\nW-pH          max       8.650000   9.110000      7.980000\n              mean      8.308333   8.268333      7.665833\n              min       8.130000   7.370000      7.060000\nW-DO          max       8.140000   8.660000      8.770000\n              mean      7.540833   8.331667      8.463333\n              min       7.160000   8.020000      8.020000\nW-TN          max       2.822868   2.374400      2.660000\n              mean      2.442005   2.241518      2.111667\n              min       2.207525   2.027600      1.650000\nW-NO_{2}^{-}  max       0.255000   0.099000      0.039500\n              mean      0.057267   0.073458      0.023583\n              min       0.000000   0.019500      0.019300\nW-NO_{3}^{-}  max       0.445000   0.134000      0.174000\n              mean      0.172000   0.112750      0.112333\n              min       0.105000   0.088000      0.070000\nW-NH_{4}^{+}  max       2.161000   2.140000      1.430000\n              mean      1.895417   1.872500      1.271667\n              min       1.630000   1.510000      1.150000\nW-COD         max      10.090000   9.560000      8.680000\n              mean      9.852500   9.401667      8.208333\n              min       9.510000   9.180000      5.020000\nW-PO_{4}^{3-} max       0.019000   0.016000      0.014000\n              mean      0.015750   0.012667      0.009333\n              min       0.010000   0.009000      0.006000\nW-TP          max       0.260000   0.130000      0.090000\n              mean      0.179167   0.084167      0.061667\n              min       0.090000   0.020000      0.020000\nW-T           max      20.500000  20.500000     20.300000\n              mean     19.600000  19.683333     19.466667\n              min      18.700000  18.800000     18.400000",
      "text/html": "<div>\n<style scoped>\n    .dataframe tbody tr th:only-of-type {\n        vertical-align: middle;\n    }\n\n    .dataframe tbody tr th {\n        vertical-align: top;\n    }\n\n    .dataframe thead th {\n        text-align: right;\n    }\n</style>\n<table border=\"1\" class=\"dataframe\">\n  <thead>\n    <tr style=\"text-align: right;\">\n      <th></th>\n      <th>River</th>\n      <th>Nanfei River</th>\n      <th>Pai River</th>\n      <th>Hangbu River</th>\n    </tr>\n  </thead>\n  <tbody>\n    <tr>\n      <th rowspan=\"3\" valign=\"top\">W-pH</th>\n      <th>max</th>\n      <td>8.650000</td>\n      <td>9.110000</td>\n      <td>7.980000</td>\n    </tr>\n    <tr>\n      <th>mean</th>\n      <td>8.308333</td>\n      <td>8.268333</td>\n      <td>7.665833</td>\n    </tr>\n    <tr>\n      <th>min</th>\n      <td>8.130000</td>\n      <td>7.370000</td>\n      <td>7.060000</td>\n    </tr>\n    <tr>\n      <th rowspan=\"3\" valign=\"top\">W-DO</th>\n      <th>max</th>\n      <td>8.140000</td>\n      <td>8.660000</td>\n      <td>8.770000</td>\n    </tr>\n    <tr>\n      <th>mean</th>\n      <td>7.540833</td>\n      <td>8.331667</td>\n      <td>8.463333</td>\n    </tr>\n    <tr>\n      <th>min</th>\n      <td>7.160000</td>\n      <td>8.020000</td>\n      <td>8.020000</td>\n    </tr>\n    <tr>\n      <th rowspan=\"3\" valign=\"top\">W-TN</th>\n      <th>max</th>\n      <td>2.822868</td>\n      <td>2.374400</td>\n      <td>2.660000</td>\n    </tr>\n    <tr>\n      <th>mean</th>\n      <td>2.442005</td>\n      <td>2.241518</td>\n      <td>2.111667</td>\n    </tr>\n    <tr>\n      <th>min</th>\n      <td>2.207525</td>\n      <td>2.027600</td>\n      <td>1.650000</td>\n    </tr>\n    <tr>\n      <th rowspan=\"3\" valign=\"top\">W-NO_{2}^{-}</th>\n      <th>max</th>\n      <td>0.255000</td>\n      <td>0.099000</td>\n      <td>0.039500</td>\n    </tr>\n    <tr>\n      <th>mean</th>\n      <td>0.057267</td>\n      <td>0.073458</td>\n      <td>0.023583</td>\n    </tr>\n    <tr>\n      <th>min</th>\n      <td>0.000000</td>\n      <td>0.019500</td>\n      <td>0.019300</td>\n    </tr>\n    <tr>\n      <th rowspan=\"3\" valign=\"top\">W-NO_{3}^{-}</th>\n      <th>max</th>\n      <td>0.445000</td>\n      <td>0.134000</td>\n      <td>0.174000</td>\n    </tr>\n    <tr>\n      <th>mean</th>\n      <td>0.172000</td>\n      <td>0.112750</td>\n      <td>0.112333</td>\n    </tr>\n    <tr>\n      <th>min</th>\n      <td>0.105000</td>\n      <td>0.088000</td>\n      <td>0.070000</td>\n    </tr>\n    <tr>\n      <th rowspan=\"3\" valign=\"top\">W-NH_{4}^{+}</th>\n      <th>max</th>\n      <td>2.161000</td>\n      <td>2.140000</td>\n      <td>1.430000</td>\n    </tr>\n    <tr>\n      <th>mean</th>\n      <td>1.895417</td>\n      <td>1.872500</td>\n      <td>1.271667</td>\n    </tr>\n    <tr>\n      <th>min</th>\n      <td>1.630000</td>\n      <td>1.510000</td>\n      <td>1.150000</td>\n    </tr>\n    <tr>\n      <th rowspan=\"3\" valign=\"top\">W-COD</th>\n      <th>max</th>\n      <td>10.090000</td>\n      <td>9.560000</td>\n      <td>8.680000</td>\n    </tr>\n    <tr>\n      <th>mean</th>\n      <td>9.852500</td>\n      <td>9.401667</td>\n      <td>8.208333</td>\n    </tr>\n    <tr>\n      <th>min</th>\n      <td>9.510000</td>\n      <td>9.180000</td>\n      <td>5.020000</td>\n    </tr>\n    <tr>\n      <th rowspan=\"3\" valign=\"top\">W-PO_{4}^{3-}</th>\n      <th>max</th>\n      <td>0.019000</td>\n      <td>0.016000</td>\n      <td>0.014000</td>\n    </tr>\n    <tr>\n      <th>mean</th>\n      <td>0.015750</td>\n      <td>0.012667</td>\n      <td>0.009333</td>\n    </tr>\n    <tr>\n      <th>min</th>\n      <td>0.010000</td>\n      <td>0.009000</td>\n      <td>0.006000</td>\n    </tr>\n    <tr>\n      <th rowspan=\"3\" valign=\"top\">W-TP</th>\n      <th>max</th>\n      <td>0.260000</td>\n      <td>0.130000</td>\n      <td>0.090000</td>\n    </tr>\n    <tr>\n      <th>mean</th>\n      <td>0.179167</td>\n      <td>0.084167</td>\n      <td>0.061667</td>\n    </tr>\n    <tr>\n      <th>min</th>\n      <td>0.090000</td>\n      <td>0.020000</td>\n      <td>0.020000</td>\n    </tr>\n    <tr>\n      <th rowspan=\"3\" valign=\"top\">W-T</th>\n      <th>max</th>\n      <td>20.500000</td>\n      <td>20.500000</td>\n      <td>20.300000</td>\n    </tr>\n    <tr>\n      <th>mean</th>\n      <td>19.600000</td>\n      <td>19.683333</td>\n      <td>19.466667</td>\n    </tr>\n    <tr>\n      <th>min</th>\n      <td>18.700000</td>\n      <td>18.800000</td>\n      <td>18.400000</td>\n    </tr>\n  </tbody>\n</table>\n</div>"
     },
     "execution_count": 7,
     "metadata": {},
     "output_type": "execute_result"
    }
   ],
   "source": [
    "level_overlying_water = level_df[[i for i in all_df.columns if\n",
    "            isinstance(i, str) and i.startswith('W')]+['River']]\n",
    "level_overlying_water.groupby('River').agg(['max', 'mean', 'min']).T"
   ],
   "metadata": {
    "collapsed": false,
    "pycharm": {
     "name": "#%%\n"
    }
   }
  },
  {
   "cell_type": "markdown",
   "source": [
    "## 丰水期"
   ],
   "metadata": {
    "collapsed": false,
    "pycharm": {
     "name": "#%% md\n"
    }
   }
  },
  {
   "cell_type": "code",
   "execution_count": 8,
   "outputs": [],
   "source": [
    "wet_df = all_df[all_df['Period'] == 'Wet Season'].copy()"
   ],
   "metadata": {
    "collapsed": false,
    "pycharm": {
     "name": "#%%\n"
    }
   }
  },
  {
   "cell_type": "markdown",
   "source": [
    "### 功能基因"
   ],
   "metadata": {
    "collapsed": false,
    "pycharm": {
     "name": "#%% md\n"
    }
   }
  },
  {
   "cell_type": "code",
   "execution_count": 9,
   "outputs": [
    {
     "data": {
      "text/plain": "River                    Nanfei River     Pai River  Hangbu River\nBacterial 16S rRNA max   3.320460e+12  4.141770e+12  5.078258e+12\n                   mean  2.163386e+12  3.303578e+12  3.412771e+12\n                   min   8.412755e+11  2.332340e+12  2.264744e+12\nArchaeal 16S rRNA  max   1.579853e+08  1.250934e+08  2.480042e+08\n                   mean  9.145700e+07  8.605185e+07  1.466776e+08\n                   min   5.173315e+07  3.532132e+07  7.877130e+07\nAOA_amoA           max   5.754869e+07  4.467447e+07  9.385959e+07\n                   mean  3.196631e+07  2.992951e+07  5.337972e+07\n                   min   1.714307e+07  1.133204e+07  2.704993e+07\nAOB_amoA           max   6.535614e+05  7.286351e+05  7.460567e+05\n                   mean  4.557587e+05  5.036584e+05  5.282069e+05\n                   min   2.841763e+05  3.432376e+05  2.926942e+05\nnxrA               max   3.460091e+09  7.333413e+09  6.186243e+09\n                   mean  2.163994e+09  3.078758e+09  4.749701e+09\n                   min   7.508439e+08  1.124640e+09  2.781485e+09\nnarG               max   8.178119e+06  1.448569e+07  1.633959e+07\n                   mean  3.652249e+06  5.451464e+06  4.619926e+06\n                   min   5.081883e+05  4.147311e+05  7.454658e+05\nnapA               max   3.127910e+07  1.182320e+07  2.235540e+07\n                   mean  1.015027e+07  4.774721e+06  8.503661e+06\n                   min   2.761891e+06  6.249637e+05  2.498973e+06\nnirK               max   4.879065e+07  4.129149e+07  1.233494e+08\n                   mean  2.703358e+07  1.857967e+07  3.089124e+07\n                   min   7.817231e+06  7.350488e+06  9.724474e+06\nnirS               max   2.938763e+08  1.194250e+08  9.518481e+07\n                   mean  8.263947e+07  7.691671e+07  7.414715e+07\n                   min   2.517318e+07  4.861724e+07  5.023491e+07\nnosZ               max   6.851636e+08  5.412092e+08  1.069002e+09\n                   mean  2.955059e+08  2.638712e+08  4.768404e+08\n                   min   8.952874e+07  6.144403e+07  1.647624e+08\ncnorB              max   1.692521e+06  1.381359e+06  1.389965e+06\n                   mean  6.278806e+05  1.014292e+06  8.353513e+05\n                   min   1.803408e+05  5.317830e+05  2.581152e+05\nhzsA               max   6.027384e+06  3.033582e+07  3.436518e+07\n                   mean  3.827933e+06  6.627110e+06  2.145651e+07\n                   min   1.561762e+06  1.112502e+06  1.196430e+07\nhzsB               max   2.045867e+07  2.335229e+07  9.928910e+07\n                   mean  8.596018e+06  9.647876e+06  4.196348e+07\n                   min   2.254037e+06  2.614325e+06  8.444147e+06\nhzo                max   7.955535e+05  5.153205e+05  4.115745e+05\n                   mean  4.787548e+05  3.038231e+05  2.864783e+05\n                   min   2.636442e+05  1.758649e+05  1.217819e+05\nnifH               max   6.658827e+06  6.664599e+06  5.536496e+06\n                   mean  2.529636e+06  2.610007e+06  2.186595e+06\n                   min   6.781003e+05  4.624932e+05  5.513645e+05",
      "text/html": "<div>\n<style scoped>\n    .dataframe tbody tr th:only-of-type {\n        vertical-align: middle;\n    }\n\n    .dataframe tbody tr th {\n        vertical-align: top;\n    }\n\n    .dataframe thead th {\n        text-align: right;\n    }\n</style>\n<table border=\"1\" class=\"dataframe\">\n  <thead>\n    <tr style=\"text-align: right;\">\n      <th></th>\n      <th>River</th>\n      <th>Nanfei River</th>\n      <th>Pai River</th>\n      <th>Hangbu River</th>\n    </tr>\n  </thead>\n  <tbody>\n    <tr>\n      <th rowspan=\"3\" valign=\"top\">Bacterial 16S rRNA</th>\n      <th>max</th>\n      <td>3.320460e+12</td>\n      <td>4.141770e+12</td>\n      <td>5.078258e+12</td>\n    </tr>\n    <tr>\n      <th>mean</th>\n      <td>2.163386e+12</td>\n      <td>3.303578e+12</td>\n      <td>3.412771e+12</td>\n    </tr>\n    <tr>\n      <th>min</th>\n      <td>8.412755e+11</td>\n      <td>2.332340e+12</td>\n      <td>2.264744e+12</td>\n    </tr>\n    <tr>\n      <th rowspan=\"3\" valign=\"top\">Archaeal 16S rRNA</th>\n      <th>max</th>\n      <td>1.579853e+08</td>\n      <td>1.250934e+08</td>\n      <td>2.480042e+08</td>\n    </tr>\n    <tr>\n      <th>mean</th>\n      <td>9.145700e+07</td>\n      <td>8.605185e+07</td>\n      <td>1.466776e+08</td>\n    </tr>\n    <tr>\n      <th>min</th>\n      <td>5.173315e+07</td>\n      <td>3.532132e+07</td>\n      <td>7.877130e+07</td>\n    </tr>\n    <tr>\n      <th rowspan=\"3\" valign=\"top\">AOA_amoA</th>\n      <th>max</th>\n      <td>5.754869e+07</td>\n      <td>4.467447e+07</td>\n      <td>9.385959e+07</td>\n    </tr>\n    <tr>\n      <th>mean</th>\n      <td>3.196631e+07</td>\n      <td>2.992951e+07</td>\n      <td>5.337972e+07</td>\n    </tr>\n    <tr>\n      <th>min</th>\n      <td>1.714307e+07</td>\n      <td>1.133204e+07</td>\n      <td>2.704993e+07</td>\n    </tr>\n    <tr>\n      <th rowspan=\"3\" valign=\"top\">AOB_amoA</th>\n      <th>max</th>\n      <td>6.535614e+05</td>\n      <td>7.286351e+05</td>\n      <td>7.460567e+05</td>\n    </tr>\n    <tr>\n      <th>mean</th>\n      <td>4.557587e+05</td>\n      <td>5.036584e+05</td>\n      <td>5.282069e+05</td>\n    </tr>\n    <tr>\n      <th>min</th>\n      <td>2.841763e+05</td>\n      <td>3.432376e+05</td>\n      <td>2.926942e+05</td>\n    </tr>\n    <tr>\n      <th rowspan=\"3\" valign=\"top\">nxrA</th>\n      <th>max</th>\n      <td>3.460091e+09</td>\n      <td>7.333413e+09</td>\n      <td>6.186243e+09</td>\n    </tr>\n    <tr>\n      <th>mean</th>\n      <td>2.163994e+09</td>\n      <td>3.078758e+09</td>\n      <td>4.749701e+09</td>\n    </tr>\n    <tr>\n      <th>min</th>\n      <td>7.508439e+08</td>\n      <td>1.124640e+09</td>\n      <td>2.781485e+09</td>\n    </tr>\n    <tr>\n      <th rowspan=\"3\" valign=\"top\">narG</th>\n      <th>max</th>\n      <td>8.178119e+06</td>\n      <td>1.448569e+07</td>\n      <td>1.633959e+07</td>\n    </tr>\n    <tr>\n      <th>mean</th>\n      <td>3.652249e+06</td>\n      <td>5.451464e+06</td>\n      <td>4.619926e+06</td>\n    </tr>\n    <tr>\n      <th>min</th>\n      <td>5.081883e+05</td>\n      <td>4.147311e+05</td>\n      <td>7.454658e+05</td>\n    </tr>\n    <tr>\n      <th rowspan=\"3\" valign=\"top\">napA</th>\n      <th>max</th>\n      <td>3.127910e+07</td>\n      <td>1.182320e+07</td>\n      <td>2.235540e+07</td>\n    </tr>\n    <tr>\n      <th>mean</th>\n      <td>1.015027e+07</td>\n      <td>4.774721e+06</td>\n      <td>8.503661e+06</td>\n    </tr>\n    <tr>\n      <th>min</th>\n      <td>2.761891e+06</td>\n      <td>6.249637e+05</td>\n      <td>2.498973e+06</td>\n    </tr>\n    <tr>\n      <th rowspan=\"3\" valign=\"top\">nirK</th>\n      <th>max</th>\n      <td>4.879065e+07</td>\n      <td>4.129149e+07</td>\n      <td>1.233494e+08</td>\n    </tr>\n    <tr>\n      <th>mean</th>\n      <td>2.703358e+07</td>\n      <td>1.857967e+07</td>\n      <td>3.089124e+07</td>\n    </tr>\n    <tr>\n      <th>min</th>\n      <td>7.817231e+06</td>\n      <td>7.350488e+06</td>\n      <td>9.724474e+06</td>\n    </tr>\n    <tr>\n      <th rowspan=\"3\" valign=\"top\">nirS</th>\n      <th>max</th>\n      <td>2.938763e+08</td>\n      <td>1.194250e+08</td>\n      <td>9.518481e+07</td>\n    </tr>\n    <tr>\n      <th>mean</th>\n      <td>8.263947e+07</td>\n      <td>7.691671e+07</td>\n      <td>7.414715e+07</td>\n    </tr>\n    <tr>\n      <th>min</th>\n      <td>2.517318e+07</td>\n      <td>4.861724e+07</td>\n      <td>5.023491e+07</td>\n    </tr>\n    <tr>\n      <th rowspan=\"3\" valign=\"top\">nosZ</th>\n      <th>max</th>\n      <td>6.851636e+08</td>\n      <td>5.412092e+08</td>\n      <td>1.069002e+09</td>\n    </tr>\n    <tr>\n      <th>mean</th>\n      <td>2.955059e+08</td>\n      <td>2.638712e+08</td>\n      <td>4.768404e+08</td>\n    </tr>\n    <tr>\n      <th>min</th>\n      <td>8.952874e+07</td>\n      <td>6.144403e+07</td>\n      <td>1.647624e+08</td>\n    </tr>\n    <tr>\n      <th rowspan=\"3\" valign=\"top\">cnorB</th>\n      <th>max</th>\n      <td>1.692521e+06</td>\n      <td>1.381359e+06</td>\n      <td>1.389965e+06</td>\n    </tr>\n    <tr>\n      <th>mean</th>\n      <td>6.278806e+05</td>\n      <td>1.014292e+06</td>\n      <td>8.353513e+05</td>\n    </tr>\n    <tr>\n      <th>min</th>\n      <td>1.803408e+05</td>\n      <td>5.317830e+05</td>\n      <td>2.581152e+05</td>\n    </tr>\n    <tr>\n      <th rowspan=\"3\" valign=\"top\">hzsA</th>\n      <th>max</th>\n      <td>6.027384e+06</td>\n      <td>3.033582e+07</td>\n      <td>3.436518e+07</td>\n    </tr>\n    <tr>\n      <th>mean</th>\n      <td>3.827933e+06</td>\n      <td>6.627110e+06</td>\n      <td>2.145651e+07</td>\n    </tr>\n    <tr>\n      <th>min</th>\n      <td>1.561762e+06</td>\n      <td>1.112502e+06</td>\n      <td>1.196430e+07</td>\n    </tr>\n    <tr>\n      <th rowspan=\"3\" valign=\"top\">hzsB</th>\n      <th>max</th>\n      <td>2.045867e+07</td>\n      <td>2.335229e+07</td>\n      <td>9.928910e+07</td>\n    </tr>\n    <tr>\n      <th>mean</th>\n      <td>8.596018e+06</td>\n      <td>9.647876e+06</td>\n      <td>4.196348e+07</td>\n    </tr>\n    <tr>\n      <th>min</th>\n      <td>2.254037e+06</td>\n      <td>2.614325e+06</td>\n      <td>8.444147e+06</td>\n    </tr>\n    <tr>\n      <th rowspan=\"3\" valign=\"top\">hzo</th>\n      <th>max</th>\n      <td>7.955535e+05</td>\n      <td>5.153205e+05</td>\n      <td>4.115745e+05</td>\n    </tr>\n    <tr>\n      <th>mean</th>\n      <td>4.787548e+05</td>\n      <td>3.038231e+05</td>\n      <td>2.864783e+05</td>\n    </tr>\n    <tr>\n      <th>min</th>\n      <td>2.636442e+05</td>\n      <td>1.758649e+05</td>\n      <td>1.217819e+05</td>\n    </tr>\n    <tr>\n      <th rowspan=\"3\" valign=\"top\">nifH</th>\n      <th>max</th>\n      <td>6.658827e+06</td>\n      <td>6.664599e+06</td>\n      <td>5.536496e+06</td>\n    </tr>\n    <tr>\n      <th>mean</th>\n      <td>2.529636e+06</td>\n      <td>2.610007e+06</td>\n      <td>2.186595e+06</td>\n    </tr>\n    <tr>\n      <th>min</th>\n      <td>6.781003e+05</td>\n      <td>4.624932e+05</td>\n      <td>5.513645e+05</td>\n    </tr>\n  </tbody>\n</table>\n</div>"
     },
     "execution_count": 9,
     "metadata": {},
     "output_type": "execute_result"
    }
   ],
   "source": [
    "wet_gene = wet_df.iloc[:,:15]\n",
    "wet_gene['River'] = wet_df['River']\n",
    "wet_gene.groupby('River').agg(['max', 'mean', 'min']).T"
   ],
   "metadata": {
    "collapsed": false,
    "pycharm": {
     "name": "#%%\n"
    }
   }
  },
  {
   "cell_type": "markdown",
   "source": [
    "### 环境因子"
   ],
   "metadata": {
    "collapsed": false,
    "pycharm": {
     "name": "#%% md\n"
    }
   }
  },
  {
   "cell_type": "code",
   "execution_count": 10,
   "outputs": [
    {
     "data": {
      "text/plain": "River               Nanfei River  Pai River  Hangbu River\nW-pH          max       8.870000   9.460000      9.170000\n              mean      8.429167   9.284167      8.976667\n              min       8.150000   8.970000      8.780000\nW-DO          max       8.980000  13.640000     10.730000\n              mean      8.071667  11.695833      9.560833\n              min       7.580000  10.310000      8.820000\nW-TN          max       2.540000   1.840000      1.900000\n              mean      2.120833   1.709167      1.528333\n              min       1.710000   1.560000      1.100000\nW-NO_{2}^{-}  max       0.062600   0.055700      0.000000\n              mean      0.027892   0.031342      0.000000\n              min       0.020600   0.021100      0.000000\nW-NO_{3}^{-}  max       0.268371   0.179035      0.051411\n              mean      0.162373   0.127985      0.019860\n              min       0.081190   0.093952      0.000362\nW-NH_{4}^{+}  max       1.975929   1.551085      1.695384\n              mean      1.399998   1.067537      0.905078\n              min       1.017700   0.656300      0.174800\nW-COD         max       9.270000   7.800000      7.590000\n              mean      8.377500   7.054167      6.626667\n              min       7.100000   6.390000      5.600000\nW-PO_{4}^{3-} max       0.054800   0.128300      0.079900\n              mean      0.026733   0.051850      0.031908\n              min       0.009100   0.027200      0.004800\nW-TP          max       2.112483   2.217844      1.743720\n              mean      1.186187   1.006195      1.124726\n              min       0.426711   0.268670      0.690113\nW-T           max      22.600000  29.200000     22.600000\n              mean     21.733333  28.575000     20.816667\n              min      20.600000  27.900000     19.600000",
      "text/html": "<div>\n<style scoped>\n    .dataframe tbody tr th:only-of-type {\n        vertical-align: middle;\n    }\n\n    .dataframe tbody tr th {\n        vertical-align: top;\n    }\n\n    .dataframe thead th {\n        text-align: right;\n    }\n</style>\n<table border=\"1\" class=\"dataframe\">\n  <thead>\n    <tr style=\"text-align: right;\">\n      <th></th>\n      <th>River</th>\n      <th>Nanfei River</th>\n      <th>Pai River</th>\n      <th>Hangbu River</th>\n    </tr>\n  </thead>\n  <tbody>\n    <tr>\n      <th rowspan=\"3\" valign=\"top\">W-pH</th>\n      <th>max</th>\n      <td>8.870000</td>\n      <td>9.460000</td>\n      <td>9.170000</td>\n    </tr>\n    <tr>\n      <th>mean</th>\n      <td>8.429167</td>\n      <td>9.284167</td>\n      <td>8.976667</td>\n    </tr>\n    <tr>\n      <th>min</th>\n      <td>8.150000</td>\n      <td>8.970000</td>\n      <td>8.780000</td>\n    </tr>\n    <tr>\n      <th rowspan=\"3\" valign=\"top\">W-DO</th>\n      <th>max</th>\n      <td>8.980000</td>\n      <td>13.640000</td>\n      <td>10.730000</td>\n    </tr>\n    <tr>\n      <th>mean</th>\n      <td>8.071667</td>\n      <td>11.695833</td>\n      <td>9.560833</td>\n    </tr>\n    <tr>\n      <th>min</th>\n      <td>7.580000</td>\n      <td>10.310000</td>\n      <td>8.820000</td>\n    </tr>\n    <tr>\n      <th rowspan=\"3\" valign=\"top\">W-TN</th>\n      <th>max</th>\n      <td>2.540000</td>\n      <td>1.840000</td>\n      <td>1.900000</td>\n    </tr>\n    <tr>\n      <th>mean</th>\n      <td>2.120833</td>\n      <td>1.709167</td>\n      <td>1.528333</td>\n    </tr>\n    <tr>\n      <th>min</th>\n      <td>1.710000</td>\n      <td>1.560000</td>\n      <td>1.100000</td>\n    </tr>\n    <tr>\n      <th rowspan=\"3\" valign=\"top\">W-NO_{2}^{-}</th>\n      <th>max</th>\n      <td>0.062600</td>\n      <td>0.055700</td>\n      <td>0.000000</td>\n    </tr>\n    <tr>\n      <th>mean</th>\n      <td>0.027892</td>\n      <td>0.031342</td>\n      <td>0.000000</td>\n    </tr>\n    <tr>\n      <th>min</th>\n      <td>0.020600</td>\n      <td>0.021100</td>\n      <td>0.000000</td>\n    </tr>\n    <tr>\n      <th rowspan=\"3\" valign=\"top\">W-NO_{3}^{-}</th>\n      <th>max</th>\n      <td>0.268371</td>\n      <td>0.179035</td>\n      <td>0.051411</td>\n    </tr>\n    <tr>\n      <th>mean</th>\n      <td>0.162373</td>\n      <td>0.127985</td>\n      <td>0.019860</td>\n    </tr>\n    <tr>\n      <th>min</th>\n      <td>0.081190</td>\n      <td>0.093952</td>\n      <td>0.000362</td>\n    </tr>\n    <tr>\n      <th rowspan=\"3\" valign=\"top\">W-NH_{4}^{+}</th>\n      <th>max</th>\n      <td>1.975929</td>\n      <td>1.551085</td>\n      <td>1.695384</td>\n    </tr>\n    <tr>\n      <th>mean</th>\n      <td>1.399998</td>\n      <td>1.067537</td>\n      <td>0.905078</td>\n    </tr>\n    <tr>\n      <th>min</th>\n      <td>1.017700</td>\n      <td>0.656300</td>\n      <td>0.174800</td>\n    </tr>\n    <tr>\n      <th rowspan=\"3\" valign=\"top\">W-COD</th>\n      <th>max</th>\n      <td>9.270000</td>\n      <td>7.800000</td>\n      <td>7.590000</td>\n    </tr>\n    <tr>\n      <th>mean</th>\n      <td>8.377500</td>\n      <td>7.054167</td>\n      <td>6.626667</td>\n    </tr>\n    <tr>\n      <th>min</th>\n      <td>7.100000</td>\n      <td>6.390000</td>\n      <td>5.600000</td>\n    </tr>\n    <tr>\n      <th rowspan=\"3\" valign=\"top\">W-PO_{4}^{3-}</th>\n      <th>max</th>\n      <td>0.054800</td>\n      <td>0.128300</td>\n      <td>0.079900</td>\n    </tr>\n    <tr>\n      <th>mean</th>\n      <td>0.026733</td>\n      <td>0.051850</td>\n      <td>0.031908</td>\n    </tr>\n    <tr>\n      <th>min</th>\n      <td>0.009100</td>\n      <td>0.027200</td>\n      <td>0.004800</td>\n    </tr>\n    <tr>\n      <th rowspan=\"3\" valign=\"top\">W-TP</th>\n      <th>max</th>\n      <td>2.112483</td>\n      <td>2.217844</td>\n      <td>1.743720</td>\n    </tr>\n    <tr>\n      <th>mean</th>\n      <td>1.186187</td>\n      <td>1.006195</td>\n      <td>1.124726</td>\n    </tr>\n    <tr>\n      <th>min</th>\n      <td>0.426711</td>\n      <td>0.268670</td>\n      <td>0.690113</td>\n    </tr>\n    <tr>\n      <th rowspan=\"3\" valign=\"top\">W-T</th>\n      <th>max</th>\n      <td>22.600000</td>\n      <td>29.200000</td>\n      <td>22.600000</td>\n    </tr>\n    <tr>\n      <th>mean</th>\n      <td>21.733333</td>\n      <td>28.575000</td>\n      <td>20.816667</td>\n    </tr>\n    <tr>\n      <th>min</th>\n      <td>20.600000</td>\n      <td>27.900000</td>\n      <td>19.600000</td>\n    </tr>\n  </tbody>\n</table>\n</div>"
     },
     "execution_count": 10,
     "metadata": {},
     "output_type": "execute_result"
    }
   ],
   "source": [
    "wet_overlying_water = wet_df[[i for i in all_df.columns if\n",
    "            isinstance(i, str) and i.startswith('W')]+['River']]\n",
    "wet_overlying_water.groupby('River').agg(['max', 'mean', 'min']).T"
   ],
   "metadata": {
    "collapsed": false,
    "pycharm": {
     "name": "#%%\n"
    }
   }
  }
 ],
 "metadata": {
  "kernelspec": {
   "display_name": "Python 3",
   "language": "python",
   "name": "python3"
  },
  "language_info": {
   "codemirror_mode": {
    "name": "ipython",
    "version": 2
   },
   "file_extension": ".py",
   "mimetype": "text/x-python",
   "name": "python",
   "nbconvert_exporter": "python",
   "pygments_lexer": "ipython2",
   "version": "2.7.6"
  }
 },
 "nbformat": 4,
 "nbformat_minor": 0
}