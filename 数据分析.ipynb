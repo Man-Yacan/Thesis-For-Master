{
 "cells": [
  {
   "cell_type": "code",
   "execution_count": 1,
   "outputs": [],
   "source": [
    "import numpy as np\n",
    "\n",
    "from ResearchMain import *"
   ],
   "metadata": {
    "collapsed": false,
    "pycharm": {
     "name": "#%%\n"
    }
   }
  },
  {
   "cell_type": "markdown",
   "source": [
    "## 枯水期"
   ],
   "metadata": {
    "collapsed": false,
    "pycharm": {
     "name": "#%% md\n"
    }
   }
  },
  {
   "cell_type": "code",
   "execution_count": 2,
   "outputs": [],
   "source": [
    "dry_df = all_df[all_df['Period'] == 'Dry Season'].copy()"
   ],
   "metadata": {
    "collapsed": false,
    "pycharm": {
     "name": "#%%\n"
    }
   }
  },
  {
   "cell_type": "markdown",
   "source": [
    "### 功能基因"
   ],
   "metadata": {
    "collapsed": false,
    "pycharm": {
     "name": "#%% md\n"
    }
   }
  },
  {
   "cell_type": "code",
   "execution_count": 3,
   "outputs": [
    {
     "data": {
      "text/plain": "River                    Nanfei River     Pai River  Hangbu River\nBacterial 16S rRNA max   3.131311e+12  3.174466e+12  4.303498e+12\n                   mean  2.022188e+12  1.983020e+12  2.983198e+12\n                   min   9.328554e+11  7.968973e+11  9.734149e+11\nArchaeal 16S rRNA  max   9.308005e+07  8.042868e+07  1.161468e+08\n                   mean  3.897814e+07  4.635741e+07  5.720662e+07\n                   min   1.322307e+07  1.299403e+07  2.818142e+07\nAOA_amoA           max   2.990348e+07  6.316762e+07  1.714973e+07\n                   mean  1.746286e+07  2.537847e+07  1.216727e+07\n                   min   9.372749e+06  8.452542e+06  6.728205e+06\nAOB_amoA           max   5.498405e+05  6.054650e+05  5.625903e+05\n                   mean  4.262796e+05  5.238033e+05  4.608383e+05\n                   min   2.387377e+05  4.160011e+05  3.621674e+05\nnxrA               max   1.689162e+07  1.322453e+07  1.466007e+07\n                   mean  1.061545e+07  1.005694e+07  1.029054e+07\n                   min   4.135236e+06  7.590219e+06  5.529952e+06\nnarG               max   5.203335e+05  5.966395e+05  6.193215e+05\n                   mean  1.520786e+05  2.253500e+05  3.212427e+05\n                   min   4.789525e+04  4.086967e+04  5.224020e+04\nnapA               max   3.427096e+06  4.244546e+06  2.714383e+06\n                   mean  1.009576e+06  1.599573e+06  1.130136e+06\n                   min   2.081086e+05  6.441686e+05  1.929301e+05\nnirK               max   1.478592e+06  1.875938e+06  8.655376e+05\n                   mean  8.235793e+05  1.236558e+06  6.062591e+05\n                   min   5.374574e+05  5.828420e+05  3.668576e+05\nnirS               max   4.167981e+08  3.971259e+08  4.983680e+08\n                   mean  2.821498e+08  2.176391e+08  2.408044e+08\n                   min   1.420427e+08  8.843484e+07  7.556193e+07\nnosZ               max   1.670079e+06  2.398712e+06  1.101283e+06\n                   mean  8.515093e+05  1.394638e+06  7.192476e+05\n                   min   3.427432e+05  6.582586e+05  3.468487e+05\ncnorB              max   3.431184e+05  3.819296e+05  2.877926e+05\n                   mean  2.209717e+05  2.015863e+05  1.749708e+05\n                   min   1.034718e+05  8.051057e+04  1.283924e+05\nhzsA               max   9.522288e+05  1.505929e+06  1.647053e+06\n                   mean  6.219208e+05  8.151820e+05  1.100295e+06\n                   min   3.019290e+05  5.298729e+05  6.900954e+05\nhzsB               max   5.024014e+05  7.288663e+05  1.353839e+06\n                   mean  3.218751e+05  3.517629e+05  7.538687e+05\n                   min   1.324880e+05  1.803475e+05  2.760314e+05\nhzo                max   9.078401e+04  6.392944e+04  5.976380e+04\n                   mean  6.220906e+04  4.788622e+04  4.665523e+04\n                   min   3.596170e+04  3.380733e+04  3.252920e+04\nnifH               max   2.316647e+04  1.102428e+05  2.046502e+04\n                   mean  1.332224e+04  4.668955e+04  1.512916e+04\n                   min   4.232020e+03  6.553047e+03  9.917281e+03",
      "text/html": "<div>\n<style scoped>\n    .dataframe tbody tr th:only-of-type {\n        vertical-align: middle;\n    }\n\n    .dataframe tbody tr th {\n        vertical-align: top;\n    }\n\n    .dataframe thead th {\n        text-align: right;\n    }\n</style>\n<table border=\"1\" class=\"dataframe\">\n  <thead>\n    <tr style=\"text-align: right;\">\n      <th></th>\n      <th>River</th>\n      <th>Nanfei River</th>\n      <th>Pai River</th>\n      <th>Hangbu River</th>\n    </tr>\n  </thead>\n  <tbody>\n    <tr>\n      <th rowspan=\"3\" valign=\"top\">Bacterial 16S rRNA</th>\n      <th>max</th>\n      <td>3.131311e+12</td>\n      <td>3.174466e+12</td>\n      <td>4.303498e+12</td>\n    </tr>\n    <tr>\n      <th>mean</th>\n      <td>2.022188e+12</td>\n      <td>1.983020e+12</td>\n      <td>2.983198e+12</td>\n    </tr>\n    <tr>\n      <th>min</th>\n      <td>9.328554e+11</td>\n      <td>7.968973e+11</td>\n      <td>9.734149e+11</td>\n    </tr>\n    <tr>\n      <th rowspan=\"3\" valign=\"top\">Archaeal 16S rRNA</th>\n      <th>max</th>\n      <td>9.308005e+07</td>\n      <td>8.042868e+07</td>\n      <td>1.161468e+08</td>\n    </tr>\n    <tr>\n      <th>mean</th>\n      <td>3.897814e+07</td>\n      <td>4.635741e+07</td>\n      <td>5.720662e+07</td>\n    </tr>\n    <tr>\n      <th>min</th>\n      <td>1.322307e+07</td>\n      <td>1.299403e+07</td>\n      <td>2.818142e+07</td>\n    </tr>\n    <tr>\n      <th rowspan=\"3\" valign=\"top\">AOA_amoA</th>\n      <th>max</th>\n      <td>2.990348e+07</td>\n      <td>6.316762e+07</td>\n      <td>1.714973e+07</td>\n    </tr>\n    <tr>\n      <th>mean</th>\n      <td>1.746286e+07</td>\n      <td>2.537847e+07</td>\n      <td>1.216727e+07</td>\n    </tr>\n    <tr>\n      <th>min</th>\n      <td>9.372749e+06</td>\n      <td>8.452542e+06</td>\n      <td>6.728205e+06</td>\n    </tr>\n    <tr>\n      <th rowspan=\"3\" valign=\"top\">AOB_amoA</th>\n      <th>max</th>\n      <td>5.498405e+05</td>\n      <td>6.054650e+05</td>\n      <td>5.625903e+05</td>\n    </tr>\n    <tr>\n      <th>mean</th>\n      <td>4.262796e+05</td>\n      <td>5.238033e+05</td>\n      <td>4.608383e+05</td>\n    </tr>\n    <tr>\n      <th>min</th>\n      <td>2.387377e+05</td>\n      <td>4.160011e+05</td>\n      <td>3.621674e+05</td>\n    </tr>\n    <tr>\n      <th rowspan=\"3\" valign=\"top\">nxrA</th>\n      <th>max</th>\n      <td>1.689162e+07</td>\n      <td>1.322453e+07</td>\n      <td>1.466007e+07</td>\n    </tr>\n    <tr>\n      <th>mean</th>\n      <td>1.061545e+07</td>\n      <td>1.005694e+07</td>\n      <td>1.029054e+07</td>\n    </tr>\n    <tr>\n      <th>min</th>\n      <td>4.135236e+06</td>\n      <td>7.590219e+06</td>\n      <td>5.529952e+06</td>\n    </tr>\n    <tr>\n      <th rowspan=\"3\" valign=\"top\">narG</th>\n      <th>max</th>\n      <td>5.203335e+05</td>\n      <td>5.966395e+05</td>\n      <td>6.193215e+05</td>\n    </tr>\n    <tr>\n      <th>mean</th>\n      <td>1.520786e+05</td>\n      <td>2.253500e+05</td>\n      <td>3.212427e+05</td>\n    </tr>\n    <tr>\n      <th>min</th>\n      <td>4.789525e+04</td>\n      <td>4.086967e+04</td>\n      <td>5.224020e+04</td>\n    </tr>\n    <tr>\n      <th rowspan=\"3\" valign=\"top\">napA</th>\n      <th>max</th>\n      <td>3.427096e+06</td>\n      <td>4.244546e+06</td>\n      <td>2.714383e+06</td>\n    </tr>\n    <tr>\n      <th>mean</th>\n      <td>1.009576e+06</td>\n      <td>1.599573e+06</td>\n      <td>1.130136e+06</td>\n    </tr>\n    <tr>\n      <th>min</th>\n      <td>2.081086e+05</td>\n      <td>6.441686e+05</td>\n      <td>1.929301e+05</td>\n    </tr>\n    <tr>\n      <th rowspan=\"3\" valign=\"top\">nirK</th>\n      <th>max</th>\n      <td>1.478592e+06</td>\n      <td>1.875938e+06</td>\n      <td>8.655376e+05</td>\n    </tr>\n    <tr>\n      <th>mean</th>\n      <td>8.235793e+05</td>\n      <td>1.236558e+06</td>\n      <td>6.062591e+05</td>\n    </tr>\n    <tr>\n      <th>min</th>\n      <td>5.374574e+05</td>\n      <td>5.828420e+05</td>\n      <td>3.668576e+05</td>\n    </tr>\n    <tr>\n      <th rowspan=\"3\" valign=\"top\">nirS</th>\n      <th>max</th>\n      <td>4.167981e+08</td>\n      <td>3.971259e+08</td>\n      <td>4.983680e+08</td>\n    </tr>\n    <tr>\n      <th>mean</th>\n      <td>2.821498e+08</td>\n      <td>2.176391e+08</td>\n      <td>2.408044e+08</td>\n    </tr>\n    <tr>\n      <th>min</th>\n      <td>1.420427e+08</td>\n      <td>8.843484e+07</td>\n      <td>7.556193e+07</td>\n    </tr>\n    <tr>\n      <th rowspan=\"3\" valign=\"top\">nosZ</th>\n      <th>max</th>\n      <td>1.670079e+06</td>\n      <td>2.398712e+06</td>\n      <td>1.101283e+06</td>\n    </tr>\n    <tr>\n      <th>mean</th>\n      <td>8.515093e+05</td>\n      <td>1.394638e+06</td>\n      <td>7.192476e+05</td>\n    </tr>\n    <tr>\n      <th>min</th>\n      <td>3.427432e+05</td>\n      <td>6.582586e+05</td>\n      <td>3.468487e+05</td>\n    </tr>\n    <tr>\n      <th rowspan=\"3\" valign=\"top\">cnorB</th>\n      <th>max</th>\n      <td>3.431184e+05</td>\n      <td>3.819296e+05</td>\n      <td>2.877926e+05</td>\n    </tr>\n    <tr>\n      <th>mean</th>\n      <td>2.209717e+05</td>\n      <td>2.015863e+05</td>\n      <td>1.749708e+05</td>\n    </tr>\n    <tr>\n      <th>min</th>\n      <td>1.034718e+05</td>\n      <td>8.051057e+04</td>\n      <td>1.283924e+05</td>\n    </tr>\n    <tr>\n      <th rowspan=\"3\" valign=\"top\">hzsA</th>\n      <th>max</th>\n      <td>9.522288e+05</td>\n      <td>1.505929e+06</td>\n      <td>1.647053e+06</td>\n    </tr>\n    <tr>\n      <th>mean</th>\n      <td>6.219208e+05</td>\n      <td>8.151820e+05</td>\n      <td>1.100295e+06</td>\n    </tr>\n    <tr>\n      <th>min</th>\n      <td>3.019290e+05</td>\n      <td>5.298729e+05</td>\n      <td>6.900954e+05</td>\n    </tr>\n    <tr>\n      <th rowspan=\"3\" valign=\"top\">hzsB</th>\n      <th>max</th>\n      <td>5.024014e+05</td>\n      <td>7.288663e+05</td>\n      <td>1.353839e+06</td>\n    </tr>\n    <tr>\n      <th>mean</th>\n      <td>3.218751e+05</td>\n      <td>3.517629e+05</td>\n      <td>7.538687e+05</td>\n    </tr>\n    <tr>\n      <th>min</th>\n      <td>1.324880e+05</td>\n      <td>1.803475e+05</td>\n      <td>2.760314e+05</td>\n    </tr>\n    <tr>\n      <th rowspan=\"3\" valign=\"top\">hzo</th>\n      <th>max</th>\n      <td>9.078401e+04</td>\n      <td>6.392944e+04</td>\n      <td>5.976380e+04</td>\n    </tr>\n    <tr>\n      <th>mean</th>\n      <td>6.220906e+04</td>\n      <td>4.788622e+04</td>\n      <td>4.665523e+04</td>\n    </tr>\n    <tr>\n      <th>min</th>\n      <td>3.596170e+04</td>\n      <td>3.380733e+04</td>\n      <td>3.252920e+04</td>\n    </tr>\n    <tr>\n      <th rowspan=\"3\" valign=\"top\">nifH</th>\n      <th>max</th>\n      <td>2.316647e+04</td>\n      <td>1.102428e+05</td>\n      <td>2.046502e+04</td>\n    </tr>\n    <tr>\n      <th>mean</th>\n      <td>1.332224e+04</td>\n      <td>4.668955e+04</td>\n      <td>1.512916e+04</td>\n    </tr>\n    <tr>\n      <th>min</th>\n      <td>4.232020e+03</td>\n      <td>6.553047e+03</td>\n      <td>9.917281e+03</td>\n    </tr>\n  </tbody>\n</table>\n</div>"
     },
     "execution_count": 3,
     "metadata": {},
     "output_type": "execute_result"
    }
   ],
   "source": [
    "dry_gene = dry_df.iloc[:,:15]\n",
    "dry_gene['River'] = dry_df['River']\n",
    "dry_gene.groupby('River').agg(['max', 'mean', 'min']).T"
   ],
   "metadata": {
    "collapsed": false,
    "pycharm": {
     "name": "#%%\n"
    }
   }
  },
  {
   "cell_type": "code",
   "execution_count": 4,
   "outputs": [
    {
     "data": {
      "text/plain": "River                    Nanfei River  Pai River  Hangbu River\nBacterial 16S rRNA max      12.495726  12.501671     12.633822\n                   mean     12.305822  12.297327     12.474682\n                   min      11.969814  11.901402     11.988298\nArchaeal 16S rRNA  max       7.968857   7.905411      8.065007\n                   mean      7.590821   7.666119      7.757446\n                   min       7.121332   7.113744      7.449963\nAOA_amoA           max       7.475722   7.800494      7.234257\n                   mean      7.242115   7.404465      7.085193\n                   min       6.971867   6.926987      6.827899\nAOB_amoA           max       5.740237   5.782089      5.750192\n                   mean      5.629695   5.719168      5.663549\n                   min       5.377921   5.619094      5.558909\nnxrA               max       7.227671   7.121380      7.166136\n                   mean      7.025939   7.002466      7.012438\n                   min       6.616500   6.880254      6.742721\nnarG               max       5.716282   5.775712      5.791916\n                   mean      5.182068   5.352858      5.506833\n                   min       4.680292   4.611401      4.718005\nnapA               max       6.534926   6.627831      6.433671\n                   mean      6.004139   6.204004      6.053131\n                   min       5.318290   5.809000      5.285400\nnirK               max       6.169848   6.273218      5.937286\n                   mean      5.915705   6.092214      5.782658\n                   min       5.730344   5.765551      5.564497\nnirS               max       8.619926   8.598928      8.697550\n                   mean      8.450480   8.337737      8.381664\n                   min       8.152419   7.946623      7.878303\nnosZ               max       6.222737   6.379978      6.041899\n                   mean      5.930189   6.144462      5.856878\n                   min       5.534969   5.818397      5.540140\ncnorB              max       5.535444   5.581983      5.459080\n                   mean      5.344337   5.304461      5.242966\n                   min       5.014822   4.905853      5.108539\nhzsA               max       5.978741   6.177804      6.216708\n                   mean      5.793735   5.911255      6.041509\n                   min       5.479905   5.724172      5.838909\nhzsB               max       5.701051   5.862648      6.131567\n                   mean      5.507687   5.546250      5.877296\n                   min       5.122176   5.256110      5.440959\nhzo                max       4.958009   4.805701      4.776438\n                   mean      4.793854   4.680211      4.668900\n                   min       4.555840   4.529011      4.512273\nnifH               max       4.364860   5.042350      4.311012\n                   mean      4.124577   4.669220      4.179815\n                   min       3.626548   3.816443      3.996393",
      "text/html": "<div>\n<style scoped>\n    .dataframe tbody tr th:only-of-type {\n        vertical-align: middle;\n    }\n\n    .dataframe tbody tr th {\n        vertical-align: top;\n    }\n\n    .dataframe thead th {\n        text-align: right;\n    }\n</style>\n<table border=\"1\" class=\"dataframe\">\n  <thead>\n    <tr style=\"text-align: right;\">\n      <th></th>\n      <th>River</th>\n      <th>Nanfei River</th>\n      <th>Pai River</th>\n      <th>Hangbu River</th>\n    </tr>\n  </thead>\n  <tbody>\n    <tr>\n      <th rowspan=\"3\" valign=\"top\">Bacterial 16S rRNA</th>\n      <th>max</th>\n      <td>12.495726</td>\n      <td>12.501671</td>\n      <td>12.633822</td>\n    </tr>\n    <tr>\n      <th>mean</th>\n      <td>12.305822</td>\n      <td>12.297327</td>\n      <td>12.474682</td>\n    </tr>\n    <tr>\n      <th>min</th>\n      <td>11.969814</td>\n      <td>11.901402</td>\n      <td>11.988298</td>\n    </tr>\n    <tr>\n      <th rowspan=\"3\" valign=\"top\">Archaeal 16S rRNA</th>\n      <th>max</th>\n      <td>7.968857</td>\n      <td>7.905411</td>\n      <td>8.065007</td>\n    </tr>\n    <tr>\n      <th>mean</th>\n      <td>7.590821</td>\n      <td>7.666119</td>\n      <td>7.757446</td>\n    </tr>\n    <tr>\n      <th>min</th>\n      <td>7.121332</td>\n      <td>7.113744</td>\n      <td>7.449963</td>\n    </tr>\n    <tr>\n      <th rowspan=\"3\" valign=\"top\">AOA_amoA</th>\n      <th>max</th>\n      <td>7.475722</td>\n      <td>7.800494</td>\n      <td>7.234257</td>\n    </tr>\n    <tr>\n      <th>mean</th>\n      <td>7.242115</td>\n      <td>7.404465</td>\n      <td>7.085193</td>\n    </tr>\n    <tr>\n      <th>min</th>\n      <td>6.971867</td>\n      <td>6.926987</td>\n      <td>6.827899</td>\n    </tr>\n    <tr>\n      <th rowspan=\"3\" valign=\"top\">AOB_amoA</th>\n      <th>max</th>\n      <td>5.740237</td>\n      <td>5.782089</td>\n      <td>5.750192</td>\n    </tr>\n    <tr>\n      <th>mean</th>\n      <td>5.629695</td>\n      <td>5.719168</td>\n      <td>5.663549</td>\n    </tr>\n    <tr>\n      <th>min</th>\n      <td>5.377921</td>\n      <td>5.619094</td>\n      <td>5.558909</td>\n    </tr>\n    <tr>\n      <th rowspan=\"3\" valign=\"top\">nxrA</th>\n      <th>max</th>\n      <td>7.227671</td>\n      <td>7.121380</td>\n      <td>7.166136</td>\n    </tr>\n    <tr>\n      <th>mean</th>\n      <td>7.025939</td>\n      <td>7.002466</td>\n      <td>7.012438</td>\n    </tr>\n    <tr>\n      <th>min</th>\n      <td>6.616500</td>\n      <td>6.880254</td>\n      <td>6.742721</td>\n    </tr>\n    <tr>\n      <th rowspan=\"3\" valign=\"top\">narG</th>\n      <th>max</th>\n      <td>5.716282</td>\n      <td>5.775712</td>\n      <td>5.791916</td>\n    </tr>\n    <tr>\n      <th>mean</th>\n      <td>5.182068</td>\n      <td>5.352858</td>\n      <td>5.506833</td>\n    </tr>\n    <tr>\n      <th>min</th>\n      <td>4.680292</td>\n      <td>4.611401</td>\n      <td>4.718005</td>\n    </tr>\n    <tr>\n      <th rowspan=\"3\" valign=\"top\">napA</th>\n      <th>max</th>\n      <td>6.534926</td>\n      <td>6.627831</td>\n      <td>6.433671</td>\n    </tr>\n    <tr>\n      <th>mean</th>\n      <td>6.004139</td>\n      <td>6.204004</td>\n      <td>6.053131</td>\n    </tr>\n    <tr>\n      <th>min</th>\n      <td>5.318290</td>\n      <td>5.809000</td>\n      <td>5.285400</td>\n    </tr>\n    <tr>\n      <th rowspan=\"3\" valign=\"top\">nirK</th>\n      <th>max</th>\n      <td>6.169848</td>\n      <td>6.273218</td>\n      <td>5.937286</td>\n    </tr>\n    <tr>\n      <th>mean</th>\n      <td>5.915705</td>\n      <td>6.092214</td>\n      <td>5.782658</td>\n    </tr>\n    <tr>\n      <th>min</th>\n      <td>5.730344</td>\n      <td>5.765551</td>\n      <td>5.564497</td>\n    </tr>\n    <tr>\n      <th rowspan=\"3\" valign=\"top\">nirS</th>\n      <th>max</th>\n      <td>8.619926</td>\n      <td>8.598928</td>\n      <td>8.697550</td>\n    </tr>\n    <tr>\n      <th>mean</th>\n      <td>8.450480</td>\n      <td>8.337737</td>\n      <td>8.381664</td>\n    </tr>\n    <tr>\n      <th>min</th>\n      <td>8.152419</td>\n      <td>7.946623</td>\n      <td>7.878303</td>\n    </tr>\n    <tr>\n      <th rowspan=\"3\" valign=\"top\">nosZ</th>\n      <th>max</th>\n      <td>6.222737</td>\n      <td>6.379978</td>\n      <td>6.041899</td>\n    </tr>\n    <tr>\n      <th>mean</th>\n      <td>5.930189</td>\n      <td>6.144462</td>\n      <td>5.856878</td>\n    </tr>\n    <tr>\n      <th>min</th>\n      <td>5.534969</td>\n      <td>5.818397</td>\n      <td>5.540140</td>\n    </tr>\n    <tr>\n      <th rowspan=\"3\" valign=\"top\">cnorB</th>\n      <th>max</th>\n      <td>5.535444</td>\n      <td>5.581983</td>\n      <td>5.459080</td>\n    </tr>\n    <tr>\n      <th>mean</th>\n      <td>5.344337</td>\n      <td>5.304461</td>\n      <td>5.242966</td>\n    </tr>\n    <tr>\n      <th>min</th>\n      <td>5.014822</td>\n      <td>4.905853</td>\n      <td>5.108539</td>\n    </tr>\n    <tr>\n      <th rowspan=\"3\" valign=\"top\">hzsA</th>\n      <th>max</th>\n      <td>5.978741</td>\n      <td>6.177804</td>\n      <td>6.216708</td>\n    </tr>\n    <tr>\n      <th>mean</th>\n      <td>5.793735</td>\n      <td>5.911255</td>\n      <td>6.041509</td>\n    </tr>\n    <tr>\n      <th>min</th>\n      <td>5.479905</td>\n      <td>5.724172</td>\n      <td>5.838909</td>\n    </tr>\n    <tr>\n      <th rowspan=\"3\" valign=\"top\">hzsB</th>\n      <th>max</th>\n      <td>5.701051</td>\n      <td>5.862648</td>\n      <td>6.131567</td>\n    </tr>\n    <tr>\n      <th>mean</th>\n      <td>5.507687</td>\n      <td>5.546250</td>\n      <td>5.877296</td>\n    </tr>\n    <tr>\n      <th>min</th>\n      <td>5.122176</td>\n      <td>5.256110</td>\n      <td>5.440959</td>\n    </tr>\n    <tr>\n      <th rowspan=\"3\" valign=\"top\">hzo</th>\n      <th>max</th>\n      <td>4.958009</td>\n      <td>4.805701</td>\n      <td>4.776438</td>\n    </tr>\n    <tr>\n      <th>mean</th>\n      <td>4.793854</td>\n      <td>4.680211</td>\n      <td>4.668900</td>\n    </tr>\n    <tr>\n      <th>min</th>\n      <td>4.555840</td>\n      <td>4.529011</td>\n      <td>4.512273</td>\n    </tr>\n    <tr>\n      <th rowspan=\"3\" valign=\"top\">nifH</th>\n      <th>max</th>\n      <td>4.364860</td>\n      <td>5.042350</td>\n      <td>4.311012</td>\n    </tr>\n    <tr>\n      <th>mean</th>\n      <td>4.124577</td>\n      <td>4.669220</td>\n      <td>4.179815</td>\n    </tr>\n    <tr>\n      <th>min</th>\n      <td>3.626548</td>\n      <td>3.816443</td>\n      <td>3.996393</td>\n    </tr>\n  </tbody>\n</table>\n</div>"
     },
     "execution_count": 4,
     "metadata": {},
     "output_type": "execute_result"
    }
   ],
   "source": [
    "dry_gene.groupby('River').agg(['max', 'mean', 'min']).T.applymap(lambda x: np.log10(x))"
   ],
   "metadata": {
    "collapsed": false,
    "pycharm": {
     "name": "#%%\n"
    }
   }
  },
  {
   "cell_type": "markdown",
   "source": [
    "### 环境因子"
   ],
   "metadata": {
    "collapsed": false,
    "pycharm": {
     "name": "#%% md\n"
    }
   }
  },
  {
   "cell_type": "code",
   "execution_count": 4,
   "outputs": [],
   "source": [],
   "metadata": {
    "collapsed": false,
    "pycharm": {
     "name": "#%%\n"
    }
   }
  },
  {
   "cell_type": "markdown",
   "source": [],
   "metadata": {
    "collapsed": false,
    "pycharm": {
     "name": "#%% md\n"
    }
   }
  },
  {
   "cell_type": "code",
   "execution_count": 4,
   "outputs": [],
   "source": [],
   "metadata": {
    "collapsed": false,
    "pycharm": {
     "name": "#%%\n"
    }
   }
  },
  {
   "cell_type": "markdown",
   "source": [
    "## 平水期"
   ],
   "metadata": {
    "collapsed": false,
    "pycharm": {
     "name": "#%% md\n"
    }
   }
  },
  {
   "cell_type": "code",
   "execution_count": 5,
   "outputs": [],
   "source": [
    "level_df = all_df[all_df['Period'] == 'Level Season'].copy()"
   ],
   "metadata": {
    "collapsed": false,
    "pycharm": {
     "name": "#%%\n"
    }
   }
  },
  {
   "cell_type": "markdown",
   "source": [
    "### 功能基因"
   ],
   "metadata": {
    "collapsed": false,
    "pycharm": {
     "name": "#%% md\n"
    }
   }
  },
  {
   "cell_type": "code",
   "execution_count": 6,
   "outputs": [
    {
     "data": {
      "text/plain": "River                    Nanfei River     Pai River  Hangbu River\nBacterial 16S rRNA max   7.604506e+12  1.140504e+13  3.303685e+12\n                   mean  3.249478e+12  3.578141e+12  2.552210e+12\n                   min   1.224842e+12  1.253649e+12  1.516805e+12\nArchaeal 16S rRNA  max   1.009469e+08  1.281502e+08  1.532839e+08\n                   mean  5.540494e+07  5.978891e+07  8.537894e+07\n                   min   1.453783e+07  1.717329e+07  3.253583e+07\nAOA_amoA           max   2.141173e+07  4.572601e+07  3.701095e+07\n                   mean  1.358199e+07  2.500400e+07  1.713264e+07\n                   min   6.927293e+06  1.541951e+07  4.306540e+06\nAOB_amoA           max   6.947621e+05  5.475686e+05  1.056369e+06\n                   mean  4.698944e+05  4.221324e+05  5.321063e+05\n                   min   2.319129e+05  3.345218e+05  3.522842e+05\nnxrA               max   3.613316e+09  2.861015e+09  3.499164e+09\n                   mean  1.701770e+09  1.326779e+09  2.046041e+09\n                   min   7.262824e+08  6.389149e+08  8.628586e+08\nnarG               max   1.016559e+06  2.216880e+06  2.348452e+06\n                   mean  3.757978e+05  7.605435e+05  7.995340e+05\n                   min   2.047164e+04  6.382173e+04  1.896399e+05\nnapA               max   2.855502e+06  5.115032e+06  5.194246e+06\n                   mean  1.084488e+06  1.895279e+06  2.549605e+06\n                   min   4.663985e+05  5.429993e+05  6.415286e+05\nnirK               max   9.027957e+06  9.508903e+06  7.943298e+06\n                   mean  3.395932e+06  6.067676e+06  2.506152e+06\n                   min   1.614868e+06  3.838476e+06  1.029133e+06\nnirS               max   5.461636e+07  5.490142e+07  1.290511e+08\n                   mean  3.291277e+07  2.554502e+07  6.821598e+07\n                   min   8.651685e+06  5.225527e+06  3.141430e+07\nnosZ               max   1.348606e+06  2.016111e+06  1.857443e+06\n                   mean  7.142678e+05  1.358061e+06  8.680857e+05\n                   min   3.540412e+05  6.291425e+05  3.352485e+05\ncnorB              max   3.506617e+05  2.731027e+05  9.457716e+05\n                   mean  2.165167e+05  2.078281e+05  2.395477e+05\n                   min   1.302663e+05  1.350502e+05  6.307644e+04\nhzsA               max   3.616539e+06  1.277152e+07  1.057527e+07\n                   mean  2.685675e+06  4.885144e+06  6.470143e+06\n                   min   1.449002e+06  1.494494e+06  2.107161e+06\nhzsB               max   4.283857e+06  4.037983e+06  7.506644e+06\n                   mean  2.152766e+06  2.560262e+06  4.597328e+06\n                   min   1.287973e+06  1.511386e+06  2.133058e+06\nhzo                max   6.384501e+05  3.817314e+05  3.033665e+05\n                   mean  4.276401e+05  2.439780e+05  2.175949e+05\n                   min   2.558175e+05  1.785698e+05  1.298462e+05\nnifH               max   1.381487e+06  1.756066e+06  8.944016e+05\n                   mean  6.134710e+05  1.115741e+06  4.848346e+05\n                   min   2.382502e+05  4.969771e+05  2.288840e+05",
      "text/html": "<div>\n<style scoped>\n    .dataframe tbody tr th:only-of-type {\n        vertical-align: middle;\n    }\n\n    .dataframe tbody tr th {\n        vertical-align: top;\n    }\n\n    .dataframe thead th {\n        text-align: right;\n    }\n</style>\n<table border=\"1\" class=\"dataframe\">\n  <thead>\n    <tr style=\"text-align: right;\">\n      <th></th>\n      <th>River</th>\n      <th>Nanfei River</th>\n      <th>Pai River</th>\n      <th>Hangbu River</th>\n    </tr>\n  </thead>\n  <tbody>\n    <tr>\n      <th rowspan=\"3\" valign=\"top\">Bacterial 16S rRNA</th>\n      <th>max</th>\n      <td>7.604506e+12</td>\n      <td>1.140504e+13</td>\n      <td>3.303685e+12</td>\n    </tr>\n    <tr>\n      <th>mean</th>\n      <td>3.249478e+12</td>\n      <td>3.578141e+12</td>\n      <td>2.552210e+12</td>\n    </tr>\n    <tr>\n      <th>min</th>\n      <td>1.224842e+12</td>\n      <td>1.253649e+12</td>\n      <td>1.516805e+12</td>\n    </tr>\n    <tr>\n      <th rowspan=\"3\" valign=\"top\">Archaeal 16S rRNA</th>\n      <th>max</th>\n      <td>1.009469e+08</td>\n      <td>1.281502e+08</td>\n      <td>1.532839e+08</td>\n    </tr>\n    <tr>\n      <th>mean</th>\n      <td>5.540494e+07</td>\n      <td>5.978891e+07</td>\n      <td>8.537894e+07</td>\n    </tr>\n    <tr>\n      <th>min</th>\n      <td>1.453783e+07</td>\n      <td>1.717329e+07</td>\n      <td>3.253583e+07</td>\n    </tr>\n    <tr>\n      <th rowspan=\"3\" valign=\"top\">AOA_amoA</th>\n      <th>max</th>\n      <td>2.141173e+07</td>\n      <td>4.572601e+07</td>\n      <td>3.701095e+07</td>\n    </tr>\n    <tr>\n      <th>mean</th>\n      <td>1.358199e+07</td>\n      <td>2.500400e+07</td>\n      <td>1.713264e+07</td>\n    </tr>\n    <tr>\n      <th>min</th>\n      <td>6.927293e+06</td>\n      <td>1.541951e+07</td>\n      <td>4.306540e+06</td>\n    </tr>\n    <tr>\n      <th rowspan=\"3\" valign=\"top\">AOB_amoA</th>\n      <th>max</th>\n      <td>6.947621e+05</td>\n      <td>5.475686e+05</td>\n      <td>1.056369e+06</td>\n    </tr>\n    <tr>\n      <th>mean</th>\n      <td>4.698944e+05</td>\n      <td>4.221324e+05</td>\n      <td>5.321063e+05</td>\n    </tr>\n    <tr>\n      <th>min</th>\n      <td>2.319129e+05</td>\n      <td>3.345218e+05</td>\n      <td>3.522842e+05</td>\n    </tr>\n    <tr>\n      <th rowspan=\"3\" valign=\"top\">nxrA</th>\n      <th>max</th>\n      <td>3.613316e+09</td>\n      <td>2.861015e+09</td>\n      <td>3.499164e+09</td>\n    </tr>\n    <tr>\n      <th>mean</th>\n      <td>1.701770e+09</td>\n      <td>1.326779e+09</td>\n      <td>2.046041e+09</td>\n    </tr>\n    <tr>\n      <th>min</th>\n      <td>7.262824e+08</td>\n      <td>6.389149e+08</td>\n      <td>8.628586e+08</td>\n    </tr>\n    <tr>\n      <th rowspan=\"3\" valign=\"top\">narG</th>\n      <th>max</th>\n      <td>1.016559e+06</td>\n      <td>2.216880e+06</td>\n      <td>2.348452e+06</td>\n    </tr>\n    <tr>\n      <th>mean</th>\n      <td>3.757978e+05</td>\n      <td>7.605435e+05</td>\n      <td>7.995340e+05</td>\n    </tr>\n    <tr>\n      <th>min</th>\n      <td>2.047164e+04</td>\n      <td>6.382173e+04</td>\n      <td>1.896399e+05</td>\n    </tr>\n    <tr>\n      <th rowspan=\"3\" valign=\"top\">napA</th>\n      <th>max</th>\n      <td>2.855502e+06</td>\n      <td>5.115032e+06</td>\n      <td>5.194246e+06</td>\n    </tr>\n    <tr>\n      <th>mean</th>\n      <td>1.084488e+06</td>\n      <td>1.895279e+06</td>\n      <td>2.549605e+06</td>\n    </tr>\n    <tr>\n      <th>min</th>\n      <td>4.663985e+05</td>\n      <td>5.429993e+05</td>\n      <td>6.415286e+05</td>\n    </tr>\n    <tr>\n      <th rowspan=\"3\" valign=\"top\">nirK</th>\n      <th>max</th>\n      <td>9.027957e+06</td>\n      <td>9.508903e+06</td>\n      <td>7.943298e+06</td>\n    </tr>\n    <tr>\n      <th>mean</th>\n      <td>3.395932e+06</td>\n      <td>6.067676e+06</td>\n      <td>2.506152e+06</td>\n    </tr>\n    <tr>\n      <th>min</th>\n      <td>1.614868e+06</td>\n      <td>3.838476e+06</td>\n      <td>1.029133e+06</td>\n    </tr>\n    <tr>\n      <th rowspan=\"3\" valign=\"top\">nirS</th>\n      <th>max</th>\n      <td>5.461636e+07</td>\n      <td>5.490142e+07</td>\n      <td>1.290511e+08</td>\n    </tr>\n    <tr>\n      <th>mean</th>\n      <td>3.291277e+07</td>\n      <td>2.554502e+07</td>\n      <td>6.821598e+07</td>\n    </tr>\n    <tr>\n      <th>min</th>\n      <td>8.651685e+06</td>\n      <td>5.225527e+06</td>\n      <td>3.141430e+07</td>\n    </tr>\n    <tr>\n      <th rowspan=\"3\" valign=\"top\">nosZ</th>\n      <th>max</th>\n      <td>1.348606e+06</td>\n      <td>2.016111e+06</td>\n      <td>1.857443e+06</td>\n    </tr>\n    <tr>\n      <th>mean</th>\n      <td>7.142678e+05</td>\n      <td>1.358061e+06</td>\n      <td>8.680857e+05</td>\n    </tr>\n    <tr>\n      <th>min</th>\n      <td>3.540412e+05</td>\n      <td>6.291425e+05</td>\n      <td>3.352485e+05</td>\n    </tr>\n    <tr>\n      <th rowspan=\"3\" valign=\"top\">cnorB</th>\n      <th>max</th>\n      <td>3.506617e+05</td>\n      <td>2.731027e+05</td>\n      <td>9.457716e+05</td>\n    </tr>\n    <tr>\n      <th>mean</th>\n      <td>2.165167e+05</td>\n      <td>2.078281e+05</td>\n      <td>2.395477e+05</td>\n    </tr>\n    <tr>\n      <th>min</th>\n      <td>1.302663e+05</td>\n      <td>1.350502e+05</td>\n      <td>6.307644e+04</td>\n    </tr>\n    <tr>\n      <th rowspan=\"3\" valign=\"top\">hzsA</th>\n      <th>max</th>\n      <td>3.616539e+06</td>\n      <td>1.277152e+07</td>\n      <td>1.057527e+07</td>\n    </tr>\n    <tr>\n      <th>mean</th>\n      <td>2.685675e+06</td>\n      <td>4.885144e+06</td>\n      <td>6.470143e+06</td>\n    </tr>\n    <tr>\n      <th>min</th>\n      <td>1.449002e+06</td>\n      <td>1.494494e+06</td>\n      <td>2.107161e+06</td>\n    </tr>\n    <tr>\n      <th rowspan=\"3\" valign=\"top\">hzsB</th>\n      <th>max</th>\n      <td>4.283857e+06</td>\n      <td>4.037983e+06</td>\n      <td>7.506644e+06</td>\n    </tr>\n    <tr>\n      <th>mean</th>\n      <td>2.152766e+06</td>\n      <td>2.560262e+06</td>\n      <td>4.597328e+06</td>\n    </tr>\n    <tr>\n      <th>min</th>\n      <td>1.287973e+06</td>\n      <td>1.511386e+06</td>\n      <td>2.133058e+06</td>\n    </tr>\n    <tr>\n      <th rowspan=\"3\" valign=\"top\">hzo</th>\n      <th>max</th>\n      <td>6.384501e+05</td>\n      <td>3.817314e+05</td>\n      <td>3.033665e+05</td>\n    </tr>\n    <tr>\n      <th>mean</th>\n      <td>4.276401e+05</td>\n      <td>2.439780e+05</td>\n      <td>2.175949e+05</td>\n    </tr>\n    <tr>\n      <th>min</th>\n      <td>2.558175e+05</td>\n      <td>1.785698e+05</td>\n      <td>1.298462e+05</td>\n    </tr>\n    <tr>\n      <th rowspan=\"3\" valign=\"top\">nifH</th>\n      <th>max</th>\n      <td>1.381487e+06</td>\n      <td>1.756066e+06</td>\n      <td>8.944016e+05</td>\n    </tr>\n    <tr>\n      <th>mean</th>\n      <td>6.134710e+05</td>\n      <td>1.115741e+06</td>\n      <td>4.848346e+05</td>\n    </tr>\n    <tr>\n      <th>min</th>\n      <td>2.382502e+05</td>\n      <td>4.969771e+05</td>\n      <td>2.288840e+05</td>\n    </tr>\n  </tbody>\n</table>\n</div>"
     },
     "execution_count": 6,
     "metadata": {},
     "output_type": "execute_result"
    }
   ],
   "source": [
    "level_gene = level_df.iloc[:,:15]\n",
    "level_gene['River'] = level_df['River']\n",
    "level_gene.groupby('River').agg(['max', 'mean', 'min']).T"
   ],
   "metadata": {
    "collapsed": false,
    "pycharm": {
     "name": "#%%\n"
    }
   }
  },
  {
   "cell_type": "markdown",
   "source": [
    "### 环境因子"
   ],
   "metadata": {
    "collapsed": false,
    "pycharm": {
     "name": "#%% md\n"
    }
   }
  },
  {
   "cell_type": "code",
   "execution_count": 6,
   "outputs": [],
   "source": [],
   "metadata": {
    "collapsed": false,
    "pycharm": {
     "name": "#%%\n"
    }
   }
  },
  {
   "cell_type": "markdown",
   "source": [
    "## 丰水期"
   ],
   "metadata": {
    "collapsed": false,
    "pycharm": {
     "name": "#%% md\n"
    }
   }
  },
  {
   "cell_type": "code",
   "execution_count": 8,
   "outputs": [],
   "source": [
    "wet_df = all_df[all_df['Period'] == 'Level Season'].copy()"
   ],
   "metadata": {
    "collapsed": false,
    "pycharm": {
     "name": "#%%\n"
    }
   }
  },
  {
   "cell_type": "markdown",
   "source": [
    "### 功能基因"
   ],
   "metadata": {
    "collapsed": false,
    "pycharm": {
     "name": "#%% md\n"
    }
   }
  },
  {
   "cell_type": "code",
   "execution_count": 9,
   "outputs": [
    {
     "data": {
      "text/plain": "River                    Nanfei River     Pai River  Hangbu River\nBacterial 16S rRNA max   7.604506e+12  1.140504e+13  3.303685e+12\n                   mean  3.249478e+12  3.578141e+12  2.552210e+12\n                   min   1.224842e+12  1.253649e+12  1.516805e+12\nArchaeal 16S rRNA  max   1.009469e+08  1.281502e+08  1.532839e+08\n                   mean  5.540494e+07  5.978891e+07  8.537894e+07\n                   min   1.453783e+07  1.717329e+07  3.253583e+07\nAOA_amoA           max   2.141173e+07  4.572601e+07  3.701095e+07\n                   mean  1.358199e+07  2.500400e+07  1.713264e+07\n                   min   6.927293e+06  1.541951e+07  4.306540e+06\nAOB_amoA           max   6.947621e+05  5.475686e+05  1.056369e+06\n                   mean  4.698944e+05  4.221324e+05  5.321063e+05\n                   min   2.319129e+05  3.345218e+05  3.522842e+05\nnxrA               max   3.613316e+09  2.861015e+09  3.499164e+09\n                   mean  1.701770e+09  1.326779e+09  2.046041e+09\n                   min   7.262824e+08  6.389149e+08  8.628586e+08\nnarG               max   1.016559e+06  2.216880e+06  2.348452e+06\n                   mean  3.757978e+05  7.605435e+05  7.995340e+05\n                   min   2.047164e+04  6.382173e+04  1.896399e+05\nnapA               max   2.855502e+06  5.115032e+06  5.194246e+06\n                   mean  1.084488e+06  1.895279e+06  2.549605e+06\n                   min   4.663985e+05  5.429993e+05  6.415286e+05\nnirK               max   9.027957e+06  9.508903e+06  7.943298e+06\n                   mean  3.395932e+06  6.067676e+06  2.506152e+06\n                   min   1.614868e+06  3.838476e+06  1.029133e+06\nnirS               max   5.461636e+07  5.490142e+07  1.290511e+08\n                   mean  3.291277e+07  2.554502e+07  6.821598e+07\n                   min   8.651685e+06  5.225527e+06  3.141430e+07\nnosZ               max   1.348606e+06  2.016111e+06  1.857443e+06\n                   mean  7.142678e+05  1.358061e+06  8.680857e+05\n                   min   3.540412e+05  6.291425e+05  3.352485e+05\ncnorB              max   3.506617e+05  2.731027e+05  9.457716e+05\n                   mean  2.165167e+05  2.078281e+05  2.395477e+05\n                   min   1.302663e+05  1.350502e+05  6.307644e+04\nhzsA               max   3.616539e+06  1.277152e+07  1.057527e+07\n                   mean  2.685675e+06  4.885144e+06  6.470143e+06\n                   min   1.449002e+06  1.494494e+06  2.107161e+06\nhzsB               max   4.283857e+06  4.037983e+06  7.506644e+06\n                   mean  2.152766e+06  2.560262e+06  4.597328e+06\n                   min   1.287973e+06  1.511386e+06  2.133058e+06\nhzo                max   6.384501e+05  3.817314e+05  3.033665e+05\n                   mean  4.276401e+05  2.439780e+05  2.175949e+05\n                   min   2.558175e+05  1.785698e+05  1.298462e+05\nnifH               max   1.381487e+06  1.756066e+06  8.944016e+05\n                   mean  6.134710e+05  1.115741e+06  4.848346e+05\n                   min   2.382502e+05  4.969771e+05  2.288840e+05",
      "text/html": "<div>\n<style scoped>\n    .dataframe tbody tr th:only-of-type {\n        vertical-align: middle;\n    }\n\n    .dataframe tbody tr th {\n        vertical-align: top;\n    }\n\n    .dataframe thead th {\n        text-align: right;\n    }\n</style>\n<table border=\"1\" class=\"dataframe\">\n  <thead>\n    <tr style=\"text-align: right;\">\n      <th></th>\n      <th>River</th>\n      <th>Nanfei River</th>\n      <th>Pai River</th>\n      <th>Hangbu River</th>\n    </tr>\n  </thead>\n  <tbody>\n    <tr>\n      <th rowspan=\"3\" valign=\"top\">Bacterial 16S rRNA</th>\n      <th>max</th>\n      <td>7.604506e+12</td>\n      <td>1.140504e+13</td>\n      <td>3.303685e+12</td>\n    </tr>\n    <tr>\n      <th>mean</th>\n      <td>3.249478e+12</td>\n      <td>3.578141e+12</td>\n      <td>2.552210e+12</td>\n    </tr>\n    <tr>\n      <th>min</th>\n      <td>1.224842e+12</td>\n      <td>1.253649e+12</td>\n      <td>1.516805e+12</td>\n    </tr>\n    <tr>\n      <th rowspan=\"3\" valign=\"top\">Archaeal 16S rRNA</th>\n      <th>max</th>\n      <td>1.009469e+08</td>\n      <td>1.281502e+08</td>\n      <td>1.532839e+08</td>\n    </tr>\n    <tr>\n      <th>mean</th>\n      <td>5.540494e+07</td>\n      <td>5.978891e+07</td>\n      <td>8.537894e+07</td>\n    </tr>\n    <tr>\n      <th>min</th>\n      <td>1.453783e+07</td>\n      <td>1.717329e+07</td>\n      <td>3.253583e+07</td>\n    </tr>\n    <tr>\n      <th rowspan=\"3\" valign=\"top\">AOA_amoA</th>\n      <th>max</th>\n      <td>2.141173e+07</td>\n      <td>4.572601e+07</td>\n      <td>3.701095e+07</td>\n    </tr>\n    <tr>\n      <th>mean</th>\n      <td>1.358199e+07</td>\n      <td>2.500400e+07</td>\n      <td>1.713264e+07</td>\n    </tr>\n    <tr>\n      <th>min</th>\n      <td>6.927293e+06</td>\n      <td>1.541951e+07</td>\n      <td>4.306540e+06</td>\n    </tr>\n    <tr>\n      <th rowspan=\"3\" valign=\"top\">AOB_amoA</th>\n      <th>max</th>\n      <td>6.947621e+05</td>\n      <td>5.475686e+05</td>\n      <td>1.056369e+06</td>\n    </tr>\n    <tr>\n      <th>mean</th>\n      <td>4.698944e+05</td>\n      <td>4.221324e+05</td>\n      <td>5.321063e+05</td>\n    </tr>\n    <tr>\n      <th>min</th>\n      <td>2.319129e+05</td>\n      <td>3.345218e+05</td>\n      <td>3.522842e+05</td>\n    </tr>\n    <tr>\n      <th rowspan=\"3\" valign=\"top\">nxrA</th>\n      <th>max</th>\n      <td>3.613316e+09</td>\n      <td>2.861015e+09</td>\n      <td>3.499164e+09</td>\n    </tr>\n    <tr>\n      <th>mean</th>\n      <td>1.701770e+09</td>\n      <td>1.326779e+09</td>\n      <td>2.046041e+09</td>\n    </tr>\n    <tr>\n      <th>min</th>\n      <td>7.262824e+08</td>\n      <td>6.389149e+08</td>\n      <td>8.628586e+08</td>\n    </tr>\n    <tr>\n      <th rowspan=\"3\" valign=\"top\">narG</th>\n      <th>max</th>\n      <td>1.016559e+06</td>\n      <td>2.216880e+06</td>\n      <td>2.348452e+06</td>\n    </tr>\n    <tr>\n      <th>mean</th>\n      <td>3.757978e+05</td>\n      <td>7.605435e+05</td>\n      <td>7.995340e+05</td>\n    </tr>\n    <tr>\n      <th>min</th>\n      <td>2.047164e+04</td>\n      <td>6.382173e+04</td>\n      <td>1.896399e+05</td>\n    </tr>\n    <tr>\n      <th rowspan=\"3\" valign=\"top\">napA</th>\n      <th>max</th>\n      <td>2.855502e+06</td>\n      <td>5.115032e+06</td>\n      <td>5.194246e+06</td>\n    </tr>\n    <tr>\n      <th>mean</th>\n      <td>1.084488e+06</td>\n      <td>1.895279e+06</td>\n      <td>2.549605e+06</td>\n    </tr>\n    <tr>\n      <th>min</th>\n      <td>4.663985e+05</td>\n      <td>5.429993e+05</td>\n      <td>6.415286e+05</td>\n    </tr>\n    <tr>\n      <th rowspan=\"3\" valign=\"top\">nirK</th>\n      <th>max</th>\n      <td>9.027957e+06</td>\n      <td>9.508903e+06</td>\n      <td>7.943298e+06</td>\n    </tr>\n    <tr>\n      <th>mean</th>\n      <td>3.395932e+06</td>\n      <td>6.067676e+06</td>\n      <td>2.506152e+06</td>\n    </tr>\n    <tr>\n      <th>min</th>\n      <td>1.614868e+06</td>\n      <td>3.838476e+06</td>\n      <td>1.029133e+06</td>\n    </tr>\n    <tr>\n      <th rowspan=\"3\" valign=\"top\">nirS</th>\n      <th>max</th>\n      <td>5.461636e+07</td>\n      <td>5.490142e+07</td>\n      <td>1.290511e+08</td>\n    </tr>\n    <tr>\n      <th>mean</th>\n      <td>3.291277e+07</td>\n      <td>2.554502e+07</td>\n      <td>6.821598e+07</td>\n    </tr>\n    <tr>\n      <th>min</th>\n      <td>8.651685e+06</td>\n      <td>5.225527e+06</td>\n      <td>3.141430e+07</td>\n    </tr>\n    <tr>\n      <th rowspan=\"3\" valign=\"top\">nosZ</th>\n      <th>max</th>\n      <td>1.348606e+06</td>\n      <td>2.016111e+06</td>\n      <td>1.857443e+06</td>\n    </tr>\n    <tr>\n      <th>mean</th>\n      <td>7.142678e+05</td>\n      <td>1.358061e+06</td>\n      <td>8.680857e+05</td>\n    </tr>\n    <tr>\n      <th>min</th>\n      <td>3.540412e+05</td>\n      <td>6.291425e+05</td>\n      <td>3.352485e+05</td>\n    </tr>\n    <tr>\n      <th rowspan=\"3\" valign=\"top\">cnorB</th>\n      <th>max</th>\n      <td>3.506617e+05</td>\n      <td>2.731027e+05</td>\n      <td>9.457716e+05</td>\n    </tr>\n    <tr>\n      <th>mean</th>\n      <td>2.165167e+05</td>\n      <td>2.078281e+05</td>\n      <td>2.395477e+05</td>\n    </tr>\n    <tr>\n      <th>min</th>\n      <td>1.302663e+05</td>\n      <td>1.350502e+05</td>\n      <td>6.307644e+04</td>\n    </tr>\n    <tr>\n      <th rowspan=\"3\" valign=\"top\">hzsA</th>\n      <th>max</th>\n      <td>3.616539e+06</td>\n      <td>1.277152e+07</td>\n      <td>1.057527e+07</td>\n    </tr>\n    <tr>\n      <th>mean</th>\n      <td>2.685675e+06</td>\n      <td>4.885144e+06</td>\n      <td>6.470143e+06</td>\n    </tr>\n    <tr>\n      <th>min</th>\n      <td>1.449002e+06</td>\n      <td>1.494494e+06</td>\n      <td>2.107161e+06</td>\n    </tr>\n    <tr>\n      <th rowspan=\"3\" valign=\"top\">hzsB</th>\n      <th>max</th>\n      <td>4.283857e+06</td>\n      <td>4.037983e+06</td>\n      <td>7.506644e+06</td>\n    </tr>\n    <tr>\n      <th>mean</th>\n      <td>2.152766e+06</td>\n      <td>2.560262e+06</td>\n      <td>4.597328e+06</td>\n    </tr>\n    <tr>\n      <th>min</th>\n      <td>1.287973e+06</td>\n      <td>1.511386e+06</td>\n      <td>2.133058e+06</td>\n    </tr>\n    <tr>\n      <th rowspan=\"3\" valign=\"top\">hzo</th>\n      <th>max</th>\n      <td>6.384501e+05</td>\n      <td>3.817314e+05</td>\n      <td>3.033665e+05</td>\n    </tr>\n    <tr>\n      <th>mean</th>\n      <td>4.276401e+05</td>\n      <td>2.439780e+05</td>\n      <td>2.175949e+05</td>\n    </tr>\n    <tr>\n      <th>min</th>\n      <td>2.558175e+05</td>\n      <td>1.785698e+05</td>\n      <td>1.298462e+05</td>\n    </tr>\n    <tr>\n      <th rowspan=\"3\" valign=\"top\">nifH</th>\n      <th>max</th>\n      <td>1.381487e+06</td>\n      <td>1.756066e+06</td>\n      <td>8.944016e+05</td>\n    </tr>\n    <tr>\n      <th>mean</th>\n      <td>6.134710e+05</td>\n      <td>1.115741e+06</td>\n      <td>4.848346e+05</td>\n    </tr>\n    <tr>\n      <th>min</th>\n      <td>2.382502e+05</td>\n      <td>4.969771e+05</td>\n      <td>2.288840e+05</td>\n    </tr>\n  </tbody>\n</table>\n</div>"
     },
     "execution_count": 9,
     "metadata": {},
     "output_type": "execute_result"
    }
   ],
   "source": [
    "wet_gene = wet_df.iloc[:,:15]\n",
    "wet_gene['River'] = wet_df['River']\n",
    "wet_gene.groupby('River').agg(['max', 'mean', 'min']).T"
   ],
   "metadata": {
    "collapsed": false,
    "pycharm": {
     "name": "#%%\n"
    }
   }
  },
  {
   "cell_type": "markdown",
   "source": [],
   "metadata": {
    "collapsed": false,
    "pycharm": {
     "name": "#%% md\n"
    }
   }
  }
 ],
 "metadata": {
  "kernelspec": {
   "display_name": "Python 3",
   "language": "python",
   "name": "python3"
  },
  "language_info": {
   "codemirror_mode": {
    "name": "ipython",
    "version": 2
   },
   "file_extension": ".py",
   "mimetype": "text/x-python",
   "name": "python",
   "nbconvert_exporter": "python",
   "pygments_lexer": "ipython2",
   "version": "2.7.6"
  }
 },
 "nbformat": 4,
 "nbformat_minor": 0
}