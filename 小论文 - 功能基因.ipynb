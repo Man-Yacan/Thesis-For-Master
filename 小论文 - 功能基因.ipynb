{
 "cells": [
  {
   "cell_type": "code",
   "execution_count": 3,
   "outputs": [],
   "source": [
    "from ResearchMain import *"
   ],
   "metadata": {
    "collapsed": false,
    "pycharm": {
     "name": "#%%\n"
    }
   }
  },
  {
   "cell_type": "code",
   "execution_count": 4,
   "outputs": [],
   "source": [
    "FOLDER_PATH = '小论文/'\n",
    "EXPORT_PATH += FOLDER_PATH"
   ],
   "metadata": {
    "collapsed": false,
    "pycharm": {
     "name": "#%%\n"
    }
   }
  },
  {
   "cell_type": "code",
   "execution_count": 5,
   "outputs": [
    {
     "data": {
      "text/plain": "Gene  Bacterial 16S rRNA  Archaeal 16S rRNA      AOA_amoA       AOB_amoA  \\\nID                                                                         \nD-H1        1.642988e+12       3.291743e+07  1.309203e+07  362167.371442   \nD-H2        9.734149e+11       2.818142e+07  1.176137e+07  369272.095555   \nD-H3        4.303498e+12       4.622788e+07  6.728205e+06  487645.491524   \nD-H4        3.985215e+12       1.161468e+08  1.714973e+07  522516.452775   \nD-H5        4.010876e+12       6.255959e+07  1.210502e+07  562590.301880   \n...                  ...                ...           ...            ...   \nW-P5        3.778551e+12       1.250934e+08  4.467447e+07  533952.013512   \nW-P6        3.745549e+12       8.767759e+07  3.038296e+07  358944.921991   \nW-P7        3.418547e+12       3.532132e+07  1.133204e+07  387550.695182   \nW-P8        4.029212e+12       7.308210e+07  2.493729e+07  464216.800552   \nW-P9        2.820127e+12       6.171132e+07  2.075761e+07  577550.584427   \n\nGene          nxrA          narG          napA          nirK          nirS  \\\nID                                                                           \nD-H1  7.557514e+06  6.193215e+05  2.714383e+06  6.208402e+05  7.556193e+07   \nD-H2  5.529952e+06  5.628594e+05  1.209347e+06  7.747804e+05  1.609800e+08   \nD-H3  1.466007e+07  2.953696e+05  8.957945e+05  4.032794e+05  4.983680e+08   \nD-H4  1.169370e+07  5.224020e+04  6.382258e+05  3.668576e+05  1.643910e+08   \nD-H5  1.201148e+07  7.642274e+04  1.929301e+05  8.655376e+05  3.047211e+08   \n...            ...           ...           ...           ...           ...   \nW-P5  2.635662e+09  5.189513e+05  2.841631e+06  3.023162e+07  8.470736e+07   \nW-P6  4.657828e+09  4.436650e+05  9.169049e+06  1.379646e+07  5.604978e+07   \nW-P7  4.406424e+09  3.765749e+06  2.165217e+06  7.350488e+06  7.570608e+07   \nW-P8  2.963954e+09  1.285301e+07  3.289237e+06  1.563352e+07  6.692701e+07   \nW-P9  5.983461e+09  4.248306e+06  6.249637e+05  1.110808e+07  7.241984e+07   \n\nGene          nosZ          norB          hzsA          hzsB            hzo  \\\nID                                                                            \nD-H1  1.101283e+06  2.877926e+05  6.900954e+05  9.771719e+05   59763.803097   \nD-H2  4.226340e+05  1.283924e+05  1.647053e+06  8.417798e+05   58386.778515   \nD-H3  8.871942e+05  1.290810e+05  1.504869e+06  1.353839e+06   48393.786152   \nD-H4  3.468487e+05  1.693446e+05  7.444430e+05  3.205211e+05   34202.593594   \nD-H5  8.382781e+05  1.602435e+05  9.150162e+05  2.760314e+05   32529.196754   \n...            ...           ...           ...           ...            ...   \nW-P5  2.139064e+08  6.096623e+05  2.120688e+06  4.861860e+06  368617.165021   \nW-P6  3.832982e+08  8.235145e+05  3.936532e+06  2.898582e+06  219426.589483   \nW-P7  6.144403e+07  1.381359e+06  5.360496e+06  1.478238e+07  286465.334411   \nW-P8  3.202820e+08  9.241615e+05  7.850371e+06  2.335229e+07  453157.267491   \nW-P9  1.065415e+08  5.317830e+05  5.805291e+06  9.088271e+06  175864.922846   \n\nGene          nifH  \nID                  \nD-H1  1.330116e+04  \nD-H2  1.287674e+04  \nD-H3  9.917281e+03  \nD-H4  2.046502e+04  \nD-H5  1.908557e+04  \n...            ...  \nW-P5  6.576618e+05  \nW-P6  1.182591e+06  \nW-P7  2.124679e+06  \nW-P8  5.025884e+06  \nW-P9  2.468996e+06  \n\n[90 rows x 15 columns]",
      "text/html": "<div>\n<style scoped>\n    .dataframe tbody tr th:only-of-type {\n        vertical-align: middle;\n    }\n\n    .dataframe tbody tr th {\n        vertical-align: top;\n    }\n\n    .dataframe thead th {\n        text-align: right;\n    }\n</style>\n<table border=\"1\" class=\"dataframe\">\n  <thead>\n    <tr style=\"text-align: right;\">\n      <th>Gene</th>\n      <th>Bacterial 16S rRNA</th>\n      <th>Archaeal 16S rRNA</th>\n      <th>AOA_amoA</th>\n      <th>AOB_amoA</th>\n      <th>nxrA</th>\n      <th>narG</th>\n      <th>napA</th>\n      <th>nirK</th>\n      <th>nirS</th>\n      <th>nosZ</th>\n      <th>norB</th>\n      <th>hzsA</th>\n      <th>hzsB</th>\n      <th>hzo</th>\n      <th>nifH</th>\n    </tr>\n    <tr>\n      <th>ID</th>\n      <th></th>\n      <th></th>\n      <th></th>\n      <th></th>\n      <th></th>\n      <th></th>\n      <th></th>\n      <th></th>\n      <th></th>\n      <th></th>\n      <th></th>\n      <th></th>\n      <th></th>\n      <th></th>\n      <th></th>\n    </tr>\n  </thead>\n  <tbody>\n    <tr>\n      <th>D-H1</th>\n      <td>1.642988e+12</td>\n      <td>3.291743e+07</td>\n      <td>1.309203e+07</td>\n      <td>362167.371442</td>\n      <td>7.557514e+06</td>\n      <td>6.193215e+05</td>\n      <td>2.714383e+06</td>\n      <td>6.208402e+05</td>\n      <td>7.556193e+07</td>\n      <td>1.101283e+06</td>\n      <td>2.877926e+05</td>\n      <td>6.900954e+05</td>\n      <td>9.771719e+05</td>\n      <td>59763.803097</td>\n      <td>1.330116e+04</td>\n    </tr>\n    <tr>\n      <th>D-H2</th>\n      <td>9.734149e+11</td>\n      <td>2.818142e+07</td>\n      <td>1.176137e+07</td>\n      <td>369272.095555</td>\n      <td>5.529952e+06</td>\n      <td>5.628594e+05</td>\n      <td>1.209347e+06</td>\n      <td>7.747804e+05</td>\n      <td>1.609800e+08</td>\n      <td>4.226340e+05</td>\n      <td>1.283924e+05</td>\n      <td>1.647053e+06</td>\n      <td>8.417798e+05</td>\n      <td>58386.778515</td>\n      <td>1.287674e+04</td>\n    </tr>\n    <tr>\n      <th>D-H3</th>\n      <td>4.303498e+12</td>\n      <td>4.622788e+07</td>\n      <td>6.728205e+06</td>\n      <td>487645.491524</td>\n      <td>1.466007e+07</td>\n      <td>2.953696e+05</td>\n      <td>8.957945e+05</td>\n      <td>4.032794e+05</td>\n      <td>4.983680e+08</td>\n      <td>8.871942e+05</td>\n      <td>1.290810e+05</td>\n      <td>1.504869e+06</td>\n      <td>1.353839e+06</td>\n      <td>48393.786152</td>\n      <td>9.917281e+03</td>\n    </tr>\n    <tr>\n      <th>D-H4</th>\n      <td>3.985215e+12</td>\n      <td>1.161468e+08</td>\n      <td>1.714973e+07</td>\n      <td>522516.452775</td>\n      <td>1.169370e+07</td>\n      <td>5.224020e+04</td>\n      <td>6.382258e+05</td>\n      <td>3.668576e+05</td>\n      <td>1.643910e+08</td>\n      <td>3.468487e+05</td>\n      <td>1.693446e+05</td>\n      <td>7.444430e+05</td>\n      <td>3.205211e+05</td>\n      <td>34202.593594</td>\n      <td>2.046502e+04</td>\n    </tr>\n    <tr>\n      <th>D-H5</th>\n      <td>4.010876e+12</td>\n      <td>6.255959e+07</td>\n      <td>1.210502e+07</td>\n      <td>562590.301880</td>\n      <td>1.201148e+07</td>\n      <td>7.642274e+04</td>\n      <td>1.929301e+05</td>\n      <td>8.655376e+05</td>\n      <td>3.047211e+08</td>\n      <td>8.382781e+05</td>\n      <td>1.602435e+05</td>\n      <td>9.150162e+05</td>\n      <td>2.760314e+05</td>\n      <td>32529.196754</td>\n      <td>1.908557e+04</td>\n    </tr>\n    <tr>\n      <th>...</th>\n      <td>...</td>\n      <td>...</td>\n      <td>...</td>\n      <td>...</td>\n      <td>...</td>\n      <td>...</td>\n      <td>...</td>\n      <td>...</td>\n      <td>...</td>\n      <td>...</td>\n      <td>...</td>\n      <td>...</td>\n      <td>...</td>\n      <td>...</td>\n      <td>...</td>\n    </tr>\n    <tr>\n      <th>W-P5</th>\n      <td>3.778551e+12</td>\n      <td>1.250934e+08</td>\n      <td>4.467447e+07</td>\n      <td>533952.013512</td>\n      <td>2.635662e+09</td>\n      <td>5.189513e+05</td>\n      <td>2.841631e+06</td>\n      <td>3.023162e+07</td>\n      <td>8.470736e+07</td>\n      <td>2.139064e+08</td>\n      <td>6.096623e+05</td>\n      <td>2.120688e+06</td>\n      <td>4.861860e+06</td>\n      <td>368617.165021</td>\n      <td>6.576618e+05</td>\n    </tr>\n    <tr>\n      <th>W-P6</th>\n      <td>3.745549e+12</td>\n      <td>8.767759e+07</td>\n      <td>3.038296e+07</td>\n      <td>358944.921991</td>\n      <td>4.657828e+09</td>\n      <td>4.436650e+05</td>\n      <td>9.169049e+06</td>\n      <td>1.379646e+07</td>\n      <td>5.604978e+07</td>\n      <td>3.832982e+08</td>\n      <td>8.235145e+05</td>\n      <td>3.936532e+06</td>\n      <td>2.898582e+06</td>\n      <td>219426.589483</td>\n      <td>1.182591e+06</td>\n    </tr>\n    <tr>\n      <th>W-P7</th>\n      <td>3.418547e+12</td>\n      <td>3.532132e+07</td>\n      <td>1.133204e+07</td>\n      <td>387550.695182</td>\n      <td>4.406424e+09</td>\n      <td>3.765749e+06</td>\n      <td>2.165217e+06</td>\n      <td>7.350488e+06</td>\n      <td>7.570608e+07</td>\n      <td>6.144403e+07</td>\n      <td>1.381359e+06</td>\n      <td>5.360496e+06</td>\n      <td>1.478238e+07</td>\n      <td>286465.334411</td>\n      <td>2.124679e+06</td>\n    </tr>\n    <tr>\n      <th>W-P8</th>\n      <td>4.029212e+12</td>\n      <td>7.308210e+07</td>\n      <td>2.493729e+07</td>\n      <td>464216.800552</td>\n      <td>2.963954e+09</td>\n      <td>1.285301e+07</td>\n      <td>3.289237e+06</td>\n      <td>1.563352e+07</td>\n      <td>6.692701e+07</td>\n      <td>3.202820e+08</td>\n      <td>9.241615e+05</td>\n      <td>7.850371e+06</td>\n      <td>2.335229e+07</td>\n      <td>453157.267491</td>\n      <td>5.025884e+06</td>\n    </tr>\n    <tr>\n      <th>W-P9</th>\n      <td>2.820127e+12</td>\n      <td>6.171132e+07</td>\n      <td>2.075761e+07</td>\n      <td>577550.584427</td>\n      <td>5.983461e+09</td>\n      <td>4.248306e+06</td>\n      <td>6.249637e+05</td>\n      <td>1.110808e+07</td>\n      <td>7.241984e+07</td>\n      <td>1.065415e+08</td>\n      <td>5.317830e+05</td>\n      <td>5.805291e+06</td>\n      <td>9.088271e+06</td>\n      <td>175864.922846</td>\n      <td>2.468996e+06</td>\n    </tr>\n  </tbody>\n</table>\n<p>90 rows × 15 columns</p>\n</div>"
     },
     "execution_count": 5,
     "metadata": {},
     "output_type": "execute_result"
    }
   ],
   "source": [
    "df = gene_abundance\n",
    "df"
   ],
   "metadata": {
    "collapsed": false,
    "pycharm": {
     "name": "#%%\n"
    }
   }
  },
  {
   "cell_type": "code",
   "execution_count": 6,
   "outputs": [
    {
     "data": {
      "text/plain": "          Period         River                Gene  Abundance\nID                                                           \nD-H1  Dry Season  Hangbu River  Bacterial 16S rRNA  12.215634\nD-H2  Dry Season  Hangbu River  Bacterial 16S rRNA  11.988298\nD-H3  Dry Season  Hangbu River  Bacterial 16S rRNA  12.633822\nD-H4  Dry Season  Hangbu River  Bacterial 16S rRNA  12.600452\nD-H5  Dry Season  Hangbu River  Bacterial 16S rRNA  12.603239\n...          ...           ...                 ...        ...\nW-P5  Wet Season     Pai River                nifH   5.818003\nW-P6  Wet Season     Pai River                nifH   6.072835\nW-P7  Wet Season     Pai River                nifH   6.327293\nW-P8  Wet Season     Pai River                nifH   6.701212\nW-P9  Wet Season     Pai River                nifH   6.392520\n\n[1350 rows x 4 columns]",
      "text/html": "<div>\n<style scoped>\n    .dataframe tbody tr th:only-of-type {\n        vertical-align: middle;\n    }\n\n    .dataframe tbody tr th {\n        vertical-align: top;\n    }\n\n    .dataframe thead th {\n        text-align: right;\n    }\n</style>\n<table border=\"1\" class=\"dataframe\">\n  <thead>\n    <tr style=\"text-align: right;\">\n      <th></th>\n      <th>Period</th>\n      <th>River</th>\n      <th>Gene</th>\n      <th>Abundance</th>\n    </tr>\n    <tr>\n      <th>ID</th>\n      <th></th>\n      <th></th>\n      <th></th>\n      <th></th>\n    </tr>\n  </thead>\n  <tbody>\n    <tr>\n      <th>D-H1</th>\n      <td>Dry Season</td>\n      <td>Hangbu River</td>\n      <td>Bacterial 16S rRNA</td>\n      <td>12.215634</td>\n    </tr>\n    <tr>\n      <th>D-H2</th>\n      <td>Dry Season</td>\n      <td>Hangbu River</td>\n      <td>Bacterial 16S rRNA</td>\n      <td>11.988298</td>\n    </tr>\n    <tr>\n      <th>D-H3</th>\n      <td>Dry Season</td>\n      <td>Hangbu River</td>\n      <td>Bacterial 16S rRNA</td>\n      <td>12.633822</td>\n    </tr>\n    <tr>\n      <th>D-H4</th>\n      <td>Dry Season</td>\n      <td>Hangbu River</td>\n      <td>Bacterial 16S rRNA</td>\n      <td>12.600452</td>\n    </tr>\n    <tr>\n      <th>D-H5</th>\n      <td>Dry Season</td>\n      <td>Hangbu River</td>\n      <td>Bacterial 16S rRNA</td>\n      <td>12.603239</td>\n    </tr>\n    <tr>\n      <th>...</th>\n      <td>...</td>\n      <td>...</td>\n      <td>...</td>\n      <td>...</td>\n    </tr>\n    <tr>\n      <th>W-P5</th>\n      <td>Wet Season</td>\n      <td>Pai River</td>\n      <td>nifH</td>\n      <td>5.818003</td>\n    </tr>\n    <tr>\n      <th>W-P6</th>\n      <td>Wet Season</td>\n      <td>Pai River</td>\n      <td>nifH</td>\n      <td>6.072835</td>\n    </tr>\n    <tr>\n      <th>W-P7</th>\n      <td>Wet Season</td>\n      <td>Pai River</td>\n      <td>nifH</td>\n      <td>6.327293</td>\n    </tr>\n    <tr>\n      <th>W-P8</th>\n      <td>Wet Season</td>\n      <td>Pai River</td>\n      <td>nifH</td>\n      <td>6.701212</td>\n    </tr>\n    <tr>\n      <th>W-P9</th>\n      <td>Wet Season</td>\n      <td>Pai River</td>\n      <td>nifH</td>\n      <td>6.392520</td>\n    </tr>\n  </tbody>\n</table>\n<p>1350 rows × 4 columns</p>\n</div>"
     },
     "execution_count": 6,
     "metadata": {},
     "output_type": "execute_result"
    }
   ],
   "source": [
    "df = df.copy()\n",
    "df.loc[:,['Period', 'River']] = all_df.loc[:,['Period', 'River']]\n",
    "df = df.reset_index()\n",
    "df = df.melt(id_vars=['ID','Period', 'River'])\n",
    "df.rename(columns={\n",
    "    'variable': 'Gene',\n",
    "    'value': 'Abundance'\n",
    "}, inplace=True)\n",
    "df['Abundance'] = np.log10(np.abs(df['Abundance']))\n",
    "df.set_index('ID', inplace=True)\n",
    "df"
   ],
   "metadata": {
    "collapsed": false,
    "pycharm": {
     "name": "#%%\n"
    }
   }
  },
  {
   "cell_type": "code",
   "execution_count": 7,
   "outputs": [
    {
     "data": {
      "text/plain": "            Period         River                Gene  Abundance\nID                                                             \nL-H1  Level Season  Hangbu River  Bacterial 16S rRNA  12.506523\nL-H1  Level Season  Hangbu River   Archaeal 16S rRNA   8.042228\nL-H1  Level Season  Hangbu River            AOA_amoA   7.035183\nL-H1  Level Season  Hangbu River            AOB_amoA   5.546893\nL-H1  Level Season  Hangbu River                nxrA   9.087077\n...            ...           ...                 ...        ...\nL-P9  Level Season     Pai River                norB   5.231636\nL-P9  Level Season     Pai River                hzsA   7.005144\nL-P9  Level Season     Pai River                hzsB   6.270723\nL-P9  Level Season     Pai River                 hzo   5.251808\nL-P9  Level Season     Pai River                nifH   5.852920\n\n[8100 rows x 4 columns]",
      "text/html": "<div>\n<style scoped>\n    .dataframe tbody tr th:only-of-type {\n        vertical-align: middle;\n    }\n\n    .dataframe tbody tr th {\n        vertical-align: top;\n    }\n\n    .dataframe thead th {\n        text-align: right;\n    }\n</style>\n<table border=\"1\" class=\"dataframe\">\n  <thead>\n    <tr style=\"text-align: right;\">\n      <th></th>\n      <th>Period</th>\n      <th>River</th>\n      <th>Gene</th>\n      <th>Abundance</th>\n    </tr>\n    <tr>\n      <th>ID</th>\n      <th></th>\n      <th></th>\n      <th></th>\n      <th></th>\n    </tr>\n  </thead>\n  <tbody>\n    <tr>\n      <th>L-H1</th>\n      <td>Level Season</td>\n      <td>Hangbu River</td>\n      <td>Bacterial 16S rRNA</td>\n      <td>12.506523</td>\n    </tr>\n    <tr>\n      <th>L-H1</th>\n      <td>Level Season</td>\n      <td>Hangbu River</td>\n      <td>Archaeal 16S rRNA</td>\n      <td>8.042228</td>\n    </tr>\n    <tr>\n      <th>L-H1</th>\n      <td>Level Season</td>\n      <td>Hangbu River</td>\n      <td>AOA_amoA</td>\n      <td>7.035183</td>\n    </tr>\n    <tr>\n      <th>L-H1</th>\n      <td>Level Season</td>\n      <td>Hangbu River</td>\n      <td>AOB_amoA</td>\n      <td>5.546893</td>\n    </tr>\n    <tr>\n      <th>L-H1</th>\n      <td>Level Season</td>\n      <td>Hangbu River</td>\n      <td>nxrA</td>\n      <td>9.087077</td>\n    </tr>\n    <tr>\n      <th>...</th>\n      <td>...</td>\n      <td>...</td>\n      <td>...</td>\n      <td>...</td>\n    </tr>\n    <tr>\n      <th>L-P9</th>\n      <td>Level Season</td>\n      <td>Pai River</td>\n      <td>norB</td>\n      <td>5.231636</td>\n    </tr>\n    <tr>\n      <th>L-P9</th>\n      <td>Level Season</td>\n      <td>Pai River</td>\n      <td>hzsA</td>\n      <td>7.005144</td>\n    </tr>\n    <tr>\n      <th>L-P9</th>\n      <td>Level Season</td>\n      <td>Pai River</td>\n      <td>hzsB</td>\n      <td>6.270723</td>\n    </tr>\n    <tr>\n      <th>L-P9</th>\n      <td>Level Season</td>\n      <td>Pai River</td>\n      <td>hzo</td>\n      <td>5.251808</td>\n    </tr>\n    <tr>\n      <th>L-P9</th>\n      <td>Level Season</td>\n      <td>Pai River</td>\n      <td>nifH</td>\n      <td>5.852920</td>\n    </tr>\n  </tbody>\n</table>\n<p>8100 rows × 4 columns</p>\n</div>"
     },
     "execution_count": 7,
     "metadata": {},
     "output_type": "execute_result"
    }
   ],
   "source": [
    "level_df = df.loc[[i for i in df.index if i.startswith('L')]]\n",
    "level_df"
   ],
   "metadata": {
    "collapsed": false,
    "pycharm": {
     "name": "#%%\n"
    }
   }
  },
  {
   "cell_type": "code",
   "execution_count": 8,
   "outputs": [],
   "source": [
    "sns.set_theme(style=\"darkgrid\", font='Times New Roman', font_scale=1.5)"
   ],
   "metadata": {
    "collapsed": false,
    "pycharm": {
     "name": "#%%\n"
    }
   }
  },
  {
   "cell_type": "code",
   "execution_count": null,
   "outputs": [],
   "source": [
    "# 绘制标准曲线\n",
    "plt.figure(dpi=DPI)\n",
    "fig, ax_arr = plt.subplots(ROW_NUM, COL_NUM, sharex='col', figsize=(17, 20))  # sharex、y设置子图共享x、y轴坐标\n",
    "fig.subplots_adjust(hspace=0.2, wspace=0.25)  # 设置子图的横纵间距\n",
    "for index, gene in enumerate(gene_list):\n",
    "    row_num = index // 3\n",
    "    col_num = index - row_num * 3\n",
    "    cur_plot_item = sns.boxplot(\n",
    "        x=\"River\",\n",
    "        y=\"Abundance\",\n",
    "        data=level_df[level_df['Gene'] == gene],\n",
    "        palette=\"Set1\",  # 颜色版\n",
    "        # notch=True,  # 加入缺口\n",
    "        width=0.3,\n",
    "        linewidth=3,\n",
    "        ax=ax_arr[row_num][col_num]\n",
    "    )\n",
    "\n",
    "    # 子图名称\n",
    "    gene = gene.replace(' ', '\\\\ ').replace('_', '\\\\_')  # 对基因名称中的空格和下划线进行转义处理\n",
    "    cur_plot_item.set_title(f'({CHAR[index]}) ' + '$' + gene + '$')\n",
    "    # 子图x轴名称(只保留最后一行)\n",
    "    cur_plot_item.set_xlabel(None)\n",
    "    # 子图x轴名称(除去每行第2~最后的子图的y轴名称)\n",
    "    if (index + 1) % COL_NUM != 1:\n",
    "        cur_plot_item.set_ylabel(None)\n",
    "    else:\n",
    "        cur_plot_item.set_ylabel('$log(copies·g^{-1})$')\n",
    "\n",
    "# 保存图片\n",
    "fig.savefig(EXPORT_PATH + '功能基因丰度图-平水期'+IMG_TYPE, dpi=DPI, bbox_inches='tight')"
   ],
   "metadata": {
    "collapsed": false,
    "pycharm": {
     "name": "#%%\n",
     "is_executing": true
    }
   }
  }
 ],
 "metadata": {
  "kernelspec": {
   "display_name": "Python 3",
   "language": "python",
   "name": "python3"
  },
  "language_info": {
   "codemirror_mode": {
    "name": "ipython",
    "version": 2
   },
   "file_extension": ".py",
   "mimetype": "text/x-python",
   "name": "python",
   "nbconvert_exporter": "python",
   "pygments_lexer": "ipython2",
   "version": "2.7.6"
  }
 },
 "nbformat": 4,
 "nbformat_minor": 0
}