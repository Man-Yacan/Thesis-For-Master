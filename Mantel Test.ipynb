{
 "cells": [
  {
   "cell_type": "code",
   "execution_count": 1,
   "metadata": {
    "collapsed": false,
    "pycharm": {
     "name": "#%%\n"
    }
   },
   "outputs": [],
   "source": [
    "from ResearchMain import *"
   ]
  },
  {
   "cell_type": "code",
   "execution_count": 2,
   "metadata": {
    "collapsed": false,
    "pycharm": {
     "name": "#%%\n"
    }
   },
   "outputs": [],
   "source": [
    "EXPORT_PATH += 'Mantel Test/Beta_02/demo/'\n",
    "SELECT_ROW_NUM = 4"
   ]
  },
  {
   "cell_type": "code",
   "execution_count": 89,
   "metadata": {
    "collapsed": false,
    "pycharm": {
     "name": "#%%\n"
    }
   },
   "outputs": [],
   "source": [
    "for period in period_list:\n",
    "    for river in river_list:\n",
    "        # 组装不同时期不同河流前缀\n",
    "        select_prefix = period[0] + '-'+river[0]\n",
    "        _ = all_df.loc[\n",
    "            [row_name for row_name in all_df.index if row_name.startswith(select_prefix)], [\n",
    "                col_name\n",
    "                for\n",
    "                col_name\n",
    "                in\n",
    "                all_df.columns\n",
    "                if\n",
    "                isinstance(\n",
    "                    col_name,\n",
    "                    str)]]\n",
    "        # 剔除不需要的列\n",
    "        df = _.drop([col_name for col_name in all_df.columns if\n",
    "                     isinstance(col_name, str) and (col_name.endswith('-Ф') or col_name.endswith('-P'))] + ['Period',\n",
    "                                                                                                            'River',\n",
    "                                                                                                            'S-pH',\n",
    "                                                                                                            'Bacterial 16S rRNA',\n",
    "                                                                                                            'Archaeal 16S rRNA',\n",
    "                                                                                                            'W-PO_{4}^{3-}',\n",
    "                                                                                                            'W-TP'],\n",
    "                    axis=1)\n",
    "\n",
    "        # 删除空行\n",
    "        df = df.replace(0, np.nan)\n",
    "        df.dropna(inplace=True)\n",
    "\n",
    "        np.log10(df.iloc[:SELECT_ROW_NUM, :13]).to_csv(EXPORT_PATH + f'{select_prefix} - 功能基因.csv', index=None, header=True)\n",
    "        df.iloc[:SELECT_ROW_NUM, 13:].to_csv(EXPORT_PATH + f'{select_prefix} - 环境因子.csv', index=None, header=True)"
   ]
  },
  {
   "cell_type": "code",
   "execution_count": 90,
   "metadata": {
    "collapsed": false,
    "pycharm": {
     "name": "#%%\n"
    }
   },
   "outputs": [
    {
     "data": {
      "text/html": [
       "<div>\n",
       "<style scoped>\n",
       "    .dataframe tbody tr th:only-of-type {\n",
       "        vertical-align: middle;\n",
       "    }\n",
       "\n",
       "    .dataframe tbody tr th {\n",
       "        vertical-align: top;\n",
       "    }\n",
       "\n",
       "    .dataframe thead th {\n",
       "        text-align: right;\n",
       "    }\n",
       "</style>\n",
       "<table border=\"1\" class=\"dataframe\">\n",
       "  <thead>\n",
       "    <tr style=\"text-align: right;\">\n",
       "      <th></th>\n",
       "      <th>AOA_amoA</th>\n",
       "      <th>AOB_amoA</th>\n",
       "      <th>nxrA</th>\n",
       "      <th>narG</th>\n",
       "      <th>napA</th>\n",
       "      <th>nirK</th>\n",
       "      <th>nirS</th>\n",
       "      <th>nosZ</th>\n",
       "      <th>norB</th>\n",
       "      <th>hzsA</th>\n",
       "      <th>...</th>\n",
       "      <th>Ⅳ-Area</th>\n",
       "      <th>Ⅴ-Area</th>\n",
       "      <th>W-pH</th>\n",
       "      <th>W-DO</th>\n",
       "      <th>W-TN</th>\n",
       "      <th>W-NO_{2}^{-}</th>\n",
       "      <th>W-NO_{3}^{-}</th>\n",
       "      <th>W-NH_{4}^{+}</th>\n",
       "      <th>W-COD</th>\n",
       "      <th>W-T</th>\n",
       "    </tr>\n",
       "  </thead>\n",
       "  <tbody>\n",
       "  </tbody>\n",
       "</table>\n",
       "<p>0 rows × 36 columns</p>\n",
       "</div>"
      ],
      "text/plain": [
       "Empty DataFrame\n",
       "Columns: [AOA_amoA, AOB_amoA, nxrA, narG, napA, nirK, nirS, nosZ, norB, hzsA, hzsB, hzo, nifH, S-TN, S-TP, S-Size-d(0.1), S-Size-d(0.5), S-Size-d(0.9), S-Size-d((0.9-0.1)/0.5), FI, BIX, HIX, β:α, Ⅰ-Area, Ⅱ-Area, Ⅲ-Area, Ⅳ-Area, Ⅴ-Area, W-pH, W-DO, W-TN, W-NO_{2}^{-}, W-NO_{3}^{-}, W-NH_{4}^{+}, W-COD, W-T]\n",
       "Index: []\n",
       "\n",
       "[0 rows x 36 columns]"
      ]
     },
     "execution_count": 90,
     "metadata": {},
     "output_type": "execute_result"
    }
   ],
   "source": [
    "# 筛选有空数据的行\n",
    "df.loc[((df == 0) & (df == np.nan)).all(axis=1)]"
   ]
  },
  {
   "cell_type": "code",
   "execution_count": 91,
   "metadata": {
    "collapsed": false,
    "pycharm": {
     "name": "#%%\n"
    }
   },
   "outputs": [],
   "source": [
    "# _.loc[~_.apply(lambda s: True if s['Source'] and s['Target'] in gene_list else False, axis=1), :].to_csv(\n",
    "#     EXPORT_PATH + f'{season_name} - 功能基因与环境因子相关性.csv', index=None, header=True)"
   ]
  }
 ],
 "metadata": {
  "kernelspec": {
   "display_name": "Python 3",
   "language": "python",
   "name": "python3"
  },
  "language_info": {
   "codemirror_mode": {
    "name": "ipython",
    "version": 3
   },
   "file_extension": ".py",
   "mimetype": "text/x-python",
   "name": "python",
   "nbconvert_exporter": "python",
   "pygments_lexer": "ipython3",
   "version": "3.10.4"
  }
 },
 "nbformat": 4,
 "nbformat_minor": 0
}
