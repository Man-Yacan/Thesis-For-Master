{
 "cells": [
  {
   "cell_type": "code",
   "execution_count": 79,
   "outputs": [],
   "source": [
    "import numpy as np\n",
    "\n",
    "from ResearchMain import *"
   ],
   "metadata": {
    "collapsed": false,
    "pycharm": {
     "name": "#%%\n"
    }
   }
  },
  {
   "cell_type": "code",
   "execution_count": 80,
   "outputs": [],
   "source": [
    "EXPORT_PATH += 'Mantel Test/'\n",
    "\n",
    "# 选择季节\n",
    "SEASON = 'W'"
   ],
   "metadata": {
    "collapsed": false,
    "pycharm": {
     "name": "#%%\n"
    }
   }
  },
  {
   "cell_type": "code",
   "execution_count": 81,
   "outputs": [],
   "source": [
    "season_name = None\n",
    "if SEASON == 'D':\n",
    "    season_name = '枯水期'\n",
    "elif SEASON == 'L':\n",
    "    season_name = '平水期'\n",
    "elif SEASON == 'W':\n",
    "    season_name = '丰水期'\n",
    "elif SEASON is None:\n",
    "    hues.warn('请在上一个单元格内选择季节')\n",
    "else:\n",
    "    hues.error('输入季节不合法！D：枯水期；L：平水期；W：丰水期。')"
   ],
   "metadata": {
    "collapsed": false,
    "pycharm": {
     "name": "#%%\n"
    }
   }
  },
  {
   "cell_type": "code",
   "execution_count": 82,
   "outputs": [
    {
     "data": {
      "text/plain": "           AOA_amoA       AOB_amoA          nxrA          narG          napA  \\\nW-N1   1.957528e+07  653561.357376  2.142571e+09  1.794488e+06  9.513339e+06   \nW-N2   5.754869e+07  616844.287014  3.460091e+09  7.147990e+06  3.127910e+07   \nW-N3   3.410870e+07  561942.319697  2.015707e+09  2.055391e+06  1.901043e+07   \nW-N10  3.353440e+07  330945.877537  1.256103e+09  7.049180e+06  3.169426e+06   \nW-N11  2.150019e+07  306597.571342  3.296796e+09  1.501891e+06  4.032482e+06   \nW-N12  3.279491e+07  284176.257820  2.060677e+09  3.550521e+06  3.206041e+06   \nW-P1   1.655575e+07  505712.679612  1.487514e+09  3.264990e+06  6.266568e+06   \nW-P2   4.440123e+07  660347.075105  1.286545e+09  1.793372e+06  1.182320e+07   \nW-P3   4.071118e+07  728635.093313  2.585164e+09  5.183688e+06  5.779885e+06   \nW-P10  2.561670e+07  492828.928282  1.124640e+09  5.578361e+06  1.235538e+06   \nW-P11  4.287808e+07  400437.333905  1.304515e+09  1.286706e+07  4.435326e+06   \nW-P12  2.903597e+07  343237.624571  1.175974e+09  1.448569e+07  2.380189e+06   \nW-H1   3.352681e+07  478547.720913  6.006433e+09  6.028171e+06  2.235540e+07   \nW-H2   5.512611e+07  483165.864651  6.156601e+09  1.633959e+07  1.464840e+07   \nW-H3   3.935480e+07  567484.819944  5.779157e+09  2.840463e+06  1.180824e+07   \nW-H10  7.328582e+07  615337.809914  4.666949e+09  9.620983e+05  4.403474e+06   \nW-H11  7.064787e+07  487954.228922  5.364548e+09  7.454658e+05  3.090290e+06   \nW-H12  9.385959e+07  746056.658582  4.734639e+09  1.045151e+06  3.113340e+06   \n\n               nirK          nirS          nosZ         cnorB          hzsA  \\\nW-N1   7.817231e+06  5.717128e+07  1.010086e+08  2.518421e+05  1.561762e+06   \nW-N2   4.879065e+07  6.953662e+07  6.851636e+08  2.117628e+05  4.033437e+06   \nW-N3   3.157725e+07  7.273298e+07  1.673608e+08  4.872726e+05  2.711959e+06   \nW-N10  2.516036e+07  7.050802e+07  4.192875e+08  1.803408e+05  4.974554e+06   \nW-N11  2.056636e+07  7.302077e+07  1.100018e+08  2.152998e+05  6.027384e+06   \nW-N12  2.382149e+07  2.938763e+08  4.108711e+08  1.902140e+05  5.020311e+06   \nW-P1   1.056900e+07  4.861724e+07  8.673513e+07  1.333546e+06  2.644825e+06   \nW-P2   4.129149e+07  1.194250e+08  5.412092e+08  1.373458e+06  3.252164e+06   \nW-P3   1.815495e+07  8.199833e+07  1.965783e+08  1.273510e+06  3.410187e+06   \nW-P10  8.816272e+06  7.425647e+07  3.282072e+08  9.866015e+05  6.721646e+06   \nW-P11  3.187784e+07  8.906502e+07  2.060703e+08  1.165177e+06  6.974792e+06   \nW-P12  1.358362e+07  7.490328e+07  3.678141e+08  1.003714e+06  3.033582e+07   \nW-H1   1.841133e+07  8.134021e+07  1.647624e+08  8.196509e+05  3.242550e+07   \nW-H2   1.616070e+07  5.911295e+07  6.588847e+08  1.389965e+06  2.314928e+07   \nW-H3   1.674362e+07  5.023491e+07  1.906135e+08  7.663347e+05  1.949489e+07   \nW-H10  2.686501e+07  9.518481e+07  8.536139e+08  4.550655e+05  1.879367e+07   \nW-H11  2.896472e+07  7.285221e+07  3.245037e+08  1.317855e+06  1.417144e+07   \nW-H12  1.233494e+08  7.326213e+07  1.069002e+09  7.851958e+05  1.425564e+07   \n\n       ...  W-pH   W-DO    W-TN  W-NO_{2}^{-}  W-NO_{3}^{-}  W-NH_{4}^{+}  \\\nW-N1   ...  8.40   8.21  0.5109        0.3291      0.102461        4.0177   \nW-N2   ...  8.29   8.11  0.5558        0.3060      0.179035        3.6736   \nW-N3   ...  8.50   8.01  0.5284        0.2957      0.268371        2.1649   \nW-N10  ...  8.23   7.88  0.6129        0.3889      0.162018        1.2386   \nW-N11  ...  8.26   7.96  0.5540        0.3540      0.081190        1.3577   \nW-N12  ...  8.37   8.24  0.0466        0.3340      0.204559        1.2253   \nW-P1   ...  8.97  11.55  0.3887        0.1203      0.132239        1.1592   \nW-P2   ...  9.14  10.36  0.3423        0.1195      0.170526        0.6563   \nW-P3   ...  9.15  12.16  0.4229        0.1264      0.170526        1.4635   \nW-P10  ...  9.42  11.36  0.2230        0.0932      0.179035        0.8812   \nW-P11  ...  9.38  12.15  0.4336        0.0856      0.093952        1.7415   \nW-P12  ...  9.26  13.42  0.5122        0.0830      0.106715        1.7415   \nW-H1   ...  8.82  10.57  0.0000        0.0000      0.013125        4.6024   \nW-H2   ...  8.99   8.91  0.0015        0.0000      0.004616        5.7836   \nW-H3   ...  8.85   9.17  0.0196        0.0000      0.013125        3.1840   \nW-H10  ...  9.17   9.74  0.0780        0.0000      0.030141        2.3502   \nW-H11  ...  9.14   9.78  0.0000        0.0000      0.004616        3.4222   \nW-H12  ...  8.78  10.73  0.1276        0.0000      0.017379        1.1724   \n\n       W-COD  W-PO_{4}^{3-}      W-TP   W-T  \nW-N1    9.27         0.0333  1.269597  21.2  \nW-N2    7.93         0.0137  1.954442  21.2  \nW-N3    8.81         0.0178  0.584752  21.4  \nW-N10   8.61         0.0144  2.112483  22.4  \nW-N11   8.69         0.0188  0.953515  22.3  \nW-N12   8.10         0.0352  0.426711  22.3  \nW-P1    6.90         0.0459  0.900834  28.9  \nW-P2    6.84         0.1283  2.217844  28.3  \nW-P3    6.91         0.0272  0.848154  28.4  \nW-P10   7.56         0.0435  0.532072  28.4  \nW-P11   6.39         0.0397  0.953515  28.7  \nW-P12   6.39         0.0363  1.111556  28.6  \nW-H1    6.79         0.0195  0.795474  19.9  \nW-H2    7.26         0.0099  1.006195  19.6  \nW-H3    6.70         0.0257  1.111556  20.1  \nW-H10   6.11         0.0799  1.480319  21.4  \nW-H11   6.13         0.0065  1.480319  22.0  \nW-H12   5.60         0.0048  1.006195  22.3  \n\n[18 rows x 38 columns]",
      "text/html": "<div>\n<style scoped>\n    .dataframe tbody tr th:only-of-type {\n        vertical-align: middle;\n    }\n\n    .dataframe tbody tr th {\n        vertical-align: top;\n    }\n\n    .dataframe thead th {\n        text-align: right;\n    }\n</style>\n<table border=\"1\" class=\"dataframe\">\n  <thead>\n    <tr style=\"text-align: right;\">\n      <th></th>\n      <th>AOA_amoA</th>\n      <th>AOB_amoA</th>\n      <th>nxrA</th>\n      <th>narG</th>\n      <th>napA</th>\n      <th>nirK</th>\n      <th>nirS</th>\n      <th>nosZ</th>\n      <th>cnorB</th>\n      <th>hzsA</th>\n      <th>...</th>\n      <th>W-pH</th>\n      <th>W-DO</th>\n      <th>W-TN</th>\n      <th>W-NO_{2}^{-}</th>\n      <th>W-NO_{3}^{-}</th>\n      <th>W-NH_{4}^{+}</th>\n      <th>W-COD</th>\n      <th>W-PO_{4}^{3-}</th>\n      <th>W-TP</th>\n      <th>W-T</th>\n    </tr>\n  </thead>\n  <tbody>\n    <tr>\n      <th>W-N1</th>\n      <td>1.957528e+07</td>\n      <td>653561.357376</td>\n      <td>2.142571e+09</td>\n      <td>1.794488e+06</td>\n      <td>9.513339e+06</td>\n      <td>7.817231e+06</td>\n      <td>5.717128e+07</td>\n      <td>1.010086e+08</td>\n      <td>2.518421e+05</td>\n      <td>1.561762e+06</td>\n      <td>...</td>\n      <td>8.40</td>\n      <td>8.21</td>\n      <td>0.5109</td>\n      <td>0.3291</td>\n      <td>0.102461</td>\n      <td>4.0177</td>\n      <td>9.27</td>\n      <td>0.0333</td>\n      <td>1.269597</td>\n      <td>21.2</td>\n    </tr>\n    <tr>\n      <th>W-N2</th>\n      <td>5.754869e+07</td>\n      <td>616844.287014</td>\n      <td>3.460091e+09</td>\n      <td>7.147990e+06</td>\n      <td>3.127910e+07</td>\n      <td>4.879065e+07</td>\n      <td>6.953662e+07</td>\n      <td>6.851636e+08</td>\n      <td>2.117628e+05</td>\n      <td>4.033437e+06</td>\n      <td>...</td>\n      <td>8.29</td>\n      <td>8.11</td>\n      <td>0.5558</td>\n      <td>0.3060</td>\n      <td>0.179035</td>\n      <td>3.6736</td>\n      <td>7.93</td>\n      <td>0.0137</td>\n      <td>1.954442</td>\n      <td>21.2</td>\n    </tr>\n    <tr>\n      <th>W-N3</th>\n      <td>3.410870e+07</td>\n      <td>561942.319697</td>\n      <td>2.015707e+09</td>\n      <td>2.055391e+06</td>\n      <td>1.901043e+07</td>\n      <td>3.157725e+07</td>\n      <td>7.273298e+07</td>\n      <td>1.673608e+08</td>\n      <td>4.872726e+05</td>\n      <td>2.711959e+06</td>\n      <td>...</td>\n      <td>8.50</td>\n      <td>8.01</td>\n      <td>0.5284</td>\n      <td>0.2957</td>\n      <td>0.268371</td>\n      <td>2.1649</td>\n      <td>8.81</td>\n      <td>0.0178</td>\n      <td>0.584752</td>\n      <td>21.4</td>\n    </tr>\n    <tr>\n      <th>W-N10</th>\n      <td>3.353440e+07</td>\n      <td>330945.877537</td>\n      <td>1.256103e+09</td>\n      <td>7.049180e+06</td>\n      <td>3.169426e+06</td>\n      <td>2.516036e+07</td>\n      <td>7.050802e+07</td>\n      <td>4.192875e+08</td>\n      <td>1.803408e+05</td>\n      <td>4.974554e+06</td>\n      <td>...</td>\n      <td>8.23</td>\n      <td>7.88</td>\n      <td>0.6129</td>\n      <td>0.3889</td>\n      <td>0.162018</td>\n      <td>1.2386</td>\n      <td>8.61</td>\n      <td>0.0144</td>\n      <td>2.112483</td>\n      <td>22.4</td>\n    </tr>\n    <tr>\n      <th>W-N11</th>\n      <td>2.150019e+07</td>\n      <td>306597.571342</td>\n      <td>3.296796e+09</td>\n      <td>1.501891e+06</td>\n      <td>4.032482e+06</td>\n      <td>2.056636e+07</td>\n      <td>7.302077e+07</td>\n      <td>1.100018e+08</td>\n      <td>2.152998e+05</td>\n      <td>6.027384e+06</td>\n      <td>...</td>\n      <td>8.26</td>\n      <td>7.96</td>\n      <td>0.5540</td>\n      <td>0.3540</td>\n      <td>0.081190</td>\n      <td>1.3577</td>\n      <td>8.69</td>\n      <td>0.0188</td>\n      <td>0.953515</td>\n      <td>22.3</td>\n    </tr>\n    <tr>\n      <th>W-N12</th>\n      <td>3.279491e+07</td>\n      <td>284176.257820</td>\n      <td>2.060677e+09</td>\n      <td>3.550521e+06</td>\n      <td>3.206041e+06</td>\n      <td>2.382149e+07</td>\n      <td>2.938763e+08</td>\n      <td>4.108711e+08</td>\n      <td>1.902140e+05</td>\n      <td>5.020311e+06</td>\n      <td>...</td>\n      <td>8.37</td>\n      <td>8.24</td>\n      <td>0.0466</td>\n      <td>0.3340</td>\n      <td>0.204559</td>\n      <td>1.2253</td>\n      <td>8.10</td>\n      <td>0.0352</td>\n      <td>0.426711</td>\n      <td>22.3</td>\n    </tr>\n    <tr>\n      <th>W-P1</th>\n      <td>1.655575e+07</td>\n      <td>505712.679612</td>\n      <td>1.487514e+09</td>\n      <td>3.264990e+06</td>\n      <td>6.266568e+06</td>\n      <td>1.056900e+07</td>\n      <td>4.861724e+07</td>\n      <td>8.673513e+07</td>\n      <td>1.333546e+06</td>\n      <td>2.644825e+06</td>\n      <td>...</td>\n      <td>8.97</td>\n      <td>11.55</td>\n      <td>0.3887</td>\n      <td>0.1203</td>\n      <td>0.132239</td>\n      <td>1.1592</td>\n      <td>6.90</td>\n      <td>0.0459</td>\n      <td>0.900834</td>\n      <td>28.9</td>\n    </tr>\n    <tr>\n      <th>W-P2</th>\n      <td>4.440123e+07</td>\n      <td>660347.075105</td>\n      <td>1.286545e+09</td>\n      <td>1.793372e+06</td>\n      <td>1.182320e+07</td>\n      <td>4.129149e+07</td>\n      <td>1.194250e+08</td>\n      <td>5.412092e+08</td>\n      <td>1.373458e+06</td>\n      <td>3.252164e+06</td>\n      <td>...</td>\n      <td>9.14</td>\n      <td>10.36</td>\n      <td>0.3423</td>\n      <td>0.1195</td>\n      <td>0.170526</td>\n      <td>0.6563</td>\n      <td>6.84</td>\n      <td>0.1283</td>\n      <td>2.217844</td>\n      <td>28.3</td>\n    </tr>\n    <tr>\n      <th>W-P3</th>\n      <td>4.071118e+07</td>\n      <td>728635.093313</td>\n      <td>2.585164e+09</td>\n      <td>5.183688e+06</td>\n      <td>5.779885e+06</td>\n      <td>1.815495e+07</td>\n      <td>8.199833e+07</td>\n      <td>1.965783e+08</td>\n      <td>1.273510e+06</td>\n      <td>3.410187e+06</td>\n      <td>...</td>\n      <td>9.15</td>\n      <td>12.16</td>\n      <td>0.4229</td>\n      <td>0.1264</td>\n      <td>0.170526</td>\n      <td>1.4635</td>\n      <td>6.91</td>\n      <td>0.0272</td>\n      <td>0.848154</td>\n      <td>28.4</td>\n    </tr>\n    <tr>\n      <th>W-P10</th>\n      <td>2.561670e+07</td>\n      <td>492828.928282</td>\n      <td>1.124640e+09</td>\n      <td>5.578361e+06</td>\n      <td>1.235538e+06</td>\n      <td>8.816272e+06</td>\n      <td>7.425647e+07</td>\n      <td>3.282072e+08</td>\n      <td>9.866015e+05</td>\n      <td>6.721646e+06</td>\n      <td>...</td>\n      <td>9.42</td>\n      <td>11.36</td>\n      <td>0.2230</td>\n      <td>0.0932</td>\n      <td>0.179035</td>\n      <td>0.8812</td>\n      <td>7.56</td>\n      <td>0.0435</td>\n      <td>0.532072</td>\n      <td>28.4</td>\n    </tr>\n    <tr>\n      <th>W-P11</th>\n      <td>4.287808e+07</td>\n      <td>400437.333905</td>\n      <td>1.304515e+09</td>\n      <td>1.286706e+07</td>\n      <td>4.435326e+06</td>\n      <td>3.187784e+07</td>\n      <td>8.906502e+07</td>\n      <td>2.060703e+08</td>\n      <td>1.165177e+06</td>\n      <td>6.974792e+06</td>\n      <td>...</td>\n      <td>9.38</td>\n      <td>12.15</td>\n      <td>0.4336</td>\n      <td>0.0856</td>\n      <td>0.093952</td>\n      <td>1.7415</td>\n      <td>6.39</td>\n      <td>0.0397</td>\n      <td>0.953515</td>\n      <td>28.7</td>\n    </tr>\n    <tr>\n      <th>W-P12</th>\n      <td>2.903597e+07</td>\n      <td>343237.624571</td>\n      <td>1.175974e+09</td>\n      <td>1.448569e+07</td>\n      <td>2.380189e+06</td>\n      <td>1.358362e+07</td>\n      <td>7.490328e+07</td>\n      <td>3.678141e+08</td>\n      <td>1.003714e+06</td>\n      <td>3.033582e+07</td>\n      <td>...</td>\n      <td>9.26</td>\n      <td>13.42</td>\n      <td>0.5122</td>\n      <td>0.0830</td>\n      <td>0.106715</td>\n      <td>1.7415</td>\n      <td>6.39</td>\n      <td>0.0363</td>\n      <td>1.111556</td>\n      <td>28.6</td>\n    </tr>\n    <tr>\n      <th>W-H1</th>\n      <td>3.352681e+07</td>\n      <td>478547.720913</td>\n      <td>6.006433e+09</td>\n      <td>6.028171e+06</td>\n      <td>2.235540e+07</td>\n      <td>1.841133e+07</td>\n      <td>8.134021e+07</td>\n      <td>1.647624e+08</td>\n      <td>8.196509e+05</td>\n      <td>3.242550e+07</td>\n      <td>...</td>\n      <td>8.82</td>\n      <td>10.57</td>\n      <td>0.0000</td>\n      <td>0.0000</td>\n      <td>0.013125</td>\n      <td>4.6024</td>\n      <td>6.79</td>\n      <td>0.0195</td>\n      <td>0.795474</td>\n      <td>19.9</td>\n    </tr>\n    <tr>\n      <th>W-H2</th>\n      <td>5.512611e+07</td>\n      <td>483165.864651</td>\n      <td>6.156601e+09</td>\n      <td>1.633959e+07</td>\n      <td>1.464840e+07</td>\n      <td>1.616070e+07</td>\n      <td>5.911295e+07</td>\n      <td>6.588847e+08</td>\n      <td>1.389965e+06</td>\n      <td>2.314928e+07</td>\n      <td>...</td>\n      <td>8.99</td>\n      <td>8.91</td>\n      <td>0.0015</td>\n      <td>0.0000</td>\n      <td>0.004616</td>\n      <td>5.7836</td>\n      <td>7.26</td>\n      <td>0.0099</td>\n      <td>1.006195</td>\n      <td>19.6</td>\n    </tr>\n    <tr>\n      <th>W-H3</th>\n      <td>3.935480e+07</td>\n      <td>567484.819944</td>\n      <td>5.779157e+09</td>\n      <td>2.840463e+06</td>\n      <td>1.180824e+07</td>\n      <td>1.674362e+07</td>\n      <td>5.023491e+07</td>\n      <td>1.906135e+08</td>\n      <td>7.663347e+05</td>\n      <td>1.949489e+07</td>\n      <td>...</td>\n      <td>8.85</td>\n      <td>9.17</td>\n      <td>0.0196</td>\n      <td>0.0000</td>\n      <td>0.013125</td>\n      <td>3.1840</td>\n      <td>6.70</td>\n      <td>0.0257</td>\n      <td>1.111556</td>\n      <td>20.1</td>\n    </tr>\n    <tr>\n      <th>W-H10</th>\n      <td>7.328582e+07</td>\n      <td>615337.809914</td>\n      <td>4.666949e+09</td>\n      <td>9.620983e+05</td>\n      <td>4.403474e+06</td>\n      <td>2.686501e+07</td>\n      <td>9.518481e+07</td>\n      <td>8.536139e+08</td>\n      <td>4.550655e+05</td>\n      <td>1.879367e+07</td>\n      <td>...</td>\n      <td>9.17</td>\n      <td>9.74</td>\n      <td>0.0780</td>\n      <td>0.0000</td>\n      <td>0.030141</td>\n      <td>2.3502</td>\n      <td>6.11</td>\n      <td>0.0799</td>\n      <td>1.480319</td>\n      <td>21.4</td>\n    </tr>\n    <tr>\n      <th>W-H11</th>\n      <td>7.064787e+07</td>\n      <td>487954.228922</td>\n      <td>5.364548e+09</td>\n      <td>7.454658e+05</td>\n      <td>3.090290e+06</td>\n      <td>2.896472e+07</td>\n      <td>7.285221e+07</td>\n      <td>3.245037e+08</td>\n      <td>1.317855e+06</td>\n      <td>1.417144e+07</td>\n      <td>...</td>\n      <td>9.14</td>\n      <td>9.78</td>\n      <td>0.0000</td>\n      <td>0.0000</td>\n      <td>0.004616</td>\n      <td>3.4222</td>\n      <td>6.13</td>\n      <td>0.0065</td>\n      <td>1.480319</td>\n      <td>22.0</td>\n    </tr>\n    <tr>\n      <th>W-H12</th>\n      <td>9.385959e+07</td>\n      <td>746056.658582</td>\n      <td>4.734639e+09</td>\n      <td>1.045151e+06</td>\n      <td>3.113340e+06</td>\n      <td>1.233494e+08</td>\n      <td>7.326213e+07</td>\n      <td>1.069002e+09</td>\n      <td>7.851958e+05</td>\n      <td>1.425564e+07</td>\n      <td>...</td>\n      <td>8.78</td>\n      <td>10.73</td>\n      <td>0.1276</td>\n      <td>0.0000</td>\n      <td>0.017379</td>\n      <td>1.1724</td>\n      <td>5.60</td>\n      <td>0.0048</td>\n      <td>1.006195</td>\n      <td>22.3</td>\n    </tr>\n  </tbody>\n</table>\n<p>18 rows × 38 columns</p>\n</div>"
     },
     "execution_count": 82,
     "metadata": {},
     "output_type": "execute_result"
    }
   ],
   "source": [
    "_ = all_df.loc[\n",
    "    [row_name for row_name in all_df.index if row_name.startswith(f'{SEASON}-') and int(row_name[-1]) <= 3], [col_name\n",
    "                                                                                                              for\n",
    "                                                                                                              col_name\n",
    "                                                                                                              in\n",
    "                                                                                                              all_df.columns\n",
    "                                                                                                              if\n",
    "                                                                                                              isinstance(\n",
    "                                                                                                                  col_name,\n",
    "                                                                                                                  str)]]\n",
    "# 剔除不需要的列\n",
    "df = _.drop([col_name for col_name in all_df.columns if\n",
    "             isinstance(col_name, str) and (col_name.endswith('-Ф') or col_name.endswith('-P'))] + ['Period', 'River',\n",
    "                                                                                                    'S-pH',\n",
    "                                                                                                    'Bacterial 16S rRNA',\n",
    "                                                                                                    'Archaeal 16S rRNA'],\n",
    "            axis=1)\n",
    "df"
   ],
   "metadata": {
    "collapsed": false,
    "pycharm": {
     "name": "#%%\n"
    }
   }
  },
  {
   "cell_type": "code",
   "execution_count": 83,
   "outputs": [
    {
     "data": {
      "text/plain": "Empty DataFrame\nColumns: [AOA_amoA, AOB_amoA, nxrA, narG, napA, nirK, nirS, nosZ, cnorB, hzsA, hzsB, hzo, nifH, S-TN, S-TP, S-Size-d(0.1), S-Size-d(0.5), S-Size-d(0.9), S-Size-d((0.9-0.1)/0.5), FI, BIX, HIX, β:α, Ⅰ-Area, Ⅱ-Area, Ⅲ-Area, Ⅳ-Area, Ⅴ-Area, W-pH, W-DO, W-TN, W-NO_{2}^{-}, W-NO_{3}^{-}, W-NH_{4}^{+}, W-COD, W-PO_{4}^{3-}, W-TP, W-T]\nIndex: []\n\n[0 rows x 38 columns]",
      "text/html": "<div>\n<style scoped>\n    .dataframe tbody tr th:only-of-type {\n        vertical-align: middle;\n    }\n\n    .dataframe tbody tr th {\n        vertical-align: top;\n    }\n\n    .dataframe thead th {\n        text-align: right;\n    }\n</style>\n<table border=\"1\" class=\"dataframe\">\n  <thead>\n    <tr style=\"text-align: right;\">\n      <th></th>\n      <th>AOA_amoA</th>\n      <th>AOB_amoA</th>\n      <th>nxrA</th>\n      <th>narG</th>\n      <th>napA</th>\n      <th>nirK</th>\n      <th>nirS</th>\n      <th>nosZ</th>\n      <th>cnorB</th>\n      <th>hzsA</th>\n      <th>...</th>\n      <th>W-pH</th>\n      <th>W-DO</th>\n      <th>W-TN</th>\n      <th>W-NO_{2}^{-}</th>\n      <th>W-NO_{3}^{-}</th>\n      <th>W-NH_{4}^{+}</th>\n      <th>W-COD</th>\n      <th>W-PO_{4}^{3-}</th>\n      <th>W-TP</th>\n      <th>W-T</th>\n    </tr>\n  </thead>\n  <tbody>\n  </tbody>\n</table>\n<p>0 rows × 38 columns</p>\n</div>"
     },
     "execution_count": 83,
     "metadata": {},
     "output_type": "execute_result"
    }
   ],
   "source": [
    "# 筛选有空数据的行\n",
    "df.loc[((df == 0) & (df == np.nan)).all(axis=1)]"
   ],
   "metadata": {
    "collapsed": false,
    "pycharm": {
     "name": "#%%\n"
    }
   }
  },
  {
   "cell_type": "code",
   "execution_count": 84,
   "outputs": [],
   "source": [
    "# _.loc[~_.apply(lambda s: True if s['Source'] and s['Target'] in gene_list else False, axis=1), :].to_csv(\n",
    "#     EXPORT_PATH + f'{season_name} - 功能基因与环境因子相关性.csv', index=None, header=True)\n",
    "np.log10(df.iloc[:, :13]).to_csv(EXPORT_PATH + f'{season_name} - 功能基因.csv', index=None, header=True)\n",
    "df.iloc[:, 13:].to_csv(EXPORT_PATH + f'{season_name} - 环境因子.csv', index=None, header=True)"
   ],
   "metadata": {
    "collapsed": false,
    "pycharm": {
     "name": "#%%\n"
    }
   }
  }
 ],
 "metadata": {
  "kernelspec": {
   "display_name": "Python 3",
   "language": "python",
   "name": "python3"
  },
  "language_info": {
   "codemirror_mode": {
    "name": "ipython",
    "version": 2
   },
   "file_extension": ".py",
   "mimetype": "text/x-python",
   "name": "python",
   "nbconvert_exporter": "python",
   "pygments_lexer": "ipython2",
   "version": "2.7.6"
  }
 },
 "nbformat": 4,
 "nbformat_minor": 0
}