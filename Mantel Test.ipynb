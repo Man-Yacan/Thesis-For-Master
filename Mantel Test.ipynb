{
 "cells": [
  {
   "cell_type": "code",
   "execution_count": 31,
   "outputs": [],
   "source": [
    "from ResearchMain import *"
   ],
   "metadata": {
    "collapsed": false,
    "pycharm": {
     "name": "#%%\n"
    }
   }
  },
  {
   "cell_type": "code",
   "execution_count": 32,
   "outputs": [],
   "source": [
    "EXPORT_PATH += 'Mantel Test/'\n",
    "\n",
    "# 选择季节\n",
    "SEASON = 'W'"
   ],
   "metadata": {
    "collapsed": false,
    "pycharm": {
     "name": "#%%\n"
    }
   }
  },
  {
   "cell_type": "code",
   "execution_count": 33,
   "outputs": [],
   "source": [
    "season_name = None\n",
    "if SEASON == 'D':\n",
    "    season_name = '枯水期'\n",
    "elif SEASON == 'L':\n",
    "    season_name = '平水期'\n",
    "elif SEASON == 'W':\n",
    "    season_name = '丰水期'\n",
    "elif SEASON is None:\n",
    "    hues.warn('请在上一个单元格内选择季节')\n",
    "else:\n",
    "    hues.error('输入季节不合法！D：枯水期；L：平水期；W：丰水期。')"
   ],
   "metadata": {
    "collapsed": false,
    "pycharm": {
     "name": "#%%\n"
    }
   }
  },
  {
   "cell_type": "code",
   "execution_count": 34,
   "outputs": [
    {
     "data": {
      "text/plain": "           AOA_amoA       AOB_amoA          nxrA          narG          napA  \\\nW-N1   1.957528e+07  653561.357376  2.142571e+09  1.794488e+06  9.513339e+06   \nW-N2   5.754869e+07  616844.287014  3.460091e+09  7.147990e+06  3.127910e+07   \nW-N3   3.410870e+07  561942.319697  2.015707e+09  2.055391e+06  1.901043e+07   \nW-N10  3.353440e+07  330945.877537  1.256103e+09  7.049180e+06  3.169426e+06   \nW-N11  2.150019e+07  306597.571342  3.296796e+09  1.501891e+06  4.032482e+06   \nW-N12  3.279491e+07  284176.257820  2.060677e+09  3.550521e+06  3.206041e+06   \nW-P1   1.655575e+07  505712.679612  1.487514e+09  3.264990e+06  6.266568e+06   \nW-P2   4.440123e+07  660347.075105  1.286545e+09  1.793372e+06  1.182320e+07   \nW-P3   4.071118e+07  728635.093313  2.585164e+09  5.183688e+06  5.779885e+06   \nW-P10  2.561670e+07  492828.928282  1.124640e+09  5.578361e+06  1.235538e+06   \nW-P11  4.287808e+07  400437.333905  1.304515e+09  1.286706e+07  4.435326e+06   \nW-P12  2.903597e+07  343237.624571  1.175974e+09  1.448569e+07  2.380189e+06   \n\n               nirK          nirS          nosZ         cnorB          hzsA  \\\nW-N1   7.817231e+06  5.717128e+07  1.010086e+08  2.518421e+05  1.561762e+06   \nW-N2   4.879065e+07  6.953662e+07  6.851636e+08  2.117628e+05  4.033437e+06   \nW-N3   3.157725e+07  7.273298e+07  1.673608e+08  4.872726e+05  2.711959e+06   \nW-N10  2.516036e+07  7.050802e+07  4.192875e+08  1.803408e+05  4.974554e+06   \nW-N11  2.056636e+07  7.302077e+07  1.100018e+08  2.152998e+05  6.027384e+06   \nW-N12  2.382149e+07  2.938763e+08  4.108711e+08  1.902140e+05  5.020311e+06   \nW-P1   1.056900e+07  4.861724e+07  8.673513e+07  1.333546e+06  2.644825e+06   \nW-P2   4.129149e+07  1.194250e+08  5.412092e+08  1.373458e+06  3.252164e+06   \nW-P3   1.815495e+07  8.199833e+07  1.965783e+08  1.273510e+06  3.410187e+06   \nW-P10  8.816272e+06  7.425647e+07  3.282072e+08  9.866015e+05  6.721646e+06   \nW-P11  3.187784e+07  8.906502e+07  2.060703e+08  1.165177e+06  6.974792e+06   \nW-P12  1.358362e+07  7.490328e+07  3.678141e+08  1.003714e+06  3.033582e+07   \n\n       ...    Ⅳ-Area       Ⅴ-Area  W-pH   W-DO  W-TN  W-NO_{2}^{-}  \\\nW-N1   ...  18839.68   831438.019  8.40   8.21  1.86        0.0248   \nW-N2   ...  18862.65  1021062.859  8.29   8.11  1.83        0.0206   \nW-N3   ...  16188.60   787915.619  8.50   8.01  2.54        0.0334   \nW-N10  ...   7082.29   503739.469  8.23   7.88  2.06        0.0222   \nW-N11  ...   9706.80   188339.739  8.26   7.96  2.39        0.0234   \nW-N12  ...  20780.52  1016141.949  8.37   8.24  1.71        0.0232   \nW-P1   ...  17445.29   423735.989  8.97  11.55  1.63        0.0557   \nW-P2   ...  22557.17   573778.489  9.14  10.36  1.81        0.0288   \nW-P3   ...   9323.01   373370.159  9.15  12.16  1.73        0.0236   \nW-P10  ...  29682.24   549146.919  9.42  11.36  1.84        0.0233   \nW-P11  ...  41993.22   847144.679  9.38  12.15  1.65        0.0256   \nW-P12  ...  17755.29   478871.029  9.26  13.42  1.74        0.0234   \n\n       W-NO_{3}^{-}  W-NH_{4}^{+}  W-COD   W-T  \nW-N1       0.102461      1.017700  12.97  21.2  \nW-N2       0.179035      1.344966  11.63  21.2  \nW-N3       0.268371      1.975929  12.51  21.4  \nW-N10      0.162018      1.238600  12.31  22.4  \nW-N11      0.081190      1.357700  12.39  22.3  \nW-N12      0.204559      1.225300  11.80  22.3  \nW-P1       0.132239      1.159200  11.90  28.9  \nW-P2       0.170526      0.656300  11.84  28.3  \nW-P3       0.170526      1.433074  11.91  28.4  \nW-P10      0.179035      1.013600  11.85  28.4  \nW-P11      0.093952      0.881200  12.56  28.7  \nW-P12      0.106715      1.551085  11.39  28.6  \n\n[12 rows x 36 columns]",
      "text/html": "<div>\n<style scoped>\n    .dataframe tbody tr th:only-of-type {\n        vertical-align: middle;\n    }\n\n    .dataframe tbody tr th {\n        vertical-align: top;\n    }\n\n    .dataframe thead th {\n        text-align: right;\n    }\n</style>\n<table border=\"1\" class=\"dataframe\">\n  <thead>\n    <tr style=\"text-align: right;\">\n      <th></th>\n      <th>AOA_amoA</th>\n      <th>AOB_amoA</th>\n      <th>nxrA</th>\n      <th>narG</th>\n      <th>napA</th>\n      <th>nirK</th>\n      <th>nirS</th>\n      <th>nosZ</th>\n      <th>cnorB</th>\n      <th>hzsA</th>\n      <th>...</th>\n      <th>Ⅳ-Area</th>\n      <th>Ⅴ-Area</th>\n      <th>W-pH</th>\n      <th>W-DO</th>\n      <th>W-TN</th>\n      <th>W-NO_{2}^{-}</th>\n      <th>W-NO_{3}^{-}</th>\n      <th>W-NH_{4}^{+}</th>\n      <th>W-COD</th>\n      <th>W-T</th>\n    </tr>\n  </thead>\n  <tbody>\n    <tr>\n      <th>W-N1</th>\n      <td>1.957528e+07</td>\n      <td>653561.357376</td>\n      <td>2.142571e+09</td>\n      <td>1.794488e+06</td>\n      <td>9.513339e+06</td>\n      <td>7.817231e+06</td>\n      <td>5.717128e+07</td>\n      <td>1.010086e+08</td>\n      <td>2.518421e+05</td>\n      <td>1.561762e+06</td>\n      <td>...</td>\n      <td>18839.68</td>\n      <td>831438.019</td>\n      <td>8.40</td>\n      <td>8.21</td>\n      <td>1.86</td>\n      <td>0.0248</td>\n      <td>0.102461</td>\n      <td>1.017700</td>\n      <td>12.97</td>\n      <td>21.2</td>\n    </tr>\n    <tr>\n      <th>W-N2</th>\n      <td>5.754869e+07</td>\n      <td>616844.287014</td>\n      <td>3.460091e+09</td>\n      <td>7.147990e+06</td>\n      <td>3.127910e+07</td>\n      <td>4.879065e+07</td>\n      <td>6.953662e+07</td>\n      <td>6.851636e+08</td>\n      <td>2.117628e+05</td>\n      <td>4.033437e+06</td>\n      <td>...</td>\n      <td>18862.65</td>\n      <td>1021062.859</td>\n      <td>8.29</td>\n      <td>8.11</td>\n      <td>1.83</td>\n      <td>0.0206</td>\n      <td>0.179035</td>\n      <td>1.344966</td>\n      <td>11.63</td>\n      <td>21.2</td>\n    </tr>\n    <tr>\n      <th>W-N3</th>\n      <td>3.410870e+07</td>\n      <td>561942.319697</td>\n      <td>2.015707e+09</td>\n      <td>2.055391e+06</td>\n      <td>1.901043e+07</td>\n      <td>3.157725e+07</td>\n      <td>7.273298e+07</td>\n      <td>1.673608e+08</td>\n      <td>4.872726e+05</td>\n      <td>2.711959e+06</td>\n      <td>...</td>\n      <td>16188.60</td>\n      <td>787915.619</td>\n      <td>8.50</td>\n      <td>8.01</td>\n      <td>2.54</td>\n      <td>0.0334</td>\n      <td>0.268371</td>\n      <td>1.975929</td>\n      <td>12.51</td>\n      <td>21.4</td>\n    </tr>\n    <tr>\n      <th>W-N10</th>\n      <td>3.353440e+07</td>\n      <td>330945.877537</td>\n      <td>1.256103e+09</td>\n      <td>7.049180e+06</td>\n      <td>3.169426e+06</td>\n      <td>2.516036e+07</td>\n      <td>7.050802e+07</td>\n      <td>4.192875e+08</td>\n      <td>1.803408e+05</td>\n      <td>4.974554e+06</td>\n      <td>...</td>\n      <td>7082.29</td>\n      <td>503739.469</td>\n      <td>8.23</td>\n      <td>7.88</td>\n      <td>2.06</td>\n      <td>0.0222</td>\n      <td>0.162018</td>\n      <td>1.238600</td>\n      <td>12.31</td>\n      <td>22.4</td>\n    </tr>\n    <tr>\n      <th>W-N11</th>\n      <td>2.150019e+07</td>\n      <td>306597.571342</td>\n      <td>3.296796e+09</td>\n      <td>1.501891e+06</td>\n      <td>4.032482e+06</td>\n      <td>2.056636e+07</td>\n      <td>7.302077e+07</td>\n      <td>1.100018e+08</td>\n      <td>2.152998e+05</td>\n      <td>6.027384e+06</td>\n      <td>...</td>\n      <td>9706.80</td>\n      <td>188339.739</td>\n      <td>8.26</td>\n      <td>7.96</td>\n      <td>2.39</td>\n      <td>0.0234</td>\n      <td>0.081190</td>\n      <td>1.357700</td>\n      <td>12.39</td>\n      <td>22.3</td>\n    </tr>\n    <tr>\n      <th>W-N12</th>\n      <td>3.279491e+07</td>\n      <td>284176.257820</td>\n      <td>2.060677e+09</td>\n      <td>3.550521e+06</td>\n      <td>3.206041e+06</td>\n      <td>2.382149e+07</td>\n      <td>2.938763e+08</td>\n      <td>4.108711e+08</td>\n      <td>1.902140e+05</td>\n      <td>5.020311e+06</td>\n      <td>...</td>\n      <td>20780.52</td>\n      <td>1016141.949</td>\n      <td>8.37</td>\n      <td>8.24</td>\n      <td>1.71</td>\n      <td>0.0232</td>\n      <td>0.204559</td>\n      <td>1.225300</td>\n      <td>11.80</td>\n      <td>22.3</td>\n    </tr>\n    <tr>\n      <th>W-P1</th>\n      <td>1.655575e+07</td>\n      <td>505712.679612</td>\n      <td>1.487514e+09</td>\n      <td>3.264990e+06</td>\n      <td>6.266568e+06</td>\n      <td>1.056900e+07</td>\n      <td>4.861724e+07</td>\n      <td>8.673513e+07</td>\n      <td>1.333546e+06</td>\n      <td>2.644825e+06</td>\n      <td>...</td>\n      <td>17445.29</td>\n      <td>423735.989</td>\n      <td>8.97</td>\n      <td>11.55</td>\n      <td>1.63</td>\n      <td>0.0557</td>\n      <td>0.132239</td>\n      <td>1.159200</td>\n      <td>11.90</td>\n      <td>28.9</td>\n    </tr>\n    <tr>\n      <th>W-P2</th>\n      <td>4.440123e+07</td>\n      <td>660347.075105</td>\n      <td>1.286545e+09</td>\n      <td>1.793372e+06</td>\n      <td>1.182320e+07</td>\n      <td>4.129149e+07</td>\n      <td>1.194250e+08</td>\n      <td>5.412092e+08</td>\n      <td>1.373458e+06</td>\n      <td>3.252164e+06</td>\n      <td>...</td>\n      <td>22557.17</td>\n      <td>573778.489</td>\n      <td>9.14</td>\n      <td>10.36</td>\n      <td>1.81</td>\n      <td>0.0288</td>\n      <td>0.170526</td>\n      <td>0.656300</td>\n      <td>11.84</td>\n      <td>28.3</td>\n    </tr>\n    <tr>\n      <th>W-P3</th>\n      <td>4.071118e+07</td>\n      <td>728635.093313</td>\n      <td>2.585164e+09</td>\n      <td>5.183688e+06</td>\n      <td>5.779885e+06</td>\n      <td>1.815495e+07</td>\n      <td>8.199833e+07</td>\n      <td>1.965783e+08</td>\n      <td>1.273510e+06</td>\n      <td>3.410187e+06</td>\n      <td>...</td>\n      <td>9323.01</td>\n      <td>373370.159</td>\n      <td>9.15</td>\n      <td>12.16</td>\n      <td>1.73</td>\n      <td>0.0236</td>\n      <td>0.170526</td>\n      <td>1.433074</td>\n      <td>11.91</td>\n      <td>28.4</td>\n    </tr>\n    <tr>\n      <th>W-P10</th>\n      <td>2.561670e+07</td>\n      <td>492828.928282</td>\n      <td>1.124640e+09</td>\n      <td>5.578361e+06</td>\n      <td>1.235538e+06</td>\n      <td>8.816272e+06</td>\n      <td>7.425647e+07</td>\n      <td>3.282072e+08</td>\n      <td>9.866015e+05</td>\n      <td>6.721646e+06</td>\n      <td>...</td>\n      <td>29682.24</td>\n      <td>549146.919</td>\n      <td>9.42</td>\n      <td>11.36</td>\n      <td>1.84</td>\n      <td>0.0233</td>\n      <td>0.179035</td>\n      <td>1.013600</td>\n      <td>11.85</td>\n      <td>28.4</td>\n    </tr>\n    <tr>\n      <th>W-P11</th>\n      <td>4.287808e+07</td>\n      <td>400437.333905</td>\n      <td>1.304515e+09</td>\n      <td>1.286706e+07</td>\n      <td>4.435326e+06</td>\n      <td>3.187784e+07</td>\n      <td>8.906502e+07</td>\n      <td>2.060703e+08</td>\n      <td>1.165177e+06</td>\n      <td>6.974792e+06</td>\n      <td>...</td>\n      <td>41993.22</td>\n      <td>847144.679</td>\n      <td>9.38</td>\n      <td>12.15</td>\n      <td>1.65</td>\n      <td>0.0256</td>\n      <td>0.093952</td>\n      <td>0.881200</td>\n      <td>12.56</td>\n      <td>28.7</td>\n    </tr>\n    <tr>\n      <th>W-P12</th>\n      <td>2.903597e+07</td>\n      <td>343237.624571</td>\n      <td>1.175974e+09</td>\n      <td>1.448569e+07</td>\n      <td>2.380189e+06</td>\n      <td>1.358362e+07</td>\n      <td>7.490328e+07</td>\n      <td>3.678141e+08</td>\n      <td>1.003714e+06</td>\n      <td>3.033582e+07</td>\n      <td>...</td>\n      <td>17755.29</td>\n      <td>478871.029</td>\n      <td>9.26</td>\n      <td>13.42</td>\n      <td>1.74</td>\n      <td>0.0234</td>\n      <td>0.106715</td>\n      <td>1.551085</td>\n      <td>11.39</td>\n      <td>28.6</td>\n    </tr>\n  </tbody>\n</table>\n<p>12 rows × 36 columns</p>\n</div>"
     },
     "execution_count": 34,
     "metadata": {},
     "output_type": "execute_result"
    }
   ],
   "source": [
    "_ = all_df.loc[\n",
    "    [row_name for row_name in all_df.index if row_name.startswith(f'{SEASON}-') and int(row_name[-1]) <= 3], [col_name\n",
    "                                                                                                              for\n",
    "                                                                                                              col_name\n",
    "                                                                                                              in\n",
    "                                                                                                              all_df.columns\n",
    "                                                                                                              if\n",
    "                                                                                                              isinstance(\n",
    "                                                                                                                  col_name,\n",
    "                                                                                                                  str)]]\n",
    "# 剔除不需要的列\n",
    "df = _.drop([col_name for col_name in all_df.columns if\n",
    "             isinstance(col_name, str) and (col_name.endswith('-Ф') or col_name.endswith('-P'))] + ['Period', 'River',\n",
    "                                                                                                    'S-pH',\n",
    "                                                                                                    'Bacterial 16S rRNA',\n",
    "                                                                                                    'Archaeal 16S rRNA','W-PO_{4}^{3-}', 'W-TP'],\n",
    "            axis=1)\n",
    "\n",
    "# 删除空行\n",
    "df = df.replace(0, np.nan)\n",
    "df.dropna(inplace=True)\n",
    "\n",
    "df"
   ],
   "metadata": {
    "collapsed": false,
    "pycharm": {
     "name": "#%%\n"
    }
   }
  },
  {
   "cell_type": "code",
   "execution_count": 35,
   "outputs": [
    {
     "data": {
      "text/plain": "Empty DataFrame\nColumns: [AOA_amoA, AOB_amoA, nxrA, narG, napA, nirK, nirS, nosZ, cnorB, hzsA, hzsB, hzo, nifH, S-TN, S-TP, S-Size-d(0.1), S-Size-d(0.5), S-Size-d(0.9), S-Size-d((0.9-0.1)/0.5), FI, BIX, HIX, β:α, Ⅰ-Area, Ⅱ-Area, Ⅲ-Area, Ⅳ-Area, Ⅴ-Area, W-pH, W-DO, W-TN, W-NO_{2}^{-}, W-NO_{3}^{-}, W-NH_{4}^{+}, W-COD, W-T]\nIndex: []\n\n[0 rows x 36 columns]",
      "text/html": "<div>\n<style scoped>\n    .dataframe tbody tr th:only-of-type {\n        vertical-align: middle;\n    }\n\n    .dataframe tbody tr th {\n        vertical-align: top;\n    }\n\n    .dataframe thead th {\n        text-align: right;\n    }\n</style>\n<table border=\"1\" class=\"dataframe\">\n  <thead>\n    <tr style=\"text-align: right;\">\n      <th></th>\n      <th>AOA_amoA</th>\n      <th>AOB_amoA</th>\n      <th>nxrA</th>\n      <th>narG</th>\n      <th>napA</th>\n      <th>nirK</th>\n      <th>nirS</th>\n      <th>nosZ</th>\n      <th>cnorB</th>\n      <th>hzsA</th>\n      <th>...</th>\n      <th>Ⅳ-Area</th>\n      <th>Ⅴ-Area</th>\n      <th>W-pH</th>\n      <th>W-DO</th>\n      <th>W-TN</th>\n      <th>W-NO_{2}^{-}</th>\n      <th>W-NO_{3}^{-}</th>\n      <th>W-NH_{4}^{+}</th>\n      <th>W-COD</th>\n      <th>W-T</th>\n    </tr>\n  </thead>\n  <tbody>\n  </tbody>\n</table>\n<p>0 rows × 36 columns</p>\n</div>"
     },
     "execution_count": 35,
     "metadata": {},
     "output_type": "execute_result"
    }
   ],
   "source": [
    "# 筛选有空数据的行\n",
    "df.loc[((df == 0) & (df == np.nan)).all(axis=1)]"
   ],
   "metadata": {
    "collapsed": false,
    "pycharm": {
     "name": "#%%\n"
    }
   }
  },
  {
   "cell_type": "code",
   "execution_count": 36,
   "outputs": [],
   "source": [
    "# _.loc[~_.apply(lambda s: True if s['Source'] and s['Target'] in gene_list else False, axis=1), :].to_csv(\n",
    "#     EXPORT_PATH + f'{season_name} - 功能基因与环境因子相关性.csv', index=None, header=True)\n",
    "np.log10(df.iloc[:, :13]).to_csv(EXPORT_PATH + f'{season_name} - 功能基因.csv', index=None, header=True)\n",
    "df.iloc[:, 13:].to_csv(EXPORT_PATH + f'{season_name} - 环境因子.csv', index=None, header=True)"
   ],
   "metadata": {
    "collapsed": false,
    "pycharm": {
     "name": "#%%\n"
    }
   }
  }
 ],
 "metadata": {
  "kernelspec": {
   "display_name": "Python 3",
   "language": "python",
   "name": "python3"
  },
  "language_info": {
   "codemirror_mode": {
    "name": "ipython",
    "version": 2
   },
   "file_extension": ".py",
   "mimetype": "text/x-python",
   "name": "python",
   "nbconvert_exporter": "python",
   "pygments_lexer": "ipython2",
   "version": "2.7.6"
  }
 },
 "nbformat": 4,
 "nbformat_minor": 0
}